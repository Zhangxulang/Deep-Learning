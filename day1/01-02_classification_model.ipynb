{
 "cells": [
  {
   "cell_type": "markdown",
   "metadata": {},
   "source": [
    "对应 `tf.keras` 的01~02章节"
   ]
  },
  {
   "cell_type": "code",
   "metadata": {
    "ExecuteTime": {
     "end_time": "2025-07-25T16:16:17.822742Z",
     "start_time": "2025-07-25T16:16:17.707658Z"
    }
   },
   "source": [
    "import matplotlib as mpl\n",
    "import matplotlib.pyplot as plt\n",
    "%matplotlib inline\n",
    "import numpy as np\n",
    "import sklearn\n",
    "import pandas as pd\n",
    "import os\n",
    "import sys\n",
    "import time\n",
    "from tqdm.auto import tqdm\n",
    "import torch\n",
    "import torch.nn as nn\n",
    "import torch.nn.functional as F\n",
    "\n",
    "print(sys.version_info)\n",
    "for module in mpl, np, pd, sklearn, torch:\n",
    "    print(module.__name__, module.__version__)\n",
    "    \n",
    "device = torch.device(\"cuda:0\") if torch.cuda.is_available() else torch.device(\"cpu\")\n",
    "print(device)\n"
   ],
   "outputs": [
    {
     "name": "stdout",
     "output_type": "stream",
     "text": [
      "sys.version_info(major=3, minor=12, micro=1, releaselevel='final', serial=0)\n",
      "matplotlib 3.8.3\n",
      "numpy 1.26.4\n",
      "pandas 2.3.1\n",
      "sklearn 1.7.1\n",
      "torch 2.2.1+cpu\n",
      "cpu\n"
     ]
    }
   ],
   "execution_count": 57
  },
  {
   "cell_type": "code",
   "source": [
    "28*28"
   ],
   "metadata": {
    "collapsed": false,
    "ExecuteTime": {
     "end_time": "2025-07-25T16:16:17.913581Z",
     "start_time": "2025-07-25T16:16:17.906086Z"
    }
   },
   "outputs": [
    {
     "data": {
      "text/plain": [
       "784"
      ]
     },
     "execution_count": 58,
     "metadata": {},
     "output_type": "execute_result"
    }
   ],
   "execution_count": 58
  },
  {
   "cell_type": "markdown",
   "metadata": {},
   "source": "## 版本一：PIL 图像显示版（不使用 ToTensor()）"
  },
  {
   "metadata": {},
   "cell_type": "markdown",
   "source": [
    "此版本：\n",
    "\n",
    "图像为 PIL.Image.Image\n",
    "\n",
    "适合使用 .size、.mode、getdata() 等函数\n",
    "\n",
    "用于显示原始像素图像内容"
   ]
  },
  {
   "metadata": {
    "ExecuteTime": {
     "end_time": "2025-07-25T16:51:54.176831Z",
     "start_time": "2025-07-25T16:51:53.772001Z"
    }
   },
   "cell_type": "code",
   "source": [
    "# ---------------------- PIL版本 ----------------------\n",
    "from torchvision import datasets, transforms\n",
    "import matplotlib.pyplot as plt\n",
    "import numpy as np\n",
    "import torch\n",
    "\n",
    "# 不使用 ToTensor，图像保留为 PIL.Image\n",
    "transform_pil = transforms.Compose([\n",
    "    # 注意：不要添加 ToTensor\n",
    "])\n",
    "\n",
    "train_ds_pil = datasets.FashionMNIST(\n",
    "    root=\"data\",\n",
    "    train=True,\n",
    "    download=True,\n",
    "    transform=transform_pil  # 注意：不要添加 ToTensor, 否则会报错, 因为训练集没有标签, 无法使用 ToTensor, 所以这里只用 transform_pil, 而不用 ToTensor\n",
    ")\n",
    "test_ds_pil = datasets.FashionMNIST(\n",
    "    root=\"data\",\n",
    "    train=False,\n",
    "    download=True,\n",
    "    transform=transform_pil  # 注意：不要添加 ToTensor, 否则会报错, 因为测试集没有标签, 无法使用 ToTensor, 所以这里只用 transform_pil, 而不用 ToTensor\n",
    ")\n",
    "\n",
    "# 查看图像类型和属性\n",
    "img_pil, label_pil = train_ds_pil[0]\n",
    "print(type(img_pil))  # <class 'PIL.Image.Image'>\n",
    "\n",
    "def show_img_content_pil(img):\n",
    "    print(\"图像大小:\", img.size)\n",
    "    print(\"图像模式:\", img.mode)\n",
    "    if img.mode == 'L':\n",
    "        pixel_values = list(img.getdata())\n",
    "        print(\"部分像素:\", pixel_values[:50])  # 太多了只显示前50\n",
    "\n",
    "def show_single_image_pil(img):\n",
    "    plt.imshow(img, cmap=\"binary\")  # 显示图片, cmap=\"binary\" 显示黑白图片\n",
    "    plt.colorbar()  # 显示颜色条\n",
    "    plt.show()   # 显示图像\n",
    "\n",
    "show_img_content_pil(img_pil)\n",
    "show_single_image_pil(img_pil)"
   ],
   "outputs": [
    {
     "name": "stdout",
     "output_type": "stream",
     "text": [
      "<class 'PIL.Image.Image'>\n",
      "图像大小: (28, 28)\n",
      "图像模式: L\n",
      "部分像素: [0, 0, 0, 0, 0, 0, 0, 0, 0, 0, 0, 0, 0, 0, 0, 0, 0, 0, 0, 0, 0, 0, 0, 0, 0, 0, 0, 0, 0, 0, 0, 0, 0, 0, 0, 0, 0, 0, 0, 0, 0, 0, 0, 0, 0, 0, 0, 0, 0, 0]\n"
     ]
    },
    {
     "data": {
      "text/plain": [
       "<Figure size 640x480 with 2 Axes>"
      ],
      "image/png": "[encoded data removed]"
     },
     "metadata": {},
     "output_type": "display_data"
    },
    {
     "name": "stdout",
     "output_type": "stream",
     "text": [
      "{}\n"
     ]
    }
   ],
   "execution_count": 75
  },
  {
   "metadata": {
    "ExecuteTime": {
     "end_time": "2025-07-25T17:59:42.478621Z",
     "start_time": "2025-07-25T17:59:42.398832Z"
    }
   },
   "cell_type": "code",
   "source": "type(img_pil)#tensor中文是 张量,和numpy的ndarray类似",
   "outputs": [
    {
     "data": {
      "text/plain": [
       "PIL.Image.Image"
      ]
     },
     "execution_count": 83,
     "metadata": {},
     "output_type": "execute_result"
    }
   ],
   "execution_count": 83
  },
  {
   "metadata": {},
   "cell_type": "markdown",
   "source": [
    "## 版本二：Tensor 图像显示版（使用 ToTensor()）\n",
    "此版本：\n",
    "\n",
    "图像为 torch.Tensor\n",
    "\n",
    "可以使用 .shape、.mean() 等张量操作\n",
    "\n",
    "用于模型训练/标准化等用途"
   ]
  },
  {
   "metadata": {
    "ExecuteTime": {
     "end_time": "2025-07-25T16:59:10.694575Z",
     "start_time": "2025-07-25T16:58:59.873286Z"
    }
   },
   "cell_type": "code",
   "source": [
    "# ---------------------- Tensor版本 ----------------------\n",
    "from torchvision import datasets, transforms\n",
    "from torchvision.transforms import ToTensor# 导入ToTensor，用于将PIL.Image转为Tensor，方便模型训练，标准化等用途，ToTensor()会将数据范围转为 [0,1]，并变成Tensor，所以不需要再使用 transforms.Normalize() 标准化\n",
    "import matplotlib.pyplot as plt\n",
    "import numpy as np\n",
    "import torch\n",
    "\n",
    "# 使用 ToTensor，图像变为 Tensor 格式\n",
    "# 注意：如果使用 ToTensor，则不能使用 transforms.Normalize() 标准化，因为 ToTensor() 已经将数据范围转为 [0,1]\n",
    "transform_tensor = transforms.Compose([  #\n",
    "    transforms.ToTensor(),  # [0,1]，并变成Tensor\n",
    "    #transforms.Normalize(mean, std) # 标准化，mean和std是数据集的均值和方差\n",
    "])\n",
    "\n",
    "# fashion_mnist图像分类数据集，衣服分类，60000张训练图片，10000张测试图片\n",
    "train_ds_tensor = datasets.FashionMNIST(\n",
    "    root=\"data\",\n",
    "    train=True,\n",
    "    download=True,\n",
    "    transform=transform_tensor\n",
    ")\n",
    "test_ds_tensor = datasets.FashionMNIST(\n",
    "    root=\"data\",\n",
    "    train=False,\n",
    "    download=True,\n",
    "    transform=transform_tensor\n",
    ")\n",
    "\n",
    "img_tensor, label_tensor = train_ds_tensor[0]\n",
    "print(type(img_tensor))  # <class 'torch.Tensor'>\n",
    "print(\"图像形状:\", img_tensor.shape)\n",
    "print(\"像素范围:\", img_tensor.min().item(), \"~\", img_tensor.max().item())\n",
    "\n",
    "# 显示 Tensor 图像\n",
    "def show_single_image_tensor(tensor_img):\n",
    "    plt.imshow(tensor_img.squeeze(0), cmap=\"binary\")  # squeeze通道表示，把通道数从1变为0，即把单通道的图片变为3通道的图片\n",
    "    plt.colorbar()\n",
    "    plt.show()\n",
    "\n",
    "show_single_image_tensor(img_tensor)\n",
    "\n",
    "# 计算均值和标准差\n",
    "def cal_mean_std(ds):\n",
    "    mean = 0.\n",
    "    std = 0.\n",
    "    for img, _ in ds:  #_表示忽略标签,意思是只计算图片的均值和方差\n",
    "        mean += img.mean(dim=(1, 2))\n",
    "        #dim=(1, 2)表示计算每张图片的像素均值，dim=0表示计算所有图片的像素均值，dim=1表示计算每张图片的行均值，dim=2表示计算每张图片的列均值，dim=(0,1)表示计算所有图片的行均值，dim=(0,2)表示计算所有图片的列均值，dim=(1,2)表示计算所有图片的行列均值，dim=None表示计算所有图片的像素均值\n",
    "        std += img.std(dim=(1, 2))\n",
    "    mean /= len(ds)\n",
    "    std /= len(ds)\n",
    "    return mean, std\n",
    "\n",
    "print(\"均值和方差:\", cal_mean_std(train_ds_tensor))\n",
    "\n",
    "# 多图展示\n",
    "#已知的图片类别\n",
    "# lables在这个路径https://github.com/zalandoresearch/fashion-mnist\n",
    "class_names = ['T-shirt', 'Trouser', 'Pullover', 'Dress',\n",
    "               'Coat', 'Sandal', 'Shirt', 'Sneaker',\n",
    "               'Bag', 'Ankle boot']\n",
    "\n",
    "def show_imgs_tensor(n_rows, n_cols, train_ds, class_names):#train_ds是数据集，class_names是类别名称，n_rows是打印行数，n_cols是打印列数\n",
    "    assert n_rows * n_cols < len(train_ds) #确保打印的图片数量小于总样本数，这里是3*5，所以小于60，所以可以打印，如果大于60，则报错\n",
    "    plt.figure(figsize=(n_cols * 1.4, n_rows * 1.6))  #宽1.4高1.6，宽，高 ，figsize设置图片大小，单位是英寸，默认是6.4，高6.4，所以宽高比为1.4，1.6，n_cols * 1.4作用是设置图片的宽度，n_rows * 1.6作用是设置图片的高度\n",
    "\n",
    "    for row in range(n_rows):\n",
    "        for col in range(n_cols):\n",
    "            index = n_cols * row + col #计算索引，从0开始\n",
    "            plt.subplot(n_rows, n_cols, index+1)  #subplot(行数，列数，索引)，索引从1开始取出第index个样本\n",
    "            img_arr, label = train_ds[index]  #取出第index个样本\n",
    "            plt.imshow(img_arr.squeeze(0), cmap=\"binary\", interpolation='nearest')#\n",
    "            plt.axis('off')#去除坐标系，axis='off'，表示不显示坐标轴\n",
    "            plt.title(class_names[label])#显示类别名称\n",
    "    plt.show()\n",
    "\n",
    "show_imgs_tensor(3, 5, train_ds_tensor, class_names)\n",
    "\n",
    "# 加载器\n",
    "train_loader = torch.utils.data.DataLoader(train_ds_tensor, batch_size=32, shuffle=True)  # 训练集加载器，batch_size=32表示每次取32张图片, shuffle=True表示打乱数据集\n",
    "val_loader = torch.utils.data.DataLoader(test_ds_tensor, batch_size=32, shuffle=False)     # 测试集加载器\n",
    "\n",
    "# torchvision 数据集里没有提供训练集和验证集的划分\n",
    "# 当然也可以用 torch.utils.data.Dataset 实现人为划分"
   ],
   "outputs": [
    {
     "name": "stdout",
     "output_type": "stream",
     "text": [
      "<class 'torch.Tensor'>\n",
      "图像形状: torch.Size([1, 28, 28])\n",
      "像素范围: 0.0 ~ 1.0\n"
     ]
    },
    {
     "data": {
      "text/plain": [
       "<Figure size 640x480 with 2 Axes>"
      ],
      "image/png": "[encoded data removed]"
     },
     "metadata": {},
     "output_type": "display_data"
    },
    {
     "name": "stdout",
     "output_type": "stream",
     "text": [
      "均值和方差: (tensor([0.2860]), tensor([0.3205]))\n"
     ]
    },
    {
     "data": {
      "text/plain": [
       "<Figure size 700x480 with 15 Axes>"
      ],
      "image/png": "[encoded data removed]"
     },
     "metadata": {},
     "output_type": "display_data"
    }
   ],
   "execution_count": 77
  },
  {
   "cell_type": "code",
   "source": [
    "type(train_ds)"
   ],
   "metadata": {
    "collapsed": false,
    "ExecuteTime": {
     "end_time": "2025-07-25T18:17:23.896001Z",
     "start_time": "2025-07-25T18:17:23.816576Z"
    }
   },
   "outputs": [
    {
     "data": {
      "text/plain": [
       "torchvision.datasets.mnist.FashionMNIST"
      ]
     },
     "execution_count": 84,
     "metadata": {},
     "output_type": "execute_result"
    }
   ],
   "execution_count": 84
  },
  {
   "cell_type": "code",
   "source": [
    "len(train_ds)"
   ],
   "metadata": {
    "collapsed": false,
    "ExecuteTime": {
     "end_time": "2025-07-25T18:17:25.779942Z",
     "start_time": "2025-07-25T18:17:25.765321Z"
    }
   },
   "outputs": [
    {
     "data": {
      "text/plain": [
       "60000"
      ]
     },
     "execution_count": 85,
     "metadata": {},
     "output_type": "execute_result"
    }
   ],
   "execution_count": 85
  },
  {
   "cell_type": "code",
   "source": [
    "type(train_ds[0])"
   ],
   "metadata": {
    "collapsed": false,
    "ExecuteTime": {
     "end_time": "2025-07-25T18:17:27.631182Z",
     "start_time": "2025-07-25T18:17:27.595085Z"
    }
   },
   "outputs": [
    {
     "data": {
      "text/plain": [
       "tuple"
      ]
     },
     "execution_count": 86,
     "metadata": {},
     "output_type": "execute_result"
    }
   ],
   "execution_count": 86
  },
  {
   "cell_type": "code",
   "source": "img_tensor[0]  # 第0个样本的图像数据, 类型为tensor, 形状为[1, 28, 28], 值范围为[0, 1]",
   "metadata": {
    "collapsed": false,
    "ExecuteTime": {
     "end_time": "2025-07-25T18:44:19.980856Z",
     "start_time": "2025-07-25T18:44:19.689593Z"
    }
   },
   "outputs": [
    {
     "data": {
      "text/plain": [
       "tensor([[0.0000, 0.0000, 0.0000, 0.0000, 0.0000, 0.0000, 0.0000, 0.0000, 0.0000,\n",
       "         0.0000, 0.0000, 0.0000, 0.0000, 0.0000, 0.0000, 0.0000, 0.0000, 0.0000,\n",
       "         0.0000, 0.0000, 0.0000, 0.0000, 0.0000, 0.0000, 0.0000, 0.0000, 0.0000,\n",
       "         0.0000],\n",
       "        [0.0000, 0.0000, 0.0000, 0.0000, 0.0000, 0.0000, 0.0000, 0.0000, 0.0000,\n",
       "         0.0000, 0.0000, 0.0000, 0.0000, 0.0000, 0.0000, 0.0000, 0.0000, 0.0000,\n",
       "         0.0000, 0.0000, 0.0000, 0.0000, 0.0000, 0.0000, 0.0000, 0.0000, 0.0000,\n",
       "         0.0000],\n",
       "        [0.0000, 0.0000, 0.0000, 0.0000, 0.0000, 0.0000, 0.0000, 0.0000, 0.0000,\n",
       "         0.0000, 0.0000, 0.0000, 0.0000, 0.0000, 0.0000, 0.0000, 0.0000, 0.0000,\n",
       "         0.0000, 0.0000, 0.0000, 0.0000, 0.0000, 0.0000, 0.0000, 0.0000, 0.0000,\n",
       "         0.0000],\n",
       "        [0.0000, 0.0000, 0.0000, 0.0000, 0.0000, 0.0000, 0.0000, 0.0000, 0.0000,\n",
       "         0.0000, 0.0000, 0.0000, 0.0039, 0.0000, 0.0000, 0.0510, 0.2863, 0.0000,\n",
       "         0.0000, 0.0039, 0.0157, 0.0000, 0.0000, 0.0000, 0.0000, 0.0039, 0.0039,\n",
       "         0.0000],\n",
       "        [0.0000, 0.0000, 0.0000, 0.0000, 0.0000, 0.0000, 0.0000, 0.0000, 0.0000,\n",
       "         0.0000, 0.0000, 0.0000, 0.0118, 0.0000, 0.1412, 0.5333, 0.4980, 0.2431,\n",
       "         0.2118, 0.0000, 0.0000, 0.0000, 0.0039, 0.0118, 0.0157, 0.0000, 0.0000,\n",
       "         0.0118],\n",
       "        [0.0000, 0.0000, 0.0000, 0.0000, 0.0000, 0.0000, 0.0000, 0.0000, 0.0000,\n",
       "         0.0000, 0.0000, 0.0000, 0.0235, 0.0000, 0.4000, 0.8000, 0.6902, 0.5255,\n",
       "         0.5647, 0.4824, 0.0902, 0.0000, 0.0000, 0.0000, 0.0000, 0.0471, 0.0392,\n",
       "         0.0000],\n",
       "        [0.0000, 0.0000, 0.0000, 0.0000, 0.0000, 0.0000, 0.0000, 0.0000, 0.0000,\n",
       "         0.0000, 0.0000, 0.0000, 0.0000, 0.0000, 0.6078, 0.9255, 0.8118, 0.6980,\n",
       "         0.4196, 0.6118, 0.6314, 0.4275, 0.2510, 0.0902, 0.3020, 0.5098, 0.2824,\n",
       "         0.0588],\n",
       "        [0.0000, 0.0000, 0.0000, 0.0000, 0.0000, 0.0000, 0.0000, 0.0000, 0.0000,\n",
       "         0.0000, 0.0000, 0.0039, 0.0000, 0.2706, 0.8118, 0.8745, 0.8549, 0.8471,\n",
       "         0.8471, 0.6392, 0.4980, 0.4745, 0.4784, 0.5725, 0.5529, 0.3451, 0.6745,\n",
       "         0.2588],\n",
       "        [0.0000, 0.0000, 0.0000, 0.0000, 0.0000, 0.0000, 0.0000, 0.0000, 0.0000,\n",
       "         0.0039, 0.0039, 0.0039, 0.0000, 0.7843, 0.9098, 0.9098, 0.9137, 0.8980,\n",
       "         0.8745, 0.8745, 0.8431, 0.8353, 0.6431, 0.4980, 0.4824, 0.7686, 0.8980,\n",
       "         0.0000],\n",
       "        [0.0000, 0.0000, 0.0000, 0.0000, 0.0000, 0.0000, 0.0000, 0.0000, 0.0000,\n",
       "         0.0000, 0.0000, 0.0000, 0.0000, 0.7176, 0.8824, 0.8471, 0.8745, 0.8941,\n",
       "         0.9216, 0.8902, 0.8784, 0.8706, 0.8784, 0.8667, 0.8745, 0.9608, 0.6784,\n",
       "         0.0000],\n",
       "        [0.0000, 0.0000, 0.0000, 0.0000, 0.0000, 0.0000, 0.0000, 0.0000, 0.0000,\n",
       "         0.0000, 0.0000, 0.0000, 0.0000, 0.7569, 0.8941, 0.8549, 0.8353, 0.7765,\n",
       "         0.7059, 0.8314, 0.8235, 0.8275, 0.8353, 0.8745, 0.8627, 0.9529, 0.7922,\n",
       "         0.0000],\n",
       "        [0.0000, 0.0000, 0.0000, 0.0000, 0.0000, 0.0000, 0.0000, 0.0000, 0.0000,\n",
       "         0.0039, 0.0118, 0.0000, 0.0471, 0.8588, 0.8627, 0.8314, 0.8549, 0.7529,\n",
       "         0.6627, 0.8902, 0.8157, 0.8549, 0.8784, 0.8314, 0.8863, 0.7725, 0.8196,\n",
       "         0.2039],\n",
       "        [0.0000, 0.0000, 0.0000, 0.0000, 0.0000, 0.0000, 0.0000, 0.0000, 0.0000,\n",
       "         0.0000, 0.0235, 0.0000, 0.3882, 0.9569, 0.8706, 0.8627, 0.8549, 0.7961,\n",
       "         0.7765, 0.8667, 0.8431, 0.8353, 0.8706, 0.8627, 0.9608, 0.4667, 0.6549,\n",
       "         0.2196],\n",
       "        [0.0000, 0.0000, 0.0000, 0.0000, 0.0000, 0.0000, 0.0000, 0.0000, 0.0000,\n",
       "         0.0157, 0.0000, 0.0000, 0.2157, 0.9255, 0.8941, 0.9020, 0.8941, 0.9412,\n",
       "         0.9098, 0.8353, 0.8549, 0.8745, 0.9176, 0.8510, 0.8510, 0.8196, 0.3608,\n",
       "         0.0000],\n",
       "        [0.0000, 0.0000, 0.0039, 0.0157, 0.0235, 0.0275, 0.0078, 0.0000, 0.0000,\n",
       "         0.0000, 0.0000, 0.0000, 0.9294, 0.8863, 0.8510, 0.8745, 0.8706, 0.8588,\n",
       "         0.8706, 0.8667, 0.8471, 0.8745, 0.8980, 0.8431, 0.8549, 1.0000, 0.3020,\n",
       "         0.0000],\n",
       "        [0.0000, 0.0118, 0.0000, 0.0000, 0.0000, 0.0000, 0.0000, 0.0000, 0.0000,\n",
       "         0.2431, 0.5686, 0.8000, 0.8941, 0.8118, 0.8353, 0.8667, 0.8549, 0.8157,\n",
       "         0.8275, 0.8549, 0.8784, 0.8745, 0.8588, 0.8431, 0.8784, 0.9569, 0.6235,\n",
       "         0.0000],\n",
       "        [0.0000, 0.0000, 0.0000, 0.0000, 0.0706, 0.1725, 0.3216, 0.4196, 0.7412,\n",
       "         0.8941, 0.8627, 0.8706, 0.8510, 0.8863, 0.7843, 0.8039, 0.8275, 0.9020,\n",
       "         0.8784, 0.9176, 0.6902, 0.7373, 0.9804, 0.9725, 0.9137, 0.9333, 0.8431,\n",
       "         0.0000],\n",
       "        [0.0000, 0.2235, 0.7333, 0.8157, 0.8784, 0.8667, 0.8784, 0.8157, 0.8000,\n",
       "         0.8392, 0.8157, 0.8196, 0.7843, 0.6235, 0.9608, 0.7569, 0.8078, 0.8745,\n",
       "         1.0000, 1.0000, 0.8667, 0.9176, 0.8667, 0.8275, 0.8627, 0.9098, 0.9647,\n",
       "         0.0000],\n",
       "        [0.0118, 0.7922, 0.8941, 0.8784, 0.8667, 0.8275, 0.8275, 0.8392, 0.8039,\n",
       "         0.8039, 0.8039, 0.8627, 0.9412, 0.3137, 0.5882, 1.0000, 0.8980, 0.8667,\n",
       "         0.7373, 0.6039, 0.7490, 0.8235, 0.8000, 0.8196, 0.8706, 0.8941, 0.8824,\n",
       "         0.0000],\n",
       "        [0.3843, 0.9137, 0.7765, 0.8235, 0.8706, 0.8980, 0.8980, 0.9176, 0.9765,\n",
       "         0.8627, 0.7608, 0.8431, 0.8510, 0.9451, 0.2549, 0.2863, 0.4157, 0.4588,\n",
       "         0.6588, 0.8588, 0.8667, 0.8431, 0.8510, 0.8745, 0.8745, 0.8784, 0.8980,\n",
       "         0.1137],\n",
       "        [0.2941, 0.8000, 0.8314, 0.8000, 0.7569, 0.8039, 0.8275, 0.8824, 0.8471,\n",
       "         0.7255, 0.7725, 0.8078, 0.7765, 0.8353, 0.9412, 0.7647, 0.8902, 0.9608,\n",
       "         0.9373, 0.8745, 0.8549, 0.8314, 0.8196, 0.8706, 0.8627, 0.8667, 0.9020,\n",
       "         0.2627],\n",
       "        [0.1882, 0.7961, 0.7176, 0.7608, 0.8353, 0.7725, 0.7255, 0.7451, 0.7608,\n",
       "         0.7529, 0.7922, 0.8392, 0.8588, 0.8667, 0.8627, 0.9255, 0.8824, 0.8471,\n",
       "         0.7804, 0.8078, 0.7294, 0.7098, 0.6941, 0.6745, 0.7098, 0.8039, 0.8078,\n",
       "         0.4510],\n",
       "        [0.0000, 0.4784, 0.8588, 0.7569, 0.7020, 0.6706, 0.7176, 0.7686, 0.8000,\n",
       "         0.8235, 0.8353, 0.8118, 0.8275, 0.8235, 0.7843, 0.7686, 0.7608, 0.7490,\n",
       "         0.7647, 0.7490, 0.7765, 0.7529, 0.6902, 0.6118, 0.6549, 0.6941, 0.8235,\n",
       "         0.3608],\n",
       "        [0.0000, 0.0000, 0.2902, 0.7412, 0.8314, 0.7490, 0.6863, 0.6745, 0.6863,\n",
       "         0.7098, 0.7255, 0.7373, 0.7412, 0.7373, 0.7569, 0.7765, 0.8000, 0.8196,\n",
       "         0.8235, 0.8235, 0.8275, 0.7373, 0.7373, 0.7608, 0.7529, 0.8471, 0.6667,\n",
       "         0.0000],\n",
       "        [0.0078, 0.0000, 0.0000, 0.0000, 0.2588, 0.7843, 0.8706, 0.9294, 0.9373,\n",
       "         0.9490, 0.9647, 0.9529, 0.9569, 0.8667, 0.8627, 0.7569, 0.7490, 0.7020,\n",
       "         0.7137, 0.7137, 0.7098, 0.6902, 0.6510, 0.6588, 0.3882, 0.2275, 0.0000,\n",
       "         0.0000],\n",
       "        [0.0000, 0.0000, 0.0000, 0.0000, 0.0000, 0.0000, 0.0000, 0.1569, 0.2392,\n",
       "         0.1725, 0.2824, 0.1608, 0.1373, 0.0000, 0.0000, 0.0000, 0.0000, 0.0000,\n",
       "         0.0000, 0.0000, 0.0000, 0.0000, 0.0000, 0.0000, 0.0000, 0.0000, 0.0000,\n",
       "         0.0000],\n",
       "        [0.0000, 0.0000, 0.0000, 0.0000, 0.0000, 0.0000, 0.0000, 0.0000, 0.0000,\n",
       "         0.0000, 0.0000, 0.0000, 0.0000, 0.0000, 0.0000, 0.0000, 0.0000, 0.0000,\n",
       "         0.0000, 0.0000, 0.0000, 0.0000, 0.0000, 0.0000, 0.0000, 0.0000, 0.0000,\n",
       "         0.0000],\n",
       "        [0.0000, 0.0000, 0.0000, 0.0000, 0.0000, 0.0000, 0.0000, 0.0000, 0.0000,\n",
       "         0.0000, 0.0000, 0.0000, 0.0000, 0.0000, 0.0000, 0.0000, 0.0000, 0.0000,\n",
       "         0.0000, 0.0000, 0.0000, 0.0000, 0.0000, 0.0000, 0.0000, 0.0000, 0.0000,\n",
       "         0.0000]])"
      ]
     },
     "execution_count": 91,
     "metadata": {},
     "output_type": "execute_result"
    }
   ],
   "execution_count": 91
  },
  {
   "metadata": {
    "ExecuteTime": {
     "end_time": "2025-07-25T19:03:25.405196Z",
     "start_time": "2025-07-25T19:03:25.308107Z"
    }
   },
   "cell_type": "code",
   "source": "img_tensor.shape",
   "outputs": [
    {
     "data": {
      "text/plain": [
       "torch.Size([1, 28, 28])"
      ]
     },
     "execution_count": 95,
     "metadata": {},
     "output_type": "execute_result"
    }
   ],
   "execution_count": 95
  },
  {
   "cell_type": "code",
   "source": "type(img_tensor)",
   "metadata": {
    "collapsed": false,
    "ExecuteTime": {
     "end_time": "2025-07-25T18:44:54.767197Z",
     "start_time": "2025-07-25T18:44:54.757757Z"
    }
   },
   "outputs": [
    {
     "data": {
      "text/plain": [
       "torch.Tensor"
      ]
     },
     "execution_count": 94,
     "metadata": {},
     "output_type": "execute_result"
    }
   ],
   "execution_count": 94
  },
  {
   "cell_type": "code",
   "source": "type(img_tensor) #tensor中文是 张量,和numpy的ndarray类似",
   "metadata": {
    "collapsed": false,
    "ExecuteTime": {
     "end_time": "2025-07-25T18:44:49.934504Z",
     "start_time": "2025-07-25T18:44:49.921438Z"
    }
   },
   "outputs": [
    {
     "data": {
      "text/plain": [
       "torch.Tensor"
      ]
     },
     "execution_count": 92,
     "metadata": {},
     "output_type": "execute_result"
    }
   ],
   "execution_count": 92
  },
  {
   "cell_type": "code",
   "source": [
    "label"
   ],
   "metadata": {
    "collapsed": false,
    "ExecuteTime": {
     "end_time": "2025-07-25T18:44:50.817666Z",
     "start_time": "2025-07-25T18:44:50.811144Z"
    }
   },
   "outputs": [
    {
     "data": {
      "text/plain": [
       "9"
      ]
     },
     "execution_count": 93,
     "metadata": {},
     "output_type": "execute_result"
    }
   ],
   "execution_count": 93
  },
  {
   "cell_type": "markdown",
   "source": [
    "在PyTorch中，`DataLoader`是一个迭代器，它封装了数据的加载和预处理过程，使得在训练机器学习模型时可以方便地批量加载数据。`DataLoader`主要负责以下几个方面：\n",
    "\n",
    "1. **批量加载数据**：`DataLoader`可以将数据集（Dataset）切分为更小的批次（batch），每次迭代提供一小批量数据，而不是单个数据点。这有助于模型学习数据中的统计依赖性，并且可以更高效地利用GPU等硬件的并行计算能力。\n",
    "\n",
    "2. **数据打乱**：默认情况下，`DataLoader`会在每个epoch（训练周期）开始时打乱数据的顺序。这有助于模型训练时避免陷入局部最优解，并且可以提高模型的泛化能力。\n",
    "\n",
    "3. **多线程数据加载**：`DataLoader`支持多线程（通过参数`num_workers`）来并行地加载数据，这可以显著减少训练过程中的等待时间，尤其是在处理大规模数据集时。\n",
    "\n",
    "4. **数据预处理**：`DataLoader`可以与`transforms`结合使用，对加载的数据进行预处理，如归一化、标准化、数据增强等操作。\n",
    "\n",
    "5. **内存管理**：`DataLoader`负责管理数据的内存使用，确保在训练过程中不会耗尽内存资源。\n",
    "\n",
    "6. **易用性**：`DataLoader`提供了一个简单的接口，可以很容易地集成到训练循环中。\n",
    "\n"
   ],
   "metadata": {
    "collapsed": false
   }
  },
  {
   "cell_type": "markdown",
   "metadata": {},
   "source": [
    "## 定义模型"
   ]
  },
  {
   "cell_type": "code",
   "metadata": {
    "ExecuteTime": {
     "end_time": "2025-07-25T19:06:49.565903Z",
     "start_time": "2025-07-25T19:06:49.390168Z"
    }
   },
   "source": [
    "class NeuralNetwork(nn.Module):\n",
    "    def __init__(self):\n",
    "        super().__init__() # 继承父类的初始化方法，子类有父类的属性\n",
    "        self.flatten = nn.Flatten()  # 展平层\n",
    "        self.linear_relu_stack = nn.Sequential(\n",
    "            nn.Linear(784, 300),  # in_features=784, out_features=300, 784是输入特征数，300是输出特征数\n",
    "            nn.ReLU(), # 激活函数\n",
    "            nn.Linear(300, 100),#隐藏层神经元数100\n",
    "            nn.ReLU(), # 激活函数\n",
    "            nn.Linear(100, 10),#输出层神经元数10\n",
    "        )\n",
    "\n",
    "    def forward(self, x): # 前向计算\n",
    "        # x.shape [batch size, 1, 28, 28]\n",
    "        x = self.flatten(x)  \n",
    "        # 展平后 x.shape [batch size, 784]\n",
    "        logits = self.linear_relu_stack(x)\n",
    "        # logits.shape [batch size, 10]\n",
    "        return logits #没有经过softmax,称为logits\n",
    "    \n",
    "model = NeuralNetwork()  # 实例化模型"
   ],
   "outputs": [],
   "execution_count": 96
  },
  {
   "cell_type": "code",
   "metadata": {},
   "source": [
    "# 看看网络结构,打印模型参数\n",
    "model"
   ],
   "outputs": [
    {
     "data": {
      "text/plain": [
       "NeuralNetwork(\n",
       "  (flatten): Flatten(start_dim=1, end_dim=-1)\n",
       "  (linear_relu_stack): Sequential(\n",
       "    (0): Linear(in_features=784, out_features=300, bias=True)\n",
       "    (1): ReLU()\n",
       "    (2): Linear(in_features=300, out_features=100, bias=True)\n",
       "    (3): ReLU()\n",
       "    (4): Linear(in_features=100, out_features=10, bias=True)\n",
       "  )\n",
       ")"
      ]
     },
     "execution_count": 97,
     "metadata": {},
     "output_type": "execute_result"
    }
   ],
   "execution_count": 97
  },
  {
   "cell_type": "code",
   "execution_count": 19,
   "outputs": [
    {
     "data": {
      "text/plain": "266610"
     },
     "execution_count": 19,
     "metadata": {},
     "output_type": "execute_result"
    }
   ],
   "source": "784*300+300+300*100+100+100*10+10  # 计算模型参数数量",
   "metadata": {
    "collapsed": false,
    "ExecuteTime": {
     "end_time": "2024-07-17T03:06:34.557156400Z",
     "start_time": "2024-07-17T03:06:34.537519200Z"
    }
   }
  },
  {
   "cell_type": "code",
   "metadata": {
    "ExecuteTime": {
     "end_time": "2025-07-25T19:17:17.216460Z",
     "start_time": "2025-07-25T19:17:17.180051Z"
    }
   },
   "source": [
    "for name, param in model.named_parameters(): # 打印模型参数\n",
    "      print(name, param.shape)"
   ],
   "outputs": [
    {
     "name": "stdout",
     "output_type": "stream",
     "text": [
      "linear_relu_stack.0.weight torch.Size([300, 784])\n",
      "linear_relu_stack.0.bias torch.Size([300])\n",
      "linear_relu_stack.2.weight torch.Size([100, 300])\n",
      "linear_relu_stack.2.bias torch.Size([100])\n",
      "linear_relu_stack.4.weight torch.Size([10, 100])\n",
      "linear_relu_stack.4.bias torch.Size([10])\n"
     ]
    }
   ],
   "execution_count": 98
  },
  {
   "cell_type": "code",
   "metadata": {
    "ExecuteTime": {
     "end_time": "2025-07-25T19:17:32.028274Z",
     "start_time": "2025-07-25T19:17:31.938057Z"
    }
   },
   "source": [
    "# 看看模型参数\n",
    "list(model.parameters())  # 这种方法拿到模型的所有可学习参数,requires_grad=True\n"
   ],
   "outputs": [
    {
     "data": {
      "text/plain": [
       "[Parameter containing:\n",
       " tensor([[ 0.0344, -0.0355, -0.0094,  ...,  0.0187,  0.0333, -0.0065],\n",
       "         [-0.0177,  0.0215,  0.0094,  ..., -0.0062, -0.0160,  0.0135],\n",
       "         [-0.0182,  0.0091, -0.0331,  ...,  0.0226,  0.0218,  0.0151],\n",
       "         ...,\n",
       "         [ 0.0173,  0.0036, -0.0182,  ...,  0.0332, -0.0056, -0.0085],\n",
       "         [ 0.0005, -0.0317, -0.0063,  ...,  0.0007,  0.0339, -0.0220],\n",
       "         [-0.0239,  0.0195, -0.0132,  ...,  0.0205,  0.0134,  0.0046]],\n",
       "        requires_grad=True),\n",
       " Parameter containing:\n",
       " tensor([-0.0028,  0.0185, -0.0134, -0.0219,  0.0067, -0.0251, -0.0344,  0.0081,\n",
       "         -0.0285, -0.0194,  0.0222, -0.0259, -0.0012,  0.0333, -0.0201, -0.0070,\n",
       "          0.0324,  0.0236, -0.0146, -0.0193,  0.0053, -0.0289,  0.0277, -0.0355,\n",
       "          0.0341,  0.0177, -0.0326,  0.0313,  0.0308, -0.0108, -0.0282, -0.0289,\n",
       "          0.0061, -0.0090,  0.0020,  0.0208,  0.0277,  0.0099,  0.0158,  0.0234,\n",
       "          0.0220,  0.0089, -0.0306, -0.0304,  0.0187, -0.0303,  0.0138,  0.0270,\n",
       "         -0.0030,  0.0299,  0.0348, -0.0064,  0.0111,  0.0141,  0.0192,  0.0220,\n",
       "          0.0132, -0.0064,  0.0122,  0.0107,  0.0103,  0.0126,  0.0008,  0.0347,\n",
       "         -0.0093,  0.0015, -0.0312,  0.0120,  0.0242,  0.0290, -0.0092, -0.0086,\n",
       "         -0.0354, -0.0038,  0.0006, -0.0113,  0.0013, -0.0184, -0.0245,  0.0001,\n",
       "          0.0196, -0.0236,  0.0257,  0.0288, -0.0130,  0.0168,  0.0170, -0.0034,\n",
       "          0.0219,  0.0333,  0.0165, -0.0312, -0.0295, -0.0064,  0.0101,  0.0023,\n",
       "          0.0027, -0.0329, -0.0101, -0.0210, -0.0196,  0.0069,  0.0031,  0.0208,\n",
       "         -0.0042, -0.0336,  0.0050,  0.0214,  0.0039, -0.0237,  0.0115, -0.0269,\n",
       "         -0.0263,  0.0130,  0.0033,  0.0227, -0.0044, -0.0281, -0.0315,  0.0079,\n",
       "          0.0060,  0.0080, -0.0323,  0.0279, -0.0352, -0.0239, -0.0227,  0.0268,\n",
       "         -0.0296,  0.0252, -0.0037,  0.0345, -0.0287,  0.0344, -0.0127,  0.0322,\n",
       "          0.0192, -0.0265,  0.0327,  0.0116, -0.0166,  0.0210,  0.0227, -0.0258,\n",
       "         -0.0119,  0.0251, -0.0310,  0.0044, -0.0318,  0.0354, -0.0305,  0.0356,\n",
       "         -0.0273, -0.0022, -0.0104,  0.0037,  0.0190, -0.0063,  0.0335,  0.0034,\n",
       "         -0.0174,  0.0300, -0.0068,  0.0276,  0.0261, -0.0352, -0.0287, -0.0156,\n",
       "         -0.0212, -0.0076, -0.0067, -0.0013, -0.0281,  0.0292,  0.0068,  0.0006,\n",
       "         -0.0347, -0.0164, -0.0097,  0.0011,  0.0005, -0.0107,  0.0164,  0.0314,\n",
       "          0.0223, -0.0230,  0.0308, -0.0186, -0.0076,  0.0132,  0.0251,  0.0318,\n",
       "          0.0139,  0.0248, -0.0119, -0.0160, -0.0046,  0.0340, -0.0019,  0.0152,\n",
       "         -0.0327,  0.0041, -0.0319, -0.0041,  0.0303, -0.0049,  0.0287, -0.0298,\n",
       "          0.0339,  0.0161,  0.0350,  0.0103,  0.0076, -0.0024, -0.0093,  0.0199,\n",
       "          0.0034,  0.0297, -0.0229,  0.0230,  0.0083, -0.0244, -0.0171,  0.0317,\n",
       "         -0.0104, -0.0199,  0.0178, -0.0028,  0.0248,  0.0151,  0.0350, -0.0242,\n",
       "         -0.0146, -0.0201, -0.0135, -0.0295, -0.0274, -0.0213,  0.0237,  0.0155,\n",
       "         -0.0164,  0.0299,  0.0092,  0.0173, -0.0326, -0.0291, -0.0023, -0.0027,\n",
       "          0.0314,  0.0143,  0.0342, -0.0343,  0.0161,  0.0055, -0.0150, -0.0325,\n",
       "         -0.0301,  0.0243,  0.0142, -0.0313, -0.0133,  0.0022, -0.0087, -0.0065,\n",
       "          0.0299, -0.0091,  0.0276, -0.0029,  0.0029,  0.0265, -0.0258,  0.0068,\n",
       "         -0.0238, -0.0126, -0.0175, -0.0067, -0.0272,  0.0240,  0.0084,  0.0172,\n",
       "          0.0096,  0.0342,  0.0017,  0.0263, -0.0025,  0.0175, -0.0189, -0.0178,\n",
       "         -0.0131, -0.0032, -0.0353,  0.0085,  0.0106,  0.0281,  0.0216, -0.0353,\n",
       "         -0.0070,  0.0326,  0.0256, -0.0069], requires_grad=True),\n",
       " Parameter containing:\n",
       " tensor([[-0.0141,  0.0441,  0.0029,  ...,  0.0363,  0.0285, -0.0555],\n",
       "         [-0.0192,  0.0399,  0.0383,  ..., -0.0105, -0.0485,  0.0535],\n",
       "         [-0.0168,  0.0335, -0.0258,  ...,  0.0263,  0.0357,  0.0332],\n",
       "         ...,\n",
       "         [-0.0193,  0.0457, -0.0005,  ...,  0.0067,  0.0112, -0.0024],\n",
       "         [ 0.0044,  0.0570, -0.0429,  ...,  0.0474,  0.0401, -0.0062],\n",
       "         [-0.0407, -0.0261,  0.0028,  ..., -0.0047,  0.0539,  0.0107]],\n",
       "        requires_grad=True),\n",
       " Parameter containing:\n",
       " tensor([-0.0565,  0.0247, -0.0381, -0.0253,  0.0069, -0.0353, -0.0040, -0.0431,\n",
       "         -0.0021,  0.0049, -0.0069, -0.0103,  0.0554, -0.0041,  0.0444,  0.0495,\n",
       "         -0.0482, -0.0491, -0.0003,  0.0004, -0.0403, -0.0229, -0.0219, -0.0279,\n",
       "          0.0089,  0.0306,  0.0532, -0.0252, -0.0309,  0.0420,  0.0232,  0.0405,\n",
       "          0.0364,  0.0206,  0.0503, -0.0009,  0.0348,  0.0356, -0.0471, -0.0032,\n",
       "         -0.0226,  0.0548, -0.0363,  0.0479, -0.0542,  0.0286,  0.0504,  0.0488,\n",
       "          0.0453, -0.0298,  0.0313,  0.0068, -0.0080, -0.0053,  0.0174, -0.0463,\n",
       "          0.0309, -0.0310,  0.0569, -0.0030,  0.0331, -0.0096,  0.0536,  0.0443,\n",
       "          0.0250,  0.0346,  0.0566, -0.0243,  0.0110, -0.0270,  0.0053, -0.0266,\n",
       "          0.0162,  0.0484, -0.0410, -0.0203,  0.0527,  0.0185, -0.0317,  0.0008,\n",
       "         -0.0307, -0.0237, -0.0038, -0.0544, -0.0439, -0.0477,  0.0063,  0.0517,\n",
       "          0.0505,  0.0194,  0.0371, -0.0073,  0.0050, -0.0233,  0.0079, -0.0175,\n",
       "         -0.0445,  0.0029,  0.0509, -0.0488], requires_grad=True),\n",
       " Parameter containing:\n",
       " tensor([[-8.2971e-02,  3.7209e-02,  3.4191e-02,  7.0184e-02, -4.1615e-02,\n",
       "          -1.9386e-02, -3.5102e-02, -4.1700e-02,  8.9191e-02, -4.3087e-02,\n",
       "          -7.6763e-02, -3.8079e-02,  2.8624e-02,  5.3009e-02, -2.4447e-02,\n",
       "           2.9505e-02,  8.2849e-02, -9.0950e-02, -6.6335e-02,  1.2523e-02,\n",
       "          -5.4461e-02, -8.7753e-02, -1.1128e-02, -5.8875e-02,  6.9823e-02,\n",
       "           4.5778e-02,  6.3724e-02, -7.9944e-02,  7.0763e-02,  8.0760e-02,\n",
       "           2.2210e-02,  3.8494e-02, -2.0157e-02,  8.0172e-02,  3.1466e-02,\n",
       "          -6.3564e-02,  3.9767e-02,  2.1154e-02,  2.5041e-02, -6.1906e-02,\n",
       "           3.7570e-02,  4.6723e-02,  2.7549e-02, -8.1165e-02, -9.5082e-02,\n",
       "           2.7992e-02,  5.2800e-02,  4.9278e-02,  9.1874e-02, -9.6494e-02,\n",
       "          -3.9064e-03, -7.3294e-02, -3.0615e-02,  8.2126e-03, -2.3537e-03,\n",
       "           6.7421e-02,  6.3689e-02,  3.3800e-02,  8.9670e-02, -5.7068e-02,\n",
       "          -6.2246e-02,  9.5502e-02, -2.8865e-02, -2.2265e-03, -1.3324e-02,\n",
       "          -7.4678e-02, -5.5541e-02, -3.0540e-02,  2.0574e-02,  1.7062e-02,\n",
       "           6.7295e-02,  8.1999e-02, -6.8738e-02,  4.1983e-02,  5.4894e-02,\n",
       "           1.8251e-02,  5.3255e-02,  2.8683e-02,  7.9976e-02,  9.6816e-02,\n",
       "           9.2543e-02, -9.5415e-02,  8.2876e-02, -3.6037e-02,  7.2548e-02,\n",
       "           3.1412e-02,  2.2875e-02, -5.8514e-02, -3.9439e-02, -1.1772e-02,\n",
       "           9.0992e-02, -4.6656e-02, -1.5174e-02, -8.7017e-02, -7.0679e-02,\n",
       "          -3.1629e-02,  5.7109e-02, -2.5833e-02, -1.0483e-02, -3.3568e-02],\n",
       "         [-2.1474e-02, -8.2098e-02,  7.3682e-03, -5.8117e-02, -5.9323e-02,\n",
       "          -9.1217e-03, -2.5243e-02, -1.3495e-02,  3.8150e-02,  2.2477e-02,\n",
       "           4.7848e-02, -5.7733e-02, -5.1182e-03, -1.1328e-02, -9.0546e-03,\n",
       "           7.7626e-02, -6.7636e-02, -7.4463e-02, -7.4899e-02,  1.0468e-02,\n",
       "           3.5637e-02,  4.3286e-02, -5.1504e-02, -6.7034e-02, -1.5599e-02,\n",
       "           4.2509e-02,  7.1989e-02,  4.2025e-02, -8.8363e-02,  6.2376e-02,\n",
       "           6.0512e-03,  1.7867e-02, -4.3685e-02, -4.2893e-02,  6.3277e-02,\n",
       "           8.4891e-02, -8.5945e-02, -4.4280e-02, -9.1933e-02, -6.5435e-02,\n",
       "          -7.7982e-02, -2.3452e-02, -9.3970e-02,  6.8493e-02, -6.4834e-02,\n",
       "          -6.3900e-02,  2.2249e-02, -5.0917e-02,  4.1308e-02, -9.7642e-02,\n",
       "          -4.0986e-02, -4.8412e-02, -2.2106e-02, -4.4886e-02, -4.8984e-02,\n",
       "           3.6498e-02,  3.1421e-02, -1.8389e-02,  3.4220e-02, -6.3928e-02,\n",
       "          -7.4016e-02, -9.1308e-02,  5.7926e-03, -3.1144e-02, -2.7705e-02,\n",
       "           4.1638e-02,  5.1067e-02, -5.8150e-02, -2.2312e-03, -9.8360e-03,\n",
       "          -8.9902e-02, -5.6110e-02,  5.6812e-02, -4.9735e-02, -6.4638e-03,\n",
       "          -9.9052e-02,  5.7214e-02,  1.2521e-02,  3.1100e-02, -5.7012e-02,\n",
       "           6.6482e-02,  1.8880e-02, -7.0741e-02, -9.0658e-02, -6.2903e-02,\n",
       "           4.9321e-02, -5.0607e-02,  5.9226e-02,  1.3431e-02, -2.3378e-02,\n",
       "          -6.7826e-03, -2.3733e-02,  5.6349e-02,  8.8020e-02, -5.5389e-02,\n",
       "           5.2874e-02, -4.1046e-02, -5.4048e-02, -5.2948e-02,  9.4939e-02],\n",
       "         [ 7.2343e-02,  2.5496e-02,  7.3877e-02,  1.9462e-03, -2.4734e-02,\n",
       "           8.4702e-02, -3.3172e-02,  6.7681e-02, -4.1451e-02,  1.7416e-03,\n",
       "           1.2557e-02,  6.1817e-04, -7.6685e-02,  7.5280e-02,  9.4076e-02,\n",
       "           9.1463e-02, -6.0555e-02,  6.0641e-02, -9.9530e-02, -1.0067e-02,\n",
       "          -7.8127e-02, -4.8600e-03, -3.0008e-02,  6.8237e-02,  2.9675e-02,\n",
       "           9.3764e-02, -1.5126e-02,  3.4027e-02, -4.5635e-02,  8.0984e-02,\n",
       "           1.3751e-02, -9.4672e-02,  8.2263e-02, -1.6895e-02, -4.0784e-02,\n",
       "           3.4068e-02, -6.8141e-02,  7.6507e-02,  6.6311e-02,  6.2394e-02,\n",
       "           8.5263e-02,  4.4394e-02,  1.1839e-02,  1.3993e-02, -2.8068e-02,\n",
       "          -5.8403e-02, -8.6620e-02, -5.1065e-02, -9.9484e-02, -6.8648e-02,\n",
       "          -4.2289e-02, -7.6298e-02, -2.3198e-02, -8.2645e-02, -3.5360e-02,\n",
       "           6.8830e-02,  4.4661e-02, -6.1947e-02, -1.9226e-02,  4.1045e-02,\n",
       "           2.6004e-02,  7.8875e-02, -4.5741e-02, -6.1739e-03, -2.1194e-02,\n",
       "           5.1993e-02, -6.2725e-02,  4.0904e-02, -2.1579e-02, -8.0918e-02,\n",
       "          -2.4141e-02,  2.5588e-02, -3.1280e-02,  9.6315e-02, -2.4633e-02,\n",
       "           3.0080e-02,  2.8568e-02,  4.3346e-02,  7.7869e-02, -3.6751e-02,\n",
       "           3.9025e-02,  3.8366e-02,  7.5127e-02, -9.1061e-02, -1.2896e-03,\n",
       "          -5.5981e-02, -1.6160e-02, -7.0601e-02,  3.8154e-02,  8.3734e-02,\n",
       "           9.6333e-02,  7.8906e-03,  8.6308e-02, -2.5405e-02, -1.8635e-02,\n",
       "          -8.0119e-02, -9.6054e-03, -5.9770e-02,  1.5267e-02, -1.6032e-02],\n",
       "         [ 2.6041e-02, -5.8687e-02, -5.2187e-02,  2.1235e-02, -7.4978e-02,\n",
       "          -6.4118e-02,  2.4351e-02, -8.8671e-02, -2.6990e-02, -4.8207e-04,\n",
       "          -6.7823e-02,  7.7032e-02,  3.5775e-02, -5.5636e-02,  3.6915e-02,\n",
       "           2.6207e-02, -1.5729e-02, -2.8414e-02, -2.9291e-02,  4.5908e-02,\n",
       "           8.8772e-02,  6.0190e-02,  7.4209e-02, -9.1143e-02,  5.0557e-02,\n",
       "          -5.5168e-02, -8.8768e-02, -5.4942e-02, -1.1317e-03,  3.7667e-02,\n",
       "          -4.3891e-03, -5.9334e-02,  7.5412e-02,  3.2041e-02,  1.0958e-02,\n",
       "           7.5083e-02, -5.1539e-02,  3.8997e-02, -5.9878e-03, -6.8351e-02,\n",
       "           1.8413e-02,  1.9217e-02, -5.8402e-02,  5.6327e-02,  9.9913e-02,\n",
       "           6.3464e-02, -4.2206e-02, -1.2892e-03,  4.5161e-03, -8.6432e-02,\n",
       "           7.5383e-02, -4.5793e-02,  1.6132e-02,  6.1104e-02,  9.4489e-02,\n",
       "           9.4522e-02,  8.8806e-02,  8.9237e-02, -1.0575e-02, -9.5292e-02,\n",
       "          -9.2617e-02,  4.3357e-02,  2.3128e-02,  2.8162e-02,  3.4598e-02,\n",
       "           7.5470e-02, -4.4350e-02, -4.0453e-02, -8.2565e-02,  2.8693e-02,\n",
       "           2.0414e-02,  2.8740e-02,  3.0072e-02,  6.1145e-02, -2.7968e-02,\n",
       "          -9.4762e-03,  6.3009e-02,  2.2915e-03, -3.8564e-02,  8.0676e-02,\n",
       "           8.7978e-02, -3.2928e-02, -2.6506e-02, -7.3437e-02, -3.2469e-02,\n",
       "          -5.8539e-02, -4.4238e-02,  9.9002e-02, -3.8221e-02, -9.8606e-03,\n",
       "          -5.5839e-02,  1.7342e-02,  3.2159e-02,  8.6312e-02,  6.2613e-02,\n",
       "          -9.4279e-02, -5.5705e-02,  2.6363e-02, -9.3012e-03,  3.3383e-02],\n",
       "         [-5.7669e-02, -5.3679e-02,  9.3150e-02,  3.5423e-03,  1.6859e-02,\n",
       "          -8.5890e-02, -1.5456e-02, -5.2414e-02, -6.7261e-03,  8.5818e-02,\n",
       "           8.7051e-02,  2.4065e-02, -6.8524e-02, -2.9287e-02,  8.9868e-02,\n",
       "          -7.1545e-02, -3.1948e-02, -9.0027e-02, -8.9524e-02, -5.5421e-02,\n",
       "           9.5329e-02, -6.4101e-04,  5.2206e-02,  6.0209e-02, -8.3120e-02,\n",
       "          -3.2381e-02, -8.8240e-02, -7.2105e-02,  5.0690e-02,  8.2052e-02,\n",
       "          -4.7737e-02,  1.8227e-02,  1.4368e-02, -9.3143e-02,  1.2295e-02,\n",
       "           3.0974e-02,  4.5884e-02, -6.9076e-02, -2.1205e-02, -2.4574e-02,\n",
       "           7.7284e-02, -2.3693e-06, -8.3475e-02, -1.4729e-03, -2.4938e-02,\n",
       "          -6.9416e-02,  9.0313e-03,  7.2955e-02,  2.4355e-02,  8.8937e-02,\n",
       "          -3.0034e-02, -9.4717e-02,  1.2109e-02,  1.0153e-02,  8.5237e-02,\n",
       "           9.4477e-02,  5.4016e-02, -7.0638e-03, -8.7277e-02, -8.7620e-02,\n",
       "          -3.5212e-03, -4.5480e-02, -2.2779e-02,  4.2959e-02, -7.7384e-02,\n",
       "           4.0384e-03,  8.8983e-02, -7.7741e-02,  5.2832e-03,  1.8791e-02,\n",
       "          -4.8741e-03, -9.2690e-02, -4.9323e-02, -3.5003e-02,  5.2471e-02,\n",
       "           9.6400e-02, -5.2725e-03,  6.6405e-03,  1.9497e-02,  8.4088e-02,\n",
       "           9.5135e-02, -6.1824e-02,  4.8632e-02,  1.8839e-03,  1.4814e-02,\n",
       "           5.9860e-02,  4.9413e-02, -2.1106e-02, -7.6948e-02,  5.9067e-03,\n",
       "          -4.4944e-02,  7.9235e-02, -1.0616e-02, -3.4938e-02,  7.3828e-02,\n",
       "          -8.4482e-02, -2.0372e-02, -2.0703e-02,  5.6110e-02, -8.1392e-02],\n",
       "         [ 7.7467e-02,  2.5145e-02, -2.8505e-02, -4.9628e-02, -6.6715e-04,\n",
       "           1.7237e-02, -1.6693e-02,  1.2240e-02,  3.6552e-02,  6.7439e-02,\n",
       "           8.3994e-03,  9.2611e-02,  4.5403e-02,  4.7345e-02,  1.1610e-03,\n",
       "          -2.8224e-02, -3.9766e-03, -4.7191e-02,  7.3835e-02,  7.3616e-02,\n",
       "           9.8310e-02, -1.7107e-02,  1.0600e-02,  3.2357e-02,  6.9693e-02,\n",
       "           3.9948e-02, -4.7330e-02, -1.9625e-02,  7.3671e-03, -2.0304e-03,\n",
       "          -5.7839e-02, -2.9623e-02, -7.6462e-02, -8.8859e-02,  5.1582e-02,\n",
       "           4.7526e-02, -8.9772e-02,  1.8646e-02, -5.2813e-02,  1.6475e-02,\n",
       "          -8.9336e-02,  8.4622e-02, -9.9900e-02, -8.3899e-02,  2.4298e-02,\n",
       "           4.0328e-02, -1.3658e-02,  8.7681e-03,  1.6093e-03, -2.9421e-02,\n",
       "           6.9327e-02, -5.7363e-03,  5.9552e-02, -3.5680e-02, -2.7097e-02,\n",
       "          -3.7800e-02,  5.5323e-02, -3.3316e-02, -3.7503e-02, -3.6230e-02,\n",
       "           1.1095e-02, -3.4463e-02, -7.1428e-03,  2.9175e-03, -2.1250e-02,\n",
       "          -6.2865e-02, -9.1334e-02, -3.2546e-02, -5.8927e-02, -8.8811e-02,\n",
       "          -7.1629e-02,  1.5490e-02,  3.6832e-02, -6.1421e-02,  3.6568e-02,\n",
       "           2.0946e-02,  4.3533e-04, -3.1745e-04,  4.8185e-02, -9.8902e-02,\n",
       "           3.3012e-02,  4.3936e-02, -3.6676e-03, -5.0916e-02,  2.0025e-02,\n",
       "          -9.2865e-02,  8.4864e-02, -9.6881e-02,  2.4349e-02,  4.1851e-02,\n",
       "          -6.0431e-02, -6.7436e-02, -5.5449e-02, -8.1736e-02, -8.4239e-02,\n",
       "           6.5768e-02,  9.5762e-02,  7.7697e-03,  3.2498e-02,  1.8769e-02],\n",
       "         [-7.7234e-02,  3.5254e-02,  5.3722e-02, -6.1180e-03,  7.9886e-02,\n",
       "           4.2214e-02, -3.2000e-02,  6.3989e-02, -5.2189e-02,  7.3960e-02,\n",
       "          -9.5012e-03, -6.9652e-03, -6.1679e-02,  8.8617e-02, -3.8595e-02,\n",
       "           6.6077e-02,  5.8794e-02,  7.9762e-02, -1.4349e-02, -6.3761e-02,\n",
       "          -4.0132e-02, -8.3730e-02, -5.3437e-02,  2.6896e-02,  3.1468e-02,\n",
       "          -9.4917e-02,  4.4775e-02,  2.9915e-02, -1.5710e-02, -6.6432e-03,\n",
       "          -8.0828e-02,  9.9317e-02, -1.2087e-02, -6.0620e-02, -5.6995e-02,\n",
       "           4.9558e-02,  3.6603e-02,  6.6739e-02, -3.9964e-02, -4.7672e-02,\n",
       "          -6.2848e-02,  4.8633e-02,  1.3904e-02, -6.4901e-04,  3.8453e-03,\n",
       "          -3.8612e-02,  7.1488e-02, -5.3516e-02, -7.2362e-03, -2.6815e-02,\n",
       "           8.1778e-02,  6.4766e-02, -1.0110e-02, -5.0043e-02, -8.4299e-02,\n",
       "           2.7065e-02,  1.8680e-02,  3.0929e-02,  7.0589e-02,  7.5248e-02,\n",
       "           3.8879e-02, -1.3257e-02,  3.4260e-02, -9.5736e-02, -5.3957e-02,\n",
       "          -5.3659e-02, -9.5002e-02, -3.4962e-02, -9.1546e-02, -7.3226e-02,\n",
       "          -2.2400e-02, -5.2536e-02,  3.3844e-02, -8.2323e-02,  1.6163e-02,\n",
       "           5.6028e-02, -6.9401e-03,  5.5911e-02,  7.9791e-02, -2.4233e-02,\n",
       "          -2.6952e-02, -6.4032e-02, -7.3808e-02, -7.9428e-02,  2.2817e-02,\n",
       "          -6.3363e-03, -7.0750e-02, -2.5589e-03,  9.3453e-02, -6.5538e-02,\n",
       "           2.8723e-02,  6.0061e-02,  8.6797e-02, -5.8734e-02, -4.1553e-02,\n",
       "          -8.0422e-02, -3.2794e-02, -6.5057e-02,  8.0613e-02, -3.4395e-02],\n",
       "         [ 4.0133e-03, -1.9454e-02,  9.2521e-02,  2.4617e-02,  9.9687e-02,\n",
       "           1.9977e-02,  2.1507e-02, -3.3995e-03, -1.9458e-02, -8.1094e-02,\n",
       "          -1.5449e-02, -6.5923e-02,  5.5382e-02, -4.6555e-02,  5.8207e-02,\n",
       "           6.4647e-02, -3.6879e-02,  5.3063e-02, -4.8562e-02, -2.2234e-02,\n",
       "          -5.3847e-03, -6.8498e-02, -6.7508e-03,  9.3305e-03,  8.2905e-02,\n",
       "           7.2518e-02, -3.0660e-02,  2.6662e-02,  4.4300e-02, -9.5980e-02,\n",
       "          -9.0018e-02, -4.2955e-02,  5.3514e-02, -9.6202e-02,  4.1243e-02,\n",
       "           1.9262e-02,  4.6183e-02,  6.0258e-02,  1.4735e-02, -8.7270e-02,\n",
       "          -5.2891e-02, -8.6535e-02, -3.9697e-02,  2.3052e-02, -9.6058e-02,\n",
       "          -6.4178e-03, -6.1579e-02, -5.5453e-02,  8.2252e-02,  7.9499e-03,\n",
       "           3.4250e-02, -1.3256e-02,  6.0357e-02, -6.4623e-03,  3.0319e-02,\n",
       "           3.0651e-02, -5.9559e-02, -2.7501e-02, -2.6959e-02,  2.6027e-02,\n",
       "           6.5244e-02,  3.1159e-02, -5.0428e-02,  7.6245e-02, -9.9476e-02,\n",
       "           9.9037e-02,  3.0103e-02,  7.7195e-02,  7.5083e-02, -8.0556e-02,\n",
       "          -5.9098e-03,  3.9532e-02, -2.2011e-02, -5.0708e-02, -6.7743e-03,\n",
       "           3.3248e-03,  6.3890e-03,  6.6742e-03, -6.9074e-02,  1.5363e-02,\n",
       "           3.3844e-02,  6.7053e-02,  6.2151e-02,  8.7882e-02, -2.0788e-02,\n",
       "           7.8089e-03,  6.9834e-02, -5.9688e-02, -9.5387e-03, -7.8729e-02,\n",
       "           1.8662e-02, -6.9959e-02, -5.6884e-02, -9.2396e-02, -7.0560e-02,\n",
       "          -9.9349e-02,  1.7902e-02, -3.8428e-02, -1.8369e-03,  3.5665e-03],\n",
       "         [ 5.4938e-02, -3.0843e-02,  5.0991e-02,  9.5647e-02,  3.1843e-02,\n",
       "           8.9039e-02, -5.7721e-02,  9.6092e-02,  2.1274e-02,  9.9912e-02,\n",
       "          -7.5524e-02, -1.6948e-02,  3.2076e-02,  2.4488e-02,  2.4673e-02,\n",
       "          -7.0532e-02, -5.1580e-02, -6.6115e-02, -3.5478e-02,  9.3325e-02,\n",
       "          -9.0413e-02, -9.0474e-03, -5.7860e-02,  2.0881e-02,  8.3210e-02,\n",
       "          -3.3508e-02, -3.2608e-02, -6.0821e-02, -5.4346e-02, -3.3183e-02,\n",
       "           1.8389e-02,  6.9894e-02, -9.8981e-02,  1.3170e-02,  2.9543e-02,\n",
       "           4.7429e-02,  1.2478e-02,  8.0264e-02, -3.3096e-02, -2.2585e-02,\n",
       "          -4.3920e-02,  4.8538e-02, -4.3359e-02, -6.9197e-02,  7.1748e-02,\n",
       "           3.4827e-02, -6.4994e-02,  3.9455e-02, -2.9542e-02,  9.9538e-02,\n",
       "           2.5441e-02,  4.6112e-04,  4.4300e-02,  3.3059e-03,  1.1156e-02,\n",
       "          -9.7230e-02,  4.6761e-02, -2.3320e-03, -1.9558e-02, -7.5424e-02,\n",
       "          -4.1720e-02,  5.1482e-02, -5.6848e-02, -5.7719e-02,  6.8744e-02,\n",
       "           3.8403e-02,  3.9335e-02, -4.7995e-02, -3.0935e-03,  8.6772e-02,\n",
       "          -3.3713e-02,  3.0774e-02,  6.1801e-02, -8.0893e-03,  6.0799e-02,\n",
       "          -4.2672e-02,  6.8378e-02, -5.6693e-02,  9.5596e-02,  9.0189e-02,\n",
       "          -5.5029e-02,  2.8025e-02, -2.6791e-02,  3.6507e-02, -5.3717e-02,\n",
       "          -2.4735e-02,  4.1081e-03, -9.4780e-02,  8.6639e-02,  5.7620e-02,\n",
       "          -6.9433e-02,  2.7625e-02, -4.0690e-03,  1.0198e-02,  5.7411e-02,\n",
       "           9.5056e-02,  3.1794e-02,  2.7039e-02,  4.2262e-02, -1.2956e-02],\n",
       "         [-6.7059e-02,  7.8738e-02, -1.1158e-02, -8.3459e-02,  8.0223e-02,\n",
       "          -6.6884e-02,  3.6513e-03,  1.4449e-02,  2.7352e-02, -7.2535e-02,\n",
       "          -8.0406e-02,  8.3783e-02,  3.9965e-02, -6.8956e-02,  5.1250e-03,\n",
       "           9.1006e-02, -7.9549e-02,  4.3433e-02, -6.4128e-02,  5.0883e-02,\n",
       "          -1.8031e-02,  3.6670e-03, -2.0022e-03, -4.4193e-02,  3.6334e-02,\n",
       "          -8.5041e-02,  7.0440e-02, -1.9370e-02, -6.5178e-02,  5.9689e-02,\n",
       "          -5.7655e-02, -4.4242e-02, -4.1396e-02,  7.1615e-02, -6.7409e-02,\n",
       "          -7.0245e-02, -3.1532e-02,  9.7617e-02, -4.5762e-02, -1.1095e-02,\n",
       "           2.3366e-02,  4.3882e-02,  1.3468e-02,  1.3566e-02,  9.6081e-02,\n",
       "           8.6589e-02, -7.1880e-02, -9.7902e-02, -1.5117e-02, -2.5391e-02,\n",
       "           8.1429e-02, -1.8502e-02,  1.8655e-03,  5.4984e-03, -8.7421e-02,\n",
       "          -6.3533e-02, -3.6966e-02, -1.5320e-02,  1.7479e-02, -6.0149e-02,\n",
       "           6.3262e-02,  4.9205e-02,  5.7707e-02,  9.7080e-03, -9.5907e-02,\n",
       "          -7.1864e-02, -5.3517e-02, -4.7043e-02, -9.2399e-02,  2.9915e-02,\n",
       "          -5.7727e-02, -8.4719e-02,  2.4133e-02,  2.0139e-02, -5.0061e-02,\n",
       "           6.9809e-02,  2.2157e-02, -7.2295e-02, -4.2861e-02, -3.4287e-02,\n",
       "           1.0572e-02, -6.3725e-02,  4.5628e-02, -4.3355e-02,  8.3308e-02,\n",
       "          -8.2718e-03,  7.7302e-02, -4.1410e-02,  6.9197e-02,  2.3878e-02,\n",
       "          -3.2079e-02,  9.3821e-02, -9.4957e-02,  2.0106e-02, -9.8616e-02,\n",
       "           7.4092e-02,  5.8663e-02, -8.4147e-02, -5.6060e-02, -9.9535e-02]],\n",
       "        requires_grad=True),\n",
       " Parameter containing:\n",
       " tensor([ 0.0090, -0.0549, -0.0521, -0.0057, -0.0212, -0.0027,  0.0737,  0.0902,\n",
       "          0.0015,  0.0834], requires_grad=True)]"
      ]
     },
     "execution_count": 99,
     "metadata": {},
     "output_type": "execute_result"
    }
   ],
   "execution_count": 99
  },
  {
   "cell_type": "code",
   "execution_count": 22,
   "metadata": {
    "ExecuteTime": {
     "end_time": "2024-07-17T03:06:34.677508500Z",
     "start_time": "2024-07-17T03:06:34.619793100Z"
    }
   },
   "outputs": [],
   "source": [
    "# model.state_dict()  # 这种方法用于保存模型参数，看能看见参数属于模型的哪一部分"
   ]
  },
  {
   "cell_type": "markdown",
   "metadata": {},
   "source": [
    "## 训练\n",
    "\n",
    "pytorch的训练需要自行实现，包括\n",
    "1. 定义损失函数\n",
    "2. 定义优化器\n",
    "3. 定义训练步\n",
    "4. 训练"
   ]
  },
  {
   "cell_type": "code",
   "metadata": {
    "ExecuteTime": {
     "end_time": "2025-07-25T19:19:38.369425Z",
     "start_time": "2025-07-25T19:19:38.284399Z"
    }
   },
   "source": [
    "# 1. 定义损失函数 采用交叉熵损失\n",
    "loss_fct = nn.CrossEntropyLoss() #内部先做softmax，然后计算交叉熵\n",
    "# 2. 定义优化器 采用SGD\n",
    "# Optimizers specified in the torch.optim package,随机梯度下降\n",
    "optimizer = torch.optim.SGD(model.parameters(), lr=0.001, momentum=0.9)#学习率0.001，动量0.9"
   ],
   "outputs": [],
   "execution_count": 100
  },
  {
   "cell_type": "code",
   "metadata": {
    "ExecuteTime": {
     "end_time": "2025-07-25T19:20:09.737885Z",
     "start_time": "2025-07-25T19:20:08.971597Z"
    }
   },
   "source": [
    "from sklearn.metrics import accuracy_score\n",
    "\n",
    "@torch.no_grad() # 装饰器，禁止反向传播，节省内存\n",
    "def evaluating(model, dataloader, loss_fct):\n",
    "    loss_list = [] # 记录损失\n",
    "    pred_list = [] # 记录预测\n",
    "    label_list = [] # 记录标签\n",
    "    for datas, labels in dataloader:#10000/32=312\n",
    "        datas = datas.to(device) # 转到GPU\n",
    "        labels = labels.to(device) # 转到GPU\n",
    "        # 前向计算\n",
    "        logits = model(datas)\n",
    "        loss = loss_fct(logits, labels)         # 验证集损失\n",
    "        loss_list.append(loss.item()) # 记录损失\n",
    "        \n",
    "        preds = logits.argmax(axis=-1)    # 验证集预测,argmax返回最大值索引\n",
    "        # print(preds)\n",
    "        pred_list.extend(preds.cpu().numpy().tolist())#将PyTorch张量转换为NumPy数组。只有当张量在CPU上时，这个转换才是合法的\n",
    "        # print(preds.cpu().numpy().tolist())\n",
    "        label_list.extend(labels.cpu().numpy().tolist())\n",
    "        \n",
    "    acc = accuracy_score(label_list, pred_list) # 计算准确率\n",
    "    return np.mean(loss_list), acc\n"
   ],
   "outputs": [],
   "execution_count": 101
  },
  {
   "cell_type": "code",
   "source": "1875*20 # 训练集样本数*每个样本的batch_size",
   "metadata": {
    "collapsed": false,
    "ExecuteTime": {
     "end_time": "2025-07-25T19:20:55.093491Z",
     "start_time": "2025-07-25T19:20:55.079371Z"
    }
   },
   "outputs": [
    {
     "data": {
      "text/plain": [
       "37500"
      ]
     },
     "execution_count": 102,
     "metadata": {},
     "output_type": "execute_result"
    }
   ],
   "execution_count": 102
  },
  {
   "cell_type": "code",
   "metadata": {
    "ExecuteTime": {
     "end_time": "2025-07-25T19:27:27.375207Z",
     "start_time": "2025-07-25T19:21:26.060373Z"
    }
   },
   "source": [
    "# 训练\n",
    "def training(model, train_loader, val_loader, epoch, loss_fct, optimizer, eval_step=500):\n",
    "    record_dict = {\n",
    "        \"train\": [],\n",
    "        \"val\": []\n",
    "    }\n",
    "    \n",
    "    global_step = 0\n",
    "    model.train()\n",
    "    with tqdm(total=epoch * len(train_loader)) as pbar: # 进度条 1875*20,60000/32=1875\n",
    "        for epoch_id in range(epoch): # 训练epoch次\n",
    "            # training\n",
    "            for datas, labels in train_loader: #执行次数是60000/32=1875\n",
    "                datas = datas.to(device) #datas尺寸是[batch_size,1,28,28]\n",
    "                labels = labels.to(device) #labels尺寸是[batch_size]\n",
    "                # 梯度清空\n",
    "                optimizer.zero_grad()\n",
    "                # 模型前向计算\n",
    "                logits = model(datas)\n",
    "                # 计算损失\n",
    "                loss = loss_fct(logits, labels)\n",
    "                # 梯度回传，loss.backward()会计算梯度，loss对模型参数求导\n",
    "                loss.backward()\n",
    "                # 调整优化器，包括学习率的变动等,优化器的学习率会随着训练的进行而减小，更新w,b\n",
    "                optimizer.step() #梯度是计算并存储在模型参数的 .grad 属性中，优化器使用这些存储的梯度来更新模型参数\n",
    "\n",
    "                preds = logits.argmax(axis=-1) # 训练集预测\n",
    "                acc = accuracy_score(labels.cpu().numpy(), preds.cpu().numpy())   # 计算准确率，numpy可以\n",
    "                loss = loss.cpu().item() # 损失转到CPU，item()取值,一个数值\n",
    "                # record\n",
    "                \n",
    "                record_dict[\"train\"].append({\n",
    "                    \"loss\": loss, \"acc\": acc, \"step\": global_step\n",
    "                }) # 记录训练集信息，每一步的损失，准确率，步数\n",
    "                \n",
    "                # evaluating\n",
    "                if global_step % eval_step == 0:\n",
    "                    model.eval() # 进入评估模式\n",
    "                    val_loss, val_acc = evaluating(model, val_loader, loss_fct)\n",
    "                    record_dict[\"val\"].append({\n",
    "                        \"loss\": val_loss, \"acc\": val_acc, \"step\": global_step\n",
    "                    })\n",
    "                    model.train() # 进入训练模式\n",
    "\n",
    "                # udate step\n",
    "                global_step += 1 # 全局步数加1\n",
    "                pbar.update(1) # 更新进度条\n",
    "                pbar.set_postfix({\"epoch\": epoch_id}) # 设置进度条显示信息\n",
    "        \n",
    "    return record_dict\n",
    "        \n",
    "\n",
    "epoch = 20 #改为40\n",
    "model = model.to(device)\n",
    "record = training(model, train_loader, val_loader, epoch, loss_fct, optimizer, eval_step=1000)"
   ],
   "outputs": [
    {
     "data": {
      "text/plain": [
       "  0%|          | 0/37500 [00:00<?, ?it/s]"
      ],
      "application/vnd.jupyter.widget-view+json": {
       "version_major": 2,
       "version_minor": 0,
       "model_id": "38dc76423ae342f69c21fb05063af810"
      }
     },
     "metadata": {},
     "output_type": "display_data"
    }
   ],
   "execution_count": 103
  },
  {
   "cell_type": "code",
   "source": [
    "record[\"train\"][-5:]"
   ],
   "metadata": {
    "collapsed": false,
    "ExecuteTime": {
     "end_time": "2025-07-25T19:29:35.108489Z",
     "start_time": "2025-07-25T19:29:35.072975Z"
    }
   },
   "outputs": [
    {
     "data": {
      "text/plain": [
       "[{'loss': 0.4809505343437195, 'acc': 0.78125, 'step': 37495},\n",
       " {'loss': 0.3801080286502838, 'acc': 0.84375, 'step': 37496},\n",
       " {'loss': 0.22446662187576294, 'acc': 0.90625, 'step': 37497},\n",
       " {'loss': 0.17540034651756287, 'acc': 0.9375, 'step': 37498},\n",
       " {'loss': 0.28909844160079956, 'acc': 0.9375, 'step': 37499}]"
      ]
     },
     "execution_count": 104,
     "metadata": {},
     "output_type": "execute_result"
    }
   ],
   "execution_count": 104
  },
  {
   "cell_type": "code",
   "source": [
    "record[\"val\"][-5:]"
   ],
   "metadata": {
    "collapsed": false,
    "ExecuteTime": {
     "end_time": "2025-07-25T19:29:46.863040Z",
     "start_time": "2025-07-25T19:29:46.855437Z"
    }
   },
   "outputs": [
    {
     "data": {
      "text/plain": [
       "[{'loss': 0.35770600850875384, 'acc': 0.872, 'step': 33000},\n",
       " {'loss': 0.3561726628710477, 'acc': 0.8711, 'step': 34000},\n",
       " {'loss': 0.35410533199152244, 'acc': 0.873, 'step': 35000},\n",
       " {'loss': 0.3570520611116871, 'acc': 0.8732, 'step': 36000},\n",
       " {'loss': 0.3520363474282594, 'acc': 0.8749, 'step': 37000}]"
      ]
     },
     "execution_count": 105,
     "metadata": {},
     "output_type": "execute_result"
    }
   ],
   "execution_count": 105
  },
  {
   "cell_type": "code",
   "metadata": {
    "ExecuteTime": {
     "end_time": "2025-07-25T19:31:15.868606Z",
     "start_time": "2025-07-25T19:31:14.745310Z"
    }
   },
   "source": [
    "#画线要注意的是损失是不一定在零到1之间的\n",
    "def plot_learning_curves(record_dict, sample_step=1000):\n",
    "    # build DataFrame\n",
    "    train_df = pd.DataFrame(record_dict[\"train\"]).set_index(\"step\").iloc[::sample_step]\n",
    "    val_df = pd.DataFrame(record_dict[\"val\"]).set_index(\"step\")\n",
    "    last_step = train_df.index[-1] # 最后一步的步数\n",
    "    # print(train_df.columns)\n",
    "    print(train_df['acc'])\n",
    "    print(val_df['acc'])\n",
    "    # plot\n",
    "    fig_num = len(train_df.columns) # 画几张图,分别是损失和准确率\n",
    "    fig, axs = plt.subplots(1, fig_num, figsize=(5 * fig_num, 5))\n",
    "    for idx, item in enumerate(train_df.columns):\n",
    "        # print(train_df[item].values)\n",
    "        axs[idx].plot(train_df.index, train_df[item], label=f\"train_{item}\")\n",
    "        axs[idx].plot(val_df.index, val_df[item], label=f\"val_{item}\")\n",
    "        axs[idx].grid() # 显示网格\n",
    "        axs[idx].legend() # 显示图例\n",
    "        axs[idx].set_xticks(range(0, train_df.index[-1], 5000)) # 设置x轴刻度\n",
    "        axs[idx].set_xticklabels(map(lambda x: f\"{int(x/1000)}k\", range(0, last_step, 5000))) # 设置x轴标签\n",
    "        axs[idx].set_xlabel(\"step\")\n",
    "    \n",
    "    plt.show()\n",
    "\n",
    "plot_learning_curves(record)  #横坐标是 steps"
   ],
   "outputs": [
    {
     "name": "stdout",
     "output_type": "stream",
     "text": [
      "step\n",
      "0        0.03125\n",
      "1000     0.62500\n",
      "2000     0.56250\n",
      "3000     0.81250\n",
      "4000     0.87500\n",
      "5000     0.93750\n",
      "6000     0.84375\n",
      "7000     0.87500\n",
      "8000     0.71875\n",
      "9000     0.81250\n",
      "10000    0.90625\n",
      "11000    0.78125\n",
      "12000    0.96875\n",
      "13000    0.93750\n",
      "14000    0.93750\n",
      "15000    0.84375\n",
      "16000    0.81250\n",
      "17000    0.81250\n",
      "18000    0.87500\n",
      "19000    0.90625\n",
      "20000    0.87500\n",
      "21000    0.90625\n",
      "22000    0.78125\n",
      "23000    0.87500\n",
      "24000    0.87500\n",
      "25000    0.90625\n",
      "26000    0.87500\n",
      "27000    0.90625\n",
      "28000    0.81250\n",
      "29000    0.81250\n",
      "30000    0.93750\n",
      "31000    0.84375\n",
      "32000    0.93750\n",
      "33000    0.96875\n",
      "34000    0.84375\n",
      "35000    0.90625\n",
      "36000    0.93750\n",
      "37000    0.90625\n",
      "Name: acc, dtype: float64\n",
      "step\n",
      "0        0.0993\n",
      "1000     0.6841\n",
      "2000     0.7606\n",
      "3000     0.7934\n",
      "4000     0.8079\n",
      "5000     0.8166\n",
      "6000     0.8210\n",
      "7000     0.8286\n",
      "8000     0.8334\n",
      "9000     0.8357\n",
      "10000    0.8375\n",
      "11000    0.8431\n",
      "12000    0.8466\n",
      "13000    0.8425\n",
      "14000    0.8434\n",
      "15000    0.8517\n",
      "16000    0.8576\n",
      "17000    0.8555\n",
      "18000    0.8460\n",
      "19000    0.8535\n",
      "20000    0.8537\n",
      "21000    0.8541\n",
      "22000    0.8574\n",
      "23000    0.8621\n",
      "24000    0.8628\n",
      "25000    0.8672\n",
      "26000    0.8649\n",
      "27000    0.8659\n",
      "28000    0.8685\n",
      "29000    0.8679\n",
      "30000    0.8705\n",
      "31000    0.8683\n",
      "32000    0.8742\n",
      "33000    0.8720\n",
      "34000    0.8711\n",
      "35000    0.8730\n",
      "36000    0.8732\n",
      "37000    0.8749\n",
      "Name: acc, dtype: float64\n"
     ]
    },
    {
     "data": {
      "text/plain": [
       "<Figure size 1000x500 with 2 Axes>"
      ],
      "image/png": "[encoded data removed]"
     },
     "metadata": {},
     "output_type": "display_data"
    }
   ],
   "execution_count": 106
  },
  {
   "cell_type": "markdown",
   "metadata": {},
   "source": [
    "## 评估"
   ]
  },
  {
   "cell_type": "code",
   "metadata": {
    "ExecuteTime": {
     "end_time": "2025-07-25T19:31:48.855777Z",
     "start_time": "2025-07-25T19:31:46.043902Z"
    }
   },
   "source": [
    "# dataload for evaluating\n",
    "\n",
    "model.eval() # 进入评估模式\n",
    "loss, acc = evaluating(model, val_loader, loss_fct)\n",
    "print(f\"loss:     {loss:.4f}\\naccuracy: {acc:.4f}\")"
   ],
   "outputs": [
    {
     "name": "stdout",
     "output_type": "stream",
     "text": [
      "loss:     0.3593\n",
      "accuracy: 0.8723\n"
     ]
    }
   ],
   "execution_count": 107
  },
  {
   "metadata": {
    "ExecuteTime": {
     "end_time": "2025-07-25T19:32:05.970340Z",
     "start_time": "2025-07-25T19:32:05.751479Z"
    }
   },
   "cell_type": "code",
   "source": [
    "# 保存模型\n",
    "torch.save(model.state_dict(), \"fashion_mnist_classification.pth\")"
   ],
   "outputs": [],
   "execution_count": 108
  },
  {
   "metadata": {},
   "cell_type": "markdown",
   "source": ""
  }
 ],
 "metadata": {
  "kernelspec": {
   "display_name": "Python 3 (ipykernel)",
   "language": "python",
   "name": "python3"
  },
  "language_info": {
   "codemirror_mode": {
    "name": "ipython",
    "version": 3
   },
   "file_extension": ".py",
   "mimetype": "text/x-python",
   "name": "python",
   "nbconvert_exporter": "python",
   "pygments_lexer": "ipython3",
   "version": "3.9.7"
  }
 },
 "nbformat": 4,
 "nbformat_minor": 2
}
