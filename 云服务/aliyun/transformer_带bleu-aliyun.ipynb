{
 "cells": [
  {
   "cell_type": "code",
   "execution_count": 1,
   "metadata": {
    "ExecuteTime": {
     "end_time": "2024-08-05T08:06:22.531537Z",
     "start_time": "2024-08-05T08:06:12.808806Z"
    },
    "colab": {
     "base_uri": "https://localhost:8080/"
    },
    "execution": {
     "iopub.execute_input": "2025-08-06T23:21:51.378596Z",
     "iopub.status.busy": "2025-08-06T23:21:51.378436Z",
     "iopub.status.idle": "2025-08-06T23:21:53.630166Z",
     "shell.execute_reply": "2025-08-06T23:21:53.629645Z",
     "shell.execute_reply.started": "2025-08-06T23:21:51.378574Z"
    },
    "id": "JHSdxPJuN4x7",
    "outputId": "a74dc274-dd24-4415-a3e4-1fcff4e437a2",
    "tags": []
   },
   "outputs": [
    {
     "name": "stdout",
     "output_type": "stream",
     "text": [
      "sys.version_info(major=3, minor=10, micro=12, releaselevel='final', serial=0)\n",
      "matplotlib 3.7.5\n",
      "numpy 1.26.4\n",
      "pandas 2.2.3\n",
      "sklearn 1.6.0\n",
      "torch 2.7.1+cu126\n",
      "cuda:0\n"
     ]
    }
   ],
   "source": [
    "import matplotlib as mpl\n",
    "import matplotlib.pyplot as plt\n",
    "%matplotlib inline\n",
    "import numpy as np\n",
    "import sklearn\n",
    "import pandas as pd\n",
    "import os\n",
    "import sys\n",
    "import time\n",
    "from tqdm.auto import tqdm\n",
    "import torch\n",
    "import torch.nn as nn\n",
    "import torch.nn.functional as F\n",
    "\n",
    "print(sys.version_info)\n",
    "for module in mpl, np, pd, sklearn, torch:\n",
    "    print(module.__name__, module.__version__)\n",
    "\n",
    "device = torch.device(\"cuda:0\") if torch.cuda.is_available() else torch.device(\"cpu\")\n",
    "print(device)\n",
    "\n",
    "seed = 42\n",
    "torch.manual_seed(seed)\n",
    "torch.cuda.manual_seed_all(seed)\n",
    "np.random.seed(seed)\n"
   ]
  },
  {
   "cell_type": "code",
   "execution_count": 2,
   "metadata": {
    "ExecuteTime": {
     "end_time": "2024-08-05T08:06:22.541540Z",
     "start_time": "2024-08-05T08:06:22.530536400Z"
    },
    "colab": {
     "base_uri": "https://localhost:8080/"
    },
    "execution": {
     "iopub.execute_input": "2025-08-06T23:21:53.631398Z",
     "iopub.status.busy": "2025-08-06T23:21:53.631114Z",
     "iopub.status.idle": "2025-08-06T23:21:53.633644Z",
     "shell.execute_reply": "2025-08-06T23:21:53.633143Z",
     "shell.execute_reply.started": "2025-08-06T23:21:53.631377Z"
    },
    "id": "yQQEArYqWylq",
    "outputId": "bc80eeee-442a-4ff2-f69e-348314f84bce"
   },
   "outputs": [],
   "source": [
    "#挂载谷歌云盘\n",
    "\n",
    "# from google.colab import drive\n",
    "# drive.mount('/content/drive')"
   ]
  },
  {
   "cell_type": "code",
   "execution_count": 3,
   "metadata": {
    "ExecuteTime": {
     "end_time": "2024-08-05T08:06:22.552601Z",
     "start_time": "2024-08-05T08:06:22.536531800Z"
    },
    "execution": {
     "iopub.execute_input": "2025-08-06T23:21:53.634214Z",
     "iopub.status.busy": "2025-08-06T23:21:53.634045Z",
     "iopub.status.idle": "2025-08-06T23:21:53.636482Z",
     "shell.execute_reply": "2025-08-06T23:21:53.635989Z",
     "shell.execute_reply.started": "2025-08-06T23:21:53.634193Z"
    },
    "id": "wzS4AimwWz7f"
   },
   "outputs": [],
   "source": [
    "# !cp /content/drive/MyDrive/transformer-de-en/* . -r"
   ]
  },
  {
   "cell_type": "code",
   "execution_count": 4,
   "metadata": {
    "ExecutionIndicator": {
     "show": true
    },
    "execution": {
     "iopub.execute_input": "2025-08-06T23:21:53.637093Z",
     "iopub.status.busy": "2025-08-06T23:21:53.636936Z",
     "iopub.status.idle": "2025-08-06T23:21:53.639175Z",
     "shell.execute_reply": "2025-08-06T23:21:53.638700Z",
     "shell.execute_reply.started": "2025-08-06T23:21:53.637076Z"
    },
    "tags": []
   },
   "outputs": [],
   "source": [
    "# !rm -rf wmt16_cut/"
   ]
  },
  {
   "cell_type": "markdown",
   "metadata": {
    "id": "55aNBForN4x9"
   },
   "source": [
    "## 数据加载\n",
    "\n",
    "- 采用WMT16的德语和英语平行语料库，数据集主页：[WMT16](https://www.statmt.org/wmt16/multimodal-task.html#task1)"
   ]
  },
  {
   "cell_type": "code",
   "execution_count": 5,
   "metadata": {
    "ExecuteTime": {
     "end_time": "2024-08-05T08:06:22.608302700Z",
     "start_time": "2024-08-05T08:06:22.548590200Z"
    },
    "ExecutionIndicator": {
     "show": true
    },
    "colab": {
     "base_uri": "https://localhost:8080/"
    },
    "execution": {
     "iopub.execute_input": "2025-08-06T23:21:53.639804Z",
     "iopub.status.busy": "2025-08-06T23:21:53.639644Z",
     "iopub.status.idle": "2025-08-06T23:21:53.641786Z",
     "shell.execute_reply": "2025-08-06T23:21:53.641315Z",
     "shell.execute_reply.started": "2025-08-06T23:21:53.639786Z"
    },
    "id": "SkjBEbr1N4x-",
    "outputId": "4b9817d0-616b-41a0-ceb7-9ff6bf0f42a1",
    "tags": []
   },
   "outputs": [],
   "source": [
    "#和jieba分词类似\n",
    "# !pip install sacremoses\n",
    "# !pip install subword-nmt\n",
    "# # BPE分词\n"
   ]
  },
  {
   "cell_type": "code",
   "execution_count": 6,
   "metadata": {
    "ExecutionIndicator": {
     "show": true
    },
    "execution": {
     "iopub.execute_input": "2025-08-06T23:21:53.642391Z",
     "iopub.status.busy": "2025-08-06T23:21:53.642222Z",
     "iopub.status.idle": "2025-08-06T23:21:53.854720Z",
     "shell.execute_reply": "2025-08-06T23:21:53.854175Z",
     "shell.execute_reply.started": "2025-08-06T23:21:53.642373Z"
    },
    "tags": []
   },
   "outputs": [
    {
     "name": "stdout",
     "output_type": "stream",
     "text": [
      "/mnt/workspace/transform\n"
     ]
    }
   ],
   "source": [
    "!pwd"
   ]
  },
  {
   "cell_type": "code",
   "execution_count": 7,
   "metadata": {
    "ExecuteTime": {
     "end_time": "2024-08-05T08:06:22.609302200Z",
     "start_time": "2024-08-05T08:06:22.565115500Z"
    },
    "ExecutionIndicator": {
     "show": true
    },
    "colab": {
     "base_uri": "https://localhost:8080/"
    },
    "execution": {
     "iopub.execute_input": "2025-08-06T23:21:53.857348Z",
     "iopub.status.busy": "2025-08-06T23:21:53.857098Z",
     "iopub.status.idle": "2025-08-06T23:21:53.859733Z",
     "shell.execute_reply": "2025-08-06T23:21:53.859259Z",
     "shell.execute_reply.started": "2025-08-06T23:21:53.857324Z"
    },
    "id": "Tc8aCQX-XrGv",
    "outputId": "67964082-2737-4d47-dd66-455e4ae69660",
    "scrolled": true,
    "tags": []
   },
   "outputs": [],
   "source": [
    "# !sh data_multi30k.sh wmt16 de en"
   ]
  },
  {
   "cell_type": "markdown",
   "metadata": {
    "id": "Lvk4q0-1N4x-"
   },
   "source": [
    "Dataset"
   ]
  },
  {
   "cell_type": "code",
   "execution_count": 8,
   "metadata": {
    "ExecuteTime": {
     "end_time": "2024-08-05T08:06:22.811204Z",
     "start_time": "2024-08-05T08:06:22.581320400Z"
    },
    "ExecutionIndicator": {
     "show": true
    },
    "colab": {
     "base_uri": "https://localhost:8080/"
    },
    "execution": {
     "iopub.execute_input": "2025-08-06T23:21:53.860280Z",
     "iopub.status.busy": "2025-08-06T23:21:53.860107Z",
     "iopub.status.idle": "2025-08-06T23:21:54.019728Z",
     "shell.execute_reply": "2025-08-06T23:21:54.019216Z",
     "shell.execute_reply.started": "2025-08-06T23:21:53.860251Z"
    },
    "id": "zCXKEwspN4x_",
    "outputId": "3dcce6fa-932f-4b22-9dc8-398a4b402733",
    "scrolled": true,
    "tags": []
   },
   "outputs": [
    {
     "name": "stdout",
     "output_type": "stream",
     "text": [
      "save cache to wmt16/.cache/de2en_train_128.npy\n",
      "save cache to wmt16/.cache/de2en_val_128.npy\n"
     ]
    }
   ],
   "source": [
    "from pathlib import Path\n",
    "from torch.utils.data import Dataset, DataLoader\n",
    "\n",
    "\n",
    "\n",
    "class LangPairDataset(Dataset):\n",
    "\n",
    "    def __init__(\n",
    "        self, mode=\"train\", max_length=128, overwrite_cache=False, data_dir=\"wmt16\",\n",
    "    ):\n",
    "        self.data_dir = Path(data_dir)\n",
    "        cache_path = self.data_dir / \".cache\" / f\"de2en_{mode}_{max_length}.npy\"\n",
    "\n",
    "        if overwrite_cache or not cache_path.exists():\n",
    "            cache_path.parent.mkdir(parents=True, exist_ok=True)\n",
    "\n",
    "            with open(self.data_dir / f\"{mode}_src.bpe\", \"r\", encoding=\"utf8\") as file:\n",
    "                self.src = file.readlines() # 读取源语言文件所有行\n",
    "\n",
    "            with open(self.data_dir / f\"{mode}_trg.bpe\", \"r\", encoding=\"utf8\") as file:\n",
    "                self.trg = file.readlines() # 读取目标语言文件所有行\n",
    "\n",
    "            filtered_src = []\n",
    "            filtered_trg = []\n",
    "            # max length filter,超出最大长度的句子舍弃\n",
    "            for src, trg in zip(self.src, self.trg):\n",
    "                if len(src) <= max_length and len(trg) <= max_length: # 过滤长度超过最大长度的句子\n",
    "                    filtered_src.append(src.strip()) # 去掉句子前后的空格\n",
    "                    filtered_trg.append(trg.strip())\n",
    "            filtered_src = np.array(filtered_src)\n",
    "            filtered_trg = np.array(filtered_trg)\n",
    "            np.save(\n",
    "                cache_path,\n",
    "                {\"src\": filtered_src, \"trg\": filtered_trg },\n",
    "                allow_pickle=True,\n",
    "            )#allow_pickle=True允许保存对象数组，将过滤后的数据保存为 NumPy 数组，存储在缓存文件中\n",
    "            print(f\"save cache to {cache_path}\")\n",
    "\n",
    "        else:\n",
    "            cache_dict = np.load(cache_path, allow_pickle=True).item() #allow_pickle=True允许保存对象数组\n",
    "            print(f\"load {mode} dataset from {cache_path}\")\n",
    "            filtered_src = cache_dict[\"src\"]\n",
    "            filtered_trg = cache_dict[\"trg\"]\n",
    "\n",
    "        self.src = filtered_src\n",
    "        self.trg = filtered_trg\n",
    "\n",
    "    def __getitem__(self, index):#根据索引返回一个句子对 (源语言句子, 目标语言句子)\n",
    "        return self.src[index], self.trg[index]\n",
    "\n",
    "    def __len__(self):\n",
    "        return len(self.src)#返回数据集的大小（句子对数）\n",
    "\n",
    "\n",
    "train_ds = LangPairDataset(\"train\")\n",
    "val_ds = LangPairDataset(\"val\")"
   ]
  },
  {
   "cell_type": "code",
   "execution_count": 9,
   "metadata": {
    "ExecuteTime": {
     "end_time": "2024-08-05T08:06:22.820353700Z",
     "start_time": "2024-08-05T08:06:22.812366100Z"
    },
    "ExecutionIndicator": {
     "show": true
    },
    "execution": {
     "iopub.execute_input": "2025-08-06T23:21:54.020457Z",
     "iopub.status.busy": "2025-08-06T23:21:54.020269Z",
     "iopub.status.idle": "2025-08-06T23:21:54.230993Z",
     "shell.execute_reply": "2025-08-06T23:21:54.230318Z",
     "shell.execute_reply.started": "2025-08-06T23:21:54.020437Z"
    },
    "id": "yHB9TDpDQlv2",
    "tags": []
   },
   "outputs": [],
   "source": [
    "!rm wmt16/.cache -r"
   ]
  },
  {
   "cell_type": "code",
   "execution_count": 10,
   "metadata": {
    "ExecuteTime": {
     "end_time": "2024-08-05T08:06:22.869376300Z",
     "start_time": "2024-08-05T08:06:22.816345900Z"
    },
    "colab": {
     "base_uri": "https://localhost:8080/"
    },
    "execution": {
     "iopub.execute_input": "2025-08-06T23:21:54.231874Z",
     "iopub.status.busy": "2025-08-06T23:21:54.231675Z",
     "iopub.status.idle": "2025-08-06T23:21:54.236381Z",
     "shell.execute_reply": "2025-08-06T23:21:54.235855Z",
     "shell.execute_reply.started": "2025-08-06T23:21:54.231853Z"
    },
    "id": "meHHXL3MN4x_",
    "outputId": "a001c071-7021-4dff-8bc0-3e5da01d7210",
    "tags": []
   },
   "outputs": [
    {
     "data": {
      "text/plain": [
       "27465"
      ]
     },
     "execution_count": 10,
     "metadata": {},
     "output_type": "execute_result"
    }
   ],
   "source": [
    "len(train_ds) #少了1000多个样本"
   ]
  },
  {
   "cell_type": "code",
   "execution_count": 11,
   "metadata": {
    "ExecuteTime": {
     "end_time": "2024-08-05T08:06:22.870386300Z",
     "start_time": "2024-08-05T08:06:22.844639700Z"
    },
    "colab": {
     "base_uri": "https://localhost:8080/"
    },
    "execution": {
     "iopub.execute_input": "2025-08-06T23:21:54.237015Z",
     "iopub.status.busy": "2025-08-06T23:21:54.236849Z",
     "iopub.status.idle": "2025-08-06T23:21:54.239740Z",
     "shell.execute_reply": "2025-08-06T23:21:54.239289Z",
     "shell.execute_reply.started": "2025-08-06T23:21:54.236997Z"
    },
    "id": "LZvJV37NN4x_",
    "outputId": "43909dbd-cf15-447b-e8b6-a07de381ad0a",
    "tags": []
   },
   "outputs": [
    {
     "name": "stdout",
     "output_type": "stream",
     "text": [
      "source: ein älterer mann sitzt mit einem jungen mit einem wagen vor einer fa@@ ss@@ ade .\n",
      "target: an elderly man sits outside a storefront accompanied by a young boy with a cart .\n"
     ]
    }
   ],
   "source": [
    "print(\"source: {}\\ntarget: {}\".format(*train_ds[-1]))"
   ]
  },
  {
   "cell_type": "markdown",
   "metadata": {
    "id": "TE8gRzYQN4yA"
   },
   "source": [
    "### Tokenizer\n",
    "\n",
    "这里有两种处理方式，分别对应着 encoder 和 decoder 的 word embedding 是否共享，这里实现共享的方案"
   ]
  },
  {
   "cell_type": "code",
   "execution_count": 12,
   "metadata": {
    "ExecuteTime": {
     "end_time": "2024-08-05T08:06:23.012615500Z",
     "start_time": "2024-08-05T08:06:22.857384400Z"
    },
    "colab": {
     "base_uri": "https://localhost:8080/",
     "height": 66,
     "referenced_widgets": [
      "7190c928edb040c3a523cdd2e3f45572",
      "990741ff083d457587665d8f620b69c3",
      "00fe6a550df547cea5b1e0d84c1a3f5f",
      "fab8b1e3187841ee894b92859fa4821b",
      "f9b0d916e1a64c2a9f384e42f3d5dcab",
      "a78199650ecc47bd81f482a2671b563a",
      "673bd3773a374261a01cfc48081c27f3",
      "83f345f7424c43929d7a304cbfb6d0fe",
      "58d69d086f644e89937347e1f9261d6f",
      "8cf462fa996c41b18fb4571e0a757363",
      "434ac4c51db74681942d2d3bd869b1df"
     ]
    },
    "execution": {
     "iopub.execute_input": "2025-08-06T23:21:54.240269Z",
     "iopub.status.busy": "2025-08-06T23:21:54.240103Z",
     "iopub.status.idle": "2025-08-06T23:21:54.262856Z",
     "shell.execute_reply": "2025-08-06T23:21:54.262405Z",
     "shell.execute_reply.started": "2025-08-06T23:21:54.240241Z"
    },
    "id": "yAmlq_9YN4yA",
    "outputId": "263a89f7-9bee-4c6d-cf7a-7d82b0a81f92",
    "tags": []
   },
   "outputs": [
    {
     "data": {
      "application/vnd.jupyter.widget-view+json": {
       "model_id": "cb43698b8f3741d696d2d14dcd80aee1",
       "version_major": 2,
       "version_minor": 0
      },
      "text/plain": [
       "  0%|          | 0/9714 [00:00<?, ?it/s]"
      ]
     },
     "metadata": {},
     "output_type": "display_data"
    },
    {
     "name": "stdout",
     "output_type": "stream",
     "text": [
      "vocab_size: 9718\n"
     ]
    }
   ],
   "source": [
    "#载入词表，看下词表长度，词表就像英语字典,构建word2idx和idx2word\n",
    "word2idx = {\n",
    "    \"[PAD]\": 0,     # 填充 token\n",
    "    \"[BOS]\": 1,     # begin of sentence\n",
    "    \"[UNK]\": 2,     # 未知 token\n",
    "    \"[EOS]\": 3,     # end of sentence\n",
    "}\n",
    "idx2word = {value: key for key, value in word2idx.items()}\n",
    "index = len(idx2word)\n",
    "threshold = 1  # 出现次数低于此的token舍弃\n",
    "\n",
    "with open(\"wmt16/vocab\", \"r\", encoding=\"utf8\") as file:\n",
    "    for line in tqdm(file.readlines()):\n",
    "        token, counts = line.strip().split()\n",
    "        if int(counts) >= threshold:\n",
    "            word2idx[token] = index\n",
    "            idx2word[index] = token\n",
    "            index += 1\n",
    "\n",
    "vocab_size = len(word2idx)\n",
    "print(\"vocab_size: {}\".format(vocab_size))"
   ]
  },
  {
   "cell_type": "code",
   "execution_count": 13,
   "metadata": {
    "ExecuteTime": {
     "end_time": "2024-08-05T08:06:23.015614600Z",
     "start_time": "2024-08-05T08:06:22.932228100Z"
    },
    "colab": {
     "base_uri": "https://localhost:8080/"
    },
    "execution": {
     "iopub.execute_input": "2025-08-06T23:21:54.263502Z",
     "iopub.status.busy": "2025-08-06T23:21:54.263339Z",
     "iopub.status.idle": "2025-08-06T23:21:54.274759Z",
     "shell.execute_reply": "2025-08-06T23:21:54.274313Z",
     "shell.execute_reply.started": "2025-08-06T23:21:54.263484Z"
    },
    "id": "e_ed0jmJN4yA",
    "outputId": "407a9e69-4981-42ae-c7a9-aa4c701185ef",
    "tags": []
   },
   "outputs": [
    {
     "name": "stdout",
     "output_type": "stream",
     "text": [
      "raw text\n",
      "['hello', 'world']\n",
      "['tokenize', 'text', 'datas', 'with', 'batch']\n",
      "['this', 'is', 'a', 'test']\n",
      "indices\n",
      "tensor([   1,    2, 4517,    3,    0,    0,    0])\n",
      "tensor([   1,    2, 7167,    2,   22,    2,    3])\n",
      "tensor([   1,  425,   18,    5, 4493,    3,    0])\n",
      "decode text\n",
      "[BOS] [UNK] world [EOS] [PAD] [PAD] [PAD]\n",
      "[BOS] [UNK] text [UNK] with [UNK] [EOS]\n",
      "[BOS] this is a test [EOS] [PAD]\n"
     ]
    }
   ],
   "source": [
    "class Tokenizer:\n",
    "    def __init__(self, word2idx, idx2word, max_length=128, pad_idx=0, bos_idx=1, eos_idx=3, unk_idx=2):\n",
    "        self.word2idx = word2idx\n",
    "        self.idx2word = idx2word\n",
    "        self.max_length = max_length\n",
    "        self.pad_idx = pad_idx\n",
    "        self.bos_idx = bos_idx\n",
    "        self.eos_idx = eos_idx\n",
    "        self.unk_idx = unk_idx\n",
    "\n",
    "    def encode(self, text_list, padding_first=False, add_bos=True, add_eos=True, return_mask=False):\n",
    "        \"\"\"如果padding_first == True，则padding加载前面，否则加载后面\"\"\"\n",
    "        max_length = min(self.max_length, add_eos + add_bos + max([len(text) for text in text_list]))\n",
    "        indices_list = []\n",
    "        for text in text_list:\n",
    "            indices = [self.word2idx.get(word, self.unk_idx) for word in text[:max_length - add_bos - add_eos]]\n",
    "            if add_bos:\n",
    "                indices = [self.bos_idx] + indices\n",
    "            if add_eos:\n",
    "                indices = indices + [self.eos_idx]\n",
    "            if padding_first:\n",
    "                indices = [self.pad_idx] * (max_length - len(indices)) + indices\n",
    "            else:\n",
    "                indices = indices + [self.pad_idx] * (max_length - len(indices))\n",
    "            indices_list.append(indices)\n",
    "        input_ids = torch.tensor(indices_list)\n",
    "        masks = (input_ids == self.pad_idx).to(dtype=torch.int64) # 为了方便损失计算，这里的mask为0的地方需要计算，为1的地方不需要计算\n",
    "        return input_ids if not return_mask else (input_ids, masks)\n",
    "\n",
    "\n",
    "    def decode(self, indices_list, remove_bos=True, remove_eos=True, remove_pad=True, split=False):\n",
    "        text_list = []\n",
    "        for indices in indices_list:\n",
    "            text = []\n",
    "            for index in indices:\n",
    "                word = self.idx2word.get(index, \"[UNK]\")\n",
    "                if remove_bos and word == \"[BOS]\":\n",
    "                    continue\n",
    "                if remove_eos and word == \"[EOS]\":\n",
    "                    break\n",
    "                if remove_pad and word == \"[PAD]\":\n",
    "                    break\n",
    "                text.append(word)\n",
    "            text_list.append(\" \".join(text) if not split else text)\n",
    "        return text_list\n",
    "\n",
    "\n",
    "tokenizer = Tokenizer(word2idx=word2idx, idx2word=idx2word)\n",
    "\n",
    "tokenizer.encode([[\"hello\"], [\"hello\", \"world\"]], add_bos=True, add_eos=False)\n",
    "raw_text = [\"hello world\".split(), \"tokenize text datas with batch\".split(), \"this is a test\".split()]\n",
    "indices = tokenizer.encode(raw_text, padding_first=False, add_bos=True, add_eos=True)\n",
    "decode_text = tokenizer.decode(indices.tolist(), remove_bos=False, remove_eos=False, remove_pad=False)\n",
    "print(\"raw text\")\n",
    "for raw in raw_text:\n",
    "    print(raw)\n",
    "print(\"indices\")\n",
    "for index in indices:\n",
    "    print(index)\n",
    "print(\"decode text\")\n",
    "for decode in decode_text:\n",
    "    print(decode)"
   ]
  },
  {
   "cell_type": "code",
   "execution_count": 14,
   "metadata": {
    "ExecuteTime": {
     "end_time": "2024-08-05T08:06:23.016615500Z",
     "start_time": "2024-08-05T08:06:22.985590600Z"
    },
    "collapsed": false,
    "execution": {
     "iopub.execute_input": "2025-08-06T23:21:54.275395Z",
     "iopub.status.busy": "2025-08-06T23:21:54.275224Z",
     "iopub.status.idle": "2025-08-06T23:21:54.278067Z",
     "shell.execute_reply": "2025-08-06T23:21:54.277542Z",
     "shell.execute_reply.started": "2025-08-06T23:21:54.275377Z"
    },
    "jupyter": {
     "outputs_hidden": false
    },
    "tags": []
   },
   "outputs": [
    {
     "name": "stdout",
     "output_type": "stream",
     "text": [
      "72\n",
      "54\n"
     ]
    }
   ],
   "source": [
    "for i,j in train_ds:\n",
    "    print(len(i))\n",
    "    print(len(j))\n",
    "    break"
   ]
  },
  {
   "cell_type": "markdown",
   "metadata": {
    "id": "ftcEnnKxN4yB"
   },
   "source": [
    "### Transformer Batch Sampler\n",
    "\n",
    "> Sentence pairs were batched together by approximate sequence length. Each training batch contained a set of sentence pairs containing approximately 25000 source tokens and 25000 target tokens\n",
    "句子按照序列长度差不多的分到一个批次。 每个训练批次包含一组句子对，其中包含大约 25000 个源标记和 25000 个目标标记"
   ]
  },
  {
   "cell_type": "code",
   "execution_count": 15,
   "metadata": {
    "ExecuteTime": {
     "end_time": "2024-08-05T08:06:23.046108400Z",
     "start_time": "2024-08-05T08:06:22.990095800Z"
    },
    "execution": {
     "iopub.execute_input": "2025-08-06T23:21:54.278722Z",
     "iopub.status.busy": "2025-08-06T23:21:54.278560Z",
     "iopub.status.idle": "2025-08-06T23:21:54.284134Z",
     "shell.execute_reply": "2025-08-06T23:21:54.283689Z",
     "shell.execute_reply.started": "2025-08-06T23:21:54.278704Z"
    },
    "id": "qP8nznIuN4yB",
    "tags": []
   },
   "outputs": [],
   "source": [
    "class SampleInfo: #下面的info对象\n",
    "    def __init__(self, i, lens):\n",
    "        \"\"\"\n",
    "        记录文本对的序号和长度信息\n",
    "        输入：\n",
    "            - i (int): 文本对的序号。\n",
    "            - lens (list): 文本对源语言和目标语言的长度\n",
    "        \"\"\"\n",
    "        self.i = i\n",
    "        # 加一是考虑填补在文本前后的特殊词元，lens[0]和lens[1]分别表示源语言和目标语言的长度\n",
    "        self.max_len = max(lens[0], lens[1]) + 1\n",
    "        self.src_len = lens[0] + 1\n",
    "        self.trg_len = lens[1] + 1\n",
    "\n",
    "# 一个批量生成器，根据词元数目的限制来控制批量的大小。它会根据传入的样本信息，在不超过设定大小的情况下，逐步构建批量。\n",
    "class TokenBatchCreator:\n",
    "    def __init__(self, batch_size):\n",
    "        \"\"\"\n",
    "        参数:\n",
    "        batch_size (int): 用于限制批量的大小。\n",
    "        功能:\n",
    "        初始化了一个空的批量列表 _batch。\n",
    "        设定了初始的最大长度为 -1。\n",
    "        存储了传入的 batch_size。\n",
    "        \"\"\"\n",
    "\n",
    "        self._batch = []  #这个就是之前的batch_size，就是第一个batch内有多少个样本\n",
    "        self.max_len = -1\n",
    "        self._batch_size = batch_size # 限制批量的大小,假设是4096\n",
    "\n",
    "    def append(self, info):\n",
    "        \"\"\"\n",
    "        参数:\n",
    "        info (SampleInfo): 文本对的信息。\n",
    "        功能:\n",
    "        接收一个 SampleInfo 对象，并根据其最大长度信息更新当前批量的最大长度。\n",
    "        如果将新的样本加入批量后超过了批量大小限制，它会返回已有的批量并将新的样本加入新的批量。\n",
    "        否则，它会更新最大长度并将样本添加到当前批量中。\n",
    "        \"\"\"\n",
    "        # 更新当前批量的最大长度\n",
    "        cur_len = info.max_len # 当前样本的长度\n",
    "        max_len = max(self.max_len, cur_len) # 每来一个样本，更新当前批次的最大长度\n",
    "        # 如果新的样本加入批量后超过大小限制，则将已有的批量返回，新的样本加入新的批量\n",
    "        if max_len * (len(self._batch) + 1) > self._batch_size:\n",
    "            self._batch, result = [], self._batch # 保存当前的batch，并返回,这里的result是之前的batch,_batch清空\n",
    "            self._batch.append(info) #箱子里的第一条样本，放入\n",
    "            self.max_len = cur_len #因为是当前batch的第一个样本，所以它的长度就是当前长度\n",
    "            return result\n",
    "        else:\n",
    "            self.max_len = max_len\n",
    "            self._batch.append(info) # 将样本添加到当前批量中\n",
    "            return None\n",
    "\n",
    "    @property\n",
    "    def batch(self):\n",
    "        return self._batch"
   ]
  },
  {
   "cell_type": "code",
   "execution_count": 16,
   "metadata": {
    "ExecuteTime": {
     "end_time": "2024-08-05T08:06:23.149062600Z",
     "start_time": "2024-08-05T08:06:23.013615200Z"
    },
    "execution": {
     "iopub.execute_input": "2025-08-06T23:21:54.284796Z",
     "iopub.status.busy": "2025-08-06T23:21:54.284630Z",
     "iopub.status.idle": "2025-08-06T23:21:54.292001Z",
     "shell.execute_reply": "2025-08-06T23:21:54.291542Z",
     "shell.execute_reply.started": "2025-08-06T23:21:54.284778Z"
    },
    "id": "_Vtc0gXEN4yB",
    "tags": []
   },
   "outputs": [],
   "source": [
    "from torch.utils.data import BatchSampler\n",
    "import numpy as np\n",
    "\n",
    "\n",
    "class TransformerBatchSampler(BatchSampler):\n",
    "    def __init__(self,\n",
    "                 dataset,\n",
    "                 batch_size,\n",
    "                 shuffle_batch=False,\n",
    "                 clip_last_batch=False,\n",
    "                 seed=0):\n",
    "        \"\"\"\n",
    "        批量采样器\n",
    "        输入:\n",
    "            - dataset: 数据集\n",
    "            - batch_size: 批量大小\n",
    "            - shuffle_batch: 是否对生成的批量进行洗牌\n",
    "            - clip_last_batch: 是否裁剪最后剩下的数据\n",
    "            - seed: 随机数种子\n",
    "        \"\"\"\n",
    "        self._dataset = dataset\n",
    "        self._batch_size = batch_size\n",
    "        self._shuffle_batch = shuffle_batch\n",
    "        self._clip_last_batch = clip_last_batch\n",
    "        self._seed = seed\n",
    "        self._random = np.random\n",
    "        self._random.seed(seed)\n",
    "\n",
    "        self._sample_infos = []\n",
    "        # 根据数据集中的每个样本，创建了对应的 SampleInfo 对象，包含了样本的索引和长度信息。\n",
    "        for i, data in enumerate(self._dataset):\n",
    "            lens = [len(data[0]), len(data[1])] #输入和输出的长度计算放到lens中\n",
    "            self._sample_infos.append(SampleInfo(i, lens))\n",
    "\n",
    "    def __iter__(self):\n",
    "        \"\"\"\n",
    "        对数据集中的样本进行排序，排序规则是先按源语言长度排序，如果相同则按目标语言长度排序。\n",
    "        使用 TokenBatchCreator 逐步组装批量数据，当满足批量大小时返回一个批量的样本信息。\n",
    "        如果不裁剪最后一个批次的数据且存在剩余样本，则将这些样本组成最后一个批次。\n",
    "        如果需要对批量进行洗牌，则对批次进行洗牌操作。\n",
    "        通过迭代器，抛出每个批量的样本在数据集中的索引。\n",
    "        \"\"\"\n",
    "        # 排序，如果源语言长度相同则按照目标语言的长度排列\n",
    "        infos = sorted(self._sample_infos,\n",
    "                       key=lambda x: (x.src_len, x.trg_len))\n",
    "        # 组装批量，所有的batch都放入batch_infos\n",
    "        batch_infos = []\n",
    "        batch_creator = TokenBatchCreator(self._batch_size) # 批量生成器\n",
    "        for info in infos:\n",
    "            batch = batch_creator.append(info)\n",
    "            # 存够一个batch的样本信息后，会把这个batch返回，否则返回为None\n",
    "            if batch is not None:\n",
    "                batch_infos.append(batch)\n",
    "\n",
    "        # 是否抛弃最后批量的文本对\n",
    "        if not self._clip_last_batch and len(batch_creator.batch) != 0:\n",
    "            batch_infos.append(batch_creator.batch) # 最后一个batch\n",
    "\n",
    "        # 打乱batch\n",
    "        if self._shuffle_batch:\n",
    "            self._random.shuffle(batch_infos)\n",
    "\n",
    "        self.batch_number = len(batch_infos)\n",
    "        # print(self.batch_number) #为了理解\n",
    "\n",
    "        # 抛出一个批量的文本对在数据集中的序号\n",
    "        for batch in batch_infos:\n",
    "            batch_indices = [info.i for info in batch] # 批量的样本在数据集中的索引，第一个batch[0,1,.....82]，第二个batch[83,84,85,86,87]\n",
    "            yield batch_indices\n",
    "\n",
    "    def __len__(self):\n",
    "        \"\"\"\n",
    "        返回批量的数量\n",
    "        \"\"\"\n",
    "        if hasattr(self, \"batch_number\"):\n",
    "            return self.batch_number\n",
    "        # 计算批量的数量,没有用到下面的情况，不用看\n",
    "        batch_number = (len(self._dataset) +\n",
    "                        self._batch_size) // self._batch_size\n",
    "        return batch_number"
   ]
  },
  {
   "cell_type": "code",
   "execution_count": 17,
   "metadata": {
    "ExecuteTime": {
     "end_time": "2024-08-05T08:06:23.259543600Z",
     "start_time": "2024-08-05T08:06:23.021123200Z"
    },
    "colab": {
     "base_uri": "https://localhost:8080/"
    },
    "execution": {
     "iopub.execute_input": "2025-08-06T23:21:54.292635Z",
     "iopub.status.busy": "2025-08-06T23:21:54.292437Z",
     "iopub.status.idle": "2025-08-06T23:21:54.351977Z",
     "shell.execute_reply": "2025-08-06T23:21:54.351545Z",
     "shell.execute_reply.started": "2025-08-06T23:21:54.292616Z"
    },
    "id": "d00AFRzVN4yC",
    "outputId": "a43c1a14-102f-4cbb-fff1-761cb46e31b3",
    "tags": []
   },
   "outputs": [],
   "source": [
    "sampler = TransformerBatchSampler(train_ds, batch_size=4096, shuffle_batch=True)\n",
    "\n",
    "#为什么这里每个批量的样本对数目不一样呢？长度*batch_number>4096的时候，就会返回上一个batch，然后新的样本加入新的batch,具体要看TokenBatchCreator的44行"
   ]
  },
  {
   "cell_type": "code",
   "execution_count": 18,
   "metadata": {
    "ExecuteTime": {
     "end_time": "2024-08-05T08:06:23.319151500Z",
     "start_time": "2024-08-05T08:06:23.259543600Z"
    },
    "collapsed": false,
    "execution": {
     "iopub.execute_input": "2025-08-06T23:21:54.352614Z",
     "iopub.status.busy": "2025-08-06T23:21:54.352443Z",
     "iopub.status.idle": "2025-08-06T23:21:54.383233Z",
     "shell.execute_reply": "2025-08-06T23:21:54.382812Z",
     "shell.execute_reply.started": "2025-08-06T23:21:54.352595Z"
    },
    "jupyter": {
     "outputs_hidden": false
    },
    "tags": []
   },
   "outputs": [
    {
     "name": "stdout",
     "output_type": "stream",
     "text": [
      "第0批量的数据中含有文本对是：[16654, 23115, 8624, 23983, 24057, 25537, 627, 3601, 6811, 25322, 517, 24268, 25656, 27038, 18056, 23425, 24868, 26952, 1091, 5938, 24083, 26179, 17015, 18312, 1002, 26094, 977, 15291, 15620, 15859, 24174, 13640, 774]，数量为：33\n",
      "第1批量的数据中含有文本对是：[19245, 24318, 26456, 21443, 15017, 24171, 12404, 591, 19399, 11306, 12442, 11707, 20146, 3980, 14219, 20359, 3751, 20670, 9803, 13542, 25447, 4032, 19577, 2495, 18092, 11924, 3003, 3613, 4457, 10856, 15712, 16946]，数量为：32\n",
      "第2批量的数据中含有文本对是：[23206, 24035, 185, 7560, 4654, 6271, 11780, 15766, 24437, 2384, 2872, 4107, 18979, 23455, 24747, 26265, 2553, 6167, 8215, 12217, 24724, 16413, 10490, 20186, 24420, 24820, 11527, 13661, 15083, 18307, 19507, 20594, 4650, 50, 6189]，数量为：35\n",
      "第3批量的数据中含有文本对是：[1910, 2491, 2901, 3346, 6241, 7451, 10576, 10941, 11386, 11490, 13271, 13716, 15608, 15631, 17403, 17614, 21062, 21407, 21410, 21810, 25086, 26958, 27449, 667, 2090, 2142, 5788, 6049, 7448, 7493, 7676, 10012, 10936, 12362, 13907, 17910, 23114, 25192, 26838, 312, 2267, 2383, 3416, 4033, 10651, 18193, 19954, 20153, 20366]，数量为：49\n"
     ]
    }
   ],
   "source": [
    "for idx, batch in enumerate(sampler):\n",
    "    print(\"第{}批量的数据中含有文本对是：{}，数量为：{}\".format(idx, batch, len(batch)))\n",
    "    if idx >= 3:\n",
    "        break"
   ]
  },
  {
   "cell_type": "code",
   "execution_count": 19,
   "metadata": {
    "ExecuteTime": {
     "end_time": "2024-08-05T08:06:23.319151500Z",
     "start_time": "2024-08-05T08:06:23.302665100Z"
    },
    "collapsed": false,
    "execution": {
     "iopub.execute_input": "2025-08-06T23:21:54.383844Z",
     "iopub.status.busy": "2025-08-06T23:21:54.383687Z",
     "iopub.status.idle": "2025-08-06T23:21:54.386728Z",
     "shell.execute_reply": "2025-08-06T23:21:54.386313Z",
     "shell.execute_reply.started": "2025-08-06T23:21:54.383826Z"
    },
    "jupyter": {
     "outputs_hidden": false
    },
    "tags": []
   },
   "outputs": [
    {
     "data": {
      "text/plain": [
       "530"
      ]
     },
     "execution_count": 19,
     "metadata": {},
     "output_type": "execute_result"
    }
   ],
   "source": [
    "len(sampler)"
   ]
  },
  {
   "cell_type": "markdown",
   "metadata": {
    "id": "Olkaw4JNN4yC"
   },
   "source": [
    "### DataLoader"
   ]
  },
  {
   "cell_type": "code",
   "execution_count": 20,
   "metadata": {
    "ExecuteTime": {
     "end_time": "2024-08-05T08:06:23.319151500Z",
     "start_time": "2024-08-05T08:06:23.311772900Z"
    },
    "execution": {
     "iopub.execute_input": "2025-08-06T23:21:54.387412Z",
     "iopub.status.busy": "2025-08-06T23:21:54.387253Z",
     "iopub.status.idle": "2025-08-06T23:21:54.391449Z",
     "shell.execute_reply": "2025-08-06T23:21:54.391022Z",
     "shell.execute_reply.started": "2025-08-06T23:21:54.387394Z"
    },
    "id": "rvvuNJIzN4yC",
    "tags": []
   },
   "outputs": [],
   "source": [
    "def collate_fct(batch, tokenizer):\n",
    "    src_words = [pair[0].split() for pair in batch]\n",
    "    trg_words = [pair[1].split() for pair in batch]\n",
    "\n",
    "    # [BOS] src [EOS] [PAD]\n",
    "    encoder_inputs, encoder_inputs_mask = tokenizer.encode(\n",
    "        src_words, padding_first=False, add_bos=True, add_eos=True, return_mask=True\n",
    "        )\n",
    "\n",
    "    # [BOS] trg [PAD]\n",
    "    decoder_inputs = tokenizer.encode(\n",
    "        trg_words, padding_first=False, add_bos=True, add_eos=False, return_mask=False,\n",
    "        )\n",
    "\n",
    "    # trg [EOS] [PAD]\n",
    "    decoder_labels, decoder_labels_mask = tokenizer.encode(\n",
    "        trg_words, padding_first=False, add_bos=False, add_eos=True, return_mask=True\n",
    "        )\n",
    "\n",
    "    return {\n",
    "        \"encoder_inputs\": encoder_inputs.to(device=device),\n",
    "        \"encoder_inputs_mask\": encoder_inputs_mask.to(device=device),\n",
    "        \"decoder_inputs\": decoder_inputs.to(device=device),\n",
    "        \"decoder_labels\": decoder_labels.to(device=device),\n",
    "        \"decoder_labels_mask\": decoder_labels_mask.to(device=device),\n",
    "    }\n"
   ]
  },
  {
   "cell_type": "code",
   "execution_count": 21,
   "metadata": {
    "ExecuteTime": {
     "end_time": "2024-08-05T08:06:24.107023100Z",
     "start_time": "2024-08-05T08:06:23.321149400Z"
    },
    "colab": {
     "base_uri": "https://localhost:8080/"
    },
    "execution": {
     "iopub.execute_input": "2025-08-06T23:21:54.392103Z",
     "iopub.status.busy": "2025-08-06T23:21:54.391951Z",
     "iopub.status.idle": "2025-08-06T23:21:54.635670Z",
     "shell.execute_reply": "2025-08-06T23:21:54.635161Z",
     "shell.execute_reply.started": "2025-08-06T23:21:54.392086Z"
    },
    "id": "5p79gPo5N4yC",
    "outputId": "2b1d43ae-a2ed-4333-8274-50c62c2fc6c9",
    "tags": []
   },
   "outputs": [
    {
     "name": "stdout",
     "output_type": "stream",
     "text": [
      "encoder_inputs\n",
      "tensor([[   1,   11,   25,   13, 4753,   55, 1336,  439,  900,   13,   42,  677,\n",
      "            4,    3,    0],\n",
      "        [   1,   11,   25,   12,    7,   17,  102,   14,   21,  304,   48,    8,\n",
      "          261,    4,    3],\n",
      "        [   1,    7, 4518, 2268,  153,   61,   74,   33,  233,   13,    8, 3342,\n",
      "           79,    4,    3]], device='cuda:0')\n",
      "encoder_inputs_mask\n",
      "tensor([[0, 0, 0, 0, 0, 0, 0, 0, 0, 0, 0, 0, 0, 0, 1],\n",
      "        [0, 0, 0, 0, 0, 0, 0, 0, 0, 0, 0, 0, 0, 0, 0],\n",
      "        [0, 0, 0, 0, 0, 0, 0, 0, 0, 0, 0, 0, 0, 0, 0]], device='cuda:0')\n",
      "decoder_inputs\n",
      "tensor([[   1,    5,   26,   22, 4839, 1119, 1284,   15,    5,  619,  113,    4,\n",
      "            0,    0,    0,    0],\n",
      "        [   1,    5,   26,   19,    5,   16,   53,   15,    5,  283,    6,   75,\n",
      "           20,    5,  261,    4],\n",
      "        [   1,    5,   45,   19,   40,   58,   18,   63,   22,    5, 1490,   79,\n",
      "            6,   10,  233,    4]], device='cuda:0')\n",
      "decoder_labels\n",
      "tensor([[   5,   26,   22, 4839, 1119, 1284,   15,    5,  619,  113,    4,    3,\n",
      "            0,    0,    0,    0],\n",
      "        [   5,   26,   19,    5,   16,   53,   15,    5,  283,    6,   75,   20,\n",
      "            5,  261,    4,    3],\n",
      "        [   5,   45,   19,   40,   58,   18,   63,   22,    5, 1490,   79,    6,\n",
      "           10,  233,    4,    3]], device='cuda:0')\n",
      "decoder_labels_mask\n",
      "tensor([[0, 0, 0, 0, 0, 0, 0, 0, 0, 0, 0, 0, 1, 1, 1, 1],\n",
      "        [0, 0, 0, 0, 0, 0, 0, 0, 0, 0, 0, 0, 0, 0, 0, 0],\n",
      "        [0, 0, 0, 0, 0, 0, 0, 0, 0, 0, 0, 0, 0, 0, 0, 0]], device='cuda:0')\n"
     ]
    }
   ],
   "source": [
    "from functools import partial # 固定collate_fct的tokenizer参数\n",
    "\n",
    "#可以调整batch_size,来看最终的bleu\n",
    "sampler = TransformerBatchSampler(train_ds, batch_size=256, shuffle_batch=True)\n",
    "# https://pytorch.org/docs/stable/data.html#torch.utils.data.DataLoader\n",
    "sample_dl = DataLoader(train_ds, batch_sampler=sampler, collate_fn=partial(collate_fct, tokenizer=tokenizer)) #partial函数，固定collate_fct的tokenizer参数\n",
    "\n",
    "for batch in sample_dl:\n",
    "    for key, value in batch.items():\n",
    "        print(key)\n",
    "        print(value)\n",
    "    break"
   ]
  },
  {
   "cell_type": "markdown",
   "metadata": {
    "id": "0AadtoM3N4yC"
   },
   "source": [
    "## 定义模型\n",
    "\n",
    "- Transformer模型由Embedding、Transformer-Block组成\n",
    "- Embedding包括：\n",
    "    - WordEmbedding\n",
    "    - PositionEmbedding\n",
    "- Transformer-Block包括：\n",
    "    - Self-Attention\n",
    "    - Cross-Attention\n",
    "    - MLP"
   ]
  },
  {
   "cell_type": "markdown",
   "metadata": {
    "id": "VTl-sSJmN4yD"
   },
   "source": [
    "### Embedding"
   ]
  },
  {
   "cell_type": "code",
   "execution_count": 22,
   "metadata": {
    "ExecuteTime": {
     "end_time": "2024-08-05T08:06:24.109021500Z",
     "start_time": "2024-08-05T08:06:24.106022800Z"
    },
    "ExecutionIndicator": {
     "show": true
    },
    "colab": {
     "base_uri": "https://localhost:8080/",
     "height": 455
    },
    "execution": {
     "iopub.execute_input": "2025-08-06T23:21:54.638962Z",
     "iopub.status.busy": "2025-08-06T23:21:54.638778Z",
     "iopub.status.idle": "2025-08-06T23:21:54.835708Z",
     "shell.execute_reply": "2025-08-06T23:21:54.835147Z",
     "shell.execute_reply.started": "2025-08-06T23:21:54.638943Z"
    },
    "id": "y66CxrsBN4yD",
    "outputId": "c703025c-afc5-4012-d8e3-0e9d4ad253ec",
    "tags": []
   },
   "outputs": [
    {
     "data": {
      "image/png": "[encoded data removed]",
      "text/plain": [
       "<Figure size 640x480 with 2 Axes>"
      ]
     },
     "metadata": {},
     "output_type": "display_data"
    }
   ],
   "source": [
    "\n",
    "class TransformerEmbedding(nn.Module):\n",
    "    def __init__(self, config):\n",
    "        super().__init__()\n",
    "        # hyper params\n",
    "        self.vocab_size = config[\"vocab_size\"]\n",
    "        self.hidden_size = config[\"d_model\"] # 词向量维度\n",
    "        self.pad_idx = config[\"pad_idx\"]\n",
    "        dropout_rate = config[\"dropout\"]\n",
    "        self.max_length = config[\"max_length\"]\n",
    "\n",
    "        # layers,设置padding_idx可以让pad的词向量全为0\n",
    "        self.word_embedding = nn.Embedding(\n",
    "            self.vocab_size, self.hidden_size, padding_idx=self.pad_idx\n",
    "        )\n",
    "        self.pos_embedding = nn.Embedding(\n",
    "            self.max_length,\n",
    "            self.hidden_size,\n",
    "            _weight=self.get_positional_encoding(\n",
    "                self.max_length, self.hidden_size\n",
    "            ),# 位置编码，权重通过get_positional_encoding函数计算得到\n",
    "        )\n",
    "        self.pos_embedding.weight.requires_grad_(False) # 不更新位置编码的权重\n",
    "        self.dropout = nn.Dropout(dropout_rate) # 随机失活层\n",
    "\n",
    "    def get_word_embedding_weights(self):\n",
    "        return self.word_embedding.weight\n",
    "\n",
    "    # 计算位置信息\n",
    "    @classmethod\n",
    "    def get_positional_encoding(self, max_length, hidden_size):#max_length是最大长度，hidden_size是embedding维度相等\n",
    "        # Compute the positional encodings once in log space.\n",
    "        pe = torch.zeros(max_length, hidden_size) # 初始化位置编码\n",
    "        # .unsqueeze(1) 是将这个一维张量转换为二维张量，即将其形状从 (max_length,) 变为 (max_length, 1)。这个操作在张量的维度上增加了一个维度，使其从一维变为二维，第二维的大小为 1。\n",
    "        position = torch.arange(0, max_length).unsqueeze(1) # 位置信息,从0到max_length-1\n",
    "        div_term = torch.exp(\n",
    "            torch.arange(0, hidden_size, 2)\n",
    "            * -(torch.log(torch.Tensor([10000.0])) / hidden_size)\n",
    "        )# 计算位置编码的权重,为了性能考量（是数学上的对数函数分解）\n",
    "        pe[:, 0::2] = torch.sin(position * div_term)\n",
    "        pe[:, 1::2] = torch.cos(position * div_term)\n",
    "        return pe\n",
    "\n",
    "    def forward(self, input_ids):\n",
    "        # input_ids: [batch_size, seq_len]\n",
    "        seq_len = input_ids.shape[1]\n",
    "        assert (\n",
    "            seq_len <= self.max_length\n",
    "        ), f\"input sequence length should no more than {self.max_length} but got {seq_len}\"\n",
    "\n",
    "        position_ids = torch.arange(seq_len, dtype=torch.long, device=input_ids.device)\n",
    "        position_ids = position_ids.unsqueeze(0).expand_as(input_ids)\n",
    "        # print(position_ids)\n",
    "        # embedding\n",
    "        word_embeds = self.word_embedding(input_ids) # 词嵌入\n",
    "        pos_embeds = self.pos_embedding(position_ids) # 位置编码\n",
    "        embeds = word_embeds + pos_embeds\n",
    "        embeds = self.dropout(embeds)\n",
    "\n",
    "        return embeds\n",
    "\n",
    "\n",
    "def plot_position_embedding(position_embedding):# 绘制位置编码\n",
    "    plt.pcolormesh(position_embedding) # 绘制位置编码矩阵\n",
    "    plt.xlabel('Depth')\n",
    "    plt.ylabel('Position')\n",
    "    plt.colorbar() # 颜色条，-1到1的颜色范围\n",
    "    plt.show()\n",
    "\n",
    "position_embedding = TransformerEmbedding.get_positional_encoding(64, 128)\n",
    "plot_position_embedding(position_embedding)\n"
   ]
  },
  {
   "cell_type": "code",
   "execution_count": 23,
   "metadata": {
    "ExecuteTime": {
     "end_time": "2024-08-05T08:06:24.109021500Z",
     "start_time": "2024-08-05T08:06:24.107023100Z"
    },
    "collapsed": false,
    "execution": {
     "iopub.execute_input": "2025-08-06T23:21:54.836558Z",
     "iopub.status.busy": "2025-08-06T23:21:54.836301Z",
     "iopub.status.idle": "2025-08-06T23:21:54.842704Z",
     "shell.execute_reply": "2025-08-06T23:21:54.842240Z",
     "shell.execute_reply.started": "2025-08-06T23:21:54.836518Z"
    },
    "jupyter": {
     "outputs_hidden": false
    },
    "tags": []
   },
   "outputs": [
    {
     "data": {
      "text/plain": [
       "torch.Size([2, 50, 128])"
      ]
     },
     "execution_count": 23,
     "metadata": {},
     "output_type": "execute_result"
    }
   ],
   "source": [
    "#随机input，调用TransformerEmbedding\n",
    "config={\n",
    "    \"vocab_size\": 100,\n",
    "    \"d_model\": 128,\n",
    "    \"pad_idx\": 0,\n",
    "    \"max_length\": 64,\n",
    "    \"dropout\": 0.1,\n",
    "}\n",
    "input_ids = torch.randint(0, 100, (2, 50))\n",
    "embeds = TransformerEmbedding(config)(input_ids)\n",
    "embeds.shape"
   ]
  },
  {
   "cell_type": "markdown",
   "metadata": {
    "id": "wXavO0SNN4yD"
   },
   "source": [
    "### Transformer Block"
   ]
  },
  {
   "cell_type": "markdown",
   "metadata": {
    "id": "HZL4mu3pN4yD"
   },
   "source": [
    "#### scaled-dot-product-attention"
   ]
  },
  {
   "cell_type": "code",
   "execution_count": 24,
   "metadata": {
    "ExecuteTime": {
     "end_time": "2024-08-05T08:06:24.109021500Z",
     "start_time": "2024-08-05T08:06:24.108022500Z"
    },
    "colab": {
     "base_uri": "https://localhost:8080/",
     "height": 970
    },
    "execution": {
     "iopub.execute_input": "2025-08-06T23:21:54.843474Z",
     "iopub.status.busy": "2025-08-06T23:21:54.843240Z",
     "iopub.status.idle": "2025-08-06T23:21:54.856857Z",
     "shell.execute_reply": "2025-08-06T23:21:54.856147Z",
     "shell.execute_reply.started": "2025-08-06T23:21:54.843448Z"
    },
    "id": "U9QwdVQYN4yD",
    "outputId": "b6ae9ac8-c71c-4a7b-fd4b-9c15e92dba2c",
    "tags": []
   },
   "outputs": [
    {
     "name": "stdout",
     "output_type": "stream",
     "text": [
      "key_value.shape torch.Size([2, 4, 2])\n",
      "torch.Size([2, 3, 2])\n",
      "torch.Size([2, 2, 3, 4])\n"
     ]
    }
   ],
   "source": [
    "from dataclasses import dataclass\n",
    "from typing import Optional, Tuple\n",
    "\n",
    "Tensor = torch.Tensor\n",
    "\n",
    "@dataclass\n",
    "class AttentionOutput:\n",
    "    hidden_states: Tensor\n",
    "    attn_scores: Tensor\n",
    "\n",
    "class MultiHeadAttention(nn.Module):\n",
    "    def __init__(self, config):\n",
    "        super().__init__()\n",
    "        # hyper params\n",
    "        self.hidden_size = config[\"d_model\"] # 隐藏层大小\n",
    "        self.num_heads = config[\"num_heads\"] # 多头注意力的头数\n",
    "        assert (\n",
    "            self.hidden_size % self.num_heads == 0\n",
    "        ), \"Hidden size must be divisible by num_heads but got {} and {}\".format(\n",
    "            self.hidden_size, self.num_heads\n",
    "        )\n",
    "        self.head_dim = self.hidden_size // self.num_heads # 每个头的维度\n",
    "\n",
    "        # layers\n",
    "        self.Wq = nn.Linear(self.hidden_size, self.hidden_size, bias=False) #第二个self.hidden_size可以*系数\n",
    "        self.Wk = nn.Linear(self.hidden_size, self.hidden_size, bias=False)\n",
    "        self.Wv = nn.Linear(self.hidden_size, self.hidden_size, bias=False)\n",
    "        self.Wo = nn.Linear(self.hidden_size, self.hidden_size, bias=False) # 输出层\n",
    "\n",
    "    def _split_heads(self, x: Tensor) -> Tensor:\n",
    "        bs, seq_len, _ = x.shape #假设输入的维度是[batch_size, seq_len, hidden_size],hidden_size是512\n",
    "        x = x.view(bs, seq_len, self.num_heads, self.head_dim) #num_heads是8，head_dim是64\n",
    "        return x.permute(0, 2, 1, 3) #变换维度，[batch_size, num_heads, seq_len, head_dim]\n",
    "\n",
    "    def _merge_heads(self, x: Tensor) -> Tensor:#将多头注意力的输出合并为一个张量\n",
    "        bs, _, seq_len, _ = x.shape #假设输入的维度是[batch_size, num_heads, seq_len, head_dim]\n",
    "        return x.permute(0, 2, 1, 3).reshape(bs, seq_len, self.hidden_size) # 变换维度，变为[batch_size, seq_len, hidden_size]\n",
    "\n",
    "    def forward(self, querys, keys, values, attn_mask=None) -> AttentionOutput:\n",
    "        # split heads\n",
    "        querys = self._split_heads(self.Wq(querys)) #(batch_size, seq_len,hidden_dim)-->[batch_size, num_heads, seq_len, head_dim]\n",
    "        keys = self._split_heads(self.Wk(keys))#[batch_size, num_heads, seq_len, head_dim]\n",
    "        values = self._split_heads(self.Wv(values))#[batch_size, num_heads, seq_len, head_dim]\n",
    "\n",
    "        # calculate attention scores\n",
    "        qk_logits = torch.matmul(querys, keys.mT) # 计算注意力分数，matmul是矩阵乘法，mT是矩阵转置,qk_logits是[batch_size, num_heads, seq_len, seq_len]\n",
    "        # print(querys.shape[-2], keys.shape[-2])  #3 4\n",
    "        if attn_mask is not None:\n",
    "            attn_mask = attn_mask[:, :, : querys.shape[-2], : keys.shape[-2]]\n",
    "            qk_logits += attn_mask * -1e9 # 给需要mask的地方设置一个负无穷\n",
    "        attn_scores = F.softmax(qk_logits / (self.head_dim**0.5), dim=-1) # 计算注意力分数\n",
    "\n",
    "        # apply attention scores\n",
    "        embeds = torch.matmul(attn_scores, values) # softmax后的结果与value相乘，得到新的表示\n",
    "        embeds = self.Wo(self._merge_heads(embeds)) # 输出层 [batch_size, seq_len, hidden_size]\n",
    "\n",
    "        return AttentionOutput(hidden_states=embeds, attn_scores=attn_scores)\n",
    "\n",
    "mha = MultiHeadAttention({\"num_heads\": 2, \"d_model\": 2})\n",
    "query = torch.randn(2, 3, 2) # [batch_size, seq_len, hidden_size]\n",
    "query /= query.norm(dim=-1, keepdim=True) # 归一化\n",
    "key_value = torch.randn(2, 4, 2)\n",
    "print(f'key_value.shape {key_value.shape}')\n",
    "outputs = mha(query, key_value, key_value) #最终输出shape和query的shape一样\n",
    "print(outputs.hidden_states.shape)\n",
    "print(outputs.attn_scores.shape)"
   ]
  },
  {
   "cell_type": "code",
   "execution_count": 25,
   "metadata": {
    "ExecuteTime": {
     "end_time": "2024-08-05T08:06:24.816743500Z",
     "start_time": "2024-08-05T08:06:24.108022500Z"
    },
    "collapsed": false,
    "execution": {
     "iopub.execute_input": "2025-08-06T23:21:54.857689Z",
     "iopub.status.busy": "2025-08-06T23:21:54.857435Z",
     "iopub.status.idle": "2025-08-06T23:21:55.288387Z",
     "shell.execute_reply": "2025-08-06T23:21:55.287749Z",
     "shell.execute_reply.started": "2025-08-06T23:21:54.857662Z"
    },
    "jupyter": {
     "outputs_hidden": false
    },
    "tags": []
   },
   "outputs": [
    {
     "data": {
      "image/png": "[encoded data removed]",
      "text/plain": [
       "<Figure size 640x480 with 4 Axes>"
      ]
     },
     "metadata": {},
     "output_type": "display_data"
    }
   ],
   "source": [
    "# plt.subplots() 用于创建子图网格，其维度基于 outputs.attn_scores.shape[:2]。子图的行数和列数似乎由 outputs.attn_scores 的前两个维度确定。\n",
    "fig, axis = plt.subplots(*outputs.attn_scores.shape[:2])\n",
    "for i in range(query.shape[0]):\n",
    "    for j in range(outputs.attn_scores.shape[1]):\n",
    "        # axis[i, j].matshow(outputs.attn_scores[i, j].detach().numpy())：此行使用 Matplotlib 的 matshow 绘制每个 i 和 j 的注意力分数热图。detach().numpy() 将 PyTorch 张量转换为 NumPy 数组以进行可视化。\n",
    "        axis[i, j].matshow(outputs.attn_scores[i, j].detach().numpy())\n",
    "        for x in range(outputs.attn_scores.shape[2]):\n",
    "            for y in range(outputs.attn_scores.shape[3]):\n",
    "                # axis[i, j].text(y, x, f\"{outputs.attn_scores[i, j, x, y]:.2f}\", ha=\"center\", va=\"center\", color=\"w\")：此代码在热图上叠加文本，显示 (x, y) 位置处的注意力分数。格式化部分 f\"{outputs.attn_scores[i, j, x, y]:.2f}\" 确保以两位小数显示注意力分数。文本以白色居中显示在 (y, x) 坐标处。\n",
    "                axis[i, j].text(y, x, f\"{outputs.attn_scores[i, j, x, y]:.2f}\", ha=\"center\", va=\"center\", color=\"w\")\n",
    "fig.suptitle(\"multi head attention without mask\")\n",
    "plt.show()"
   ]
  },
  {
   "cell_type": "code",
   "execution_count": 26,
   "metadata": {
    "ExecuteTime": {
     "end_time": "2024-08-05T08:06:25.525550800Z",
     "start_time": "2024-08-05T08:06:24.814755500Z"
    },
    "collapsed": false,
    "execution": {
     "iopub.execute_input": "2025-08-06T23:21:55.289253Z",
     "iopub.status.busy": "2025-08-06T23:21:55.289030Z",
     "iopub.status.idle": "2025-08-06T23:21:55.820740Z",
     "shell.execute_reply": "2025-08-06T23:21:55.820085Z",
     "shell.execute_reply.started": "2025-08-06T23:21:55.289231Z"
    },
    "jupyter": {
     "outputs_hidden": false
    },
    "tags": []
   },
   "outputs": [
    {
     "name": "stdout",
     "output_type": "stream",
     "text": [
      "--------------------------------------------------\n"
     ]
    },
    {
     "data": {
      "image/png": "[encoded data removed]",
      "text/plain": [
       "<Figure size 640x480 with 4 Axes>"
      ]
     },
     "metadata": {},
     "output_type": "display_data"
    }
   ],
   "source": [
    "print('-'*50)\n",
    "# mask\n",
    "mask = torch.Tensor([[0, 0, 1, 1], [0, 0, 0, 1], [0, 0, 0, 0]]).reshape(1, 1, 3, 4) #手工构造mask\n",
    "outputs_masked = mha(query, key_value, key_value, mask)\n",
    "\n",
    "fig, axis = plt.subplots(*outputs_masked.attn_scores.shape[:2])\n",
    "for i in range(query.shape[0]):\n",
    "    for j in range(outputs_masked.attn_scores.shape[1]):\n",
    "        axis[i, j].matshow(outputs_masked.attn_scores[i, j].detach().numpy())\n",
    "        for x in range(outputs_masked.attn_scores.shape[2]):\n",
    "            for y in range(outputs_masked.attn_scores.shape[3]):\n",
    "                axis[i, j].text(y, x, f\"{outputs_masked.attn_scores[i, j, x, y]:.2f}\", ha=\"center\", va=\"center\", color=\"w\")\n",
    "fig.suptitle(\"multi head attention with mask\")\n",
    "plt.show()"
   ]
  },
  {
   "cell_type": "markdown",
   "metadata": {
    "id": "GkzzrRWVN4yE"
   },
   "source": [
    "#### Transformer-Block"
   ]
  },
  {
   "cell_type": "code",
   "execution_count": 27,
   "metadata": {
    "ExecuteTime": {
     "end_time": "2024-08-05T08:06:25.527550400Z",
     "start_time": "2024-08-05T08:06:25.524551200Z"
    },
    "execution": {
     "iopub.execute_input": "2025-08-06T23:21:55.821768Z",
     "iopub.status.busy": "2025-08-06T23:21:55.821484Z",
     "iopub.status.idle": "2025-08-06T23:21:55.831609Z",
     "shell.execute_reply": "2025-08-06T23:21:55.831100Z",
     "shell.execute_reply.started": "2025-08-06T23:21:55.821739Z"
    },
    "id": "b16xpL47N4yE",
    "tags": []
   },
   "outputs": [],
   "source": [
    "# 通过使用 @dataclass 装饰器，Python 会自动为该类生成一些方法，如 __init__()、__repr__() 和 __eq__() 等，这些方法可以使类的使用更加方便。\n",
    "@dataclass\n",
    "class TransformerBlockOutput:\n",
    "# hidden_states: Tensor：用于存储某个块产生的隐藏状态。\n",
    "# self_attn_scores: Tensor：包含了自注意力机制（self-attention）所计算得到的注意力分数。\n",
    "# cross_attn_scores: Optional[Tensor] = None：是一个可选字段，存储了交叉注意力（cross-attention）计算得到的注意力分数。这里的 Optional 表示这个字段可以是 Tensor 类型，也可以是 None。\n",
    "    hidden_states: Tensor\n",
    "    self_attn_scores: Tensor\n",
    "    cross_attn_scores: Optional[Tensor] = None\n",
    "\n",
    "class TransformerBlock(nn.Module):\n",
    "    def __init__(self, config, add_cross_attention=False):\n",
    "        super().__init__()\n",
    "        # hyper params\n",
    "        self.hidden_size = config[\"d_model\"]\n",
    "        self.num_heads = config[\"num_heads\"]\n",
    "        dropout_rate = config[\"dropout\"]\n",
    "        ffn_dim = config[\"dim_feedforward\"]\n",
    "        eps = config[\"layer_norm_eps\"] # 层归一化的epsilon值\n",
    "\n",
    "        # self-attention\n",
    "        self.self_atten = MultiHeadAttention(config) # 多头注意力\n",
    "        self.self_ln = nn.LayerNorm(self.hidden_size, eps=eps) #层归一化(层标准化)\n",
    "        self.self_dropout = nn.Dropout(dropout_rate)\n",
    "\n",
    "        # cross-attention，交叉注意力，decoder中使用,因此额外做一个判断\n",
    "        if add_cross_attention:\n",
    "            self.cross_atten = MultiHeadAttention(config)\n",
    "            self.cross_ln = nn.LayerNorm(self.hidden_size, eps=eps)\n",
    "            self.cross_dropout = nn.Dropout(dropout_rate)\n",
    "        else:\n",
    "            self.cross_atten = None\n",
    "\n",
    "        # FFN,前馈神经网络\n",
    "        self.ffn = nn.Sequential(\n",
    "            nn.Linear(self.hidden_size, ffn_dim),\n",
    "            nn.ReLU(),\n",
    "            nn.Linear(ffn_dim, self.hidden_size),\n",
    "        )\n",
    "        self.ffn_ln = nn.LayerNorm(self.hidden_size, eps=eps)\n",
    "        self.ffn_dropout = nn.Dropout(dropout_rate)\n",
    "\n",
    "    def forward(\n",
    "        self,\n",
    "        hidden_states,\n",
    "        attn_mask=None,\n",
    "        encoder_outputs=None,\n",
    "        cross_attn_mask=None,\n",
    "    ):\n",
    "        # self-attention,自注意力\n",
    "        self_atten_output = self.self_atten(\n",
    "            hidden_states, hidden_states, hidden_states, attn_mask\n",
    "        )\n",
    "        self_embeds = self.self_ln(\n",
    "            hidden_states + self.self_dropout(self_atten_output.hidden_states)\n",
    "        ) #多头注意力进行dropout，然后和原始输入进行残差连接，然后进行层归一化\n",
    "\n",
    "        # cross-attention，交叉注意力\n",
    "        if self.cross_atten is not None:\n",
    "            assert encoder_outputs is not None\n",
    "            cross_atten_output = self.cross_atten(\n",
    "                self_embeds, encoder_outputs, encoder_outputs, cross_attn_mask\n",
    "            ) #query是self_embeds，key和value都是encoder_outputs\n",
    "            cross_embeds = self.cross_ln(\n",
    "                self_embeds + self.cross_dropout(cross_atten_output.hidden_states)\n",
    "            ) # 交叉注意力进行dropout，然后和self_embeds进行残差连接，然后进行层归一化\n",
    "\n",
    "        # FFN\n",
    "        embeds = cross_embeds if self.cross_atten is not None else self_embeds # 如果有交叉注意力，则使用交叉注意力的输出作为FFN的输入；否则，使用self_embeds作为FFN的输入\n",
    "        ffn_output = self.ffn(embeds) # 前馈神经网络\n",
    "        embeds = self.ffn_ln(embeds + self.ffn_dropout(ffn_output)) # 前馈神经网络进行dropout，然后和原始输入进行残差连接，然后进行层归一化\n",
    "\n",
    "        return TransformerBlockOutput(\n",
    "            hidden_states=embeds,\n",
    "            self_attn_scores=self_atten_output.attn_scores,\n",
    "            cross_attn_scores=cross_atten_output.attn_scores\n",
    "            if self.cross_atten is not None\n",
    "            else None,\n",
    "        )"
   ]
  },
  {
   "cell_type": "markdown",
   "metadata": {
    "id": "tfJIGaohN4yE"
   },
   "source": [
    "#### Encoder"
   ]
  },
  {
   "cell_type": "code",
   "execution_count": 28,
   "metadata": {
    "ExecuteTime": {
     "end_time": "2024-08-05T08:06:25.527550400Z",
     "start_time": "2024-08-05T08:06:25.525550800Z"
    },
    "execution": {
     "iopub.execute_input": "2025-08-06T23:21:55.832417Z",
     "iopub.status.busy": "2025-08-06T23:21:55.832181Z",
     "iopub.status.idle": "2025-08-06T23:21:55.838762Z",
     "shell.execute_reply": "2025-08-06T23:21:55.838229Z",
     "shell.execute_reply.started": "2025-08-06T23:21:55.832394Z"
    },
    "id": "sTLabHm7N4yE",
    "tags": []
   },
   "outputs": [],
   "source": [
    "from typing import List\n",
    "\n",
    "@dataclass\n",
    "class TransformerEncoderOutput:\n",
    "    last_hidden_states: Tensor\n",
    "    attn_scores: List[Tensor]\n",
    "\n",
    "# https://pytorch.org/docs/stable/generated/torch.nn.Module.html#torch.nn.Module\n",
    "class TransformerEncoder(nn.Module):\n",
    "    def __init__(self, config):\n",
    "        super().__init__()\n",
    "        # hyper params\n",
    "        self.num_layers = config[\"num_encoder_layers\"]\n",
    "\n",
    "        # layers,仅仅是一个模块的列表，它本身没有定义前向传递（forward pass）过程。你需要在 forward 方法中明确地定义如何使用这些模块。\n",
    "        self.layers = nn.ModuleList(\n",
    "            [TransformerBlock(config) for _ in range(self.num_layers)]\n",
    "        )\n",
    "\n",
    "    def forward(\n",
    "        self, encoder_inputs_embeds, attn_mask=None\n",
    "    ) -> TransformerEncoderOutput:\n",
    "        attn_scores = [] # 存储每个层的注意力分数\n",
    "        embeds = encoder_inputs_embeds # 输入的嵌入向量作为第一层的输入(embedding+位置编码)\n",
    "        for layer in self.layers:\n",
    "            block_outputs = layer(embeds, attn_mask=attn_mask)\n",
    "            embeds = block_outputs.hidden_states #上一层的输出作为下一层的输入\n",
    "            # 在每个层的输出中，提取了隐藏状态 block_outputs.hidden_states，并将对应的注意力分数 block_outputs.self_attn_scores 添加到列表 attn_scores 中。\n",
    "            attn_scores.append(block_outputs.self_attn_scores) # 存储每个层的注意力分数,用于画图\n",
    "\n",
    "        return TransformerEncoderOutput(\n",
    "            last_hidden_states=embeds, attn_scores=attn_scores\n",
    "        )\n",
    "\n"
   ]
  },
  {
   "cell_type": "markdown",
   "metadata": {
    "id": "BEMNj6eBN4yE"
   },
   "source": [
    "#### Decoder"
   ]
  },
  {
   "cell_type": "code",
   "execution_count": 29,
   "metadata": {
    "ExecuteTime": {
     "end_time": "2024-08-05T08:06:25.527550400Z",
     "start_time": "2024-08-05T08:06:25.525550800Z"
    },
    "execution": {
     "iopub.execute_input": "2025-08-06T23:21:55.839487Z",
     "iopub.status.busy": "2025-08-06T23:21:55.839292Z",
     "iopub.status.idle": "2025-08-06T23:21:55.846646Z",
     "shell.execute_reply": "2025-08-06T23:21:55.846017Z",
     "shell.execute_reply.started": "2025-08-06T23:21:55.839465Z"
    },
    "id": "wCHOur-QN4yE",
    "tags": []
   },
   "outputs": [],
   "source": [
    "@dataclass\n",
    "class TransformerDecoderOutput:\n",
    "    last_hidden_states: Tensor\n",
    "    self_attn_scores: List[Tensor]\n",
    "    cross_attn_scores: List[Tensor]\n",
    "\n",
    "\n",
    "class TransformerDecoder(nn.Module):\n",
    "    def __init__(self, config):\n",
    "        super().__init__()\n",
    "        # hyper params\n",
    "        self.num_layers = config[\"num_decoder_layers\"]\n",
    "\n",
    "        # layers\n",
    "        self.layers = nn.ModuleList(\n",
    "            [\n",
    "                TransformerBlock(config, add_cross_attention=True)\n",
    "                for _ in range(self.num_layers)\n",
    "            ]\n",
    "        )\n",
    "\n",
    "    def forward(\n",
    "        self,\n",
    "        decoder_inputs_embeds,\n",
    "        encoder_outputs,\n",
    "        attn_mask=None,\n",
    "        cross_attn_mask=None,\n",
    "    ) -> TransformerDecoderOutput:\n",
    "        self_attn_scores = [] # 存储每个层的自注意力分数\n",
    "        cross_attn_scores = [] # 存储每个层的交叉注意力分数\n",
    "        embeds = decoder_inputs_embeds # 输入的嵌入向量作为第一层的输入(embedding+位置编码)\n",
    "        for layer in self.layers:\n",
    "            block_outputs = layer(\n",
    "                embeds,\n",
    "                attn_mask=attn_mask, # 自注意力的mask\n",
    "                encoder_outputs=encoder_outputs,\n",
    "                cross_attn_mask=cross_attn_mask, # 交叉注意力的mask\n",
    "            )\n",
    "            embeds = block_outputs.hidden_states # 上一层的输出作为下一层的输入\n",
    "            self_attn_scores.append(block_outputs.self_attn_scores) # 存储每个层的自注意力分数\n",
    "            cross_attn_scores.append(block_outputs.cross_attn_scores) # 存储每个层的交叉注意力分数\n",
    "\n",
    "        return TransformerDecoderOutput(\n",
    "            last_hidden_states=embeds,\n",
    "            self_attn_scores=self_attn_scores,\n",
    "            cross_attn_scores=cross_attn_scores,\n",
    "        )\n"
   ]
  },
  {
   "cell_type": "markdown",
   "metadata": {
    "id": "zPrvXAXtN4yF"
   },
   "source": [
    "#### mask\n",
    "\n",
    "- mask实际上大类上只有两种\n",
    "    1. `padding_mask`：mask掉`pad_idx`，不计算损失\n",
    "    2. `attention_mask`：mask掉`pad_idx`，不计算注意力分数\n",
    "- Decoder的`attention_mask`和Encoder有一定的区别：\n",
    "    - Encoder可以同时看见序列所有信息，故只mask掉`pad_idx`\n",
    "    - Decoder只能看到在自身之前的序列的信息，故要额外mask掉自身之后的序列"
   ]
  },
  {
   "cell_type": "code",
   "execution_count": 30,
   "metadata": {
    "ExecuteTime": {
     "end_time": "2024-08-05T08:06:25.527550400Z",
     "start_time": "2024-08-05T08:06:25.526551200Z"
    },
    "colab": {
     "base_uri": "https://localhost:8080/"
    },
    "execution": {
     "iopub.execute_input": "2025-08-06T23:21:55.847257Z",
     "iopub.status.busy": "2025-08-06T23:21:55.847058Z",
     "iopub.status.idle": "2025-08-06T23:21:55.853356Z",
     "shell.execute_reply": "2025-08-06T23:21:55.852897Z",
     "shell.execute_reply.started": "2025-08-06T23:21:55.847235Z"
    },
    "id": "D2N9VmcAWLn1",
    "outputId": "560b8af9-c854-4fd7-df3e-86e9eb9045cc",
    "tags": []
   },
   "outputs": [
    {
     "data": {
      "text/plain": [
       "tensor([[False,  True,  True,  True,  True],\n",
       "        [False, False,  True,  True,  True],\n",
       "        [False, False, False,  True,  True],\n",
       "        [False, False, False, False,  True],\n",
       "        [False, False, False, False, False]])"
      ]
     },
     "execution_count": 30,
     "metadata": {},
     "output_type": "execute_result"
    }
   ],
   "source": [
    "(torch.triu(torch.ones(5, 5)) == 0).transpose(-1,-2)"
   ]
  },
  {
   "cell_type": "code",
   "execution_count": 31,
   "metadata": {
    "ExecuteTime": {
     "end_time": "2024-08-05T08:06:26.193720900Z",
     "start_time": "2024-08-05T08:06:25.526551200Z"
    },
    "colab": {
     "base_uri": "https://localhost:8080/",
     "height": 426
    },
    "execution": {
     "iopub.execute_input": "2025-08-06T23:21:55.854084Z",
     "iopub.status.busy": "2025-08-06T23:21:55.853891Z",
     "iopub.status.idle": "2025-08-06T23:21:56.076165Z",
     "shell.execute_reply": "2025-08-06T23:21:56.075508Z",
     "shell.execute_reply.started": "2025-08-06T23:21:55.854062Z"
    },
    "id": "QxpSYOsaN4yF",
    "outputId": "1022d3c3-c72e-4798-b998-c71c6690b94e",
    "tags": []
   },
   "outputs": [
    {
     "data": {
      "image/png": "[encoded data removed]",
      "text/plain": [
       "<Figure size 480x480 with 2 Axes>"
      ]
     },
     "metadata": {},
     "output_type": "display_data"
    }
   ],
   "source": [
    "\n",
    "def generate_square_subsequent_mask(sz: int) -> Tensor:\n",
    "    \"\"\"\n",
    "    Generate a square mask for the sequence. The masked positions are filled with True.\n",
    "        Unmasked positions are filled with False.\n",
    "    \"\"\"\n",
    "    # torch.ones(sz, sz): 创建一个全为 1 的 sz × sz 的矩阵。\n",
    "    # torch.triu(...): 使用 triu 函数取得矩阵的上三角部分，将主对角线以下部分置零。\n",
    "    mask = (torch.triu(torch.ones(sz, sz)) == 0).transpose(-1, -2).bool()\n",
    "    # mask = torch.triu(torch.ones(sz, sz))\n",
    "    return mask\n",
    "\n",
    "\n",
    "plt.matshow(generate_square_subsequent_mask(16))\n",
    "plt.colorbar()\n",
    "plt.xlabel(\"keys\")\n",
    "plt.ylabel(\"querys\")\n",
    "plt.title(\"1 means mask while 0 means unmask\")\n",
    "plt.show()"
   ]
  },
  {
   "cell_type": "code",
   "execution_count": 32,
   "metadata": {
    "ExecuteTime": {
     "end_time": "2024-08-05T08:06:27.178084Z",
     "start_time": "2024-08-05T08:06:25.538543600Z"
    },
    "colab": {
     "base_uri": "https://localhost:8080/",
     "height": 960
    },
    "execution": {
     "iopub.execute_input": "2025-08-06T23:21:56.077082Z",
     "iopub.status.busy": "2025-08-06T23:21:56.076803Z",
     "iopub.status.idle": "2025-08-06T23:21:56.775844Z",
     "shell.execute_reply": "2025-08-06T23:21:56.775117Z",
     "shell.execute_reply.started": "2025-08-06T23:21:56.077052Z"
    },
    "id": "cPeMjXO1N4yF",
    "outputId": "e6922ce8-ba71-491f-d7a6-709a14a4b7d7",
    "tags": []
   },
   "outputs": [
    {
     "name": "stdout",
     "output_type": "stream",
     "text": [
      "['[BOS]', '[UNK]', '[UNK]', 'brown', '[UNK]', 'jumps', 'over', 'the', '[UNK]', 'dog', '.', '[EOS]']\n"
     ]
    },
    {
     "data": {
      "image/png": "[encoded data removed]",
      "text/plain": [
       "<Figure size 1000x500 with 2 Axes>"
      ]
     },
     "metadata": {},
     "output_type": "display_data"
    },
    {
     "name": "stdout",
     "output_type": "stream",
     "text": [
      "--------------------------------------------------\n",
      "['[BOS]', '[UNK]', 'does', 'the', '[UNK]', 'say', '?', '[EOS]', '[PAD]', '[PAD]', '[PAD]', '[PAD]']\n"
     ]
    },
    {
     "data": {
      "image/png": "[encoded data removed]",
      "text/plain": [
       "<Figure size 1000x500 with 2 Axes>"
      ]
     },
     "metadata": {},
     "output_type": "display_data"
    },
    {
     "name": "stdout",
     "output_type": "stream",
     "text": [
      "--------------------------------------------------\n"
     ]
    }
   ],
   "source": [
    "#通过下面代码查看mask的效果\n",
    "inputs_words = [\"The quick brown fox jumps over the lazy dog .\", \"What does the fox say ?\"]\n",
    "\n",
    "inputs_ids, input_mask = tokenizer.encode([w.split() for w in inputs_words], return_mask=True)\n",
    "for i in range(len(inputs_words)):\n",
    "    decode_text = tokenizer.decode(inputs_ids[i: i+1].tolist(), remove_bos=False, remove_eos=False, remove_pad=False, split=True)[0]\n",
    "    print(decode_text)\n",
    "    self_attn_mask  = input_mask[i].reshape(1, -1).repeat_interleave(inputs_ids.shape[-1], dim=0)\n",
    "    look_ahead_mask = generate_square_subsequent_mask(inputs_ids.shape[-1])\n",
    "\n",
    "    fig, axs = plt.subplots(1, 2, figsize=(10, 5))\n",
    "    axs[0].matshow(self_attn_mask)\n",
    "    axs[0].set_title(\"self_attn_mask\")\n",
    "    axs[0].set_yticks(range(len(decode_text)), decode_text, fontsize=6)\n",
    "    axs[0].set_ylabel(\"querys\")\n",
    "    axs[0].set_xticks(range(len(decode_text)), decode_text, fontsize=6)\n",
    "    axs[0].set_xlabel(\"keys\")\n",
    "    axs[1].matshow(look_ahead_mask)\n",
    "    axs[1].set_title(\"look_ahead_mask\")\n",
    "    axs[1].set_yticks(range(len(decode_text)), decode_text, fontsize=6)\n",
    "    axs[1].set_ylabel(\"querys\")\n",
    "    axs[1].set_xticks(range(len(decode_text)), decode_text, fontsize=6)\n",
    "    axs[1].set_xlabel(\"keys\")\n",
    "    plt.show()\n",
    "    print('-'*50)"
   ]
  },
  {
   "cell_type": "code",
   "execution_count": 33,
   "metadata": {
    "ExecuteTime": {
     "end_time": "2024-08-05T08:06:27.179078300Z",
     "start_time": "2024-08-05T08:06:26.513547400Z"
    },
    "collapsed": false,
    "execution": {
     "iopub.execute_input": "2025-08-06T23:21:56.776688Z",
     "iopub.status.busy": "2025-08-06T23:21:56.776460Z",
     "iopub.status.idle": "2025-08-06T23:21:56.782583Z",
     "shell.execute_reply": "2025-08-06T23:21:56.782077Z",
     "shell.execute_reply.started": "2025-08-06T23:21:56.776664Z"
    },
    "jupyter": {
     "outputs_hidden": false
    },
    "tags": []
   },
   "outputs": [
    {
     "data": {
      "text/plain": [
       "tensor([[False,  True,  True,  True,  True],\n",
       "        [False, False,  True,  True,  True],\n",
       "        [False, False, False,  True,  True],\n",
       "        [False, False, False, False,  True],\n",
       "        [False, False, False, False, False]])"
      ]
     },
     "execution_count": 33,
     "metadata": {},
     "output_type": "execute_result"
    }
   ],
   "source": [
    "(torch.triu(torch.ones(5, 5)) == 0).transpose(-1, -2).bool()"
   ]
  },
  {
   "cell_type": "code",
   "execution_count": 34,
   "metadata": {
    "ExecuteTime": {
     "end_time": "2024-08-05T08:06:27.234057200Z",
     "start_time": "2024-08-05T08:06:27.159090100Z"
    },
    "collapsed": false,
    "execution": {
     "iopub.execute_input": "2025-08-06T23:21:56.783325Z",
     "iopub.status.busy": "2025-08-06T23:21:56.783121Z",
     "iopub.status.idle": "2025-08-06T23:21:56.787493Z",
     "shell.execute_reply": "2025-08-06T23:21:56.787010Z",
     "shell.execute_reply.started": "2025-08-06T23:21:56.783303Z"
    },
    "jupyter": {
     "outputs_hidden": false
    },
    "tags": []
   },
   "outputs": [
    {
     "data": {
      "text/plain": [
       "torch.Size([5, 1, 4, 4])"
      ]
     },
     "execution_count": 34,
     "metadata": {},
     "output_type": "execute_result"
    }
   ],
   "source": [
    "#帮我随机两个[5, 1, 1, 4]与[1, 1, 4, 4]尺寸的张量，并求和\n",
    "a = torch.randn(5, 1, 1, 4)\n",
    "b = torch.randn(1, 1, 4, 4)\n",
    "(a + b).shape"
   ]
  },
  {
   "cell_type": "markdown",
   "metadata": {
    "id": "TelCDOoEN4yF"
   },
   "source": [
    "#### Transformer Model"
   ]
  },
  {
   "cell_type": "code",
   "execution_count": 35,
   "metadata": {
    "ExecuteTime": {
     "end_time": "2024-08-05T08:06:27.234057200Z",
     "start_time": "2024-08-05T08:06:27.160089800Z"
    },
    "execution": {
     "iopub.execute_input": "2025-08-06T23:21:56.788301Z",
     "iopub.status.busy": "2025-08-06T23:21:56.788090Z",
     "iopub.status.idle": "2025-08-06T23:21:56.808400Z",
     "shell.execute_reply": "2025-08-06T23:21:56.807914Z",
     "shell.execute_reply.started": "2025-08-06T23:21:56.788279Z"
    },
    "id": "oFGNt8FPN4yF",
    "tags": []
   },
   "outputs": [],
   "source": [
    "@dataclass\n",
    "class TransformerOutput:\n",
    "    logits: Tensor\n",
    "    encoder_last_hidden_states: Tensor\n",
    "    encoder_attn_scores: List[Tensor] #画图\n",
    "    decoder_last_hidden_states: Tensor\n",
    "    decoder_self_attn_scores: List[Tensor] #画图\n",
    "    decoder_cross_attn_scores: List[Tensor] #画图\n",
    "    preds: Optional[Tensor] = None\n",
    "\n",
    "class TransformerModel(nn.Module):\n",
    "    def __init__(self, config):\n",
    "        super().__init__()\n",
    "        # hyper params\n",
    "        self.hidden_size = config[\"d_model\"]\n",
    "        self.num_encoder_layers = config[\"num_encoder_layers\"]\n",
    "        self.num_decoder_layers = config[\"num_decoder_layers\"]\n",
    "        self.pad_idx = config[\"pad_idx\"]\n",
    "        self.bos_idx = config[\"bos_idx\"]\n",
    "        self.eos_idx = config[\"eos_idx\"]\n",
    "        self.vocab_size = config[\"vocab_size\"]\n",
    "        self.dropout_rate = config[\"dropout\"]\n",
    "        self.max_length = config[\"max_length\"]\n",
    "        self.share = config[\"share_embedding\"]\n",
    "\n",
    "        # layers\n",
    "        self.src_embedding = TransformerEmbedding(config) # 输入的嵌入层\n",
    "        if self.share:#如果共享词嵌入，则使用src_embedding作为trg_embedding\n",
    "            self.trg_embedding = self.src_embedding #源和目标的嵌入层相同，共享参数，节省内存\n",
    "            self.linear = lambda x: torch.matmul(\n",
    "                x, self.trg_embedding.get_word_embedding_weights().T\n",
    "            ) # 输出层，共享参数，直接拿原有embedding矩阵的转置，节省内存\n",
    "        else:\n",
    "            self.trg_embedding = TransformerEmbedding(config) #decoder模块的嵌入层\n",
    "            self.linear = nn.Linear(self.hidden_size, self.vocab_size) # 输出层\n",
    "\n",
    "        self.encoder = TransformerEncoder(config)\n",
    "        self.decoder = TransformerDecoder(config)\n",
    "\n",
    "        # init weights\n",
    "        self._init_weights()\n",
    "\n",
    "    def _init_weights(self):\n",
    "        \"\"\"使用 xavier 均匀分布来初始化权重\"\"\"\n",
    "        for p in self.parameters():\n",
    "            if p.dim() > 1:\n",
    "                nn.init.xavier_uniform_(p)\n",
    "\n",
    "    def generate_square_subsequent_mask(self, sz: int) -> Tensor:\n",
    "        \"\"\"\n",
    "        Generate a square mask for the sequence. The masked positions are filled with True.\n",
    "            Unmasked positions are filled with False.为了生成斜三角的mask\n",
    "        \"\"\"\n",
    "        mask = (torch.triu(torch.ones(sz, sz)) == 0).transpose(-1, -2).bool()\n",
    "\n",
    "        return mask\n",
    "\n",
    "    def forward(\n",
    "        self, encoder_inputs, decoder_inputs, encoder_inputs_mask=None\n",
    "    ) -> TransformerOutput:\n",
    "        # encoder_inputs: [batch_size, src_len]\n",
    "        # decoder_inputs: [batch_size, trg_len]\n",
    "        # encoder_inputs_mask: [batch_size, src_len]\n",
    "        if encoder_inputs_mask is None:\n",
    "            encoder_inputs_mask = encoder_inputs.eq(self.pad_idx) # [batch_size, src_len]\n",
    "        encoder_inputs_mask = encoder_inputs_mask.unsqueeze(1).unsqueeze(\n",
    "            2\n",
    "        )  # [batch_size, 1, 1, src_len],用于encoder的自注意力\n",
    "        look_ahead_mask = self.generate_square_subsequent_mask(decoder_inputs.shape[1])\n",
    "        look_ahead_mask = (\n",
    "            look_ahead_mask.unsqueeze(0).unsqueeze(0).to(decoder_inputs.device)\n",
    "        )  #[trg_len, trg_len]--> [1, 1, trg_len, trg_len],用于decoder的自注意力\n",
    "        #增加decoder_inputs_mask和look_ahead_mask进行组合\n",
    "        decoder_inputs_mask = decoder_inputs.eq(self.pad_idx) # [batch_size, trg_len]，和上面encoder_inputs_mask一致\n",
    "        # print(decoder_inputs_mask.shape)\n",
    "        decoder_inputs_mask = decoder_inputs_mask.unsqueeze(1).unsqueeze(2)  # [batch_size, 1, 1, trg_len]\n",
    "        # print(decoder_inputs_mask.shape)\n",
    "        decoder_inputs_mask = decoder_inputs_mask + look_ahead_mask # [batch_size, 1, 1, trg_len]与[1, 1, trg_len, trg_len]相加，得到decoder的自注意力mask\n",
    "\n",
    "        # encoding\n",
    "        encoder_inputs_embeds = self.src_embedding(encoder_inputs)\n",
    "        encoder_outputs = self.encoder(encoder_inputs_embeds, encoder_inputs_mask) #encoder_inputs_mask用于encoder的自注意力,广播去做计算\n",
    "\n",
    "        # decoding\n",
    "        decoder_inputs_embeds = self.trg_embedding(decoder_inputs)\n",
    "        decoder_outputs = self.decoder(\n",
    "            decoder_inputs_embeds=decoder_inputs_embeds,\n",
    "            encoder_outputs=encoder_outputs.last_hidden_states,\n",
    "            attn_mask=decoder_inputs_mask, #用于decoder的自注意力,广播去做计算\n",
    "            cross_attn_mask=encoder_inputs_mask,#用于decoder的交叉注意力,广播去做计算\n",
    "        )\n",
    "\n",
    "        logits = self.linear(decoder_outputs.last_hidden_states) # [batch_size, trg_len, vocab_size]\n",
    "\n",
    "        return TransformerOutput(\n",
    "            logits=logits,\n",
    "            encoder_last_hidden_states=encoder_outputs.last_hidden_states,\n",
    "            encoder_attn_scores=encoder_outputs.attn_scores,\n",
    "            decoder_last_hidden_states=decoder_outputs.last_hidden_states,\n",
    "            decoder_self_attn_scores=decoder_outputs.self_attn_scores,\n",
    "            decoder_cross_attn_scores=decoder_outputs.cross_attn_scores,\n",
    "        )\n",
    "\n",
    "    @torch.no_grad()\n",
    "    def infer(self, encoder_inputs, encoder_inputs_mask=None) -> Tensor:\n",
    "        # assert len(encoder_inputs.shape) == 2 and encoder_inputs.shape[0] == 1\n",
    "        if encoder_inputs_mask is None:#应对多个样本同时进行推理\n",
    "            encoder_inputs_mask = encoder_inputs.eq(self.pad_idx)\n",
    "        encoder_inputs_mask = encoder_inputs_mask.unsqueeze(1).unsqueeze(2)  # [batch_size, 1, 1, src_len],[1,src_len]相加时，会自动广播到[batch_size,1,src_len,src_len]\n",
    "        look_ahead_mask = self.generate_square_subsequent_mask(self.max_length)\n",
    "        look_ahead_mask = (\n",
    "            look_ahead_mask.unsqueeze(0).unsqueeze(0).to(encoder_inputs.device)\n",
    "        )  # [1, 1, trg_len, trg_len]\n",
    "\n",
    "        # encoding\n",
    "        encoder_inputs_embeds = self.src_embedding(encoder_inputs)\n",
    "        encoder_outputs = self.encoder(encoder_inputs_embeds) #因为只支持单样本预测，没有paddings，所以不需要mask\n",
    "\n",
    "        # decoding,多样本推理\n",
    "        decoder_inputs = torch.Tensor([self.bos_idx] * encoder_inputs.shape[0]).reshape(-1, 1).long().to(device=encoder_inputs.device)\n",
    "        for cur_len in tqdm(range(1, self.max_length + 1)):\n",
    "            decoder_inputs_embeds = self.trg_embedding(decoder_inputs)\n",
    "            decoder_outputs = self.decoder(\n",
    "                decoder_inputs_embeds=decoder_inputs_embeds,\n",
    "                encoder_outputs=encoder_outputs.last_hidden_states,\n",
    "                attn_mask=look_ahead_mask[:, :, :cur_len, :cur_len],#decoder的自注意力mask\n",
    "            )\n",
    "\n",
    "            logits = self.linear(decoder_outputs.last_hidden_states)\n",
    "            next_token = logits.argmax(dim=-1)[:, -1:] #通过最大下标确定类别，[:, -1:]表示取最后一个结果\n",
    "            decoder_inputs = torch.cat([decoder_inputs, next_token], dim=-1) #预测输出拼接到输入中\n",
    "            #(decoder_inputs == self.eos_idx).sum(dim=-1)是判断样本中是否含有EOS标记\n",
    "            #all是每一个都为True，才会结束\n",
    "            if all((decoder_inputs == self.eos_idx).sum(dim=-1) > 0):\n",
    "                break\n",
    "\n",
    "        return TransformerOutput(\n",
    "            preds=decoder_inputs[:, 1:],\n",
    "            logits=logits,\n",
    "            encoder_last_hidden_states=encoder_outputs.last_hidden_states,\n",
    "            encoder_attn_scores=encoder_outputs.attn_scores,\n",
    "            decoder_last_hidden_states=decoder_outputs.last_hidden_states,\n",
    "            decoder_self_attn_scores=decoder_outputs.self_attn_scores,\n",
    "            decoder_cross_attn_scores=decoder_outputs.cross_attn_scores,\n",
    "        )"
   ]
  },
  {
   "cell_type": "markdown",
   "metadata": {
    "id": "kXHQ3sGTN4yG"
   },
   "source": [
    "## 训练"
   ]
  },
  {
   "cell_type": "markdown",
   "metadata": {
    "id": "OxNA8DIzN4yG"
   },
   "source": [
    "### 损失函数"
   ]
  },
  {
   "cell_type": "code",
   "execution_count": 36,
   "metadata": {
    "ExecuteTime": {
     "end_time": "2024-08-05T08:06:27.234057200Z",
     "start_time": "2024-08-05T08:06:27.160089800Z"
    },
    "execution": {
     "iopub.execute_input": "2025-08-06T23:21:56.809112Z",
     "iopub.status.busy": "2025-08-06T23:21:56.808909Z",
     "iopub.status.idle": "2025-08-06T23:21:56.814063Z",
     "shell.execute_reply": "2025-08-06T23:21:56.813406Z",
     "shell.execute_reply.started": "2025-08-06T23:21:56.809090Z"
    },
    "id": "1xzahHANN4yG",
    "tags": []
   },
   "outputs": [],
   "source": [
    "class CrossEntropyWithPadding:\n",
    "    def __init__(self, config):\n",
    "        self.label_smoothing = config[\"label_smoothing\"]\n",
    "\n",
    "    def __call__(self, logits, labels, padding_mask=None):\n",
    "        # logits.shape = [batch size, sequence length, num of classes]\n",
    "        # labels.shape = [batch size, sequence length]\n",
    "        # padding_mask.shape = [batch size, sequence length]\n",
    "        bs, seq_len, nc = logits.shape\n",
    "        loss = F.cross_entropy(logits.reshape(bs * seq_len, nc), labels.reshape(-1), reduce=False, label_smoothing=self.label_smoothing) #label_smoothing表示随机将一个类别的概率设置为0.1，使得模型更加关注其他类别\n",
    "        if padding_mask is None:\n",
    "            loss = loss.mean()\n",
    "        else:\n",
    "            padding_mask = 1 - padding_mask.reshape(-1) #将padding_mask reshape成一维张量，mask部分为0，非mask部分为1\n",
    "            loss = torch.mul(loss, padding_mask).sum() / padding_mask.sum()\n",
    "\n",
    "        return loss\n"
   ]
  },
  {
   "cell_type": "markdown",
   "metadata": {
    "id": "zuBC9KqFN4yG"
   },
   "source": [
    "### 学习率衰减"
   ]
  },
  {
   "cell_type": "code",
   "execution_count": 37,
   "metadata": {
    "ExecuteTime": {
     "end_time": "2024-08-05T08:06:27.235056800Z",
     "start_time": "2024-08-05T08:06:27.160089800Z"
    },
    "collapsed": false,
    "execution": {
     "iopub.execute_input": "2025-08-06T23:21:56.814758Z",
     "iopub.status.busy": "2025-08-06T23:21:56.814594Z",
     "iopub.status.idle": "2025-08-06T23:21:56.967131Z",
     "shell.execute_reply": "2025-08-06T23:21:56.966555Z",
     "shell.execute_reply.started": "2025-08-06T23:21:56.814740Z"
    },
    "jupyter": {
     "outputs_hidden": false
    }
   },
   "outputs": [
    {
     "data": {
      "text/plain": [
       "[<matplotlib.lines.Line2D at 0x7f5159ae6200>]"
      ]
     },
     "execution_count": 37,
     "metadata": {},
     "output_type": "execute_result"
    },
    {
     "data": {
      "image/png": "[encoded data removed]",
      "text/plain": [
       "<Figure size 640x480 with 1 Axes>"
      ]
     },
     "metadata": {},
     "output_type": "display_data"
    }
   ],
   "source": [
    "x=np.arange(1, 40000)\n",
    "plt.plot(x, x * (4000 ** (-1.5)))"
   ]
  },
  {
   "cell_type": "code",
   "execution_count": 38,
   "metadata": {
    "ExecuteTime": {
     "end_time": "2024-08-05T08:06:27.235056800Z",
     "start_time": "2024-08-05T08:06:27.161089200Z"
    },
    "collapsed": false,
    "execution": {
     "iopub.execute_input": "2025-08-06T23:21:56.967898Z",
     "iopub.status.busy": "2025-08-06T23:21:56.967659Z",
     "iopub.status.idle": "2025-08-06T23:21:56.971834Z",
     "shell.execute_reply": "2025-08-06T23:21:56.971306Z",
     "shell.execute_reply.started": "2025-08-06T23:21:56.967871Z"
    },
    "jupyter": {
     "outputs_hidden": false
    },
    "tags": []
   },
   "outputs": [
    {
     "data": {
      "text/plain": [
       "22.627416997969522"
      ]
     },
     "execution_count": 38,
     "metadata": {},
     "output_type": "execute_result"
    }
   ],
   "source": [
    "np.sqrt(512)"
   ]
  },
  {
   "cell_type": "code",
   "execution_count": 39,
   "metadata": {
    "ExecuteTime": {
     "end_time": "2024-08-05T08:06:27.235056800Z",
     "start_time": "2024-08-05T08:06:27.161089200Z"
    },
    "colab": {
     "base_uri": "https://localhost:8080/",
     "height": 449
    },
    "execution": {
     "iopub.execute_input": "2025-08-06T23:21:56.972715Z",
     "iopub.status.busy": "2025-08-06T23:21:56.972457Z",
     "iopub.status.idle": "2025-08-06T23:21:57.093284Z",
     "shell.execute_reply": "2025-08-06T23:21:57.092747Z",
     "shell.execute_reply.started": "2025-08-06T23:21:56.972690Z"
    },
    "id": "UQPiKK4nN4yG",
    "outputId": "63cfb132-ef75-4f94-f0c8-86a2f36e09c2"
   },
   "outputs": [
    {
     "data": {
      "image/png": "[encoded data removed]",
      "text/plain": [
       "<Figure size 640x480 with 1 Axes>"
      ]
     },
     "metadata": {},
     "output_type": "display_data"
    }
   ],
   "source": [
    "# NoamDecayScheduler 是一个自定义或外部定义的学习率衰减调度器类。它需要接收配置 config 作为参数，可能实现了特定的学习率衰减方案\n",
    "class NoamDecayScheduler:\n",
    "    def __init__(self, config):\n",
    "        self.d_model = config[\"d_model\"]\n",
    "        self.warmup_steps = config[\"warmup_steps\"]\n",
    "\n",
    "    def __call__(self, step):\n",
    "        step += 1\n",
    "        arg1 = step ** (-0.5) #4000步之后是arg1\n",
    "        arg2 = step * (self.warmup_steps ** (-1.5))  #4000步之前是arg2\n",
    "\n",
    "        arg3 = self.d_model ** (-0.5)\n",
    "\n",
    "        return arg3 * np.minimum(arg1, arg2)\n",
    "\n",
    "\n",
    "temp_learning_rate_schedule = NoamDecayScheduler({\"d_model\": 512, \"warmup_steps\": 4000})\n",
    "#下面是学习率的设计图\n",
    "plt.plot(temp_learning_rate_schedule(np.arange(0, 40000)))\n",
    "plt.ylabel(\"Leraning rate\")\n",
    "plt.xlabel(\"Train step\")\n",
    "plt.show()\n"
   ]
  },
  {
   "cell_type": "markdown",
   "metadata": {
    "id": "XHj_EjzlN4yW"
   },
   "source": [
    "### 优化器"
   ]
  },
  {
   "cell_type": "code",
   "execution_count": 40,
   "metadata": {
    "ExecuteTime": {
     "end_time": "2024-08-05T08:06:27.240054200Z",
     "start_time": "2024-08-05T08:06:27.161089200Z"
    },
    "execution": {
     "iopub.execute_input": "2025-08-06T23:21:57.094077Z",
     "iopub.status.busy": "2025-08-06T23:21:57.093839Z",
     "iopub.status.idle": "2025-08-06T23:21:57.098115Z",
     "shell.execute_reply": "2025-08-06T23:21:57.097563Z",
     "shell.execute_reply.started": "2025-08-06T23:21:57.094050Z"
    },
    "id": "1EVLKx2rN4yW",
    "tags": []
   },
   "outputs": [],
   "source": [
    "from torch.optim.lr_scheduler import LambdaLR\n",
    "from torch.optim import Adam\n",
    "\n",
    "def get_optimizer(model, config):\n",
    "    base_lr = 0.1\n",
    "    beta1 = config[\"beta1\"] # Adam 的 beta1\n",
    "    beta2 = config[\"beta2\"] # Adam 的 beta2\n",
    "    eps = config[\"eps\"]\n",
    "    optimizer = Adam(model.parameters(), lr=base_lr, betas=(beta1, beta2), eps=eps)\n",
    "    lr_scheduler = NoamDecayScheduler(config) #config是一个字典，包含了学习率衰减的参数\n",
    "    # 使用 LambdaLR 调度器，它可以根据给定的函数 lr_lambda 调整学习率。这里将 lr_scheduler 作为函数传递给 LambdaLR，它包含了特定于模型或任务的学习率调度规则\n",
    "    scheduler = LambdaLR(optimizer, lr_lambda=lr_scheduler)\n",
    "    return optimizer, scheduler"
   ]
  },
  {
   "cell_type": "markdown",
   "metadata": {
    "id": "JBhiO7O2N4yW"
   },
   "source": [
    "### Callback"
   ]
  },
  {
   "cell_type": "code",
   "execution_count": 41,
   "metadata": {
    "ExecuteTime": {
     "end_time": "2024-08-05T08:06:36.478359Z",
     "start_time": "2024-08-05T08:06:27.161089200Z"
    },
    "execution": {
     "iopub.execute_input": "2025-08-06T23:21:57.098983Z",
     "iopub.status.busy": "2025-08-06T23:21:57.098735Z",
     "iopub.status.idle": "2025-08-06T23:21:57.156237Z",
     "shell.execute_reply": "2025-08-06T23:21:57.155808Z",
     "shell.execute_reply.started": "2025-08-06T23:21:57.098948Z"
    },
    "id": "rWFMJwBkN4yX",
    "tags": []
   },
   "outputs": [],
   "source": [
    "from torch.utils.tensorboard import SummaryWriter\n",
    "\n",
    "\n",
    "class TensorBoardCallback:\n",
    "    def __init__(self, log_dir, flush_secs=10):\n",
    "        \"\"\"\n",
    "        Args:\n",
    "            log_dir (str): dir to write log.\n",
    "            flush_secs (int, optional): write to dsk each flush_secs seconds. Defaults to 10.\n",
    "        \"\"\"\n",
    "        self.writer = SummaryWriter(log_dir=log_dir, flush_secs=flush_secs)\n",
    "\n",
    "    def draw_model(self, model, input_shape):\n",
    "        self.writer.add_graph(model, input_to_model=torch.randn(input_shape))\n",
    "\n",
    "    def add_loss_scalars(self, step, loss, val_loss):\n",
    "        self.writer.add_scalars(\n",
    "            main_tag=\"training/loss\",\n",
    "            tag_scalar_dict={\"loss\": loss, \"val_loss\": val_loss},\n",
    "            global_step=step,\n",
    "            )\n",
    "\n",
    "    def add_acc_scalars(self, step, acc, val_acc):\n",
    "        self.writer.add_scalars(\n",
    "            main_tag=\"training/accuracy\",\n",
    "            tag_scalar_dict={\"accuracy\": acc, \"val_accuracy\": val_acc},\n",
    "            global_step=step,\n",
    "        )\n",
    "\n",
    "    def add_lr_scalars(self, step, learning_rate):\n",
    "        self.writer.add_scalars(\n",
    "            main_tag=\"training/learning_rate\",\n",
    "            tag_scalar_dict={\"learning_rate\": learning_rate},\n",
    "            global_step=step,\n",
    "\n",
    "        )\n",
    "\n",
    "    def __call__(self, step, **kwargs):\n",
    "        # add loss\n",
    "        loss = kwargs.pop(\"loss\", None)\n",
    "        val_loss = kwargs.pop(\"val_loss\", None)\n",
    "        if loss is not None and val_loss is not None:\n",
    "            self.add_loss_scalars(step, loss, val_loss)\n",
    "        # add acc\n",
    "        acc = kwargs.pop(\"acc\", None)\n",
    "        val_acc = kwargs.pop(\"val_acc\", None)\n",
    "        if acc is not None and val_acc is not None:\n",
    "            self.add_acc_scalars(step, acc, val_acc)\n",
    "        # add lr\n",
    "        learning_rate = kwargs.pop(\"lr\", None)\n",
    "        if learning_rate is not None:\n",
    "            self.add_lr_scalars(step, learning_rate)\n"
   ]
  },
  {
   "cell_type": "code",
   "execution_count": 42,
   "metadata": {
    "ExecuteTime": {
     "end_time": "2024-08-05T08:06:36.486389200Z",
     "start_time": "2024-08-05T08:06:36.483880700Z"
    },
    "execution": {
     "iopub.execute_input": "2025-08-06T23:21:57.157069Z",
     "iopub.status.busy": "2025-08-06T23:21:57.156725Z",
     "iopub.status.idle": "2025-08-06T23:21:57.162092Z",
     "shell.execute_reply": "2025-08-06T23:21:57.161511Z",
     "shell.execute_reply.started": "2025-08-06T23:21:57.157042Z"
    },
    "id": "64y_NBHMN4yX",
    "tags": []
   },
   "outputs": [],
   "source": [
    "class SaveCheckpointsCallback:\n",
    "    def __init__(self, save_dir, save_step=5000, save_best_only=True):\n",
    "        \"\"\"\n",
    "        Save checkpoints each save_epoch epoch.\n",
    "        We save checkpoint by epoch in this implementation.\n",
    "        Usually, training scripts with pytorch evaluating model and save checkpoint by step.\n",
    "\n",
    "        Args:\n",
    "            save_dir (str): dir to save checkpoint\n",
    "            save_epoch (int, optional): the frequency to save checkpoint. Defaults to 1.\n",
    "            save_best_only (bool, optional): If True, only save the best model or save each model at every epoch.\n",
    "        \"\"\"\n",
    "        self.save_dir = save_dir\n",
    "        self.save_step = save_step\n",
    "        self.save_best_only = save_best_only\n",
    "        self.best_metrics = - np.inf\n",
    "\n",
    "        # mkdir\n",
    "        if not os.path.exists(self.save_dir):\n",
    "            os.mkdir(self.save_dir)\n",
    "\n",
    "    def __call__(self, step, state_dict, metric=None):\n",
    "        if step % self.save_step > 0:\n",
    "            return\n",
    "\n",
    "        if self.save_best_only:\n",
    "            assert metric is not None\n",
    "            if metric >= self.best_metrics:\n",
    "                # save checkpoints\n",
    "                torch.save(state_dict, os.path.join(self.save_dir, \"best.ckpt\"))\n",
    "                # update best metrics\n",
    "                self.best_metrics = metric\n",
    "        else:\n",
    "            torch.save(state_dict, os.path.join(self.save_dir, f\"{step}.ckpt\"))\n",
    "\n"
   ]
  },
  {
   "cell_type": "code",
   "execution_count": 43,
   "metadata": {
    "ExecuteTime": {
     "end_time": "2024-08-05T08:06:36.523266500Z",
     "start_time": "2024-08-05T08:06:36.494383100Z"
    },
    "execution": {
     "iopub.execute_input": "2025-08-06T23:21:57.163018Z",
     "iopub.status.busy": "2025-08-06T23:21:57.162775Z",
     "iopub.status.idle": "2025-08-06T23:21:57.167305Z",
     "shell.execute_reply": "2025-08-06T23:21:57.166722Z",
     "shell.execute_reply.started": "2025-08-06T23:21:57.162992Z"
    },
    "id": "Uk4PEb70N4yX",
    "tags": []
   },
   "outputs": [],
   "source": [
    "class EarlyStopCallback:\n",
    "    def __init__(self, patience=5, min_delta=0.01):\n",
    "        \"\"\"\n",
    "\n",
    "        Args:\n",
    "            patience (int, optional): Number of epochs with no improvement after which training will be stopped.. Defaults to 5.\n",
    "            min_delta (float, optional): Minimum change in the monitored quantity to qualify as an improvement, i.e. an absolute\n",
    "                change of less than min_delta, will count as no improvement. Defaults to 0.01.\n",
    "        \"\"\"\n",
    "        self.patience = patience\n",
    "        self.min_delta = min_delta\n",
    "        self.best_metric = - np.inf\n",
    "        self.counter = 0\n",
    "\n",
    "    def __call__(self, metric):\n",
    "        if metric >= self.best_metric + self.min_delta:\n",
    "            # update best metric\n",
    "            self.best_metric = metric\n",
    "            # reset counter\n",
    "            self.counter = 0\n",
    "        else:\n",
    "            self.counter += 1\n",
    "\n",
    "    @property\n",
    "    def early_stop(self):\n",
    "        return self.counter >= self.patience\n"
   ]
  },
  {
   "cell_type": "markdown",
   "metadata": {
    "id": "_AB84Qx1N4yX"
   },
   "source": [
    "### training & valuating"
   ]
  },
  {
   "cell_type": "code",
   "execution_count": 44,
   "metadata": {
    "ExecuteTime": {
     "end_time": "2024-08-05T08:06:36.525265400Z",
     "start_time": "2024-08-05T08:06:36.503642Z"
    },
    "execution": {
     "iopub.execute_input": "2025-08-06T23:21:57.168224Z",
     "iopub.status.busy": "2025-08-06T23:21:57.167969Z",
     "iopub.status.idle": "2025-08-06T23:21:57.172564Z",
     "shell.execute_reply": "2025-08-06T23:21:57.171999Z",
     "shell.execute_reply.started": "2025-08-06T23:21:57.168198Z"
    },
    "id": "1mKPSFkON4yX",
    "tags": []
   },
   "outputs": [],
   "source": [
    "@torch.no_grad()\n",
    "def evaluating(model, dataloader, loss_fct):\n",
    "    loss_list = []\n",
    "    for batch in dataloader:\n",
    "        encoder_inputs = batch[\"encoder_inputs\"]\n",
    "        encoder_inputs_mask = batch[\"encoder_inputs_mask\"]\n",
    "        decoder_inputs = batch[\"decoder_inputs\"]\n",
    "        decoder_labels = batch[\"decoder_labels\"]\n",
    "        decoder_labels_mask = batch[\"decoder_labels_mask\"]\n",
    "\n",
    "        # 前向计算\n",
    "        outputs = model(\n",
    "            encoder_inputs=encoder_inputs,\n",
    "            decoder_inputs=decoder_inputs,\n",
    "            encoder_inputs_mask=encoder_inputs_mask\n",
    "            )\n",
    "        logits = outputs.logits\n",
    "        loss = loss_fct(logits, decoder_labels, padding_mask=decoder_labels_mask)         # 验证集损失\n",
    "        loss_list.append(loss.cpu().item())\n",
    "\n",
    "    return np.mean(loss_list)\n"
   ]
  },
  {
   "cell_type": "code",
   "execution_count": 45,
   "metadata": {
    "ExecuteTime": {
     "end_time": "2024-08-05T08:06:36.549252Z",
     "start_time": "2024-08-05T08:06:36.514271Z"
    },
    "execution": {
     "iopub.execute_input": "2025-08-06T23:21:57.173333Z",
     "iopub.status.busy": "2025-08-06T23:21:57.173086Z",
     "iopub.status.idle": "2025-08-06T23:21:57.182402Z",
     "shell.execute_reply": "2025-08-06T23:21:57.181938Z",
     "shell.execute_reply.started": "2025-08-06T23:21:57.173307Z"
    },
    "id": "PClBmtgWN4yY",
    "tags": []
   },
   "outputs": [],
   "source": [
    "# 训练\n",
    "def training(\n",
    "    model,\n",
    "    train_loader,\n",
    "    val_loader,\n",
    "    epoch,\n",
    "    loss_fct,\n",
    "    optimizer,\n",
    "    scheduler=None,\n",
    "    tensorboard_callback=None,\n",
    "    save_ckpt_callback=None,\n",
    "    early_stop_callback=None,\n",
    "    eval_step=500,\n",
    "    ):\n",
    "    record_dict = {\n",
    "        \"train\": [],\n",
    "        \"val\": []\n",
    "    }\n",
    "\n",
    "    global_step = 1\n",
    "    model.train()\n",
    "    with tqdm(total=epoch * len(train_loader)) as pbar:\n",
    "        for epoch_id in range(epoch):\n",
    "            # training\n",
    "            for batch in train_loader:\n",
    "                encoder_inputs = batch[\"encoder_inputs\"]\n",
    "                encoder_inputs_mask = batch[\"encoder_inputs_mask\"]\n",
    "                decoder_inputs = batch[\"decoder_inputs\"]\n",
    "                decoder_labels = batch[\"decoder_labels\"]\n",
    "                decoder_labels_mask = batch[\"decoder_labels_mask\"]\n",
    "                # 梯度清空\n",
    "                optimizer.zero_grad()\n",
    "\n",
    "                # 前向计算\n",
    "                outputs = model(\n",
    "                    encoder_inputs=encoder_inputs,\n",
    "                    decoder_inputs=decoder_inputs,\n",
    "                    encoder_inputs_mask=encoder_inputs_mask\n",
    "                    )\n",
    "                logits = outputs.logits\n",
    "                loss = loss_fct(logits, decoder_labels, padding_mask=decoder_labels_mask)\n",
    "\n",
    "                # 梯度回传\n",
    "                loss.backward()\n",
    "\n",
    "                # 调整优化器，包括学习率的变动等\n",
    "                optimizer.step()\n",
    "                if scheduler is not None:\n",
    "                    scheduler.step() # 更新学习率\n",
    "\n",
    "                loss = loss.cpu().item()\n",
    "                # record\n",
    "                record_dict[\"train\"].append({\n",
    "                    \"loss\": loss, \"step\": global_step\n",
    "                })\n",
    "\n",
    "                # evaluating\n",
    "                if global_step % eval_step == 0:\n",
    "                    model.eval()\n",
    "                    val_loss = evaluating(model, val_loader, loss_fct)\n",
    "                    record_dict[\"val\"].append({\n",
    "                        \"loss\": val_loss, \"step\": global_step\n",
    "                    })\n",
    "                    model.train()\n",
    "\n",
    "                    # 1. 使用 tensorboard 可视化\n",
    "                    cur_lr = optimizer.param_groups[0][\"lr\"] if scheduler is None else scheduler.get_last_lr()[0]\n",
    "                    if tensorboard_callback is not None:\n",
    "                        tensorboard_callback(\n",
    "                            global_step,\n",
    "                            loss=loss, val_loss=val_loss,\n",
    "                            lr=cur_lr,\n",
    "                            )\n",
    "\n",
    "                    # 2. 保存模型权重 save model checkpoint\n",
    "                    if save_ckpt_callback is not None:\n",
    "                        save_ckpt_callback(global_step, model.state_dict(), metric=-val_loss)\n",
    "\n",
    "                    # 3. 早停 Early Stop\n",
    "                    if early_stop_callback is not None:\n",
    "                        early_stop_callback(-val_loss)\n",
    "                        if early_stop_callback.early_stop:\n",
    "                            print(f\"Early stop at epoch {epoch_id} / global_step {global_step}\")\n",
    "                            return record_dict\n",
    "\n",
    "                # udate step\n",
    "                global_step += 1\n",
    "                pbar.update(1)\n",
    "            pbar.set_postfix({\"epoch\": epoch_id, \"loss\": loss, \"val_loss\": val_loss})\n",
    "\n",
    "    return record_dict\n"
   ]
  },
  {
   "cell_type": "code",
   "execution_count": 46,
   "metadata": {
    "ExecuteTime": {
     "end_time": "2024-08-05T08:06:36.628920Z",
     "start_time": "2024-08-05T08:06:36.541257800Z"
    },
    "colab": {
     "base_uri": "https://localhost:8080/"
    },
    "execution": {
     "iopub.execute_input": "2025-08-06T23:21:57.183200Z",
     "iopub.status.busy": "2025-08-06T23:21:57.182954Z",
     "iopub.status.idle": "2025-08-06T23:21:57.316171Z",
     "shell.execute_reply": "2025-08-06T23:21:57.315564Z",
     "shell.execute_reply.started": "2025-08-06T23:21:57.183172Z"
    },
    "id": "khZqMS8pN4yY",
    "outputId": "2367a363-585b-4321-f7ea-cb11d9623008",
    "tags": []
   },
   "outputs": [
    {
     "name": "stdout",
     "output_type": "stream",
     "text": [
      "save cache to wmt16/.cache/de2en_train_128.npy\n",
      "save cache to wmt16/.cache/de2en_val_128.npy\n"
     ]
    }
   ],
   "source": [
    "#模型的超参\n",
    "config = {\n",
    "    \"bos_idx\": 1,\n",
    "    \"eos_idx\": 3,\n",
    "    \"pad_idx\": 0,\n",
    "    \"vocab_size\": len(word2idx),\n",
    "    \"max_length\": 128,\n",
    "    \"d_model\": 512,\n",
    "    \"dim_feedforward\": 2048, # FFN 的隐藏层大小\n",
    "    \"dropout\": 0.1,\n",
    "    \"layer_norm_eps\": 1e-6, # 层归一化的 epsilon, 防止除零错误\n",
    "    \"num_heads\": 8,\n",
    "    \"num_decoder_layers\": 6,\n",
    "    \"num_encoder_layers\": 6,\n",
    "    \"label_smoothing\": 0.1,\n",
    "    \"beta1\": 0.9, # Adam 的 beta1\n",
    "    \"beta2\": 0.98,\n",
    "    \"eps\": 1e-9,\n",
    "    \"warmup_steps\": 4_000,\n",
    "    \"share_embedding\": False, # 是否共享词向量\n",
    "    }\n",
    "\n",
    "\n",
    "def get_dl(dataset, batch_size, shuffle=True):\n",
    "    sampler = TransformerBatchSampler(dataset, batch_size=batch_size, shuffle_batch=shuffle)\n",
    "    sample_dl = DataLoader(dataset, batch_sampler=sampler, collate_fn=partial(collate_fct, tokenizer=tokenizer))\n",
    "    return sample_dl\n",
    "\n",
    "# dataset\n",
    "train_ds = LangPairDataset(\"train\", max_length=config[\"max_length\"])\n",
    "val_ds = LangPairDataset(\"val\", max_length=config[\"max_length\"])\n",
    "# tokenizer\n",
    "tokenizer = Tokenizer(word2idx=word2idx, idx2word=idx2word, max_length=config[\"max_length\"])\n",
    "batch_size = 2048\n",
    "# dataloader\n",
    "train_dl = get_dl(train_ds, batch_size=batch_size, shuffle=True)\n",
    "val_dl = get_dl(val_ds, batch_size=batch_size, shuffle=False)"
   ]
  },
  {
   "cell_type": "code",
   "execution_count": 47,
   "metadata": {
    "ExecuteTime": {
     "end_time": "2024-08-05T08:52:53.233851300Z",
     "start_time": "2024-08-05T08:52:51.458743700Z"
    },
    "collapsed": false,
    "execution": {
     "iopub.execute_input": "2025-08-06T23:21:57.317073Z",
     "iopub.status.busy": "2025-08-06T23:21:57.316810Z",
     "iopub.status.idle": "2025-08-06T23:21:57.930584Z",
     "shell.execute_reply": "2025-08-06T23:21:57.930067Z",
     "shell.execute_reply.started": "2025-08-06T23:21:57.317044Z"
    },
    "jupyter": {
     "outputs_hidden": false
    },
    "tags": []
   },
   "outputs": [
    {
     "name": "stdout",
     "output_type": "stream",
     "text": [
      "模型参数量: 59038198\n"
     ]
    }
   ],
   "source": [
    "#计算模型参数量\n",
    "model = TransformerModel(config)\n",
    "print(f\"模型参数量: {sum(p.numel() for p in model.parameters() if p.requires_grad)}\")"
   ]
  },
  {
   "cell_type": "code",
   "execution_count": 48,
   "metadata": {
    "ExecuteTime": {
     "end_time": "2024-05-07T08:52:38.372364400Z",
     "start_time": "2024-05-07T08:52:38.191467100Z"
    },
    "colab": {
     "base_uri": "https://localhost:8080/"
    },
    "execution": {
     "iopub.execute_input": "2025-08-06T23:21:57.931266Z",
     "iopub.status.busy": "2025-08-06T23:21:57.931082Z",
     "iopub.status.idle": "2025-08-06T23:21:57.934752Z",
     "shell.execute_reply": "2025-08-06T23:21:57.934313Z",
     "shell.execute_reply.started": "2025-08-06T23:21:57.931246Z"
    },
    "id": "63slV04gWLn8",
    "outputId": "5c5ede03-0f6f-48d5-a177-d961886ec340",
    "tags": []
   },
   "outputs": [
    {
     "data": {
      "text/plain": [
       "{'bos_idx': 1,\n",
       " 'eos_idx': 3,\n",
       " 'pad_idx': 0,\n",
       " 'vocab_size': 9718,\n",
       " 'max_length': 128,\n",
       " 'd_model': 512,\n",
       " 'dim_feedforward': 2048,\n",
       " 'dropout': 0.1,\n",
       " 'layer_norm_eps': 1e-06,\n",
       " 'num_heads': 8,\n",
       " 'num_decoder_layers': 6,\n",
       " 'num_encoder_layers': 6,\n",
       " 'label_smoothing': 0.1,\n",
       " 'beta1': 0.9,\n",
       " 'beta2': 0.98,\n",
       " 'eps': 1e-09,\n",
       " 'warmup_steps': 4000,\n",
       " 'share_embedding': False}"
      ]
     },
     "execution_count": 48,
     "metadata": {},
     "output_type": "execute_result"
    }
   ],
   "source": [
    "config"
   ]
  },
  {
   "cell_type": "code",
   "execution_count": 49,
   "metadata": {
    "ExecutionIndicator": {
     "show": true
    },
    "colab": {
     "base_uri": "https://localhost:8080/",
     "height": 49,
     "referenced_widgets": [
      "55146ac7395840dca847e0f63aa80561",
      "abb9bc76c0ce4634bd340be20c074b8c",
      "a89d790df59245fcaf26335d4903c9b4",
      "f837255914194dc792cf1514dee03dc5",
      "46a51a1719d8444eb5877720253d3c37",
      "013d2a6b90144432bbfb15136235faba",
      "2b82e42c34804b13bc83be4c7009d4e2",
      "9233439bdd6746c28ad4a20ef47799f6",
      "0e10428326bc436e8dbc079e89570bde",
      "0fe4ed7283c04496affe727c235d31c4",
      "0c0c7229347b49ffbb9a0f7bd41199b9"
     ]
    },
    "execution": {
     "iopub.execute_input": "2025-08-06T23:21:57.935387Z",
     "iopub.status.busy": "2025-08-06T23:21:57.935228Z",
     "iopub.status.idle": "2025-08-06T23:21:59.394815Z",
     "shell.execute_reply": "2025-08-06T23:21:59.394283Z",
     "shell.execute_reply.started": "2025-08-06T23:21:57.935369Z"
    },
    "id": "tVO2zJ04N4yY",
    "outputId": "7d4079f5-65d4-4da1-9001-91aa5525250e",
    "tags": []
   },
   "outputs": [],
   "source": [
    "epoch = 100\n",
    "\n",
    "# model\n",
    "model = TransformerModel(config)\n",
    "# 1. 定义损失函数 采用交叉熵损失\n",
    "loss_fct = CrossEntropyWithPadding(config)\n",
    "# 2. 定义优化器 采用 adam\n",
    "# Optimizers specified in the torch.optim package\n",
    "optimizer, scheduler = get_optimizer(model, config)\n",
    "\n",
    "# 1. tensorboard 可视化\n",
    "if not os.path.exists(\"runs\"):\n",
    "    os.mkdir(\"runs\")\n",
    "exp_name = \"translate-transformer-{}\".format(\"share\" if config[\"share_embedding\"] else \"not-share\")\n",
    "tensorboard_callback = TensorBoardCallback(f\"runs/{exp_name}\")\n",
    "# tensorboard_callback.draw_model(model, [1, MAX_LENGTH])\n",
    "# 2. save best\n",
    "if not os.path.exists(\"checkpoints\"):\n",
    "    os.makedirs(\"checkpoints\")\n",
    "save_ckpt_callback = SaveCheckpointsCallback(\n",
    "    f\"checkpoints/{exp_name}\", save_step=500, save_best_only=True)\n",
    "# 3. early stop\n",
    "early_stop_callback = EarlyStopCallback(patience=10,min_delta=0.001)\n",
    "\n",
    "model = model.to(device)\n",
    "\n",
    "\n",
    "\n",
    "\n",
    "# We trained the base models for a total of 100,000 steps or 12 hours. For our big models,(described on the bottom line of table 3), step time was 1.0 seconds. The big models were trained for 300,000 steps (3.5 days)."
   ]
  },
  {
   "cell_type": "code",
   "execution_count": 50,
   "metadata": {
    "ExecutionIndicator": {
     "show": true
    },
    "execution": {
     "iopub.execute_input": "2025-08-06T23:21:59.395701Z",
     "iopub.status.busy": "2025-08-06T23:21:59.395365Z",
     "iopub.status.idle": "2025-08-06T23:40:56.732541Z",
     "shell.execute_reply": "2025-08-06T23:40:56.732041Z",
     "shell.execute_reply.started": "2025-08-06T23:21:59.395679Z"
    },
    "tags": []
   },
   "outputs": [
    {
     "data": {
      "application/vnd.jupyter.widget-view+json": {
       "model_id": "e9b6af9bafb54a28b598cd34324d1b30",
       "version_major": 2,
       "version_minor": 0
      },
      "text/plain": [
       "  0%|          | 0/1400 [00:00<?, ?it/s]"
      ]
     },
     "metadata": {},
     "output_type": "display_data"
    },
    {
     "name": "stderr",
     "output_type": "stream",
     "text": [
      "/nasmnt/envs/cosyvoice_vllm_train/lib/python3.10/site-packages/torch/nn/_reduction.py:51: UserWarning: size_average and reduce args will be deprecated, please use reduction='none' instead.\n",
      "  warnings.warn(warning.format(ret))\n"
     ]
    },
    {
     "name": "stdout",
     "output_type": "stream",
     "text": [
      "Early stop at epoch 30 / global_step 32000\n"
     ]
    }
   ],
   "source": [
    "record = training(\n",
    "    model,\n",
    "    train_dl,\n",
    "    val_dl,\n",
    "    epoch,\n",
    "    loss_fct,\n",
    "    optimizer,\n",
    "    scheduler,\n",
    "    tensorboard_callback=tensorboard_callback,\n",
    "    save_ckpt_callback=save_ckpt_callback,\n",
    "    early_stop_callback=early_stop_callback,\n",
    "    eval_step=500\n",
    "    )"
   ]
  },
  {
   "cell_type": "code",
   "execution_count": 51,
   "metadata": {
    "execution": {
     "iopub.execute_input": "2025-08-06T23:40:56.733544Z",
     "iopub.status.busy": "2025-08-06T23:40:56.733321Z",
     "iopub.status.idle": "2025-08-06T23:40:56.780969Z",
     "shell.execute_reply": "2025-08-06T23:40:56.780547Z",
     "shell.execute_reply.started": "2025-08-06T23:40:56.733511Z"
    },
    "scrolled": true,
    "tags": []
   },
   "outputs": [
    {
     "data": {
      "text/plain": [
       "{'train': [{'loss': 9.188334465026855, 'step': 1},\n",
       "  {'loss': 9.163097381591797, 'step': 2},\n",
       "  {'loss': 9.156265258789062, 'step': 3},\n",
       "  {'loss': 9.163603782653809, 'step': 4},\n",
       "  {'loss': 9.161243438720703, 'step': 5},\n",
       "  {'loss': 9.145940780639648, 'step': 6},\n",
       "  {'loss': 9.183747291564941, 'step': 7},\n",
       "  {'loss': 9.169991493225098, 'step': 8},\n",
       "  {'loss': 9.154008865356445, 'step': 9},\n",
       "  {'loss': 9.139060974121094, 'step': 10},\n",
       "  {'loss': 9.174156188964844, 'step': 11},\n",
       "  {'loss': 9.163369178771973, 'step': 12},\n",
       "  {'loss': 9.165631294250488, 'step': 13},\n",
       "  {'loss': 9.158583641052246, 'step': 14},\n",
       "  {'loss': 9.158117294311523, 'step': 15},\n",
       "  {'loss': 9.156033515930176, 'step': 16},\n",
       "  {'loss': 9.138397216796875, 'step': 17},\n",
       "  {'loss': 9.149402618408203, 'step': 18},\n",
       "  {'loss': 9.13708782196045, 'step': 19},\n",
       "  {'loss': 9.148542404174805, 'step': 20},\n",
       "  {'loss': 9.138191223144531, 'step': 21},\n",
       "  {'loss': 9.124444007873535, 'step': 22},\n",
       "  {'loss': 9.135567665100098, 'step': 23},\n",
       "  {'loss': 9.100475311279297, 'step': 24},\n",
       "  {'loss': 9.117512702941895, 'step': 25},\n",
       "  {'loss': 9.134199142456055, 'step': 26},\n",
       "  {'loss': 9.10678768157959, 'step': 27},\n",
       "  {'loss': 9.10887336730957, 'step': 28},\n",
       "  {'loss': 9.109654426574707, 'step': 29},\n",
       "  {'loss': 9.08731746673584, 'step': 30},\n",
       "  {'loss': 9.073083877563477, 'step': 31},\n",
       "  {'loss': 9.07047176361084, 'step': 32},\n",
       "  {'loss': 9.11690616607666, 'step': 33},\n",
       "  {'loss': 9.115464210510254, 'step': 34},\n",
       "  {'loss': 9.058672904968262, 'step': 35},\n",
       "  {'loss': 9.07282543182373, 'step': 36},\n",
       "  {'loss': 9.061594009399414, 'step': 37},\n",
       "  {'loss': 9.053346633911133, 'step': 38},\n",
       "  {'loss': 9.09089469909668, 'step': 39},\n",
       "  {'loss': 9.037969589233398, 'step': 40},\n",
       "  {'loss': 9.018332481384277, 'step': 41},\n",
       "  {'loss': 9.075372695922852, 'step': 42},\n",
       "  {'loss': 9.03366470336914, 'step': 43},\n",
       "  {'loss': 9.0562744140625, 'step': 44},\n",
       "  {'loss': 9.033679962158203, 'step': 45},\n",
       "  {'loss': 9.057821273803711, 'step': 46},\n",
       "  {'loss': 8.998479843139648, 'step': 47},\n",
       "  {'loss': 8.970792770385742, 'step': 48},\n",
       "  {'loss': 8.926719665527344, 'step': 49},\n",
       "  {'loss': 8.97944450378418, 'step': 50},\n",
       "  {'loss': 9.002727508544922, 'step': 51},\n",
       "  {'loss': 9.012484550476074, 'step': 52},\n",
       "  {'loss': 8.959132194519043, 'step': 53},\n",
       "  {'loss': 8.942873001098633, 'step': 54},\n",
       "  {'loss': 8.96621322631836, 'step': 55},\n",
       "  {'loss': 8.991101264953613, 'step': 56},\n",
       "  {'loss': 9.031423568725586, 'step': 57},\n",
       "  {'loss': 8.972515106201172, 'step': 58},\n",
       "  {'loss': 8.937674522399902, 'step': 59},\n",
       "  {'loss': 8.978586196899414, 'step': 60},\n",
       "  {'loss': 8.939094543457031, 'step': 61},\n",
       "  {'loss': 8.9097318649292, 'step': 62},\n",
       "  {'loss': 8.92475700378418, 'step': 63},\n",
       "  {'loss': 8.88808822631836, 'step': 64},\n",
       "  {'loss': 8.931924819946289, 'step': 65},\n",
       "  {'loss': 8.92566204071045, 'step': 66},\n",
       "  {'loss': 8.853536605834961, 'step': 67},\n",
       "  {'loss': 8.939233779907227, 'step': 68},\n",
       "  {'loss': 8.827993392944336, 'step': 69},\n",
       "  {'loss': 8.890874862670898, 'step': 70},\n",
       "  {'loss': 8.807721138000488, 'step': 71},\n",
       "  {'loss': 8.88418197631836, 'step': 72},\n",
       "  {'loss': 8.808655738830566, 'step': 73},\n",
       "  {'loss': 8.828412055969238, 'step': 74},\n",
       "  {'loss': 8.882791519165039, 'step': 75},\n",
       "  {'loss': 8.863835334777832, 'step': 76},\n",
       "  {'loss': 8.858354568481445, 'step': 77},\n",
       "  {'loss': 8.711225509643555, 'step': 78},\n",
       "  {'loss': 8.726024627685547, 'step': 79},\n",
       "  {'loss': 8.74549674987793, 'step': 80},\n",
       "  {'loss': 8.860406875610352, 'step': 81},\n",
       "  {'loss': 8.829627990722656, 'step': 82},\n",
       "  {'loss': 8.754029273986816, 'step': 83},\n",
       "  {'loss': 8.663451194763184, 'step': 84},\n",
       "  {'loss': 8.767935752868652, 'step': 85},\n",
       "  {'loss': 8.628543853759766, 'step': 86},\n",
       "  {'loss': 8.707825660705566, 'step': 87},\n",
       "  {'loss': 8.632133483886719, 'step': 88},\n",
       "  {'loss': 8.732610702514648, 'step': 89},\n",
       "  {'loss': 8.721258163452148, 'step': 90},\n",
       "  {'loss': 8.704803466796875, 'step': 91},\n",
       "  {'loss': 8.716176986694336, 'step': 92},\n",
       "  {'loss': 8.599668502807617, 'step': 93},\n",
       "  {'loss': 8.68143367767334, 'step': 94},\n",
       "  {'loss': 8.687503814697266, 'step': 95},\n",
       "  {'loss': 8.681896209716797, 'step': 96},\n",
       "  {'loss': 8.6771879196167, 'step': 97},\n",
       "  {'loss': 8.679055213928223, 'step': 98},\n",
       "  {'loss': 8.647006034851074, 'step': 99},\n",
       "  {'loss': 8.772719383239746, 'step': 100},\n",
       "  {'loss': 8.493697166442871, 'step': 101},\n",
       "  {'loss': 8.7255220413208, 'step': 102},\n",
       "  {'loss': 8.633460998535156, 'step': 103},\n",
       "  {'loss': 8.600658416748047, 'step': 104},\n",
       "  {'loss': 8.597679138183594, 'step': 105},\n",
       "  {'loss': 8.634135246276855, 'step': 106},\n",
       "  {'loss': 8.533317565917969, 'step': 107},\n",
       "  {'loss': 8.680813789367676, 'step': 108},\n",
       "  {'loss': 8.666993141174316, 'step': 109},\n",
       "  {'loss': 8.570330619812012, 'step': 110},\n",
       "  {'loss': 8.613409042358398, 'step': 111},\n",
       "  {'loss': 8.753705024719238, 'step': 112},\n",
       "  {'loss': 8.502416610717773, 'step': 113},\n",
       "  {'loss': 8.591278076171875, 'step': 114},\n",
       "  {'loss': 8.520708084106445, 'step': 115},\n",
       "  {'loss': 8.543121337890625, 'step': 116},\n",
       "  {'loss': 8.635903358459473, 'step': 117},\n",
       "  {'loss': 8.441516876220703, 'step': 118},\n",
       "  {'loss': 8.481791496276855, 'step': 119},\n",
       "  {'loss': 8.459712982177734, 'step': 120},\n",
       "  {'loss': 8.611433029174805, 'step': 121},\n",
       "  {'loss': 8.70238208770752, 'step': 122},\n",
       "  {'loss': 8.657255172729492, 'step': 123},\n",
       "  {'loss': 8.474924087524414, 'step': 124},\n",
       "  {'loss': 8.59689998626709, 'step': 125},\n",
       "  {'loss': 8.463504791259766, 'step': 126},\n",
       "  {'loss': 8.368735313415527, 'step': 127},\n",
       "  {'loss': 8.44383716583252, 'step': 128},\n",
       "  {'loss': 8.543118476867676, 'step': 129},\n",
       "  {'loss': 8.497199058532715, 'step': 130},\n",
       "  {'loss': 8.554336547851562, 'step': 131},\n",
       "  {'loss': 8.553304672241211, 'step': 132},\n",
       "  {'loss': 8.545211791992188, 'step': 133},\n",
       "  {'loss': 8.600922584533691, 'step': 134},\n",
       "  {'loss': 8.399214744567871, 'step': 135},\n",
       "  {'loss': 8.527531623840332, 'step': 136},\n",
       "  {'loss': 8.439294815063477, 'step': 137},\n",
       "  {'loss': 8.38947868347168, 'step': 138},\n",
       "  {'loss': 8.480242729187012, 'step': 139},\n",
       "  {'loss': 8.485621452331543, 'step': 140},\n",
       "  {'loss': 8.603104591369629, 'step': 141},\n",
       "  {'loss': 8.459439277648926, 'step': 142},\n",
       "  {'loss': 8.327475547790527, 'step': 143},\n",
       "  {'loss': 8.423924446105957, 'step': 144},\n",
       "  {'loss': 8.584364891052246, 'step': 145},\n",
       "  {'loss': 8.459715843200684, 'step': 146},\n",
       "  {'loss': 8.369366645812988, 'step': 147},\n",
       "  {'loss': 8.33295726776123, 'step': 148},\n",
       "  {'loss': 8.35740852355957, 'step': 149},\n",
       "  {'loss': 8.393327713012695, 'step': 150},\n",
       "  {'loss': 8.26783561706543, 'step': 151},\n",
       "  {'loss': 8.58085823059082, 'step': 152},\n",
       "  {'loss': 8.377471923828125, 'step': 153},\n",
       "  {'loss': 8.328495979309082, 'step': 154},\n",
       "  {'loss': 8.474672317504883, 'step': 155},\n",
       "  {'loss': 8.405061721801758, 'step': 156},\n",
       "  {'loss': 8.443942070007324, 'step': 157},\n",
       "  {'loss': 8.492175102233887, 'step': 158},\n",
       "  {'loss': 8.443719863891602, 'step': 159},\n",
       "  {'loss': 8.288125991821289, 'step': 160},\n",
       "  {'loss': 8.298142433166504, 'step': 161},\n",
       "  {'loss': 8.429221153259277, 'step': 162},\n",
       "  {'loss': 8.34277057647705, 'step': 163},\n",
       "  {'loss': 8.423338890075684, 'step': 164},\n",
       "  {'loss': 8.403039932250977, 'step': 165},\n",
       "  {'loss': 8.345120429992676, 'step': 166},\n",
       "  {'loss': 8.300199508666992, 'step': 167},\n",
       "  {'loss': 8.16256046295166, 'step': 168},\n",
       "  {'loss': 8.217596054077148, 'step': 169},\n",
       "  {'loss': 8.401046752929688, 'step': 170},\n",
       "  {'loss': 8.20324993133545, 'step': 171},\n",
       "  {'loss': 8.331937789916992, 'step': 172},\n",
       "  {'loss': 8.28752326965332, 'step': 173},\n",
       "  {'loss': 8.157916069030762, 'step': 174},\n",
       "  {'loss': 8.281954765319824, 'step': 175},\n",
       "  {'loss': 8.358172416687012, 'step': 176},\n",
       "  {'loss': 8.241463661193848, 'step': 177},\n",
       "  {'loss': 8.26816177368164, 'step': 178},\n",
       "  {'loss': 8.438421249389648, 'step': 179},\n",
       "  {'loss': 8.170012474060059, 'step': 180},\n",
       "  {'loss': 8.304651260375977, 'step': 181},\n",
       "  {'loss': 8.37601089477539, 'step': 182},\n",
       "  {'loss': 8.157581329345703, 'step': 183},\n",
       "  {'loss': 8.290129661560059, 'step': 184},\n",
       "  {'loss': 8.2886381149292, 'step': 185},\n",
       "  {'loss': 8.242094039916992, 'step': 186},\n",
       "  {'loss': 8.119073867797852, 'step': 187},\n",
       "  {'loss': 8.32127857208252, 'step': 188},\n",
       "  {'loss': 8.49549674987793, 'step': 189},\n",
       "  {'loss': 8.269658088684082, 'step': 190},\n",
       "  {'loss': 8.086065292358398, 'step': 191},\n",
       "  {'loss': 8.129916191101074, 'step': 192},\n",
       "  {'loss': 8.201827049255371, 'step': 193},\n",
       "  {'loss': 8.252378463745117, 'step': 194},\n",
       "  {'loss': 8.342327117919922, 'step': 195},\n",
       "  {'loss': 8.317118644714355, 'step': 196},\n",
       "  {'loss': 8.423348426818848, 'step': 197},\n",
       "  {'loss': 8.210434913635254, 'step': 198},\n",
       "  {'loss': 8.066394805908203, 'step': 199},\n",
       "  {'loss': 8.083707809448242, 'step': 200},\n",
       "  {'loss': 8.306394577026367, 'step': 201},\n",
       "  {'loss': 8.184601783752441, 'step': 202},\n",
       "  {'loss': 8.210204124450684, 'step': 203},\n",
       "  {'loss': 8.2587890625, 'step': 204},\n",
       "  {'loss': 8.27472972869873, 'step': 205},\n",
       "  {'loss': 8.385921478271484, 'step': 206},\n",
       "  {'loss': 8.358994483947754, 'step': 207},\n",
       "  {'loss': 8.14958381652832, 'step': 208},\n",
       "  {'loss': 8.192190170288086, 'step': 209},\n",
       "  {'loss': 8.267223358154297, 'step': 210},\n",
       "  {'loss': 8.102173805236816, 'step': 211},\n",
       "  {'loss': 8.153284072875977, 'step': 212},\n",
       "  {'loss': 8.169922828674316, 'step': 213},\n",
       "  {'loss': 8.015722274780273, 'step': 214},\n",
       "  {'loss': 8.190160751342773, 'step': 215},\n",
       "  {'loss': 8.251121520996094, 'step': 216},\n",
       "  {'loss': 8.290104866027832, 'step': 217},\n",
       "  {'loss': 8.113165855407715, 'step': 218},\n",
       "  {'loss': 8.261683464050293, 'step': 219},\n",
       "  {'loss': 8.193206787109375, 'step': 220},\n",
       "  {'loss': 8.231189727783203, 'step': 221},\n",
       "  {'loss': 8.300610542297363, 'step': 222},\n",
       "  {'loss': 8.057364463806152, 'step': 223},\n",
       "  {'loss': 8.152673721313477, 'step': 224},\n",
       "  {'loss': 8.335652351379395, 'step': 225},\n",
       "  {'loss': 8.240171432495117, 'step': 226},\n",
       "  {'loss': 7.985518932342529, 'step': 227},\n",
       "  {'loss': 8.24262523651123, 'step': 228},\n",
       "  {'loss': 8.147432327270508, 'step': 229},\n",
       "  {'loss': 8.166889190673828, 'step': 230},\n",
       "  {'loss': 8.296622276306152, 'step': 231},\n",
       "  {'loss': 8.216814041137695, 'step': 232},\n",
       "  {'loss': 8.076658248901367, 'step': 233},\n",
       "  {'loss': 8.01921558380127, 'step': 234},\n",
       "  {'loss': 8.355704307556152, 'step': 235},\n",
       "  {'loss': 8.110118865966797, 'step': 236},\n",
       "  {'loss': 8.085168838500977, 'step': 237},\n",
       "  {'loss': 8.044975280761719, 'step': 238},\n",
       "  {'loss': 8.1134672164917, 'step': 239},\n",
       "  {'loss': 7.925731658935547, 'step': 240},\n",
       "  {'loss': 8.157630920410156, 'step': 241},\n",
       "  {'loss': 7.897795677185059, 'step': 242},\n",
       "  {'loss': 7.880152702331543, 'step': 243},\n",
       "  {'loss': 8.043815612792969, 'step': 244},\n",
       "  {'loss': 7.867195129394531, 'step': 245},\n",
       "  {'loss': 8.062604904174805, 'step': 246},\n",
       "  {'loss': 8.004666328430176, 'step': 247},\n",
       "  {'loss': 8.205350875854492, 'step': 248},\n",
       "  {'loss': 8.25848388671875, 'step': 249},\n",
       "  {'loss': 8.076305389404297, 'step': 250},\n",
       "  {'loss': 8.201144218444824, 'step': 251},\n",
       "  {'loss': 7.983108997344971, 'step': 252},\n",
       "  {'loss': 8.103622436523438, 'step': 253},\n",
       "  {'loss': 8.263126373291016, 'step': 254},\n",
       "  {'loss': 8.282876014709473, 'step': 255},\n",
       "  {'loss': 8.013093948364258, 'step': 256},\n",
       "  {'loss': 8.034055709838867, 'step': 257},\n",
       "  {'loss': 8.072541236877441, 'step': 258},\n",
       "  {'loss': 8.004026412963867, 'step': 259},\n",
       "  {'loss': 8.159942626953125, 'step': 260},\n",
       "  {'loss': 8.016136169433594, 'step': 261},\n",
       "  {'loss': 8.060018539428711, 'step': 262},\n",
       "  {'loss': 7.714187145233154, 'step': 263},\n",
       "  {'loss': 8.221376419067383, 'step': 264},\n",
       "  {'loss': 8.041244506835938, 'step': 265},\n",
       "  {'loss': 7.9903388023376465, 'step': 266},\n",
       "  {'loss': 8.095247268676758, 'step': 267},\n",
       "  {'loss': 8.059784889221191, 'step': 268},\n",
       "  {'loss': 8.213482856750488, 'step': 269},\n",
       "  {'loss': 8.116474151611328, 'step': 270},\n",
       "  {'loss': 7.847304344177246, 'step': 271},\n",
       "  {'loss': 7.800411701202393, 'step': 272},\n",
       "  {'loss': 7.926199913024902, 'step': 273},\n",
       "  {'loss': 7.923544883728027, 'step': 274},\n",
       "  {'loss': 8.163156509399414, 'step': 275},\n",
       "  {'loss': 8.054810523986816, 'step': 276},\n",
       "  {'loss': 8.183835983276367, 'step': 277},\n",
       "  {'loss': 8.180681228637695, 'step': 278},\n",
       "  {'loss': 8.011621475219727, 'step': 279},\n",
       "  {'loss': 8.115416526794434, 'step': 280},\n",
       "  {'loss': 7.722769737243652, 'step': 281},\n",
       "  {'loss': 7.81413459777832, 'step': 282},\n",
       "  {'loss': 7.884825706481934, 'step': 283},\n",
       "  {'loss': 8.112889289855957, 'step': 284},\n",
       "  {'loss': 7.869754314422607, 'step': 285},\n",
       "  {'loss': 8.05416488647461, 'step': 286},\n",
       "  {'loss': 8.024618148803711, 'step': 287},\n",
       "  {'loss': 7.518795967102051, 'step': 288},\n",
       "  {'loss': 8.069442749023438, 'step': 289},\n",
       "  {'loss': 8.072574615478516, 'step': 290},\n",
       "  {'loss': 7.913673400878906, 'step': 291},\n",
       "  {'loss': 8.133858680725098, 'step': 292},\n",
       "  {'loss': 7.932168483734131, 'step': 293},\n",
       "  {'loss': 7.703782558441162, 'step': 294},\n",
       "  {'loss': 7.714348793029785, 'step': 295},\n",
       "  {'loss': 8.13187313079834, 'step': 296},\n",
       "  {'loss': 7.7223286628723145, 'step': 297},\n",
       "  {'loss': 8.224059104919434, 'step': 298},\n",
       "  {'loss': 8.209806442260742, 'step': 299},\n",
       "  {'loss': 7.962831020355225, 'step': 300},\n",
       "  {'loss': 7.812789440155029, 'step': 301},\n",
       "  {'loss': 7.644270420074463, 'step': 302},\n",
       "  {'loss': 7.970966815948486, 'step': 303},\n",
       "  {'loss': 7.870840072631836, 'step': 304},\n",
       "  {'loss': 7.966115951538086, 'step': 305},\n",
       "  {'loss': 8.027691841125488, 'step': 306},\n",
       "  {'loss': 8.083934783935547, 'step': 307},\n",
       "  {'loss': 8.058582305908203, 'step': 308},\n",
       "  {'loss': 7.893897533416748, 'step': 309},\n",
       "  {'loss': 7.96106481552124, 'step': 310},\n",
       "  {'loss': 7.70029878616333, 'step': 311},\n",
       "  {'loss': 7.899839878082275, 'step': 312},\n",
       "  {'loss': 8.068272590637207, 'step': 313},\n",
       "  {'loss': 7.792897701263428, 'step': 314},\n",
       "  {'loss': 7.879688262939453, 'step': 315},\n",
       "  {'loss': 7.986254692077637, 'step': 316},\n",
       "  {'loss': 7.907270908355713, 'step': 317},\n",
       "  {'loss': 7.887722969055176, 'step': 318},\n",
       "  {'loss': 7.8378167152404785, 'step': 319},\n",
       "  {'loss': 7.784835338592529, 'step': 320},\n",
       "  {'loss': 7.98853063583374, 'step': 321},\n",
       "  {'loss': 7.986330032348633, 'step': 322},\n",
       "  {'loss': 7.840301990509033, 'step': 323},\n",
       "  {'loss': 7.8554534912109375, 'step': 324},\n",
       "  {'loss': 7.918119430541992, 'step': 325},\n",
       "  {'loss': 7.964860916137695, 'step': 326},\n",
       "  {'loss': 7.661999225616455, 'step': 327},\n",
       "  {'loss': 7.928548812866211, 'step': 328},\n",
       "  {'loss': 7.6778082847595215, 'step': 329},\n",
       "  {'loss': 7.656693458557129, 'step': 330},\n",
       "  {'loss': 7.693058967590332, 'step': 331},\n",
       "  {'loss': 7.900586128234863, 'step': 332},\n",
       "  {'loss': 7.664775371551514, 'step': 333},\n",
       "  {'loss': 7.718320369720459, 'step': 334},\n",
       "  {'loss': 7.928235054016113, 'step': 335},\n",
       "  {'loss': 7.975431442260742, 'step': 336},\n",
       "  {'loss': 7.789527893066406, 'step': 337},\n",
       "  {'loss': 7.803587436676025, 'step': 338},\n",
       "  {'loss': 7.715322494506836, 'step': 339},\n",
       "  {'loss': 7.853007793426514, 'step': 340},\n",
       "  {'loss': 7.7774739265441895, 'step': 341},\n",
       "  {'loss': 7.611175060272217, 'step': 342},\n",
       "  {'loss': 7.410451412200928, 'step': 343},\n",
       "  {'loss': 7.764491558074951, 'step': 344},\n",
       "  {'loss': 7.562377452850342, 'step': 345},\n",
       "  {'loss': 7.922785758972168, 'step': 346},\n",
       "  {'loss': 7.849442481994629, 'step': 347},\n",
       "  {'loss': 7.800525665283203, 'step': 348},\n",
       "  {'loss': 7.759942054748535, 'step': 349},\n",
       "  {'loss': 7.755109786987305, 'step': 350},\n",
       "  {'loss': 7.629721164703369, 'step': 351},\n",
       "  {'loss': 7.711826801300049, 'step': 352},\n",
       "  {'loss': 7.819555759429932, 'step': 353},\n",
       "  {'loss': 7.91204833984375, 'step': 354},\n",
       "  {'loss': 7.827396392822266, 'step': 355},\n",
       "  {'loss': 7.9114508628845215, 'step': 356},\n",
       "  {'loss': 7.587447166442871, 'step': 357},\n",
       "  {'loss': 7.398324012756348, 'step': 358},\n",
       "  {'loss': 7.753441333770752, 'step': 359},\n",
       "  {'loss': 7.896338939666748, 'step': 360},\n",
       "  {'loss': 7.645166397094727, 'step': 361},\n",
       "  {'loss': 7.619353771209717, 'step': 362},\n",
       "  {'loss': 7.510433197021484, 'step': 363},\n",
       "  {'loss': 7.706107139587402, 'step': 364},\n",
       "  {'loss': 7.36716890335083, 'step': 365},\n",
       "  {'loss': 7.314425468444824, 'step': 366},\n",
       "  {'loss': 7.39312219619751, 'step': 367},\n",
       "  {'loss': 7.473427772521973, 'step': 368},\n",
       "  {'loss': 7.750062465667725, 'step': 369},\n",
       "  {'loss': 7.302928924560547, 'step': 370},\n",
       "  {'loss': 7.703786849975586, 'step': 371},\n",
       "  {'loss': 7.62907075881958, 'step': 372},\n",
       "  {'loss': 7.415689468383789, 'step': 373},\n",
       "  {'loss': 7.719257831573486, 'step': 374},\n",
       "  {'loss': 7.8298444747924805, 'step': 375},\n",
       "  {'loss': 7.702939033508301, 'step': 376},\n",
       "  {'loss': 7.73544979095459, 'step': 377},\n",
       "  {'loss': 7.680583953857422, 'step': 378},\n",
       "  {'loss': 7.8138885498046875, 'step': 379},\n",
       "  {'loss': 7.5626091957092285, 'step': 380},\n",
       "  {'loss': 7.290988922119141, 'step': 381},\n",
       "  {'loss': 7.873232364654541, 'step': 382},\n",
       "  {'loss': 7.445882320404053, 'step': 383},\n",
       "  {'loss': 7.356894016265869, 'step': 384},\n",
       "  {'loss': 7.632788181304932, 'step': 385},\n",
       "  {'loss': 7.565016746520996, 'step': 386},\n",
       "  {'loss': 7.831039905548096, 'step': 387},\n",
       "  {'loss': 7.624150276184082, 'step': 388},\n",
       "  {'loss': 7.465118885040283, 'step': 389},\n",
       "  {'loss': 7.783608913421631, 'step': 390},\n",
       "  {'loss': 7.4623565673828125, 'step': 391},\n",
       "  {'loss': 7.397500038146973, 'step': 392},\n",
       "  {'loss': 7.341700077056885, 'step': 393},\n",
       "  {'loss': 7.313669204711914, 'step': 394},\n",
       "  {'loss': 7.402578830718994, 'step': 395},\n",
       "  {'loss': 7.491714000701904, 'step': 396},\n",
       "  {'loss': 7.099094390869141, 'step': 397},\n",
       "  {'loss': 7.391056060791016, 'step': 398},\n",
       "  {'loss': 7.212550163269043, 'step': 399},\n",
       "  {'loss': 7.654384136199951, 'step': 400},\n",
       "  {'loss': 7.346584320068359, 'step': 401},\n",
       "  {'loss': 7.4175028800964355, 'step': 402},\n",
       "  {'loss': 7.414111614227295, 'step': 403},\n",
       "  {'loss': 7.504945278167725, 'step': 404},\n",
       "  {'loss': 7.7660980224609375, 'step': 405},\n",
       "  {'loss': 7.110056400299072, 'step': 406},\n",
       "  {'loss': 7.525433540344238, 'step': 407},\n",
       "  {'loss': 7.6162872314453125, 'step': 408},\n",
       "  {'loss': 7.505929946899414, 'step': 409},\n",
       "  {'loss': 7.7176127433776855, 'step': 410},\n",
       "  {'loss': 7.644706726074219, 'step': 411},\n",
       "  {'loss': 7.3292436599731445, 'step': 412},\n",
       "  {'loss': 7.33786153793335, 'step': 413},\n",
       "  {'loss': 7.222848892211914, 'step': 414},\n",
       "  {'loss': 7.9047746658325195, 'step': 415},\n",
       "  {'loss': 7.393548965454102, 'step': 416},\n",
       "  {'loss': 7.386056900024414, 'step': 417},\n",
       "  {'loss': 7.423888206481934, 'step': 418},\n",
       "  {'loss': 7.273349761962891, 'step': 419},\n",
       "  {'loss': 7.321216106414795, 'step': 420},\n",
       "  {'loss': 7.619138717651367, 'step': 421},\n",
       "  {'loss': 7.168022632598877, 'step': 422},\n",
       "  {'loss': 7.147271156311035, 'step': 423},\n",
       "  {'loss': 7.409670829772949, 'step': 424},\n",
       "  {'loss': 7.621241569519043, 'step': 425},\n",
       "  {'loss': 7.236505031585693, 'step': 426},\n",
       "  {'loss': 7.373208045959473, 'step': 427},\n",
       "  {'loss': 7.689337253570557, 'step': 428},\n",
       "  {'loss': 7.181066989898682, 'step': 429},\n",
       "  {'loss': 7.275871276855469, 'step': 430},\n",
       "  {'loss': 7.607172012329102, 'step': 431},\n",
       "  {'loss': 7.639070987701416, 'step': 432},\n",
       "  {'loss': 7.290582656860352, 'step': 433},\n",
       "  {'loss': 7.040691375732422, 'step': 434},\n",
       "  {'loss': 7.452157020568848, 'step': 435},\n",
       "  {'loss': 7.152422904968262, 'step': 436},\n",
       "  {'loss': 7.1166462898254395, 'step': 437},\n",
       "  {'loss': 7.321671485900879, 'step': 438},\n",
       "  {'loss': 7.430654048919678, 'step': 439},\n",
       "  {'loss': 7.277205467224121, 'step': 440},\n",
       "  {'loss': 7.542855739593506, 'step': 441},\n",
       "  {'loss': 7.5221147537231445, 'step': 442},\n",
       "  {'loss': 7.45583963394165, 'step': 443},\n",
       "  {'loss': 7.422186851501465, 'step': 444},\n",
       "  {'loss': 7.583787441253662, 'step': 445},\n",
       "  {'loss': 7.292235374450684, 'step': 446},\n",
       "  {'loss': 7.604977607727051, 'step': 447},\n",
       "  {'loss': 7.0268874168396, 'step': 448},\n",
       "  {'loss': 7.391992568969727, 'step': 449},\n",
       "  {'loss': 7.552767753601074, 'step': 450},\n",
       "  {'loss': 7.432605743408203, 'step': 451},\n",
       "  {'loss': 7.126698970794678, 'step': 452},\n",
       "  {'loss': 7.230589866638184, 'step': 453},\n",
       "  {'loss': 7.486452579498291, 'step': 454},\n",
       "  {'loss': 7.189754962921143, 'step': 455},\n",
       "  {'loss': 7.091473579406738, 'step': 456},\n",
       "  {'loss': 7.17783784866333, 'step': 457},\n",
       "  {'loss': 7.565439701080322, 'step': 458},\n",
       "  {'loss': 7.04803991317749, 'step': 459},\n",
       "  {'loss': 7.325812816619873, 'step': 460},\n",
       "  {'loss': 7.646679401397705, 'step': 461},\n",
       "  {'loss': 7.416247367858887, 'step': 462},\n",
       "  {'loss': 7.063977241516113, 'step': 463},\n",
       "  {'loss': 7.189974308013916, 'step': 464},\n",
       "  {'loss': 7.100983619689941, 'step': 465},\n",
       "  {'loss': 7.458994388580322, 'step': 466},\n",
       "  {'loss': 7.383293151855469, 'step': 467},\n",
       "  {'loss': 7.066051483154297, 'step': 468},\n",
       "  {'loss': 7.281315803527832, 'step': 469},\n",
       "  {'loss': 7.345914363861084, 'step': 470},\n",
       "  {'loss': 7.329463005065918, 'step': 471},\n",
       "  {'loss': 7.36545991897583, 'step': 472},\n",
       "  {'loss': 7.1801652908325195, 'step': 473},\n",
       "  {'loss': 7.423101425170898, 'step': 474},\n",
       "  {'loss': 6.97535514831543, 'step': 475},\n",
       "  {'loss': 7.125184059143066, 'step': 476},\n",
       "  {'loss': 7.02192497253418, 'step': 477},\n",
       "  {'loss': 7.099111557006836, 'step': 478},\n",
       "  {'loss': 7.009823322296143, 'step': 479},\n",
       "  {'loss': 6.97028112411499, 'step': 480},\n",
       "  {'loss': 7.221836090087891, 'step': 481},\n",
       "  {'loss': 7.409386157989502, 'step': 482},\n",
       "  {'loss': 7.3144683837890625, 'step': 483},\n",
       "  {'loss': 7.463541030883789, 'step': 484},\n",
       "  {'loss': 7.42938756942749, 'step': 485},\n",
       "  {'loss': 7.413568496704102, 'step': 486},\n",
       "  {'loss': 7.398937702178955, 'step': 487},\n",
       "  {'loss': 7.52539587020874, 'step': 488},\n",
       "  {'loss': 7.429568767547607, 'step': 489},\n",
       "  {'loss': 7.264672756195068, 'step': 490},\n",
       "  {'loss': 6.875964641571045, 'step': 491},\n",
       "  {'loss': 7.077130317687988, 'step': 492},\n",
       "  {'loss': 7.291159629821777, 'step': 493},\n",
       "  {'loss': 7.351440906524658, 'step': 494},\n",
       "  {'loss': 7.305765151977539, 'step': 495},\n",
       "  {'loss': 7.157251834869385, 'step': 496},\n",
       "  {'loss': 6.864714622497559, 'step': 497},\n",
       "  {'loss': 7.188262939453125, 'step': 498},\n",
       "  {'loss': 6.995358943939209, 'step': 499},\n",
       "  {'loss': 6.930678844451904, 'step': 500},\n",
       "  {'loss': 6.9116692543029785, 'step': 501},\n",
       "  {'loss': 7.005643844604492, 'step': 502},\n",
       "  {'loss': 7.000782489776611, 'step': 503},\n",
       "  {'loss': 7.164944171905518, 'step': 504},\n",
       "  {'loss': 7.129715442657471, 'step': 505},\n",
       "  {'loss': 6.745270729064941, 'step': 506},\n",
       "  {'loss': 7.384077072143555, 'step': 507},\n",
       "  {'loss': 6.983395576477051, 'step': 508},\n",
       "  {'loss': 6.890662670135498, 'step': 509},\n",
       "  {'loss': 7.051796913146973, 'step': 510},\n",
       "  {'loss': 7.055161476135254, 'step': 511},\n",
       "  {'loss': 6.967905044555664, 'step': 512},\n",
       "  {'loss': 7.002407073974609, 'step': 513},\n",
       "  {'loss': 7.159909248352051, 'step': 514},\n",
       "  {'loss': 6.8897857666015625, 'step': 515},\n",
       "  {'loss': 7.064925193786621, 'step': 516},\n",
       "  {'loss': 7.024635314941406, 'step': 517},\n",
       "  {'loss': 7.168274879455566, 'step': 518},\n",
       "  {'loss': 7.466178894042969, 'step': 519},\n",
       "  {'loss': 6.960180759429932, 'step': 520},\n",
       "  {'loss': 6.981538772583008, 'step': 521},\n",
       "  {'loss': 6.9790167808532715, 'step': 522},\n",
       "  {'loss': 7.0309295654296875, 'step': 523},\n",
       "  {'loss': 7.353662014007568, 'step': 524},\n",
       "  {'loss': 7.095571994781494, 'step': 525},\n",
       "  {'loss': 6.99553918838501, 'step': 526},\n",
       "  {'loss': 6.716734409332275, 'step': 527},\n",
       "  {'loss': 6.936665058135986, 'step': 528},\n",
       "  {'loss': 7.109770774841309, 'step': 529},\n",
       "  {'loss': 6.750192165374756, 'step': 530},\n",
       "  {'loss': 7.002915859222412, 'step': 531},\n",
       "  {'loss': 7.174258232116699, 'step': 532},\n",
       "  {'loss': 6.924098491668701, 'step': 533},\n",
       "  {'loss': 6.858094215393066, 'step': 534},\n",
       "  {'loss': 7.413449287414551, 'step': 535},\n",
       "  {'loss': 6.729828834533691, 'step': 536},\n",
       "  {'loss': 7.076923847198486, 'step': 537},\n",
       "  {'loss': 6.916792869567871, 'step': 538},\n",
       "  {'loss': 6.8516669273376465, 'step': 539},\n",
       "  {'loss': 7.062046051025391, 'step': 540},\n",
       "  {'loss': 6.785090923309326, 'step': 541},\n",
       "  {'loss': 6.851068496704102, 'step': 542},\n",
       "  {'loss': 6.977838039398193, 'step': 543},\n",
       "  {'loss': 6.923142910003662, 'step': 544},\n",
       "  {'loss': 7.038519859313965, 'step': 545},\n",
       "  {'loss': 7.238496780395508, 'step': 546},\n",
       "  {'loss': 7.036983013153076, 'step': 547},\n",
       "  {'loss': 6.6454057693481445, 'step': 548},\n",
       "  {'loss': 6.9747395515441895, 'step': 549},\n",
       "  {'loss': 7.136455059051514, 'step': 550},\n",
       "  {'loss': 7.039889812469482, 'step': 551},\n",
       "  {'loss': 7.228207588195801, 'step': 552},\n",
       "  {'loss': 7.234391689300537, 'step': 553},\n",
       "  {'loss': 6.964560508728027, 'step': 554},\n",
       "  {'loss': 6.532079696655273, 'step': 555},\n",
       "  {'loss': 6.896244525909424, 'step': 556},\n",
       "  {'loss': 6.698338985443115, 'step': 557},\n",
       "  {'loss': 6.694816589355469, 'step': 558},\n",
       "  {'loss': 6.596003532409668, 'step': 559},\n",
       "  {'loss': 6.8810014724731445, 'step': 560},\n",
       "  {'loss': 6.929542541503906, 'step': 561},\n",
       "  {'loss': 6.621035575866699, 'step': 562},\n",
       "  {'loss': 6.912251949310303, 'step': 563},\n",
       "  {'loss': 6.920406818389893, 'step': 564},\n",
       "  {'loss': 6.879367828369141, 'step': 565},\n",
       "  {'loss': 7.167364597320557, 'step': 566},\n",
       "  {'loss': 6.806811332702637, 'step': 567},\n",
       "  {'loss': 6.6051764488220215, 'step': 568},\n",
       "  {'loss': 7.029492378234863, 'step': 569},\n",
       "  {'loss': 6.9041337966918945, 'step': 570},\n",
       "  {'loss': 6.625877857208252, 'step': 571},\n",
       "  {'loss': 7.220470428466797, 'step': 572},\n",
       "  {'loss': 6.735459327697754, 'step': 573},\n",
       "  {'loss': 7.005105495452881, 'step': 574},\n",
       "  {'loss': 6.871049404144287, 'step': 575},\n",
       "  {'loss': 6.696956634521484, 'step': 576},\n",
       "  {'loss': 6.719943046569824, 'step': 577},\n",
       "  {'loss': 6.8283610343933105, 'step': 578},\n",
       "  {'loss': 7.231015205383301, 'step': 579},\n",
       "  {'loss': 6.931606769561768, 'step': 580},\n",
       "  {'loss': 6.8368401527404785, 'step': 581},\n",
       "  {'loss': 6.911436080932617, 'step': 582},\n",
       "  {'loss': 6.775475978851318, 'step': 583},\n",
       "  {'loss': 6.991641521453857, 'step': 584},\n",
       "  {'loss': 6.621278762817383, 'step': 585},\n",
       "  {'loss': 7.204102993011475, 'step': 586},\n",
       "  {'loss': 6.732743263244629, 'step': 587},\n",
       "  {'loss': 6.888396263122559, 'step': 588},\n",
       "  {'loss': 7.009585857391357, 'step': 589},\n",
       "  {'loss': 6.390641689300537, 'step': 590},\n",
       "  {'loss': 6.643294334411621, 'step': 591},\n",
       "  {'loss': 6.727651596069336, 'step': 592},\n",
       "  {'loss': 6.9752607345581055, 'step': 593},\n",
       "  {'loss': 6.951410293579102, 'step': 594},\n",
       "  {'loss': 7.068047046661377, 'step': 595},\n",
       "  {'loss': 7.102881908416748, 'step': 596},\n",
       "  {'loss': 6.860496997833252, 'step': 597},\n",
       "  {'loss': 6.662785053253174, 'step': 598},\n",
       "  {'loss': 7.041903972625732, 'step': 599},\n",
       "  {'loss': 6.653001308441162, 'step': 600},\n",
       "  {'loss': 6.9331746101379395, 'step': 601},\n",
       "  {'loss': 6.682084083557129, 'step': 602},\n",
       "  {'loss': 6.604304313659668, 'step': 603},\n",
       "  {'loss': 6.700200080871582, 'step': 604},\n",
       "  {'loss': 7.158905029296875, 'step': 605},\n",
       "  {'loss': 6.682844638824463, 'step': 606},\n",
       "  {'loss': 6.3417768478393555, 'step': 607},\n",
       "  {'loss': 6.803513526916504, 'step': 608},\n",
       "  {'loss': 6.847768783569336, 'step': 609},\n",
       "  {'loss': 6.493383407592773, 'step': 610},\n",
       "  {'loss': 6.53223991394043, 'step': 611},\n",
       "  {'loss': 7.1566314697265625, 'step': 612},\n",
       "  {'loss': 6.543521404266357, 'step': 613},\n",
       "  {'loss': 6.915842056274414, 'step': 614},\n",
       "  {'loss': 6.681782245635986, 'step': 615},\n",
       "  {'loss': 6.560512065887451, 'step': 616},\n",
       "  {'loss': 6.918051242828369, 'step': 617},\n",
       "  {'loss': 6.844791889190674, 'step': 618},\n",
       "  {'loss': 6.642379283905029, 'step': 619},\n",
       "  {'loss': 6.814577579498291, 'step': 620},\n",
       "  {'loss': 6.301275253295898, 'step': 621},\n",
       "  {'loss': 6.67906379699707, 'step': 622},\n",
       "  {'loss': 6.723208904266357, 'step': 623},\n",
       "  {'loss': 6.6230058670043945, 'step': 624},\n",
       "  {'loss': 6.817347526550293, 'step': 625},\n",
       "  {'loss': 6.498244762420654, 'step': 626},\n",
       "  {'loss': 6.593464374542236, 'step': 627},\n",
       "  {'loss': 6.467695713043213, 'step': 628},\n",
       "  {'loss': 6.3463969230651855, 'step': 629},\n",
       "  {'loss': 6.580927848815918, 'step': 630},\n",
       "  {'loss': 6.7846832275390625, 'step': 631},\n",
       "  {'loss': 6.631278991699219, 'step': 632},\n",
       "  {'loss': 7.048778533935547, 'step': 633},\n",
       "  {'loss': 6.388098239898682, 'step': 634},\n",
       "  {'loss': 6.798262119293213, 'step': 635},\n",
       "  {'loss': 6.878608703613281, 'step': 636},\n",
       "  {'loss': 6.206899642944336, 'step': 637},\n",
       "  {'loss': 6.444216728210449, 'step': 638},\n",
       "  {'loss': 6.49919319152832, 'step': 639},\n",
       "  {'loss': 6.683052062988281, 'step': 640},\n",
       "  {'loss': 6.505168914794922, 'step': 641},\n",
       "  {'loss': 6.582919597625732, 'step': 642},\n",
       "  {'loss': 6.661754131317139, 'step': 643},\n",
       "  {'loss': 6.645831108093262, 'step': 644},\n",
       "  {'loss': 6.693548679351807, 'step': 645},\n",
       "  {'loss': 6.753129959106445, 'step': 646},\n",
       "  {'loss': 6.851592063903809, 'step': 647},\n",
       "  {'loss': 6.398972511291504, 'step': 648},\n",
       "  {'loss': 6.512589454650879, 'step': 649},\n",
       "  {'loss': 6.56635856628418, 'step': 650},\n",
       "  {'loss': 6.573788166046143, 'step': 651},\n",
       "  {'loss': 6.675108432769775, 'step': 652},\n",
       "  {'loss': 6.4293975830078125, 'step': 653},\n",
       "  {'loss': 6.469366550445557, 'step': 654},\n",
       "  {'loss': 6.380842685699463, 'step': 655},\n",
       "  {'loss': 6.6808671951293945, 'step': 656},\n",
       "  {'loss': 6.868982315063477, 'step': 657},\n",
       "  {'loss': 6.6302642822265625, 'step': 658},\n",
       "  {'loss': 6.670416831970215, 'step': 659},\n",
       "  {'loss': 6.539815902709961, 'step': 660},\n",
       "  {'loss': 6.861855506896973, 'step': 661},\n",
       "  {'loss': 6.464282989501953, 'step': 662},\n",
       "  {'loss': 6.387969970703125, 'step': 663},\n",
       "  {'loss': 6.6908278465271, 'step': 664},\n",
       "  {'loss': 6.82158088684082, 'step': 665},\n",
       "  {'loss': 6.363522529602051, 'step': 666},\n",
       "  {'loss': 6.686793327331543, 'step': 667},\n",
       "  {'loss': 6.44807767868042, 'step': 668},\n",
       "  {'loss': 6.294849872589111, 'step': 669},\n",
       "  {'loss': 6.235434532165527, 'step': 670},\n",
       "  {'loss': 6.574227809906006, 'step': 671},\n",
       "  {'loss': 5.937483310699463, 'step': 672},\n",
       "  {'loss': 6.670145034790039, 'step': 673},\n",
       "  {'loss': 6.309910774230957, 'step': 674},\n",
       "  {'loss': 6.672595977783203, 'step': 675},\n",
       "  {'loss': 6.67143440246582, 'step': 676},\n",
       "  {'loss': 7.058235168457031, 'step': 677},\n",
       "  {'loss': 6.337688446044922, 'step': 678},\n",
       "  {'loss': 6.464450836181641, 'step': 679},\n",
       "  {'loss': 6.585697174072266, 'step': 680},\n",
       "  {'loss': 6.420019626617432, 'step': 681},\n",
       "  {'loss': 7.015267372131348, 'step': 682},\n",
       "  {'loss': 6.811161518096924, 'step': 683},\n",
       "  {'loss': 6.418643951416016, 'step': 684},\n",
       "  {'loss': 6.785398960113525, 'step': 685},\n",
       "  {'loss': 6.375899314880371, 'step': 686},\n",
       "  {'loss': 6.245916843414307, 'step': 687},\n",
       "  {'loss': 6.400662899017334, 'step': 688},\n",
       "  {'loss': 6.485900402069092, 'step': 689},\n",
       "  {'loss': 6.231479167938232, 'step': 690},\n",
       "  {'loss': 6.030235290527344, 'step': 691},\n",
       "  {'loss': 6.598134994506836, 'step': 692},\n",
       "  {'loss': 6.817981719970703, 'step': 693},\n",
       "  {'loss': 6.151371479034424, 'step': 694},\n",
       "  {'loss': 6.866644382476807, 'step': 695},\n",
       "  {'loss': 6.287429332733154, 'step': 696},\n",
       "  {'loss': 6.458990097045898, 'step': 697},\n",
       "  {'loss': 6.910857677459717, 'step': 698},\n",
       "  {'loss': 6.175490856170654, 'step': 699},\n",
       "  {'loss': 6.762678623199463, 'step': 700},\n",
       "  {'loss': 6.306063175201416, 'step': 701},\n",
       "  {'loss': 6.234595775604248, 'step': 702},\n",
       "  {'loss': 6.559793472290039, 'step': 703},\n",
       "  {'loss': 6.181817531585693, 'step': 704},\n",
       "  {'loss': 6.422220706939697, 'step': 705},\n",
       "  {'loss': 6.413985252380371, 'step': 706},\n",
       "  {'loss': 6.2502665519714355, 'step': 707},\n",
       "  {'loss': 6.423414707183838, 'step': 708},\n",
       "  {'loss': 6.146265983581543, 'step': 709},\n",
       "  {'loss': 6.04506254196167, 'step': 710},\n",
       "  {'loss': 6.192164897918701, 'step': 711},\n",
       "  {'loss': 6.3821234703063965, 'step': 712},\n",
       "  {'loss': 6.74046516418457, 'step': 713},\n",
       "  {'loss': 6.4006452560424805, 'step': 714},\n",
       "  {'loss': 6.401009559631348, 'step': 715},\n",
       "  {'loss': 6.119245529174805, 'step': 716},\n",
       "  {'loss': 6.211571216583252, 'step': 717},\n",
       "  {'loss': 6.302793979644775, 'step': 718},\n",
       "  {'loss': 6.589457988739014, 'step': 719},\n",
       "  {'loss': 6.220929145812988, 'step': 720},\n",
       "  {'loss': 6.622432231903076, 'step': 721},\n",
       "  {'loss': 6.260295867919922, 'step': 722},\n",
       "  {'loss': 6.410425186157227, 'step': 723},\n",
       "  {'loss': 6.017321586608887, 'step': 724},\n",
       "  {'loss': 6.604228973388672, 'step': 725},\n",
       "  {'loss': 6.556307315826416, 'step': 726},\n",
       "  {'loss': 6.362915515899658, 'step': 727},\n",
       "  {'loss': 6.591972827911377, 'step': 728},\n",
       "  {'loss': 6.242903709411621, 'step': 729},\n",
       "  {'loss': 6.133462905883789, 'step': 730},\n",
       "  {'loss': 6.620084762573242, 'step': 731},\n",
       "  {'loss': 6.445712566375732, 'step': 732},\n",
       "  {'loss': 6.673415660858154, 'step': 733},\n",
       "  {'loss': 6.4357523918151855, 'step': 734},\n",
       "  {'loss': 6.277858257293701, 'step': 735},\n",
       "  {'loss': 6.11099910736084, 'step': 736},\n",
       "  {'loss': 5.989086627960205, 'step': 737},\n",
       "  {'loss': 6.280193328857422, 'step': 738},\n",
       "  {'loss': 6.052328586578369, 'step': 739},\n",
       "  {'loss': 6.216166973114014, 'step': 740},\n",
       "  {'loss': 6.426962375640869, 'step': 741},\n",
       "  {'loss': 6.064672946929932, 'step': 742},\n",
       "  {'loss': 5.979720115661621, 'step': 743},\n",
       "  {'loss': 6.442633152008057, 'step': 744},\n",
       "  {'loss': 5.977102279663086, 'step': 745},\n",
       "  {'loss': 6.067193508148193, 'step': 746},\n",
       "  {'loss': 5.80436372756958, 'step': 747},\n",
       "  {'loss': 6.289169788360596, 'step': 748},\n",
       "  {'loss': 6.385468482971191, 'step': 749},\n",
       "  {'loss': 6.324035167694092, 'step': 750},\n",
       "  {'loss': 6.517641067504883, 'step': 751},\n",
       "  {'loss': 6.252870082855225, 'step': 752},\n",
       "  {'loss': 5.905908584594727, 'step': 753},\n",
       "  {'loss': 6.183718681335449, 'step': 754},\n",
       "  {'loss': 6.179794788360596, 'step': 755},\n",
       "  {'loss': 6.349639892578125, 'step': 756},\n",
       "  {'loss': 6.641066551208496, 'step': 757},\n",
       "  {'loss': 6.4225921630859375, 'step': 758},\n",
       "  {'loss': 6.158094882965088, 'step': 759},\n",
       "  {'loss': 6.290485382080078, 'step': 760},\n",
       "  {'loss': 6.1289544105529785, 'step': 761},\n",
       "  {'loss': 6.061132907867432, 'step': 762},\n",
       "  {'loss': 6.177314758300781, 'step': 763},\n",
       "  {'loss': 6.055022239685059, 'step': 764},\n",
       "  {'loss': 6.397853851318359, 'step': 765},\n",
       "  {'loss': 6.090449333190918, 'step': 766},\n",
       "  {'loss': 6.319674015045166, 'step': 767},\n",
       "  {'loss': 6.3961005210876465, 'step': 768},\n",
       "  {'loss': 6.475203990936279, 'step': 769},\n",
       "  {'loss': 6.230829238891602, 'step': 770},\n",
       "  {'loss': 6.18487024307251, 'step': 771},\n",
       "  {'loss': 5.79786491394043, 'step': 772},\n",
       "  {'loss': 5.824963092803955, 'step': 773},\n",
       "  {'loss': 5.739922046661377, 'step': 774},\n",
       "  {'loss': 6.074657440185547, 'step': 775},\n",
       "  {'loss': 6.092113494873047, 'step': 776},\n",
       "  {'loss': 6.5202460289001465, 'step': 777},\n",
       "  {'loss': 5.902870178222656, 'step': 778},\n",
       "  {'loss': 5.97307825088501, 'step': 779},\n",
       "  {'loss': 6.207627296447754, 'step': 780},\n",
       "  {'loss': 6.485926628112793, 'step': 781},\n",
       "  {'loss': 6.567532539367676, 'step': 782},\n",
       "  {'loss': 6.365774154663086, 'step': 783},\n",
       "  {'loss': 6.111070156097412, 'step': 784},\n",
       "  {'loss': 5.809693336486816, 'step': 785},\n",
       "  {'loss': 5.6428399085998535, 'step': 786},\n",
       "  {'loss': 6.147626876831055, 'step': 787},\n",
       "  {'loss': 5.9814276695251465, 'step': 788},\n",
       "  {'loss': 6.297543525695801, 'step': 789},\n",
       "  {'loss': 6.170338153839111, 'step': 790},\n",
       "  {'loss': 6.398639678955078, 'step': 791},\n",
       "  {'loss': 6.274231910705566, 'step': 792},\n",
       "  {'loss': 6.36652135848999, 'step': 793},\n",
       "  {'loss': 5.930144786834717, 'step': 794},\n",
       "  {'loss': 6.171633720397949, 'step': 795},\n",
       "  {'loss': 6.131617546081543, 'step': 796},\n",
       "  {'loss': 6.3817524909973145, 'step': 797},\n",
       "  {'loss': 6.184343338012695, 'step': 798},\n",
       "  {'loss': 6.230269432067871, 'step': 799},\n",
       "  {'loss': 6.179476737976074, 'step': 800},\n",
       "  {'loss': 6.41139030456543, 'step': 801},\n",
       "  {'loss': 6.008386611938477, 'step': 802},\n",
       "  {'loss': 6.165910243988037, 'step': 803},\n",
       "  {'loss': 6.1855878829956055, 'step': 804},\n",
       "  {'loss': 5.893813133239746, 'step': 805},\n",
       "  {'loss': 6.154047012329102, 'step': 806},\n",
       "  {'loss': 6.244041442871094, 'step': 807},\n",
       "  {'loss': 6.213301181793213, 'step': 808},\n",
       "  {'loss': 6.344395637512207, 'step': 809},\n",
       "  {'loss': 6.192485809326172, 'step': 810},\n",
       "  {'loss': 6.063512802124023, 'step': 811},\n",
       "  {'loss': 6.23832368850708, 'step': 812},\n",
       "  {'loss': 6.149255275726318, 'step': 813},\n",
       "  {'loss': 6.224613189697266, 'step': 814},\n",
       "  {'loss': 6.104172706604004, 'step': 815},\n",
       "  {'loss': 6.038175582885742, 'step': 816},\n",
       "  {'loss': 6.170835018157959, 'step': 817},\n",
       "  {'loss': 5.6534504890441895, 'step': 818},\n",
       "  {'loss': 5.556952953338623, 'step': 819},\n",
       "  {'loss': 5.765564441680908, 'step': 820},\n",
       "  {'loss': 6.162184238433838, 'step': 821},\n",
       "  {'loss': 6.334968566894531, 'step': 822},\n",
       "  {'loss': 6.043604373931885, 'step': 823},\n",
       "  {'loss': 5.505506992340088, 'step': 824},\n",
       "  {'loss': 5.809406757354736, 'step': 825},\n",
       "  {'loss': 5.731060981750488, 'step': 826},\n",
       "  {'loss': 5.781925678253174, 'step': 827},\n",
       "  {'loss': 6.456454753875732, 'step': 828},\n",
       "  {'loss': 5.5982985496521, 'step': 829},\n",
       "  {'loss': 6.007455825805664, 'step': 830},\n",
       "  {'loss': 6.023557186126709, 'step': 831},\n",
       "  {'loss': 5.756533145904541, 'step': 832},\n",
       "  {'loss': 6.216346740722656, 'step': 833},\n",
       "  {'loss': 5.977278709411621, 'step': 834},\n",
       "  {'loss': 6.46477746963501, 'step': 835},\n",
       "  {'loss': 6.132097244262695, 'step': 836},\n",
       "  {'loss': 6.160898208618164, 'step': 837},\n",
       "  {'loss': 5.840658187866211, 'step': 838},\n",
       "  {'loss': 5.917392730712891, 'step': 839},\n",
       "  {'loss': 6.022525310516357, 'step': 840},\n",
       "  {'loss': 5.649994850158691, 'step': 841},\n",
       "  {'loss': 6.224531650543213, 'step': 842},\n",
       "  {'loss': 6.067052364349365, 'step': 843},\n",
       "  {'loss': 5.698977470397949, 'step': 844},\n",
       "  {'loss': 5.919789791107178, 'step': 845},\n",
       "  {'loss': 6.412214279174805, 'step': 846},\n",
       "  {'loss': 6.1434006690979, 'step': 847},\n",
       "  {'loss': 5.587151050567627, 'step': 848},\n",
       "  {'loss': 5.95936393737793, 'step': 849},\n",
       "  {'loss': 5.577254295349121, 'step': 850},\n",
       "  {'loss': 5.656014919281006, 'step': 851},\n",
       "  {'loss': 5.839982509613037, 'step': 852},\n",
       "  {'loss': 5.610649585723877, 'step': 853},\n",
       "  {'loss': 6.198298454284668, 'step': 854},\n",
       "  {'loss': 6.205420017242432, 'step': 855},\n",
       "  {'loss': 6.007063865661621, 'step': 856},\n",
       "  {'loss': 5.95534610748291, 'step': 857},\n",
       "  {'loss': 6.115119457244873, 'step': 858},\n",
       "  {'loss': 5.848546504974365, 'step': 859},\n",
       "  {'loss': 5.4353814125061035, 'step': 860},\n",
       "  {'loss': 6.194253921508789, 'step': 861},\n",
       "  {'loss': 5.886451244354248, 'step': 862},\n",
       "  {'loss': 6.084601402282715, 'step': 863},\n",
       "  {'loss': 6.205596923828125, 'step': 864},\n",
       "  {'loss': 5.713630676269531, 'step': 865},\n",
       "  {'loss': 6.155368804931641, 'step': 866},\n",
       "  {'loss': 5.987909317016602, 'step': 867},\n",
       "  {'loss': 5.949391841888428, 'step': 868},\n",
       "  {'loss': 5.897697925567627, 'step': 869},\n",
       "  {'loss': 6.168738842010498, 'step': 870},\n",
       "  {'loss': 5.7707905769348145, 'step': 871},\n",
       "  {'loss': 5.584583759307861, 'step': 872},\n",
       "  {'loss': 5.786444187164307, 'step': 873},\n",
       "  {'loss': 5.585447788238525, 'step': 874},\n",
       "  {'loss': 5.662837982177734, 'step': 875},\n",
       "  {'loss': 5.712212562561035, 'step': 876},\n",
       "  {'loss': 5.970769882202148, 'step': 877},\n",
       "  {'loss': 5.702062129974365, 'step': 878},\n",
       "  {'loss': 6.107863903045654, 'step': 879},\n",
       "  {'loss': 6.066924095153809, 'step': 880},\n",
       "  {'loss': 5.663297176361084, 'step': 881},\n",
       "  {'loss': 5.531920433044434, 'step': 882},\n",
       "  {'loss': 5.892160892486572, 'step': 883},\n",
       "  {'loss': 6.287512302398682, 'step': 884},\n",
       "  {'loss': 5.848054885864258, 'step': 885},\n",
       "  {'loss': 5.627744674682617, 'step': 886},\n",
       "  {'loss': 5.806376934051514, 'step': 887},\n",
       "  {'loss': 6.096044540405273, 'step': 888},\n",
       "  {'loss': 6.111745834350586, 'step': 889},\n",
       "  {'loss': 5.776045322418213, 'step': 890},\n",
       "  {'loss': 6.22074031829834, 'step': 891},\n",
       "  {'loss': 5.90162467956543, 'step': 892},\n",
       "  {'loss': 5.47128438949585, 'step': 893},\n",
       "  {'loss': 5.359961032867432, 'step': 894},\n",
       "  {'loss': 5.420084476470947, 'step': 895},\n",
       "  {'loss': 5.704773902893066, 'step': 896},\n",
       "  {'loss': 6.192122936248779, 'step': 897},\n",
       "  {'loss': 5.302196502685547, 'step': 898},\n",
       "  {'loss': 6.1650390625, 'step': 899},\n",
       "  {'loss': 5.282564640045166, 'step': 900},\n",
       "  {'loss': 5.333053112030029, 'step': 901},\n",
       "  {'loss': 5.954625129699707, 'step': 902},\n",
       "  {'loss': 5.953242301940918, 'step': 903},\n",
       "  {'loss': 6.22835636138916, 'step': 904},\n",
       "  {'loss': 5.403650283813477, 'step': 905},\n",
       "  {'loss': 5.454579830169678, 'step': 906},\n",
       "  {'loss': 6.035684585571289, 'step': 907},\n",
       "  {'loss': 5.9421706199646, 'step': 908},\n",
       "  {'loss': 5.840601444244385, 'step': 909},\n",
       "  {'loss': 5.540421962738037, 'step': 910},\n",
       "  {'loss': 5.699370384216309, 'step': 911},\n",
       "  {'loss': 6.241888523101807, 'step': 912},\n",
       "  {'loss': 5.99316930770874, 'step': 913},\n",
       "  {'loss': 5.508965969085693, 'step': 914},\n",
       "  {'loss': 6.035554885864258, 'step': 915},\n",
       "  {'loss': 5.975940227508545, 'step': 916},\n",
       "  {'loss': 5.44652795791626, 'step': 917},\n",
       "  {'loss': 5.783436298370361, 'step': 918},\n",
       "  {'loss': 5.651610851287842, 'step': 919},\n",
       "  {'loss': 6.027553558349609, 'step': 920},\n",
       "  {'loss': 5.427163124084473, 'step': 921},\n",
       "  {'loss': 6.176769256591797, 'step': 922},\n",
       "  {'loss': 5.752948760986328, 'step': 923},\n",
       "  {'loss': 5.620815277099609, 'step': 924},\n",
       "  {'loss': 6.114317417144775, 'step': 925},\n",
       "  {'loss': 5.740330696105957, 'step': 926},\n",
       "  {'loss': 5.570556163787842, 'step': 927},\n",
       "  {'loss': 5.751370906829834, 'step': 928},\n",
       "  {'loss': 6.004382610321045, 'step': 929},\n",
       "  {'loss': 5.783803462982178, 'step': 930},\n",
       "  {'loss': 5.746761322021484, 'step': 931},\n",
       "  {'loss': 6.198850154876709, 'step': 932},\n",
       "  {'loss': 5.722126007080078, 'step': 933},\n",
       "  {'loss': 6.162303447723389, 'step': 934},\n",
       "  {'loss': 5.971364974975586, 'step': 935},\n",
       "  {'loss': 6.06383752822876, 'step': 936},\n",
       "  {'loss': 5.631424427032471, 'step': 937},\n",
       "  {'loss': 5.849540710449219, 'step': 938},\n",
       "  {'loss': 6.007293701171875, 'step': 939},\n",
       "  {'loss': 5.665019512176514, 'step': 940},\n",
       "  {'loss': 5.725893497467041, 'step': 941},\n",
       "  {'loss': 5.521500587463379, 'step': 942},\n",
       "  {'loss': 5.599538803100586, 'step': 943},\n",
       "  {'loss': 6.301260948181152, 'step': 944},\n",
       "  {'loss': 6.1965436935424805, 'step': 945},\n",
       "  {'loss': 5.441428184509277, 'step': 946},\n",
       "  {'loss': 5.766757011413574, 'step': 947},\n",
       "  {'loss': 5.58862829208374, 'step': 948},\n",
       "  {'loss': 6.016271114349365, 'step': 949},\n",
       "  {'loss': 6.092831134796143, 'step': 950},\n",
       "  {'loss': 5.5640549659729, 'step': 951},\n",
       "  {'loss': 5.865227699279785, 'step': 952},\n",
       "  {'loss': 5.768653869628906, 'step': 953},\n",
       "  {'loss': 5.741983890533447, 'step': 954},\n",
       "  {'loss': 6.127964496612549, 'step': 955},\n",
       "  {'loss': 5.589209079742432, 'step': 956},\n",
       "  {'loss': 5.7384772300720215, 'step': 957},\n",
       "  {'loss': 5.333614349365234, 'step': 958},\n",
       "  {'loss': 5.813440799713135, 'step': 959},\n",
       "  {'loss': 5.3871588706970215, 'step': 960},\n",
       "  {'loss': 5.936622142791748, 'step': 961},\n",
       "  {'loss': 5.299325466156006, 'step': 962},\n",
       "  {'loss': 6.04257869720459, 'step': 963},\n",
       "  {'loss': 5.441106796264648, 'step': 964},\n",
       "  {'loss': 6.040995121002197, 'step': 965},\n",
       "  {'loss': 5.636991024017334, 'step': 966},\n",
       "  {'loss': 5.717286109924316, 'step': 967},\n",
       "  {'loss': 5.76033353805542, 'step': 968},\n",
       "  {'loss': 5.318562984466553, 'step': 969},\n",
       "  {'loss': 6.139246463775635, 'step': 970},\n",
       "  {'loss': 5.894296169281006, 'step': 971},\n",
       "  {'loss': 6.329341411590576, 'step': 972},\n",
       "  {'loss': 5.847519874572754, 'step': 973},\n",
       "  {'loss': 6.109082221984863, 'step': 974},\n",
       "  {'loss': 5.4984331130981445, 'step': 975},\n",
       "  {'loss': 5.820492744445801, 'step': 976},\n",
       "  {'loss': 5.210939884185791, 'step': 977},\n",
       "  {'loss': 5.375313758850098, 'step': 978},\n",
       "  {'loss': 5.687919616699219, 'step': 979},\n",
       "  {'loss': 5.859033107757568, 'step': 980},\n",
       "  {'loss': 5.357014179229736, 'step': 981},\n",
       "  {'loss': 5.904397010803223, 'step': 982},\n",
       "  {'loss': 5.5888495445251465, 'step': 983},\n",
       "  {'loss': 5.191726207733154, 'step': 984},\n",
       "  {'loss': 6.00544548034668, 'step': 985},\n",
       "  {'loss': 5.513291358947754, 'step': 986},\n",
       "  {'loss': 5.283057689666748, 'step': 987},\n",
       "  {'loss': 5.908671855926514, 'step': 988},\n",
       "  {'loss': 5.706696033477783, 'step': 989},\n",
       "  {'loss': 5.8201751708984375, 'step': 990},\n",
       "  {'loss': 5.428075790405273, 'step': 991},\n",
       "  {'loss': 5.835113048553467, 'step': 992},\n",
       "  {'loss': 5.517333984375, 'step': 993},\n",
       "  {'loss': 5.341905117034912, 'step': 994},\n",
       "  {'loss': 5.483656883239746, 'step': 995},\n",
       "  {'loss': 5.83479118347168, 'step': 996},\n",
       "  {'loss': 5.608740329742432, 'step': 997},\n",
       "  {'loss': 5.4710493087768555, 'step': 998},\n",
       "  {'loss': 5.999269485473633, 'step': 999},\n",
       "  {'loss': 5.313358306884766, 'step': 1000},\n",
       "  ...],\n",
       " 'val': [{'loss': 7.091875350475311, 'step': 500},\n",
       "  {'loss': 5.678749084472656, 'step': 1000},\n",
       "  {'loss': 5.3444198846817015, 'step': 1500},\n",
       "  {'loss': 4.978909265995026, 'step': 2000},\n",
       "  {'loss': 4.755400604009628, 'step': 2500},\n",
       "  {'loss': 4.528371220827102, 'step': 3000},\n",
       "  {'loss': 4.483922469615936, 'step': 3500},\n",
       "  {'loss': 4.284839218854904, 'step': 4000},\n",
       "  {'loss': 4.183202081918717, 'step': 4500},\n",
       "  {'loss': 4.083735638856888, 'step': 5000},\n",
       "  {'loss': 4.014825022220611, 'step': 5500},\n",
       "  {'loss': 3.9412540435791015, 'step': 6000},\n",
       "  {'loss': 3.8768269419670105, 'step': 6500},\n",
       "  {'loss': 3.841353738307953, 'step': 7000},\n",
       "  {'loss': 3.7859415888786314, 'step': 7500},\n",
       "  {'loss': 3.7475524723529814, 'step': 8000},\n",
       "  {'loss': 3.696993100643158, 'step': 8500},\n",
       "  {'loss': 3.667452424764633, 'step': 9000},\n",
       "  {'loss': 3.636081737279892, 'step': 9500},\n",
       "  {'loss': 3.6453403770923614, 'step': 10000},\n",
       "  {'loss': 3.589928412437439, 'step': 10500},\n",
       "  {'loss': 3.5882970333099364, 'step': 11000},\n",
       "  {'loss': 3.5510027587413786, 'step': 11500},\n",
       "  {'loss': 3.5370976269245147, 'step': 12000},\n",
       "  {'loss': 3.5140486121177674, 'step': 12500},\n",
       "  {'loss': 3.5072770535945894, 'step': 13000},\n",
       "  {'loss': 3.4780659437179566, 'step': 13500},\n",
       "  {'loss': 3.4552790403366087, 'step': 14000},\n",
       "  {'loss': 3.4570499837398527, 'step': 14500},\n",
       "  {'loss': 3.437154144048691, 'step': 15000},\n",
       "  {'loss': 3.4098286628723145, 'step': 15500},\n",
       "  {'loss': 3.411135971546173, 'step': 16000},\n",
       "  {'loss': 3.386381435394287, 'step': 16500},\n",
       "  {'loss': 3.3924562692642213, 'step': 17000},\n",
       "  {'loss': 3.370198208093643, 'step': 17500},\n",
       "  {'loss': 3.3717746913433073, 'step': 18000},\n",
       "  {'loss': 3.353752779960632, 'step': 18500},\n",
       "  {'loss': 3.3413534998893737, 'step': 19000},\n",
       "  {'loss': 3.334506767988205, 'step': 19500},\n",
       "  {'loss': 3.326050990819931, 'step': 20000},\n",
       "  {'loss': 3.334199404716492, 'step': 20500},\n",
       "  {'loss': 3.32095645070076, 'step': 21000},\n",
       "  {'loss': 3.32389372587204, 'step': 21500},\n",
       "  {'loss': 3.306799793243408, 'step': 22000},\n",
       "  {'loss': 3.3067815959453584, 'step': 22500},\n",
       "  {'loss': 3.3025163888931273, 'step': 23000},\n",
       "  {'loss': 3.301250070333481, 'step': 23500},\n",
       "  {'loss': 3.300953286886215, 'step': 24000},\n",
       "  {'loss': 3.2883458197116853, 'step': 24500},\n",
       "  {'loss': 3.2873795211315153, 'step': 25000},\n",
       "  {'loss': 3.2881278693675995, 'step': 25500},\n",
       "  {'loss': 3.288409101963043, 'step': 26000},\n",
       "  {'loss': 3.2851992785930633, 'step': 26500},\n",
       "  {'loss': 3.283895468711853, 'step': 27000},\n",
       "  {'loss': 3.2858198821544646, 'step': 27500},\n",
       "  {'loss': 3.2887156426906587, 'step': 28000},\n",
       "  {'loss': 3.2892450511455538, 'step': 28500},\n",
       "  {'loss': 3.2848232209682466, 'step': 29000},\n",
       "  {'loss': 3.2837136507034304, 'step': 29500},\n",
       "  {'loss': 3.286137694120407, 'step': 30000},\n",
       "  {'loss': 3.284578424692154, 'step': 30500},\n",
       "  {'loss': 3.2906786620616915, 'step': 31000},\n",
       "  {'loss': 3.284909850358963, 'step': 31500},\n",
       "  {'loss': 3.287942445278168, 'step': 32000}]}"
      ]
     },
     "execution_count": 51,
     "metadata": {},
     "output_type": "execute_result"
    }
   ],
   "source": [
    "record"
   ]
  },
  {
   "cell_type": "markdown",
   "metadata": {
    "id": "rTjbeFlIN4yZ"
   },
   "source": [
    "## 推理\n",
    "\n",
    "- 翻译项目的评估指标一般是BLEU4，感兴趣的同学自行了解并实现\n",
    "- 接下来进行翻译推理，并作出注意力的热度图"
   ]
  },
  {
   "cell_type": "code",
   "execution_count": 52,
   "metadata": {
    "ExecutionIndicator": {
     "show": true
    },
    "colab": {
     "base_uri": "https://localhost:8080/"
    },
    "execution": {
     "iopub.execute_input": "2025-08-06T23:40:56.781616Z",
     "iopub.status.busy": "2025-08-06T23:40:56.781439Z",
     "iopub.status.idle": "2025-08-06T23:41:00.257420Z",
     "shell.execute_reply": "2025-08-06T23:41:00.256808Z",
     "shell.execute_reply.started": "2025-08-06T23:40:56.781597Z"
    },
    "id": "WxsjkyQgN4yZ",
    "outputId": "5ce160c2-ce7e-4bc3-d2b6-a332c7fcf6a1",
    "tags": []
   },
   "outputs": [
    {
     "name": "stdout",
     "output_type": "stream",
     "text": [
      "Looking in indexes: https://mirrors.aliyun.com/pypi/simple/\n",
      "Requirement already satisfied: Cython in /nasmnt/envs/cosyvoice_vllm_train/lib/python3.10/site-packages (3.0.11)\n",
      "\u001b[33mWARNING: Running pip as the 'root' user can result in broken permissions and conflicting behaviour with the system package manager, possibly rendering your system unusable. It is recommended to use a virtual environment instead: https://pip.pypa.io/warnings/venv. Use the --root-user-action option if you know what you are doing and want to suppress this warning.\u001b[0m\u001b[33m\n",
      "\u001b[0mLooking in indexes: https://mirrors.aliyun.com/pypi/simple/\n",
      "Requirement already satisfied: fastBPE in /nasmnt/envs/cosyvoice_vllm_train/lib/python3.10/site-packages (0.1.0)\n",
      "\u001b[33mWARNING: Running pip as the 'root' user can result in broken permissions and conflicting behaviour with the system package manager, possibly rendering your system unusable. It is recommended to use a virtual environment instead: https://pip.pypa.io/warnings/venv. Use the --root-user-action option if you know what you are doing and want to suppress this warning.\u001b[0m\u001b[33m\n",
      "\u001b[0m"
     ]
    }
   ],
   "source": [
    "!pip install Cython  # if failed to install fastBPE, try this line\n",
    "!pip install fastBPE #分词使用\n",
    "# 在 Windows 系统上并没有 sys/mman.h 文件"
   ]
  },
  {
   "cell_type": "code",
   "execution_count": 53,
   "metadata": {
    "colab": {
     "base_uri": "https://localhost:8080/",
     "height": 35
    },
    "execution": {
     "iopub.execute_input": "2025-08-06T23:41:00.258299Z",
     "iopub.status.busy": "2025-08-06T23:41:00.258099Z",
     "iopub.status.idle": "2025-08-06T23:41:00.262419Z",
     "shell.execute_reply": "2025-08-06T23:41:00.261779Z",
     "shell.execute_reply.started": "2025-08-06T23:41:00.258278Z"
    },
    "id": "f6Ry1PcAn4k1",
    "outputId": "6393524e-e5c3-4f93-dd9d-f249ca52bc05"
   },
   "outputs": [
    {
     "data": {
      "text/plain": [
       "'translate-transformer-not-share'"
      ]
     },
     "execution_count": 53,
     "metadata": {},
     "output_type": "execute_result"
    }
   ],
   "source": [
    "exp_name"
   ]
  },
  {
   "cell_type": "code",
   "execution_count": 54,
   "metadata": {
    "ExecutionIndicator": {
     "show": true
    },
    "execution": {
     "iopub.execute_input": "2025-08-06T23:41:00.263131Z",
     "iopub.status.busy": "2025-08-06T23:41:00.262966Z",
     "iopub.status.idle": "2025-08-06T23:41:00.488307Z",
     "shell.execute_reply": "2025-08-06T23:41:00.487710Z",
     "shell.execute_reply.started": "2025-08-06T23:41:00.263113Z"
    },
    "tags": []
   },
   "outputs": [
    {
     "name": "stdout",
     "output_type": "stream",
     "text": [
      "total 231188\n",
      "-rw-r--r-- 1 root root 236736459  8月  6 23:39 best.ckpt\n"
     ]
    }
   ],
   "source": [
    "!ls checkpoints/translate-transformer-not-share -l"
   ]
  },
  {
   "cell_type": "code",
   "execution_count": 55,
   "metadata": {
    "ExecuteTime": {
     "end_time": "2024-08-05T03:10:32.326542400Z",
     "start_time": "2024-08-05T03:10:31.006376300Z"
    },
    "ExecutionIndicator": {
     "show": true
    },
    "execution": {
     "iopub.execute_input": "2025-08-06T23:41:00.489311Z",
     "iopub.status.busy": "2025-08-06T23:41:00.489064Z",
     "iopub.status.idle": "2025-08-06T23:41:00.618631Z",
     "shell.execute_reply": "2025-08-06T23:41:00.618099Z",
     "shell.execute_reply.started": "2025-08-06T23:41:00.489286Z"
    },
    "id": "jT1Mqiq3N4yZ",
    "tags": []
   },
   "outputs": [],
   "source": [
    "import torch\n",
    "\n",
    "state_dict = torch.load(f\"checkpoints/translate-transformer-not-share/best.ckpt\", map_location=device)\n",
    "\n",
    "# state_dict1 = torch.load(\"epoch125-step132426.ckpt\", map_location=\"cpu\")\n",
    "# state_dict = state_dict1[\"state_dict\"]\n",
    "\n",
    "# update keys by dropping `model`\n",
    "# for key in list(state_dict):\n",
    "#     state_dict[key.replace(\"model.\", \"\")] = state_dict.pop(key)\n"
   ]
  },
  {
   "cell_type": "code",
   "execution_count": 56,
   "metadata": {
    "ExecuteTime": {
     "end_time": "2024-08-05T03:10:46.720508800Z",
     "start_time": "2024-08-05T03:10:36.179313900Z"
    },
    "colab": {
     "base_uri": "https://localhost:8080/"
    },
    "execution": {
     "iopub.execute_input": "2025-08-06T23:41:00.619339Z",
     "iopub.status.busy": "2025-08-06T23:41:00.619148Z",
     "iopub.status.idle": "2025-08-06T23:41:02.363937Z",
     "shell.execute_reply": "2025-08-06T23:41:02.363318Z",
     "shell.execute_reply.started": "2025-08-06T23:41:00.619319Z"
    },
    "id": "eKwIDdjgvTlO",
    "outputId": "35979ff2-a16d-4aa4-881a-8496e39e2469"
   },
   "outputs": [
    {
     "name": "stdout",
     "output_type": "stream",
     "text": [
      "Looking in indexes: https://mirrors.aliyun.com/pypi/simple/\n",
      "Requirement already satisfied: nltk in /nasmnt/envs/cosyvoice_vllm_train/lib/python3.10/site-packages (3.9.1)\n",
      "Requirement already satisfied: click in /nasmnt/envs/cosyvoice_vllm_train/lib/python3.10/site-packages (from nltk) (8.1.7)\n",
      "Requirement already satisfied: joblib in /nasmnt/envs/cosyvoice_vllm_train/lib/python3.10/site-packages (from nltk) (1.4.2)\n",
      "Requirement already satisfied: regex>=2021.8.3 in /nasmnt/envs/cosyvoice_vllm_train/lib/python3.10/site-packages (from nltk) (2024.11.6)\n",
      "Requirement already satisfied: tqdm in /nasmnt/envs/cosyvoice_vllm_train/lib/python3.10/site-packages (from nltk) (4.67.1)\n",
      "\u001b[33mWARNING: Running pip as the 'root' user can result in broken permissions and conflicting behaviour with the system package manager, possibly rendering your system unusable. It is recommended to use a virtual environment instead: https://pip.pypa.io/warnings/venv. Use the --root-user-action option if you know what you are doing and want to suppress this warning.\u001b[0m\u001b[33m\n",
      "\u001b[0m"
     ]
    }
   ],
   "source": [
    "!pip install nltk"
   ]
  },
  {
   "cell_type": "code",
   "execution_count": 57,
   "metadata": {
    "execution": {
     "iopub.execute_input": "2025-08-06T23:41:02.364780Z",
     "iopub.status.busy": "2025-08-06T23:41:02.364592Z",
     "iopub.status.idle": "2025-08-06T23:41:02.594039Z",
     "shell.execute_reply": "2025-08-06T23:41:02.593362Z",
     "shell.execute_reply.started": "2025-08-06T23:41:02.364759Z"
    },
    "id": "WVksjIhL_pt9"
   },
   "outputs": [],
   "source": [
    "!rm -r wmt16/.cache"
   ]
  },
  {
   "cell_type": "code",
   "execution_count": 58,
   "metadata": {
    "colab": {
     "base_uri": "https://localhost:8080/"
    },
    "execution": {
     "iopub.execute_input": "2025-08-06T23:41:02.595073Z",
     "iopub.status.busy": "2025-08-06T23:41:02.594793Z",
     "iopub.status.idle": "2025-08-06T23:41:02.599797Z",
     "shell.execute_reply": "2025-08-06T23:41:02.599337Z",
     "shell.execute_reply.started": "2025-08-06T23:41:02.595043Z"
    },
    "id": "2MY69-6WWSjp",
    "outputId": "911d9066-7917-4917-b5cc-d679a1c63865"
   },
   "outputs": [
    {
     "data": {
      "text/plain": [
       "['a man in an orange hat starring at something .']"
      ]
     },
     "execution_count": 58,
     "metadata": {},
     "output_type": "execute_result"
    }
   ],
   "source": [
    "tokenizer.decode([[   5,   16,    6,   23,  150,   80, 8248,   35,  232,    4,    3]])"
   ]
  },
  {
   "cell_type": "code",
   "execution_count": 59,
   "metadata": {
    "colab": {
     "base_uri": "https://localhost:8080/",
     "height": 101,
     "referenced_widgets": [
      "c9db4cd83b7b4f53a0fa93b8c365debd",
      "a972aba7913b48c6973ae27bff5b9d1d",
      "22aa774ab39e4fd78b0ff08d430d2b5d",
      "9a01f02fb99b4b81ac487d23bc5daf4a",
      "19f846338f6b48c9930b58575641e5b8",
      "7d293204dc1b4d97bb5ee670787c7b7d",
      "ea8fa440f320435aa75c9bef75bc3f08",
      "4e64bcb87e584beda0408a0aa5a659ae",
      "b077d7562d814df5b6d839464dd4122f",
      "5a28babf4e2e4393bdc1a093034885ab",
      "be07d518c21149d196c610fd57b1eaec"
     ]
    },
    "execution": {
     "iopub.execute_input": "2025-08-06T23:41:02.600460Z",
     "iopub.status.busy": "2025-08-06T23:41:02.600295Z",
     "iopub.status.idle": "2025-08-06T23:41:12.551629Z",
     "shell.execute_reply": "2025-08-06T23:41:12.551038Z",
     "shell.execute_reply.started": "2025-08-06T23:41:02.600442Z"
    },
    "id": "5QgodlOJfgKj",
    "outputId": "2907bad2-7cb1-4295-c8b0-77ac0dabf398",
    "scrolled": true,
    "tags": []
   },
   "outputs": [
    {
     "name": "stdout",
     "output_type": "stream",
     "text": [
      "save cache to wmt16/.cache/de2en_test_128.npy\n"
     ]
    },
    {
     "data": {
      "application/vnd.jupyter.widget-view+json": {
       "model_id": "cb1335d3f34045b9a8774908f432df07",
       "version_major": 2,
       "version_minor": 0
      },
      "text/plain": [
       "0it [00:00, ?it/s]"
      ]
     },
     "metadata": {},
     "output_type": "display_data"
    },
    {
     "name": "stderr",
     "output_type": "stream",
     "text": [
      "/nasmnt/envs/cosyvoice_vllm_train/lib/python3.10/site-packages/nltk/translate/bleu_score.py:577: UserWarning: \n",
      "The hypothesis contains 0 counts of 4-gram overlaps.\n",
      "Therefore the BLEU score evaluates to 0, independently of\n",
      "how many N-gram overlaps of lower order it contains.\n",
      "Consider using lower n-gram order or use SmoothingFunction()\n",
      "  warnings.warn(_msg)\n",
      "/nasmnt/envs/cosyvoice_vllm_train/lib/python3.10/site-packages/nltk/translate/bleu_score.py:577: UserWarning: \n",
      "The hypothesis contains 0 counts of 3-gram overlaps.\n",
      "Therefore the BLEU score evaluates to 0, independently of\n",
      "how many N-gram overlaps of lower order it contains.\n",
      "Consider using lower n-gram order or use SmoothingFunction()\n",
      "  warnings.warn(_msg)\n",
      "/nasmnt/envs/cosyvoice_vllm_train/lib/python3.10/site-packages/nltk/translate/bleu_score.py:577: UserWarning: \n",
      "The hypothesis contains 0 counts of 2-gram overlaps.\n",
      "Therefore the BLEU score evaluates to 0, independently of\n",
      "how many N-gram overlaps of lower order it contains.\n",
      "Consider using lower n-gram order or use SmoothingFunction()\n",
      "  warnings.warn(_msg)\n"
     ]
    },
    {
     "name": "stdout",
     "output_type": "stream",
     "text": [
      "testing loss: 3.1873543899096743\n"
     ]
    },
    {
     "data": {
      "text/plain": [
       "0.5897835772081111"
      ]
     },
     "execution_count": 59,
     "metadata": {},
     "output_type": "execute_result"
    }
   ],
   "source": [
    "from nltk.translate.bleu_score import sentence_bleu\n",
    "# load checkpoints\n",
    "model = TransformerModel(config)\n",
    "model.load_state_dict(state_dict)\n",
    "\n",
    "loss_fct = CrossEntropyWithPadding(config)\n",
    "# from dataset import LangPairDataset\n",
    "test_ds = LangPairDataset(\"test\", max_length=128, data_dir=\"./wmt16\")\n",
    "test_dl = DataLoader(test_ds, batch_size=1, collate_fn=partial(collate_fct, tokenizer=tokenizer))\n",
    "\n",
    "model = model.to(device)\n",
    "model.eval()\n",
    "collect = {}\n",
    "loss_collect = []\n",
    "\n",
    "predictions = []\n",
    "answers = []\n",
    "# 初始化BLEU分数列表\n",
    "bleu_scores = []\n",
    "for idx, batch in tqdm(enumerate(test_dl)):\n",
    "    encoder_inputs = batch[\"encoder_inputs\"]\n",
    "    encoder_inputs_mask = batch[\"encoder_inputs_mask\"]\n",
    "    decoder_inputs = batch[\"decoder_inputs\"]\n",
    "    decoder_labels = batch[\"decoder_labels\"]\n",
    "    # print(decoder_labels.cpu())\n",
    "    # decoder_labels1=tokenizer.decode(decoder_labels.cpu().numpy())\n",
    "    # print(decoder_labels1)\n",
    "    # 前向计算\n",
    "    outputs = model(\n",
    "        encoder_inputs=encoder_inputs,\n",
    "        decoder_inputs=decoder_inputs,\n",
    "        encoder_inputs_mask=encoder_inputs_mask\n",
    "        )\n",
    "    loss = loss_fct(outputs.logits, decoder_labels)         # 验证集损失\n",
    "\n",
    "    # print(outputs.logits.shape, decoder_labels.shape)\n",
    "\n",
    "    # loss = loss_fct(outputs.logits[:, :decoder_labels.shape[1]], decoder_labels)         # 验证集损失\n",
    "    # outputs = model.infer(encoder_inputs=encoder_inputs)\n",
    "    # print(outputs.logits.shape)\n",
    "    preds = outputs.logits.argmax(dim=-1) # 预测结果，[1,seq_len]\n",
    "    # print(preds.shape)\n",
    "    #把preds转为英文单词\n",
    "    preds = tokenizer.decode(preds.cpu().numpy()) #['预测句子']\n",
    "    # predictions.append(preds)\n",
    "    # print(preds)\n",
    "    #把decoder_labels转为英文单词\n",
    "    decoder_labels = tokenizer.decode(decoder_labels.cpu().numpy()) #['标签句子']\n",
    "    # answers.append(decoder_labels)\n",
    "    # print(decoder_labels)\n",
    "    belu=sentence_bleu([decoder_labels[0].split()],preds[0].split(),weights=(1, 0, 0, 0))\n",
    "    bleu_scores.append(belu)\n",
    "    collect[idx] = {\"loss\": loss.item(), \"src_inputs\": encoder_inputs, \"trg_inputs\": decoder_inputs, \"mask\": encoder_inputs_mask, \"trg_labels\": decoder_labels, \"preds\": preds}\n",
    "    loss_collect.append(loss.item())\n",
    "    # break\n",
    "\n",
    "# sort collect by value\n",
    "collect = sorted(collect.items(), key=lambda x: x[1][\"loss\"])\n",
    "print(f\"testing loss: {np.array(loss_collect).mean()}\")\n",
    "sum(bleu_scores) / len(bleu_scores)"
   ]
  },
  {
   "cell_type": "code",
   "execution_count": 60,
   "metadata": {
    "ExecuteTime": {
     "end_time": "2024-05-06T13:16:14.099749Z",
     "start_time": "2024-05-06T13:16:13.991811900Z"
    },
    "ExecutionIndicator": {
     "show": true
    },
    "colab": {
     "base_uri": "https://localhost:8080/",
     "height": 535,
     "referenced_widgets": [
      "40f7e3754ad44b33acfe0a80b3648a3a",
      "b1e51beac50f4947a9dd235d8aa87603",
      "8cd9e9702e114ebc856f56975544ede8",
      "b7c7a718a8654956947108969557ca83",
      "20a27d1ec76f4d85b1ffe99401fbb5b7",
      "e0ddf3970b3e4248bc87d4649fa9c448",
      "d7bdde54e2534c49a207540bd258d3ae",
      "22484000400842f0b6e245dc610acbba",
      "a66a5b4ff37d4dafa4ba3081aa1359f4",
      "0b7866c29e5f4afe9b92de15f1b88c3e",
      "333e84a304184c57af1821620ae80f6a"
     ]
    },
    "execution": {
     "iopub.execute_input": "2025-08-06T23:41:12.552874Z",
     "iopub.status.busy": "2025-08-06T23:41:12.552392Z",
     "iopub.status.idle": "2025-08-06T23:41:15.413991Z",
     "shell.execute_reply": "2025-08-06T23:41:15.413479Z",
     "shell.execute_reply.started": "2025-08-06T23:41:12.552842Z"
    },
    "id": "KGSym4CbN4ya",
    "outputId": "f5e9c4c2-c92e-44e6-c83a-5cb720305428",
    "tags": []
   },
   "outputs": [
    {
     "name": "stderr",
     "output_type": "stream",
     "text": [
      "Loading vocabulary from ./wmt16/vocab ...\n",
      "Read 798250 words (9714 unique) from vocabulary file.\n",
      "Loading codes from ./wmt16/bpe.10000 ...\n",
      "Read 10001 codes from the codes file.\n"
     ]
    },
    {
     "data": {
      "application/vnd.jupyter.widget-view+json": {
       "model_id": "2d022083bbe44975bba4be6c7a77c317",
       "version_major": 2,
       "version_minor": 0
      },
      "text/plain": [
       "  0%|          | 0/128 [00:00<?, ?it/s]"
      ]
     },
     "metadata": {},
     "output_type": "display_data"
    },
    {
     "name": "stderr",
     "output_type": "stream",
     "text": [
      "/nasmnt/envs/cosyvoice_vllm_train/lib/python3.10/site-packages/IPython/core/pylabtools.py:170: UserWarning: There are no gridspecs with layoutgrids. Possibly did not call parent GridSpec with the \"figure\" keyword\n",
      "  fig.canvas.print_figure(bytes_io, **kw)\n"
     ]
    },
    {
     "data": {
      "image/png": "[encoded data removed]",
      "text/plain": [
       "<Figure size 1000x500 with 2 Axes>"
      ]
     },
     "metadata": {},
     "output_type": "display_data"
    },
    {
     "data": {
      "image/png": "[encoded data removed]",
      "text/plain": [
       "<Figure size 1000x500 with 2 Axes>"
      ]
     },
     "metadata": {},
     "output_type": "display_data"
    },
    {
     "data": {
      "image/png": "[encoded data removed]",
      "text/plain": [
       "<Figure size 1000x500 with 2 Axes>"
      ]
     },
     "metadata": {},
     "output_type": "display_data"
    },
    {
     "data": {
      "image/png": "[encoded data removed]",
      "text/plain": [
       "<Figure size 1000x500 with 2 Axes>"
      ]
     },
     "metadata": {},
     "output_type": "display_data"
    },
    {
     "data": {
      "text/plain": [
       "['man on a white boat fishing lake with a small boat in the lake.',\n",
       " 'a man with a backpack and a girl with a backpack on the beach.',\n",
       " 'three men on a dirt track and the other men are in the [UNK] of them.',\n",
       " 'a man and woman are enjoying a meal together of food in the same time.']"
      ]
     },
     "execution_count": 60,
     "metadata": {},
     "output_type": "execute_result"
    }
   ],
   "source": [
    "import re\n",
    "from fastBPE import fastBPE\n",
    "from sacremoses import MosesDetokenizer, MosesTokenizer\n",
    "\n",
    "# `MosesTokenizer` 和 `MosesDetokenizer` 是来自 `sacremoses` 库的工具，用于自然语言处理中的分词（Tokenization）和去标记化（Detokenization）。这些工具主要用于对文本进行预处理和后处理，通常在处理自然语言处理任务时会用到。\n",
    "#\n",
    "# ### MosesTokenizer：\n",
    "# - **作用**：将原始文本分割成单词和标点符号。\n",
    "# - **特点**：基于 Moses 翻译工具中使用的分词方法。\n",
    "# - **功能**：\n",
    "#   - 将句子分割成单词和标点符号。\n",
    "#   - 处理缩写、连字符、标点等特殊情况。\n",
    "#   - 对文本进行标记化，方便后续处理。\n",
    "#\n",
    "# ### MosesDetokenizer：\n",
    "# - **作用**：将分词后的文本重新组合成原始的句子。\n",
    "# - **特点**：用于对分词后的文本进行还原，使其恢复为可读的句子形式。\n",
    "# - **功能**：\n",
    "#   - 将分词后的单词和标点符号重新组合成句子。\n",
    "#   - 处理分词后的标点、缩写等情况，使得结果更加自然和可读。\n",
    "#\n",
    "# 这些工具通常在文本预处理和后处理过程中使用，对输入的文本进行标记化和去标记化，是一种常用的处理方式。在自然语言处理任务中，对文本进行正确的分词和还原是很重要的，而 `MosesTokenizer` 和 `MosesDetokenizer` 提供了方便、高效的工具来处理这些任务。\n",
    "\n",
    "class Translator:\n",
    "    def __init__(self, model, src_tokenizer, trg_tokenizer):\n",
    "        self.bpe = fastBPE(\"./wmt16/bpe.10000\", \"./wmt16/vocab\")\n",
    "        self.mose_tokenizer = MosesTokenizer(lang=\"de\")\n",
    "        self.mose_detokenizer = MosesDetokenizer(lang=\"en\")\n",
    "        self.model = model\n",
    "        self.model.eval()\n",
    "        self.src_tokenizer = src_tokenizer\n",
    "        self.trg_tokenizer = trg_tokenizer\n",
    "        self.pattern = re.compile(r'(@@ )|(@@ ?$)')\n",
    "\n",
    "    def draw_attention_map(self, attn_scores, cross_attn_scores, src_words_list, trg_words_list):\n",
    "        \"\"\"绘制注意力热力图\n",
    "        attn_scores (numpy.ndarray): 表示自注意力机制（self-attention）分数。\n",
    "        cross_attn_scores (numpy.ndarray): 表示交叉注意力机制的注意力分数。\n",
    "        src_words_list (list): 源语言句子的单词列表。\n",
    "        trg_words_list (list): 目标语言句子的单词列表。\n",
    "        \"\"\"\n",
    "        assert len(attn_scores.shape) == 3, \"attn_scores shape should be \" \\\n",
    "            f\"[num heads, target sequence length, target sequence length], but got {attn_scores.shape}\"\n",
    "        attn_scores = attn_scores[:, :len(trg_words_list), :len(trg_words_list)]\n",
    "\n",
    "        assert len(cross_attn_scores.shape) == 3, \"attn_scores shape should be \" \\\n",
    "            f\"[num heads, target sequence length, source sequence length], but got {cross_attn_scores.shape}\"\n",
    "        cross_attn_scores = cross_attn_scores[:, :len(trg_words_list), :len(src_words_list)]\n",
    "\n",
    "        num_heads, trg_len, src_len = cross_attn_scores.shape\n",
    "\n",
    "        fig = plt.figure(figsize=(10, 5), constrained_layout=True) # constrained_layout=True 自动调整子图参数，使之填充整个图像区域\n",
    "        grid = plt.GridSpec(trg_len, trg_len + src_len, wspace=0.1, hspace=0.1)# wspace,hspace 控制子图之间的间距\n",
    "        #下面是attn_scores的热力图\n",
    "        self_map = fig.add_subplot(grid[:,:trg_len]) #  添加子图\n",
    "        self_map.matshow(attn_scores.mean(dim=0), cmap='viridis') # 绘制热力图，cmap表示颜色,dim=0表示对第0维求均值\n",
    "        self_map.set_yticks(range(trg_len), trg_words_list, fontsize=10)\n",
    "        self_map.set_xticks(range(trg_len), [\"[BOS]\"] + trg_words_list[:-1], rotation=90)\n",
    "        #下面是cross_attn_scores的热力图\n",
    "        cross_map = fig.add_subplot(grid[:, trg_len:])\n",
    "        cross_map.matshow(cross_attn_scores.mean(dim=0), cmap='viridis')\n",
    "        cross_map.set_yticks(range(trg_len), [], fontsize=6)\n",
    "        cross_map.set_xticks(range(src_len), src_words_list, rotation=90)\n",
    "\n",
    "        plt.show()\n",
    "\n",
    "    def draw_attention_maps(self, attn_scores, cross_attn_scores, src_words_list, trg_words_list, heads_list):\n",
    "        \"\"\"绘制注意力热力图\n",
    "\n",
    "        Args:\n",
    "            - scores (numpy.ndarray): shape = [source sequence length, target sequence length]\n",
    "        \"\"\"\n",
    "        assert len(attn_scores.shape) == 3, \"attn_scores shape should be \" \\\n",
    "            f\"[num heads, target sequence length, target sequence length], but got {attn_scores.shape}\"\n",
    "        attn_scores = attn_scores[:, :len(trg_words_list), :len(trg_words_list)]\n",
    "\n",
    "        assert len(cross_attn_scores.shape) == 3, \"attn_scores shape should be \" \\\n",
    "            f\"[num heads, target sequence length, source sequence length], but got {cross_attn_scores.shape}\"\n",
    "        cross_attn_scores = cross_attn_scores[:, :len(trg_words_list), :len(src_words_list)]\n",
    "        # cross_attn_scores = cross_attn_scores[:, :len(src_words_list), :len(src_words_list)]\n",
    "\n",
    "        num_heads, trg_len, src_len = cross_attn_scores.shape\n",
    "        fig, axes = plt.subplots(2, len(heads_list), figsize=(5 * len(heads_list), 10))\n",
    "        for i, heads_idx in enumerate(heads_list):\n",
    "            axes[0, i].matshow(attn_scores[heads_idx], cmap='viridis')\n",
    "            axes[0, i].set_yticks(range(trg_len), trg_words_list)\n",
    "            axes[0, i].set_xticks(range(trg_len), [\"[BOS]\"] + trg_words_list[:-1], rotation=90)\n",
    "            axes[0, i].set_title(f\"head {heads_idx}\")\n",
    "            axes[1, i].matshow(cross_attn_scores[heads_idx], cmap='viridis')\n",
    "            axes[1, i].set_yticks(range(trg_len), trg_words_list)\n",
    "            axes[1, i].set_xticks(range(src_len), src_words_list, rotation=90)\n",
    "            axes[1, i].set_title(f\"head {heads_idx}\")\n",
    "\n",
    "        plt.show()\n",
    "\n",
    "\n",
    "    def __call__(self, sentence_list, heads_list=None, layer_idx=-1):\n",
    "        # 将输入句子列表转换为小写，并使用 MosesTokenizer 进行分词处理。\n",
    "        sentence_list = [\" \".join(self.mose_tokenizer.tokenize(s.lower())) for s in sentence_list]\n",
    "        # 将分词后的结果进行 BPE 编码，得到 tokens_list。\n",
    "        tokens_list = [s.split() for s in self.bpe.apply(sentence_list)]\n",
    "        # 使用 src_tokenizer 对 tokens_list 进行编码，同时添加起始标记 ([BOS]) 和结束标记 ([EOS])。\n",
    "        encoder_input, attn_mask = self.src_tokenizer.encode(\n",
    "            tokens_list,\n",
    "            add_bos=True,\n",
    "            add_eos=True,\n",
    "            return_mask=True,\n",
    "            )\n",
    "        encoder_input = torch.Tensor(encoder_input).to(dtype=torch.int64)\n",
    "        # 使用模型的 infer 方法对编码器输入进行推理，得到输出结果 outputs\n",
    "        outputs = model.infer(encoder_inputs=encoder_input, encoder_inputs_mask=attn_mask)\n",
    "\n",
    "        preds = outputs.preds.numpy()\n",
    "        # 使用目标语言的 trg_tokenizer 对预测序列进行解码，得到解码后的目标语言句子列表 trg_decoded。\n",
    "        trg_decoded = self.trg_tokenizer.decode(preds, split=True, remove_eos=False, remove_bos=False, remove_pad=False)\n",
    "        # 使用源语言的 src_tokenizer 对编码器输入进行解码，得到解码后的源语言句子列表 src_decoded。为下面绘制热力图做准备。\n",
    "        src_decoded = self.src_tokenizer.decode(\n",
    "            encoder_input.numpy(),\n",
    "            split=True,\n",
    "            remove_bos=False,\n",
    "            remove_eos=False\n",
    "            )\n",
    "\n",
    "        # post processed attn scores\n",
    "        # outputs.decoder_attentions[-1]  # the last layer of self-attention scores\n",
    "\n",
    "        # draw the attention map of the last decoder block\n",
    "        for attn_score, cross_attn_score, src, trg in zip(\n",
    "            outputs.decoder_self_attn_scores[layer_idx], outputs.decoder_cross_attn_scores[layer_idx], src_decoded, trg_decoded):\n",
    "            if heads_list is None:# 如果没有指定heads_list，就画单个热力图\n",
    "                self.draw_attention_map(\n",
    "                    attn_score,\n",
    "                    cross_attn_score,\n",
    "                    src,\n",
    "                    trg,\n",
    "                )\n",
    "            else:# 如果指定了heads_list，就画多个热力图\n",
    "                self.draw_attention_maps(\n",
    "                    attn_score,\n",
    "                    cross_attn_score,\n",
    "                    src,\n",
    "                    trg,\n",
    "                    heads_list=heads_list,\n",
    "                    )\n",
    "        return [self.mose_detokenizer.tokenize(self.pattern.sub(\"\", s).split()) for s in self.trg_tokenizer.decode(preds)] #将解码后的目标语言句子列表返回，并使用 mose_detokenizer 进行去标记化，最终得到翻译后的结果。\n",
    "\n",
    "\n",
    "# sentence_list = [\n",
    "#     \"Mann in einem kleinen weißen Boot auf einem See.\",  # Man in a small white boat on a lake.\n",
    "#     \"Ein Mann mit einem Eimer und ein Mädchen mit einem Hut am Strand.\", # A man with a bucket and a girl in a hat on the beach.\n",
    "#     \"Drei Männer auf Pferden während eines Rennens.\",  # Three men on horses during a race.\n",
    "#     \"Ein Mann und eine Frau essen zu Abend\",  # 一个男人和一个女人在吃晚餐\n",
    "# ]\n",
    "sentence_list = [\n",
    "    \"Mann in einem kleinen weißen Boot auf einem See.\",  # Man in a small white boat on a lake.\n",
    "    \"Ein Mann mit einem Eimer und ein Mädchen mit einem Hut am Strand.\", # A man with a bucket and a girl in a hat on the beach.\n",
    "    \"Drei Männer auf Pferden während eines Rennens.\",  # Three men on horses during a race.\n",
    "    \"Ein Mann und eine Frau essen zu Abend\",  # A man and a woman eating dinner\n",
    "]\n",
    "\n",
    "# load checkpoints\n",
    "model = TransformerModel(config)\n",
    "model.load_state_dict(state_dict)\n",
    "translator = Translator(model.cpu(), tokenizer, tokenizer)\n",
    "translator(\n",
    "    sentence_list,\n",
    "    layer_idx=-1,\n",
    "    # heads_list=[0, 1, 2, 3, 4, 5, 6, 7]\n",
    "    )\n"
   ]
  },
  {
   "cell_type": "code",
   "execution_count": 61,
   "metadata": {
    "colab": {
     "base_uri": "https://localhost:8080/"
    },
    "execution": {
     "iopub.execute_input": "2025-08-06T23:41:15.414735Z",
     "iopub.status.busy": "2025-08-06T23:41:15.414537Z",
     "iopub.status.idle": "2025-08-06T23:41:15.641789Z",
     "shell.execute_reply": "2025-08-06T23:41:15.641158Z",
     "shell.execute_reply.started": "2025-08-06T23:41:15.414714Z"
    },
    "id": "e0WkUQuUe-Cy",
    "outputId": "433e3d70-4f34-4376-e4a3-1b8834e71f88",
    "tags": []
   },
   "outputs": [
    {
     "name": "stdout",
     "output_type": "stream",
     "text": [
      "translate-transformer-not-share\n"
     ]
    }
   ],
   "source": [
    "!ls checkpoints"
   ]
  },
  {
   "cell_type": "code",
   "execution_count": 62,
   "metadata": {
    "execution": {
     "iopub.execute_input": "2025-08-06T23:41:15.642798Z",
     "iopub.status.busy": "2025-08-06T23:41:15.642560Z",
     "iopub.status.idle": "2025-08-06T23:41:15.870970Z",
     "shell.execute_reply": "2025-08-06T23:41:15.870373Z",
     "shell.execute_reply.started": "2025-08-06T23:41:15.642775Z"
    },
    "id": "_1ZLtdahywWf",
    "tags": []
   },
   "outputs": [
    {
     "name": "stdout",
     "output_type": "stream",
     "text": [
      "cp: cannot create regular file '/content/drive/MyDrive/transformer-de-en': No such file or directory\n"
     ]
    }
   ],
   "source": [
    "# prompt: 把best.ckpt复制到云盘内\n",
    "\n",
    "!cp -r checkpoints/translate-transformer-not-share/best.ckpt /content/drive/MyDrive/transformer-de-en\n"
   ]
  }
 ],
 "metadata": {
  "accelerator": "GPU",
  "colab": {
   "gpuType": "T4",
   "provenance": []
  },
  "kernelspec": {
   "display_name": "Python 3 (ipykernel)",
   "language": "python",
   "name": "python3"
  },
  "language_info": {
   "codemirror_mode": {
    "name": "ipython",
    "version": 3
   },
   "file_extension": ".py",
   "mimetype": "text/x-python",
   "name": "python",
   "nbconvert_exporter": "python",
   "pygments_lexer": "ipython3",
   "version": "3.10.12"
  },
  "widgets": {
   "application/vnd.jupyter.widget-state+json": {
    "00fe6a550df547cea5b1e0d84c1a3f5f": {
     "model_module": "@jupyter-widgets/controls",
     "model_module_version": "1.5.0",
     "model_name": "FloatProgressModel",
     "state": {
      "_dom_classes": [],
      "_model_module": "@jupyter-widgets/controls",
      "_model_module_version": "1.5.0",
      "_model_name": "FloatProgressModel",
      "_view_count": null,
      "_view_module": "@jupyter-widgets/controls",
      "_view_module_version": "1.5.0",
      "_view_name": "ProgressView",
      "bar_style": "success",
      "description": "",
      "description_tooltip": null,
      "layout": "IPY_MODEL_83f345f7424c43929d7a304cbfb6d0fe",
      "max": 9714,
      "min": 0,
      "orientation": "horizontal",
      "style": "IPY_MODEL_58d69d086f644e89937347e1f9261d6f",
      "value": 9714
     }
    },
    "013d2a6b90144432bbfb15136235faba": {
     "model_module": "@jupyter-widgets/base",
     "model_module_version": "1.2.0",
     "model_name": "LayoutModel",
     "state": {
      "_model_module": "@jupyter-widgets/base",
      "_model_module_version": "1.2.0",
      "_model_name": "LayoutModel",
      "_view_count": null,
      "_view_module": "@jupyter-widgets/base",
      "_view_module_version": "1.2.0",
      "_view_name": "LayoutView",
      "align_content": null,
      "align_items": null,
      "align_self": null,
      "border": null,
      "bottom": null,
      "display": null,
      "flex": null,
      "flex_flow": null,
      "grid_area": null,
      "grid_auto_columns": null,
      "grid_auto_flow": null,
      "grid_auto_rows": null,
      "grid_column": null,
      "grid_gap": null,
      "grid_row": null,
      "grid_template_areas": null,
      "grid_template_columns": null,
      "grid_template_rows": null,
      "height": null,
      "justify_content": null,
      "justify_items": null,
      "left": null,
      "margin": null,
      "max_height": null,
      "max_width": null,
      "min_height": null,
      "min_width": null,
      "object_fit": null,
      "object_position": null,
      "order": null,
      "overflow": null,
      "overflow_x": null,
      "overflow_y": null,
      "padding": null,
      "right": null,
      "top": null,
      "visibility": null,
      "width": null
     }
    },
    "0b7866c29e5f4afe9b92de15f1b88c3e": {
     "model_module": "@jupyter-widgets/base",
     "model_module_version": "1.2.0",
     "model_name": "LayoutModel",
     "state": {
      "_model_module": "@jupyter-widgets/base",
      "_model_module_version": "1.2.0",
      "_model_name": "LayoutModel",
      "_view_count": null,
      "_view_module": "@jupyter-widgets/base",
      "_view_module_version": "1.2.0",
      "_view_name": "LayoutView",
      "align_content": null,
      "align_items": null,
      "align_self": null,
      "border": null,
      "bottom": null,
      "display": null,
      "flex": null,
      "flex_flow": null,
      "grid_area": null,
      "grid_auto_columns": null,
      "grid_auto_flow": null,
      "grid_auto_rows": null,
      "grid_column": null,
      "grid_gap": null,
      "grid_row": null,
      "grid_template_areas": null,
      "grid_template_columns": null,
      "grid_template_rows": null,
      "height": null,
      "justify_content": null,
      "justify_items": null,
      "left": null,
      "margin": null,
      "max_height": null,
      "max_width": null,
      "min_height": null,
      "min_width": null,
      "object_fit": null,
      "object_position": null,
      "order": null,
      "overflow": null,
      "overflow_x": null,
      "overflow_y": null,
      "padding": null,
      "right": null,
      "top": null,
      "visibility": null,
      "width": null
     }
    },
    "0c0c7229347b49ffbb9a0f7bd41199b9": {
     "model_module": "@jupyter-widgets/controls",
     "model_module_version": "1.5.0",
     "model_name": "DescriptionStyleModel",
     "state": {
      "_model_module": "@jupyter-widgets/controls",
      "_model_module_version": "1.5.0",
      "_model_name": "DescriptionStyleModel",
      "_view_count": null,
      "_view_module": "@jupyter-widgets/base",
      "_view_module_version": "1.2.0",
      "_view_name": "StyleView",
      "description_width": ""
     }
    },
    "0e10428326bc436e8dbc079e89570bde": {
     "model_module": "@jupyter-widgets/controls",
     "model_module_version": "1.5.0",
     "model_name": "ProgressStyleModel",
     "state": {
      "_model_module": "@jupyter-widgets/controls",
      "_model_module_version": "1.5.0",
      "_model_name": "ProgressStyleModel",
      "_view_count": null,
      "_view_module": "@jupyter-widgets/base",
      "_view_module_version": "1.2.0",
      "_view_name": "StyleView",
      "bar_color": null,
      "description_width": ""
     }
    },
    "0fe4ed7283c04496affe727c235d31c4": {
     "model_module": "@jupyter-widgets/base",
     "model_module_version": "1.2.0",
     "model_name": "LayoutModel",
     "state": {
      "_model_module": "@jupyter-widgets/base",
      "_model_module_version": "1.2.0",
      "_model_name": "LayoutModel",
      "_view_count": null,
      "_view_module": "@jupyter-widgets/base",
      "_view_module_version": "1.2.0",
      "_view_name": "LayoutView",
      "align_content": null,
      "align_items": null,
      "align_self": null,
      "border": null,
      "bottom": null,
      "display": null,
      "flex": null,
      "flex_flow": null,
      "grid_area": null,
      "grid_auto_columns": null,
      "grid_auto_flow": null,
      "grid_auto_rows": null,
      "grid_column": null,
      "grid_gap": null,
      "grid_row": null,
      "grid_template_areas": null,
      "grid_template_columns": null,
      "grid_template_rows": null,
      "height": null,
      "justify_content": null,
      "justify_items": null,
      "left": null,
      "margin": null,
      "max_height": null,
      "max_width": null,
      "min_height": null,
      "min_width": null,
      "object_fit": null,
      "object_position": null,
      "order": null,
      "overflow": null,
      "overflow_x": null,
      "overflow_y": null,
      "padding": null,
      "right": null,
      "top": null,
      "visibility": null,
      "width": null
     }
    },
    "19f846338f6b48c9930b58575641e5b8": {
     "model_module": "@jupyter-widgets/base",
     "model_module_version": "1.2.0",
     "model_name": "LayoutModel",
     "state": {
      "_model_module": "@jupyter-widgets/base",
      "_model_module_version": "1.2.0",
      "_model_name": "LayoutModel",
      "_view_count": null,
      "_view_module": "@jupyter-widgets/base",
      "_view_module_version": "1.2.0",
      "_view_name": "LayoutView",
      "align_content": null,
      "align_items": null,
      "align_self": null,
      "border": null,
      "bottom": null,
      "display": null,
      "flex": null,
      "flex_flow": null,
      "grid_area": null,
      "grid_auto_columns": null,
      "grid_auto_flow": null,
      "grid_auto_rows": null,
      "grid_column": null,
      "grid_gap": null,
      "grid_row": null,
      "grid_template_areas": null,
      "grid_template_columns": null,
      "grid_template_rows": null,
      "height": null,
      "justify_content": null,
      "justify_items": null,
      "left": null,
      "margin": null,
      "max_height": null,
      "max_width": null,
      "min_height": null,
      "min_width": null,
      "object_fit": null,
      "object_position": null,
      "order": null,
      "overflow": null,
      "overflow_x": null,
      "overflow_y": null,
      "padding": null,
      "right": null,
      "top": null,
      "visibility": null,
      "width": null
     }
    },
    "20a27d1ec76f4d85b1ffe99401fbb5b7": {
     "model_module": "@jupyter-widgets/base",
     "model_module_version": "1.2.0",
     "model_name": "LayoutModel",
     "state": {
      "_model_module": "@jupyter-widgets/base",
      "_model_module_version": "1.2.0",
      "_model_name": "LayoutModel",
      "_view_count": null,
      "_view_module": "@jupyter-widgets/base",
      "_view_module_version": "1.2.0",
      "_view_name": "LayoutView",
      "align_content": null,
      "align_items": null,
      "align_self": null,
      "border": null,
      "bottom": null,
      "display": null,
      "flex": null,
      "flex_flow": null,
      "grid_area": null,
      "grid_auto_columns": null,
      "grid_auto_flow": null,
      "grid_auto_rows": null,
      "grid_column": null,
      "grid_gap": null,
      "grid_row": null,
      "grid_template_areas": null,
      "grid_template_columns": null,
      "grid_template_rows": null,
      "height": null,
      "justify_content": null,
      "justify_items": null,
      "left": null,
      "margin": null,
      "max_height": null,
      "max_width": null,
      "min_height": null,
      "min_width": null,
      "object_fit": null,
      "object_position": null,
      "order": null,
      "overflow": null,
      "overflow_x": null,
      "overflow_y": null,
      "padding": null,
      "right": null,
      "top": null,
      "visibility": null,
      "width": null
     }
    },
    "22484000400842f0b6e245dc610acbba": {
     "model_module": "@jupyter-widgets/base",
     "model_module_version": "1.2.0",
     "model_name": "LayoutModel",
     "state": {
      "_model_module": "@jupyter-widgets/base",
      "_model_module_version": "1.2.0",
      "_model_name": "LayoutModel",
      "_view_count": null,
      "_view_module": "@jupyter-widgets/base",
      "_view_module_version": "1.2.0",
      "_view_name": "LayoutView",
      "align_content": null,
      "align_items": null,
      "align_self": null,
      "border": null,
      "bottom": null,
      "display": null,
      "flex": null,
      "flex_flow": null,
      "grid_area": null,
      "grid_auto_columns": null,
      "grid_auto_flow": null,
      "grid_auto_rows": null,
      "grid_column": null,
      "grid_gap": null,
      "grid_row": null,
      "grid_template_areas": null,
      "grid_template_columns": null,
      "grid_template_rows": null,
      "height": null,
      "justify_content": null,
      "justify_items": null,
      "left": null,
      "margin": null,
      "max_height": null,
      "max_width": null,
      "min_height": null,
      "min_width": null,
      "object_fit": null,
      "object_position": null,
      "order": null,
      "overflow": null,
      "overflow_x": null,
      "overflow_y": null,
      "padding": null,
      "right": null,
      "top": null,
      "visibility": null,
      "width": null
     }
    },
    "22aa774ab39e4fd78b0ff08d430d2b5d": {
     "model_module": "@jupyter-widgets/controls",
     "model_module_version": "1.5.0",
     "model_name": "FloatProgressModel",
     "state": {
      "_dom_classes": [],
      "_model_module": "@jupyter-widgets/controls",
      "_model_module_version": "1.5.0",
      "_model_name": "FloatProgressModel",
      "_view_count": null,
      "_view_module": "@jupyter-widgets/controls",
      "_view_module_version": "1.5.0",
      "_view_name": "ProgressView",
      "bar_style": "success",
      "description": "",
      "description_tooltip": null,
      "layout": "IPY_MODEL_4e64bcb87e584beda0408a0aa5a659ae",
      "max": 1,
      "min": 0,
      "orientation": "horizontal",
      "style": "IPY_MODEL_b077d7562d814df5b6d839464dd4122f",
      "value": 1
     }
    },
    "2b82e42c34804b13bc83be4c7009d4e2": {
     "model_module": "@jupyter-widgets/controls",
     "model_module_version": "1.5.0",
     "model_name": "DescriptionStyleModel",
     "state": {
      "_model_module": "@jupyter-widgets/controls",
      "_model_module_version": "1.5.0",
      "_model_name": "DescriptionStyleModel",
      "_view_count": null,
      "_view_module": "@jupyter-widgets/base",
      "_view_module_version": "1.2.0",
      "_view_name": "StyleView",
      "description_width": ""
     }
    },
    "333e84a304184c57af1821620ae80f6a": {
     "model_module": "@jupyter-widgets/controls",
     "model_module_version": "1.5.0",
     "model_name": "DescriptionStyleModel",
     "state": {
      "_model_module": "@jupyter-widgets/controls",
      "_model_module_version": "1.5.0",
      "_model_name": "DescriptionStyleModel",
      "_view_count": null,
      "_view_module": "@jupyter-widgets/base",
      "_view_module_version": "1.2.0",
      "_view_name": "StyleView",
      "description_width": ""
     }
    },
    "40f7e3754ad44b33acfe0a80b3648a3a": {
     "model_module": "@jupyter-widgets/controls",
     "model_module_version": "1.5.0",
     "model_name": "HBoxModel",
     "state": {
      "_dom_classes": [],
      "_model_module": "@jupyter-widgets/controls",
      "_model_module_version": "1.5.0",
      "_model_name": "HBoxModel",
      "_view_count": null,
      "_view_module": "@jupyter-widgets/controls",
      "_view_module_version": "1.5.0",
      "_view_name": "HBoxView",
      "box_style": "",
      "children": [
       "IPY_MODEL_b1e51beac50f4947a9dd235d8aa87603",
       "IPY_MODEL_8cd9e9702e114ebc856f56975544ede8",
       "IPY_MODEL_b7c7a718a8654956947108969557ca83"
      ],
      "layout": "IPY_MODEL_20a27d1ec76f4d85b1ffe99401fbb5b7"
     }
    },
    "434ac4c51db74681942d2d3bd869b1df": {
     "model_module": "@jupyter-widgets/controls",
     "model_module_version": "1.5.0",
     "model_name": "DescriptionStyleModel",
     "state": {
      "_model_module": "@jupyter-widgets/controls",
      "_model_module_version": "1.5.0",
      "_model_name": "DescriptionStyleModel",
      "_view_count": null,
      "_view_module": "@jupyter-widgets/base",
      "_view_module_version": "1.2.0",
      "_view_name": "StyleView",
      "description_width": ""
     }
    },
    "46a51a1719d8444eb5877720253d3c37": {
     "model_module": "@jupyter-widgets/base",
     "model_module_version": "1.2.0",
     "model_name": "LayoutModel",
     "state": {
      "_model_module": "@jupyter-widgets/base",
      "_model_module_version": "1.2.0",
      "_model_name": "LayoutModel",
      "_view_count": null,
      "_view_module": "@jupyter-widgets/base",
      "_view_module_version": "1.2.0",
      "_view_name": "LayoutView",
      "align_content": null,
      "align_items": null,
      "align_self": null,
      "border": null,
      "bottom": null,
      "display": null,
      "flex": null,
      "flex_flow": null,
      "grid_area": null,
      "grid_auto_columns": null,
      "grid_auto_flow": null,
      "grid_auto_rows": null,
      "grid_column": null,
      "grid_gap": null,
      "grid_row": null,
      "grid_template_areas": null,
      "grid_template_columns": null,
      "grid_template_rows": null,
      "height": null,
      "justify_content": null,
      "justify_items": null,
      "left": null,
      "margin": null,
      "max_height": null,
      "max_width": null,
      "min_height": null,
      "min_width": null,
      "object_fit": null,
      "object_position": null,
      "order": null,
      "overflow": null,
      "overflow_x": null,
      "overflow_y": null,
      "padding": null,
      "right": null,
      "top": null,
      "visibility": null,
      "width": null
     }
    },
    "4e64bcb87e584beda0408a0aa5a659ae": {
     "model_module": "@jupyter-widgets/base",
     "model_module_version": "1.2.0",
     "model_name": "LayoutModel",
     "state": {
      "_model_module": "@jupyter-widgets/base",
      "_model_module_version": "1.2.0",
      "_model_name": "LayoutModel",
      "_view_count": null,
      "_view_module": "@jupyter-widgets/base",
      "_view_module_version": "1.2.0",
      "_view_name": "LayoutView",
      "align_content": null,
      "align_items": null,
      "align_self": null,
      "border": null,
      "bottom": null,
      "display": null,
      "flex": null,
      "flex_flow": null,
      "grid_area": null,
      "grid_auto_columns": null,
      "grid_auto_flow": null,
      "grid_auto_rows": null,
      "grid_column": null,
      "grid_gap": null,
      "grid_row": null,
      "grid_template_areas": null,
      "grid_template_columns": null,
      "grid_template_rows": null,
      "height": null,
      "justify_content": null,
      "justify_items": null,
      "left": null,
      "margin": null,
      "max_height": null,
      "max_width": null,
      "min_height": null,
      "min_width": null,
      "object_fit": null,
      "object_position": null,
      "order": null,
      "overflow": null,
      "overflow_x": null,
      "overflow_y": null,
      "padding": null,
      "right": null,
      "top": null,
      "visibility": null,
      "width": "20px"
     }
    },
    "55146ac7395840dca847e0f63aa80561": {
     "model_module": "@jupyter-widgets/controls",
     "model_module_version": "1.5.0",
     "model_name": "HBoxModel",
     "state": {
      "_dom_classes": [],
      "_model_module": "@jupyter-widgets/controls",
      "_model_module_version": "1.5.0",
      "_model_name": "HBoxModel",
      "_view_count": null,
      "_view_module": "@jupyter-widgets/controls",
      "_view_module_version": "1.5.0",
      "_view_name": "HBoxView",
      "box_style": "",
      "children": [
       "IPY_MODEL_abb9bc76c0ce4634bd340be20c074b8c",
       "IPY_MODEL_a89d790df59245fcaf26335d4903c9b4",
       "IPY_MODEL_f837255914194dc792cf1514dee03dc5"
      ],
      "layout": "IPY_MODEL_46a51a1719d8444eb5877720253d3c37"
     }
    },
    "58d69d086f644e89937347e1f9261d6f": {
     "model_module": "@jupyter-widgets/controls",
     "model_module_version": "1.5.0",
     "model_name": "ProgressStyleModel",
     "state": {
      "_model_module": "@jupyter-widgets/controls",
      "_model_module_version": "1.5.0",
      "_model_name": "ProgressStyleModel",
      "_view_count": null,
      "_view_module": "@jupyter-widgets/base",
      "_view_module_version": "1.2.0",
      "_view_name": "StyleView",
      "bar_color": null,
      "description_width": ""
     }
    },
    "5a28babf4e2e4393bdc1a093034885ab": {
     "model_module": "@jupyter-widgets/base",
     "model_module_version": "1.2.0",
     "model_name": "LayoutModel",
     "state": {
      "_model_module": "@jupyter-widgets/base",
      "_model_module_version": "1.2.0",
      "_model_name": "LayoutModel",
      "_view_count": null,
      "_view_module": "@jupyter-widgets/base",
      "_view_module_version": "1.2.0",
      "_view_name": "LayoutView",
      "align_content": null,
      "align_items": null,
      "align_self": null,
      "border": null,
      "bottom": null,
      "display": null,
      "flex": null,
      "flex_flow": null,
      "grid_area": null,
      "grid_auto_columns": null,
      "grid_auto_flow": null,
      "grid_auto_rows": null,
      "grid_column": null,
      "grid_gap": null,
      "grid_row": null,
      "grid_template_areas": null,
      "grid_template_columns": null,
      "grid_template_rows": null,
      "height": null,
      "justify_content": null,
      "justify_items": null,
      "left": null,
      "margin": null,
      "max_height": null,
      "max_width": null,
      "min_height": null,
      "min_width": null,
      "object_fit": null,
      "object_position": null,
      "order": null,
      "overflow": null,
      "overflow_x": null,
      "overflow_y": null,
      "padding": null,
      "right": null,
      "top": null,
      "visibility": null,
      "width": null
     }
    },
    "673bd3773a374261a01cfc48081c27f3": {
     "model_module": "@jupyter-widgets/controls",
     "model_module_version": "1.5.0",
     "model_name": "DescriptionStyleModel",
     "state": {
      "_model_module": "@jupyter-widgets/controls",
      "_model_module_version": "1.5.0",
      "_model_name": "DescriptionStyleModel",
      "_view_count": null,
      "_view_module": "@jupyter-widgets/base",
      "_view_module_version": "1.2.0",
      "_view_name": "StyleView",
      "description_width": ""
     }
    },
    "7190c928edb040c3a523cdd2e3f45572": {
     "model_module": "@jupyter-widgets/controls",
     "model_module_version": "1.5.0",
     "model_name": "HBoxModel",
     "state": {
      "_dom_classes": [],
      "_model_module": "@jupyter-widgets/controls",
      "_model_module_version": "1.5.0",
      "_model_name": "HBoxModel",
      "_view_count": null,
      "_view_module": "@jupyter-widgets/controls",
      "_view_module_version": "1.5.0",
      "_view_name": "HBoxView",
      "box_style": "",
      "children": [
       "IPY_MODEL_990741ff083d457587665d8f620b69c3",
       "IPY_MODEL_00fe6a550df547cea5b1e0d84c1a3f5f",
       "IPY_MODEL_fab8b1e3187841ee894b92859fa4821b"
      ],
      "layout": "IPY_MODEL_f9b0d916e1a64c2a9f384e42f3d5dcab"
     }
    },
    "7d293204dc1b4d97bb5ee670787c7b7d": {
     "model_module": "@jupyter-widgets/base",
     "model_module_version": "1.2.0",
     "model_name": "LayoutModel",
     "state": {
      "_model_module": "@jupyter-widgets/base",
      "_model_module_version": "1.2.0",
      "_model_name": "LayoutModel",
      "_view_count": null,
      "_view_module": "@jupyter-widgets/base",
      "_view_module_version": "1.2.0",
      "_view_name": "LayoutView",
      "align_content": null,
      "align_items": null,
      "align_self": null,
      "border": null,
      "bottom": null,
      "display": null,
      "flex": null,
      "flex_flow": null,
      "grid_area": null,
      "grid_auto_columns": null,
      "grid_auto_flow": null,
      "grid_auto_rows": null,
      "grid_column": null,
      "grid_gap": null,
      "grid_row": null,
      "grid_template_areas": null,
      "grid_template_columns": null,
      "grid_template_rows": null,
      "height": null,
      "justify_content": null,
      "justify_items": null,
      "left": null,
      "margin": null,
      "max_height": null,
      "max_width": null,
      "min_height": null,
      "min_width": null,
      "object_fit": null,
      "object_position": null,
      "order": null,
      "overflow": null,
      "overflow_x": null,
      "overflow_y": null,
      "padding": null,
      "right": null,
      "top": null,
      "visibility": null,
      "width": null
     }
    },
    "83f345f7424c43929d7a304cbfb6d0fe": {
     "model_module": "@jupyter-widgets/base",
     "model_module_version": "1.2.0",
     "model_name": "LayoutModel",
     "state": {
      "_model_module": "@jupyter-widgets/base",
      "_model_module_version": "1.2.0",
      "_model_name": "LayoutModel",
      "_view_count": null,
      "_view_module": "@jupyter-widgets/base",
      "_view_module_version": "1.2.0",
      "_view_name": "LayoutView",
      "align_content": null,
      "align_items": null,
      "align_self": null,
      "border": null,
      "bottom": null,
      "display": null,
      "flex": null,
      "flex_flow": null,
      "grid_area": null,
      "grid_auto_columns": null,
      "grid_auto_flow": null,
      "grid_auto_rows": null,
      "grid_column": null,
      "grid_gap": null,
      "grid_row": null,
      "grid_template_areas": null,
      "grid_template_columns": null,
      "grid_template_rows": null,
      "height": null,
      "justify_content": null,
      "justify_items": null,
      "left": null,
      "margin": null,
      "max_height": null,
      "max_width": null,
      "min_height": null,
      "min_width": null,
      "object_fit": null,
      "object_position": null,
      "order": null,
      "overflow": null,
      "overflow_x": null,
      "overflow_y": null,
      "padding": null,
      "right": null,
      "top": null,
      "visibility": null,
      "width": null
     }
    },
    "8cd9e9702e114ebc856f56975544ede8": {
     "model_module": "@jupyter-widgets/controls",
     "model_module_version": "1.5.0",
     "model_name": "FloatProgressModel",
     "state": {
      "_dom_classes": [],
      "_model_module": "@jupyter-widgets/controls",
      "_model_module_version": "1.5.0",
      "_model_name": "FloatProgressModel",
      "_view_count": null,
      "_view_module": "@jupyter-widgets/controls",
      "_view_module_version": "1.5.0",
      "_view_name": "ProgressView",
      "bar_style": "danger",
      "description": "",
      "description_tooltip": null,
      "layout": "IPY_MODEL_22484000400842f0b6e245dc610acbba",
      "max": 128,
      "min": 0,
      "orientation": "horizontal",
      "style": "IPY_MODEL_a66a5b4ff37d4dafa4ba3081aa1359f4",
      "value": 12
     }
    },
    "8cf462fa996c41b18fb4571e0a757363": {
     "model_module": "@jupyter-widgets/base",
     "model_module_version": "1.2.0",
     "model_name": "LayoutModel",
     "state": {
      "_model_module": "@jupyter-widgets/base",
      "_model_module_version": "1.2.0",
      "_model_name": "LayoutModel",
      "_view_count": null,
      "_view_module": "@jupyter-widgets/base",
      "_view_module_version": "1.2.0",
      "_view_name": "LayoutView",
      "align_content": null,
      "align_items": null,
      "align_self": null,
      "border": null,
      "bottom": null,
      "display": null,
      "flex": null,
      "flex_flow": null,
      "grid_area": null,
      "grid_auto_columns": null,
      "grid_auto_flow": null,
      "grid_auto_rows": null,
      "grid_column": null,
      "grid_gap": null,
      "grid_row": null,
      "grid_template_areas": null,
      "grid_template_columns": null,
      "grid_template_rows": null,
      "height": null,
      "justify_content": null,
      "justify_items": null,
      "left": null,
      "margin": null,
      "max_height": null,
      "max_width": null,
      "min_height": null,
      "min_width": null,
      "object_fit": null,
      "object_position": null,
      "order": null,
      "overflow": null,
      "overflow_x": null,
      "overflow_y": null,
      "padding": null,
      "right": null,
      "top": null,
      "visibility": null,
      "width": null
     }
    },
    "9233439bdd6746c28ad4a20ef47799f6": {
     "model_module": "@jupyter-widgets/base",
     "model_module_version": "1.2.0",
     "model_name": "LayoutModel",
     "state": {
      "_model_module": "@jupyter-widgets/base",
      "_model_module_version": "1.2.0",
      "_model_name": "LayoutModel",
      "_view_count": null,
      "_view_module": "@jupyter-widgets/base",
      "_view_module_version": "1.2.0",
      "_view_name": "LayoutView",
      "align_content": null,
      "align_items": null,
      "align_self": null,
      "border": null,
      "bottom": null,
      "display": null,
      "flex": null,
      "flex_flow": null,
      "grid_area": null,
      "grid_auto_columns": null,
      "grid_auto_flow": null,
      "grid_auto_rows": null,
      "grid_column": null,
      "grid_gap": null,
      "grid_row": null,
      "grid_template_areas": null,
      "grid_template_columns": null,
      "grid_template_rows": null,
      "height": null,
      "justify_content": null,
      "justify_items": null,
      "left": null,
      "margin": null,
      "max_height": null,
      "max_width": null,
      "min_height": null,
      "min_width": null,
      "object_fit": null,
      "object_position": null,
      "order": null,
      "overflow": null,
      "overflow_x": null,
      "overflow_y": null,
      "padding": null,
      "right": null,
      "top": null,
      "visibility": null,
      "width": null
     }
    },
    "990741ff083d457587665d8f620b69c3": {
     "model_module": "@jupyter-widgets/controls",
     "model_module_version": "1.5.0",
     "model_name": "HTMLModel",
     "state": {
      "_dom_classes": [],
      "_model_module": "@jupyter-widgets/controls",
      "_model_module_version": "1.5.0",
      "_model_name": "HTMLModel",
      "_view_count": null,
      "_view_module": "@jupyter-widgets/controls",
      "_view_module_version": "1.5.0",
      "_view_name": "HTMLView",
      "description": "",
      "description_tooltip": null,
      "layout": "IPY_MODEL_a78199650ecc47bd81f482a2671b563a",
      "placeholder": "​",
      "style": "IPY_MODEL_673bd3773a374261a01cfc48081c27f3",
      "value": "100%"
     }
    },
    "9a01f02fb99b4b81ac487d23bc5daf4a": {
     "model_module": "@jupyter-widgets/controls",
     "model_module_version": "1.5.0",
     "model_name": "HTMLModel",
     "state": {
      "_dom_classes": [],
      "_model_module": "@jupyter-widgets/controls",
      "_model_module_version": "1.5.0",
      "_model_name": "HTMLModel",
      "_view_count": null,
      "_view_module": "@jupyter-widgets/controls",
      "_view_module_version": "1.5.0",
      "_view_name": "HTMLView",
      "description": "",
      "description_tooltip": null,
      "layout": "IPY_MODEL_5a28babf4e2e4393bdc1a093034885ab",
      "placeholder": "​",
      "style": "IPY_MODEL_be07d518c21149d196c610fd57b1eaec",
      "value": " 957/? [00:18&lt;00:00, 51.31it/s]"
     }
    },
    "a66a5b4ff37d4dafa4ba3081aa1359f4": {
     "model_module": "@jupyter-widgets/controls",
     "model_module_version": "1.5.0",
     "model_name": "ProgressStyleModel",
     "state": {
      "_model_module": "@jupyter-widgets/controls",
      "_model_module_version": "1.5.0",
      "_model_name": "ProgressStyleModel",
      "_view_count": null,
      "_view_module": "@jupyter-widgets/base",
      "_view_module_version": "1.2.0",
      "_view_name": "StyleView",
      "bar_color": null,
      "description_width": ""
     }
    },
    "a78199650ecc47bd81f482a2671b563a": {
     "model_module": "@jupyter-widgets/base",
     "model_module_version": "1.2.0",
     "model_name": "LayoutModel",
     "state": {
      "_model_module": "@jupyter-widgets/base",
      "_model_module_version": "1.2.0",
      "_model_name": "LayoutModel",
      "_view_count": null,
      "_view_module": "@jupyter-widgets/base",
      "_view_module_version": "1.2.0",
      "_view_name": "LayoutView",
      "align_content": null,
      "align_items": null,
      "align_self": null,
      "border": null,
      "bottom": null,
      "display": null,
      "flex": null,
      "flex_flow": null,
      "grid_area": null,
      "grid_auto_columns": null,
      "grid_auto_flow": null,
      "grid_auto_rows": null,
      "grid_column": null,
      "grid_gap": null,
      "grid_row": null,
      "grid_template_areas": null,
      "grid_template_columns": null,
      "grid_template_rows": null,
      "height": null,
      "justify_content": null,
      "justify_items": null,
      "left": null,
      "margin": null,
      "max_height": null,
      "max_width": null,
      "min_height": null,
      "min_width": null,
      "object_fit": null,
      "object_position": null,
      "order": null,
      "overflow": null,
      "overflow_x": null,
      "overflow_y": null,
      "padding": null,
      "right": null,
      "top": null,
      "visibility": null,
      "width": null
     }
    },
    "a89d790df59245fcaf26335d4903c9b4": {
     "model_module": "@jupyter-widgets/controls",
     "model_module_version": "1.5.0",
     "model_name": "FloatProgressModel",
     "state": {
      "_dom_classes": [],
      "_model_module": "@jupyter-widgets/controls",
      "_model_module_version": "1.5.0",
      "_model_name": "FloatProgressModel",
      "_view_count": null,
      "_view_module": "@jupyter-widgets/controls",
      "_view_module_version": "1.5.0",
      "_view_name": "ProgressView",
      "bar_style": "success",
      "description": "",
      "description_tooltip": null,
      "layout": "IPY_MODEL_9233439bdd6746c28ad4a20ef47799f6",
      "max": 280,
      "min": 0,
      "orientation": "horizontal",
      "style": "IPY_MODEL_0e10428326bc436e8dbc079e89570bde",
      "value": 280
     }
    },
    "a972aba7913b48c6973ae27bff5b9d1d": {
     "model_module": "@jupyter-widgets/controls",
     "model_module_version": "1.5.0",
     "model_name": "HTMLModel",
     "state": {
      "_dom_classes": [],
      "_model_module": "@jupyter-widgets/controls",
      "_model_module_version": "1.5.0",
      "_model_name": "HTMLModel",
      "_view_count": null,
      "_view_module": "@jupyter-widgets/controls",
      "_view_module_version": "1.5.0",
      "_view_name": "HTMLView",
      "description": "",
      "description_tooltip": null,
      "layout": "IPY_MODEL_7d293204dc1b4d97bb5ee670787c7b7d",
      "placeholder": "​",
      "style": "IPY_MODEL_ea8fa440f320435aa75c9bef75bc3f08",
      "value": ""
     }
    },
    "abb9bc76c0ce4634bd340be20c074b8c": {
     "model_module": "@jupyter-widgets/controls",
     "model_module_version": "1.5.0",
     "model_name": "HTMLModel",
     "state": {
      "_dom_classes": [],
      "_model_module": "@jupyter-widgets/controls",
      "_model_module_version": "1.5.0",
      "_model_name": "HTMLModel",
      "_view_count": null,
      "_view_module": "@jupyter-widgets/controls",
      "_view_module_version": "1.5.0",
      "_view_name": "HTMLView",
      "description": "",
      "description_tooltip": null,
      "layout": "IPY_MODEL_013d2a6b90144432bbfb15136235faba",
      "placeholder": "​",
      "style": "IPY_MODEL_2b82e42c34804b13bc83be4c7009d4e2",
      "value": ""
     }
    },
    "b077d7562d814df5b6d839464dd4122f": {
     "model_module": "@jupyter-widgets/controls",
     "model_module_version": "1.5.0",
     "model_name": "ProgressStyleModel",
     "state": {
      "_model_module": "@jupyter-widgets/controls",
      "_model_module_version": "1.5.0",
      "_model_name": "ProgressStyleModel",
      "_view_count": null,
      "_view_module": "@jupyter-widgets/base",
      "_view_module_version": "1.2.0",
      "_view_name": "StyleView",
      "bar_color": null,
      "description_width": ""
     }
    },
    "b1e51beac50f4947a9dd235d8aa87603": {
     "model_module": "@jupyter-widgets/controls",
     "model_module_version": "1.5.0",
     "model_name": "HTMLModel",
     "state": {
      "_dom_classes": [],
      "_model_module": "@jupyter-widgets/controls",
      "_model_module_version": "1.5.0",
      "_model_name": "HTMLModel",
      "_view_count": null,
      "_view_module": "@jupyter-widgets/controls",
      "_view_module_version": "1.5.0",
      "_view_name": "HTMLView",
      "description": "",
      "description_tooltip": null,
      "layout": "IPY_MODEL_e0ddf3970b3e4248bc87d4649fa9c448",
      "placeholder": "​",
      "style": "IPY_MODEL_d7bdde54e2534c49a207540bd258d3ae",
      "value": "  9%"
     }
    },
    "b7c7a718a8654956947108969557ca83": {
     "model_module": "@jupyter-widgets/controls",
     "model_module_version": "1.5.0",
     "model_name": "HTMLModel",
     "state": {
      "_dom_classes": [],
      "_model_module": "@jupyter-widgets/controls",
      "_model_module_version": "1.5.0",
      "_model_name": "HTMLModel",
      "_view_count": null,
      "_view_module": "@jupyter-widgets/controls",
      "_view_module_version": "1.5.0",
      "_view_name": "HTMLView",
      "description": "",
      "description_tooltip": null,
      "layout": "IPY_MODEL_0b7866c29e5f4afe9b92de15f1b88c3e",
      "placeholder": "​",
      "style": "IPY_MODEL_333e84a304184c57af1821620ae80f6a",
      "value": " 12/128 [00:00&lt;00:01, 73.96it/s]"
     }
    },
    "be07d518c21149d196c610fd57b1eaec": {
     "model_module": "@jupyter-widgets/controls",
     "model_module_version": "1.5.0",
     "model_name": "DescriptionStyleModel",
     "state": {
      "_model_module": "@jupyter-widgets/controls",
      "_model_module_version": "1.5.0",
      "_model_name": "DescriptionStyleModel",
      "_view_count": null,
      "_view_module": "@jupyter-widgets/base",
      "_view_module_version": "1.2.0",
      "_view_name": "StyleView",
      "description_width": ""
     }
    },
    "c9db4cd83b7b4f53a0fa93b8c365debd": {
     "model_module": "@jupyter-widgets/controls",
     "model_module_version": "1.5.0",
     "model_name": "HBoxModel",
     "state": {
      "_dom_classes": [],
      "_model_module": "@jupyter-widgets/controls",
      "_model_module_version": "1.5.0",
      "_model_name": "HBoxModel",
      "_view_count": null,
      "_view_module": "@jupyter-widgets/controls",
      "_view_module_version": "1.5.0",
      "_view_name": "HBoxView",
      "box_style": "",
      "children": [
       "IPY_MODEL_a972aba7913b48c6973ae27bff5b9d1d",
       "IPY_MODEL_22aa774ab39e4fd78b0ff08d430d2b5d",
       "IPY_MODEL_9a01f02fb99b4b81ac487d23bc5daf4a"
      ],
      "layout": "IPY_MODEL_19f846338f6b48c9930b58575641e5b8"
     }
    },
    "d7bdde54e2534c49a207540bd258d3ae": {
     "model_module": "@jupyter-widgets/controls",
     "model_module_version": "1.5.0",
     "model_name": "DescriptionStyleModel",
     "state": {
      "_model_module": "@jupyter-widgets/controls",
      "_model_module_version": "1.5.0",
      "_model_name": "DescriptionStyleModel",
      "_view_count": null,
      "_view_module": "@jupyter-widgets/base",
      "_view_module_version": "1.2.0",
      "_view_name": "StyleView",
      "description_width": ""
     }
    },
    "e0ddf3970b3e4248bc87d4649fa9c448": {
     "model_module": "@jupyter-widgets/base",
     "model_module_version": "1.2.0",
     "model_name": "LayoutModel",
     "state": {
      "_model_module": "@jupyter-widgets/base",
      "_model_module_version": "1.2.0",
      "_model_name": "LayoutModel",
      "_view_count": null,
      "_view_module": "@jupyter-widgets/base",
      "_view_module_version": "1.2.0",
      "_view_name": "LayoutView",
      "align_content": null,
      "align_items": null,
      "align_self": null,
      "border": null,
      "bottom": null,
      "display": null,
      "flex": null,
      "flex_flow": null,
      "grid_area": null,
      "grid_auto_columns": null,
      "grid_auto_flow": null,
      "grid_auto_rows": null,
      "grid_column": null,
      "grid_gap": null,
      "grid_row": null,
      "grid_template_areas": null,
      "grid_template_columns": null,
      "grid_template_rows": null,
      "height": null,
      "justify_content": null,
      "justify_items": null,
      "left": null,
      "margin": null,
      "max_height": null,
      "max_width": null,
      "min_height": null,
      "min_width": null,
      "object_fit": null,
      "object_position": null,
      "order": null,
      "overflow": null,
      "overflow_x": null,
      "overflow_y": null,
      "padding": null,
      "right": null,
      "top": null,
      "visibility": null,
      "width": null
     }
    },
    "ea8fa440f320435aa75c9bef75bc3f08": {
     "model_module": "@jupyter-widgets/controls",
     "model_module_version": "1.5.0",
     "model_name": "DescriptionStyleModel",
     "state": {
      "_model_module": "@jupyter-widgets/controls",
      "_model_module_version": "1.5.0",
      "_model_name": "DescriptionStyleModel",
      "_view_count": null,
      "_view_module": "@jupyter-widgets/base",
      "_view_module_version": "1.2.0",
      "_view_name": "StyleView",
      "description_width": ""
     }
    },
    "f837255914194dc792cf1514dee03dc5": {
     "model_module": "@jupyter-widgets/controls",
     "model_module_version": "1.5.0",
     "model_name": "HTMLModel",
     "state": {
      "_dom_classes": [],
      "_model_module": "@jupyter-widgets/controls",
      "_model_module_version": "1.5.0",
      "_model_name": "HTMLModel",
      "_view_count": null,
      "_view_module": "@jupyter-widgets/controls",
      "_view_module_version": "1.5.0",
      "_view_name": "HTMLView",
      "description": "",
      "description_tooltip": null,
      "layout": "IPY_MODEL_0fe4ed7283c04496affe727c235d31c4",
      "placeholder": "​",
      "style": "IPY_MODEL_0c0c7229347b49ffbb9a0f7bd41199b9",
      "value": " 21020/? [21:30&lt;00:00, 15.32it/s, epoch=19, loss=2.61, val_loss=3.41]"
     }
    },
    "f9b0d916e1a64c2a9f384e42f3d5dcab": {
     "model_module": "@jupyter-widgets/base",
     "model_module_version": "1.2.0",
     "model_name": "LayoutModel",
     "state": {
      "_model_module": "@jupyter-widgets/base",
      "_model_module_version": "1.2.0",
      "_model_name": "LayoutModel",
      "_view_count": null,
      "_view_module": "@jupyter-widgets/base",
      "_view_module_version": "1.2.0",
      "_view_name": "LayoutView",
      "align_content": null,
      "align_items": null,
      "align_self": null,
      "border": null,
      "bottom": null,
      "display": null,
      "flex": null,
      "flex_flow": null,
      "grid_area": null,
      "grid_auto_columns": null,
      "grid_auto_flow": null,
      "grid_auto_rows": null,
      "grid_column": null,
      "grid_gap": null,
      "grid_row": null,
      "grid_template_areas": null,
      "grid_template_columns": null,
      "grid_template_rows": null,
      "height": null,
      "justify_content": null,
      "justify_items": null,
      "left": null,
      "margin": null,
      "max_height": null,
      "max_width": null,
      "min_height": null,
      "min_width": null,
      "object_fit": null,
      "object_position": null,
      "order": null,
      "overflow": null,
      "overflow_x": null,
      "overflow_y": null,
      "padding": null,
      "right": null,
      "top": null,
      "visibility": null,
      "width": null
     }
    },
    "fab8b1e3187841ee894b92859fa4821b": {
     "model_module": "@jupyter-widgets/controls",
     "model_module_version": "1.5.0",
     "model_name": "HTMLModel",
     "state": {
      "_dom_classes": [],
      "_model_module": "@jupyter-widgets/controls",
      "_model_module_version": "1.5.0",
      "_model_name": "HTMLModel",
      "_view_count": null,
      "_view_module": "@jupyter-widgets/controls",
      "_view_module_version": "1.5.0",
      "_view_name": "HTMLView",
      "description": "",
      "description_tooltip": null,
      "layout": "IPY_MODEL_8cf462fa996c41b18fb4571e0a757363",
      "placeholder": "​",
      "style": "IPY_MODEL_434ac4c51db74681942d2d3bd869b1df",
      "value": " 9714/9714 [00:00&lt;00:00, 236744.37it/s]"
     }
    }
   }
  }
 },
 "nbformat": 4,
 "nbformat_minor": 4
}
