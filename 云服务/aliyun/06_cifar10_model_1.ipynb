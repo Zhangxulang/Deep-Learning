{
 "cells": [
  {
   "cell_type": "markdown",
   "metadata": {},
   "source": [
    "<font color=\"red\">注</font>: 使用 tensorboard 可视化需要安装 tensorflow (TensorBoard依赖于tensorflow库，可以任意安装tensorflow的gpu/cpu版本)\n",
    "\n",
    "```shell\n",
    "pip install tensorflow-cpu\n",
    "```"
   ]
  },
  {
   "cell_type": "code",
   "execution_count": 35,
   "metadata": {
    "ExecutionIndicator": {
     "show": true
    },
    "execution": {
     "iopub.execute_input": "2025-07-28T16:53:20.416060Z",
     "iopub.status.busy": "2025-07-28T16:53:20.415615Z",
     "iopub.status.idle": "2025-07-28T16:53:20.815271Z",
     "shell.execute_reply": "2025-07-28T16:53:20.814630Z",
     "shell.execute_reply.started": "2025-07-28T16:53:20.416036Z"
    },
    "tags": []
   },
   "outputs": [
    {
     "name": "stdout",
     "output_type": "stream",
     "text": [
      "/mnt/workspace\n",
      ".   06_cifar10_model_1.ipynb  .ipynb_checkpoints  .virtual_documents\n",
      "..  cifar-10\t\t      .kaggle\n"
     ]
    }
   ],
   "source": [
    "!pwd\n",
    "\n",
    "!ls -a\n",
    "# # !cp kaggle.json ~/.kaggle/\n",
    "# # !chmod 600 ~/.kaggle/kaggle.json\n",
    "# !ls -l ~/.kaggle/\n",
    "# !mkdir -p /mnt/workspace/cifar-10\n",
    "# !ls -a\n",
    "# !chmod 600 ~/.kaggle/kaggle.json "
   ]
  },
  {
   "cell_type": "code",
   "execution_count": 2,
   "metadata": {
    "ExecutionIndicator": {
     "show": true
    },
    "execution": {
     "iopub.execute_input": "2025-07-28T16:21:13.368915Z",
     "iopub.status.busy": "2025-07-28T16:21:13.368633Z",
     "iopub.status.idle": "2025-07-28T16:21:14.264827Z",
     "shell.execute_reply": "2025-07-28T16:21:14.264273Z",
     "shell.execute_reply.started": "2025-07-28T16:21:13.368891Z"
    },
    "tags": []
   },
   "outputs": [
    {
     "name": "stdout",
     "output_type": "stream",
     "text": [
      "Looking in indexes: https://mirrors.aliyun.com/pypi/simple/\n",
      "Requirement already satisfied: kaggle==1.5.3 in /etc/dsw/runtime/python/lib/python3.9/site-packages (1.5.3)\n",
      "Requirement already satisfied: urllib3<1.25,>=1.21.1 in /etc/dsw/runtime/python/lib/python3.9/site-packages (from kaggle==1.5.3) (1.24.3)\n",
      "Requirement already satisfied: six>=1.10 in /etc/dsw/runtime/python/lib/python3.9/site-packages (from kaggle==1.5.3) (1.17.0)\n",
      "Requirement already satisfied: certifi in /etc/dsw/runtime/python/lib/python3.9/site-packages (from kaggle==1.5.3) (2025.6.15)\n",
      "Requirement already satisfied: python-dateutil in /etc/dsw/runtime/python/lib/python3.9/site-packages (from kaggle==1.5.3) (2.9.0.post0)\n",
      "Requirement already satisfied: requests in /etc/dsw/runtime/python/lib/python3.9/site-packages (from kaggle==1.5.3) (2.32.4)\n",
      "Requirement already satisfied: tqdm in /etc/dsw/runtime/python/lib/python3.9/site-packages (from kaggle==1.5.3) (4.67.1)\n",
      "Requirement already satisfied: python-slugify in /etc/dsw/runtime/python/lib/python3.9/site-packages (from kaggle==1.5.3) (8.0.4)\n",
      "Requirement already satisfied: text-unidecode>=1.3 in /etc/dsw/runtime/python/lib/python3.9/site-packages (from python-slugify->kaggle==1.5.3) (1.3)\n",
      "Requirement already satisfied: charset_normalizer<4,>=2 in /etc/dsw/runtime/python/lib/python3.9/site-packages (from requests->kaggle==1.5.3) (3.4.2)\n",
      "Requirement already satisfied: idna<4,>=2.5 in /etc/dsw/runtime/python/lib/python3.9/site-packages (from requests->kaggle==1.5.3) (3.10)\n",
      "\u001B[33mWARNING: Running pip as the 'root' user can result in broken permissions and conflicting behaviour with the system package manager, possibly rendering your system unusable.It is recommended to use a virtual environment instead: https://pip.pypa.io/warnings/venv. Use the --root-user-action option if you know what you are doing and want to suppress this warning.\u001B[0m\u001B[33m\n",
      "\u001B[0m\n",
      "\u001B[1m[\u001B[0m\u001B[34;49mnotice\u001B[0m\u001B[1;39;49m]\u001B[0m\u001B[39;49m A new release of pip is available: \u001B[0m\u001B[31;49m24.3.1\u001B[0m\u001B[39;49m -> \u001B[0m\u001B[32;49m25.1.1\u001B[0m\n",
      "\u001B[1m[\u001B[0m\u001B[34;49mnotice\u001B[0m\u001B[1;39;49m]\u001B[0m\u001B[39;49m To update, run: \u001B[0m\u001B[32;49m/etc/dsw/runtime/python/bin/python3.9 -m pip install --upgrade pip\u001B[0m\n",
      "Note: you may need to restart the kernel to use updated packages.\n"
     ]
    }
   ],
   "source": [
    "pip install kaggle==1.5.3\n"
   ]
  },
  {
   "cell_type": "code",
   "execution_count": 4,
   "metadata": {
    "ExecutionIndicator": {
     "show": true
    },
    "execution": {
     "iopub.execute_input": "2025-07-30T22:51:34.365693Z",
     "iopub.status.busy": "2025-07-30T22:51:34.365508Z",
     "iopub.status.idle": "2025-07-30T22:51:37.312112Z",
     "shell.execute_reply": "2025-07-30T22:51:37.311496Z",
     "shell.execute_reply.started": "2025-07-30T22:51:34.365673Z"
    },
    "tags": []
   },
   "outputs": [
    {
     "name": "stdout",
     "output_type": "stream",
     "text": [
      "^C\n",
      "User cancelled operation\n"
     ]
    }
   ],
   "source": [
    "!kaggle competitions download -c cifar-10"
   ]
  },
  {
   "cell_type": "code",
   "execution_count": null,
   "metadata": {
    "ExecutionIndicator": {
     "show": true
    },
    "tags": []
   },
   "outputs": [],
   "source": [
    "pip show kaggle"
   ]
  },
  {
   "cell_type": "code",
   "execution_count": null,
   "metadata": {
    "ExecutionIndicator": {
     "show": true
    },
    "tags": []
   },
   "outputs": [],
   "source": [
    "!/etc/dsw/runtime/python/bin/kaggle competitions download -c cifar-10"
   ]
  },
  {
   "cell_type": "code",
   "execution_count": 31,
   "metadata": {
    "execution": {
     "iopub.execute_input": "2025-07-28T16:43:54.427519Z",
     "iopub.status.busy": "2025-07-28T16:43:54.427165Z",
     "iopub.status.idle": "2025-07-28T16:43:55.677407Z",
     "shell.execute_reply": "2025-07-28T16:43:55.676853Z",
     "shell.execute_reply.started": "2025-07-28T16:43:54.427494Z"
    },
    "tags": []
   },
   "outputs": [
    {
     "name": "stdout",
     "output_type": "stream",
     "text": [
      "Looking in indexes: https://mirrors.aliyun.com/pypi/simple/\n",
      "Requirement already satisfied: kaggle in /etc/dsw/runtime/python/lib/python3.9/site-packages (1.5.3)\n",
      "Collecting kaggle\n",
      "  Downloading https://mirrors.aliyun.com/pypi/packages/14/83/7f29c7abe0d5dc769dad7da993382c3e4239ad63e1dd58414d129e0a4da2/kaggle-1.7.4.5-py3-none-any.whl (181 kB)\n",
      "Requirement already satisfied: bleach in /etc/dsw/runtime/python/lib/python3.9/site-packages (from kaggle) (6.2.0)\n",
      "Requirement already satisfied: certifi>=14.05.14 in /etc/dsw/runtime/python/lib/python3.9/site-packages (from kaggle) (2025.6.15)\n",
      "Requirement already satisfied: charset-normalizer in /etc/dsw/runtime/python/lib/python3.9/site-packages (from kaggle) (3.4.2)\n",
      "Requirement already satisfied: idna in /etc/dsw/runtime/python/lib/python3.9/site-packages (from kaggle) (3.10)\n",
      "Requirement already satisfied: protobuf in /etc/dsw/runtime/python/lib/python3.9/site-packages (from kaggle) (6.31.1)\n",
      "Requirement already satisfied: python-dateutil>=2.5.3 in /etc/dsw/runtime/python/lib/python3.9/site-packages (from kaggle) (2.9.0.post0)\n",
      "Requirement already satisfied: python-slugify in /etc/dsw/runtime/python/lib/python3.9/site-packages (from kaggle) (8.0.4)\n",
      "Requirement already satisfied: requests in /etc/dsw/runtime/python/lib/python3.9/site-packages (from kaggle) (2.32.4)\n",
      "Requirement already satisfied: setuptools>=21.0.0 in /etc/dsw/runtime/python/lib/python3.9/site-packages (from kaggle) (80.9.0)\n",
      "Requirement already satisfied: six>=1.10 in /etc/dsw/runtime/python/lib/python3.9/site-packages (from kaggle) (1.17.0)\n",
      "Requirement already satisfied: text-unidecode in /etc/dsw/runtime/python/lib/python3.9/site-packages (from kaggle) (1.3)\n",
      "Requirement already satisfied: tqdm in /etc/dsw/runtime/python/lib/python3.9/site-packages (from kaggle) (4.67.1)\n",
      "Requirement already satisfied: urllib3>=1.15.1 in /etc/dsw/runtime/python/lib/python3.9/site-packages (from kaggle) (1.24.3)\n",
      "Requirement already satisfied: webencodings in /etc/dsw/runtime/python/lib/python3.9/site-packages (from kaggle) (0.5.1)\n",
      "Installing collected packages: kaggle\n",
      "  Attempting uninstall: kaggle\n",
      "    Found existing installation: kaggle 1.5.3\n",
      "    Uninstalling kaggle-1.5.3:\n",
      "      Successfully uninstalled kaggle-1.5.3\n",
      "Successfully installed kaggle-1.7.4.5\n",
      "\u001B[33mWARNING: Running pip as the 'root' user can result in broken permissions and conflicting behaviour with the system package manager, possibly rendering your system unusable.It is recommended to use a virtual environment instead: https://pip.pypa.io/warnings/venv. Use the --root-user-action option if you know what you are doing and want to suppress this warning.\u001B[0m\u001B[33m\n",
      "\u001B[0m\n",
      "\u001B[1m[\u001B[0m\u001B[34;49mnotice\u001B[0m\u001B[1;39;49m]\u001B[0m\u001B[39;49m A new release of pip is available: \u001B[0m\u001B[31;49m24.3.1\u001B[0m\u001B[39;49m -> \u001B[0m\u001B[32;49m25.1.1\u001B[0m\n",
      "\u001B[1m[\u001B[0m\u001B[34;49mnotice\u001B[0m\u001B[1;39;49m]\u001B[0m\u001B[39;49m To update, run: \u001B[0m\u001B[32;49m/etc/dsw/runtime/python/bin/python3.9 -m pip install --upgrade pip\u001B[0m\n",
      "Note: you may need to restart the kernel to use updated packages.\n"
     ]
    }
   ],
   "source": [
    "pip install --upgrade kaggle"
   ]
  },
  {
   "cell_type": "code",
   "execution_count": 29,
   "metadata": {
    "execution": {
     "iopub.execute_input": "2025-07-28T16:38:43.481938Z",
     "iopub.status.busy": "2025-07-28T16:38:43.481564Z",
     "iopub.status.idle": "2025-07-28T16:38:43.685401Z",
     "shell.execute_reply": "2025-07-28T16:38:43.684745Z",
     "shell.execute_reply.started": "2025-07-28T16:38:43.481909Z"
    },
    "tags": []
   },
   "outputs": [
    {
     "name": "stdout",
     "output_type": "stream",
     "text": [
      "{\"username\":\"xulangzhang123\",\"key\":\"ced0c6a2a648061689c59d4aa3d4c58b\"}"
     ]
    }
   ],
   "source": [
    "cat ~/.kaggle/kaggle.json"
   ]
  },
  {
   "cell_type": "code",
   "execution_count": 24,
   "metadata": {
    "ExecutionIndicator": {
     "show": true
    },
    "execution": {
     "iopub.execute_input": "2025-07-28T16:34:31.737938Z",
     "iopub.status.busy": "2025-07-28T16:34:31.737456Z",
     "iopub.status.idle": "2025-07-28T16:34:31.942234Z",
     "shell.execute_reply": "2025-07-28T16:34:31.941634Z",
     "shell.execute_reply.started": "2025-07-28T16:34:31.737910Z"
    },
    "tags": []
   },
   "outputs": [
    {
     "name": "stdout",
     "output_type": "stream",
     "text": [
      "2to3\t\t\t  jupyter-execute\t\t      pycodestyle\n",
      "2to3-3.9\t\t  jupyter-fileid\t\t      pydoc3\n",
      "autopep8\t\t  jupyter-kernel\t\t      pydoc3.9\n",
      "chardetect\t\t  jupyter-kernelspec\t\t      pydocstyle\n",
      "debugpy\t\t\t  jupyter-lab\t\t\t      pyfiglet\n",
      "debugpy-adapter\t\t  jupyter-labextension\t\t      pyflakes\n",
      "echo_supervisord_conf\t  jupyter-labhub\t\t      pyftmerge\n",
      "f2py\t\t\t  jupyter-migrate\t\t      pyftsubset\n",
      "flake8\t\t\t  jupyter-nbclassic\t\t      pygmentize\n",
      "fonttools\t\t  jupyter-nbclassic-bundlerextension  pygrun\n",
      "get_gprof\t\t  jupyter-nbclassic-extension\t      pyjson5\n",
      "get_objgraph\t\t  jupyter-nbclassic-serverextension   pylint\n",
      "get-port\t\t  jupyter-nbconvert\t\t      pylint-config\n",
      "git-nbdiffdriver\t  jupyter-nbextension\t\t      pylsp\n",
      "git-nbdifftool\t\t  jupyter-notebook\t\t      pyreverse\n",
      "git-nbmergedriver\t  jupyter-run\t\t\t      python\n",
      "git-nbmergetool\t\t  jupyter-server\t\t      python3\n",
      "hg-nbdiff\t\t  jupyter-serverextension\t      python3.9\n",
      "hg-nbdiffweb\t\t  jupyter-troubleshoot\t\t      python3.9-config\n",
      "hg-nbmerge\t\t  jupyter-trust\t\t\t      python3-config\n",
      "hg-nbmergeweb\t\t  kaggle\t\t\t      send2trash\n",
      "idle3\t\t\t  nbdiff\t\t\t      slugify\n",
      "idle3.9\t\t\t  nbdiff-web\t\t\t      supervisorctl\n",
      "ipython\t\t\t  nbdime\t\t\t      supervisord\n",
      "ipython3\t\t  nbmerge\t\t\t      symilar\n",
      "isort\t\t\t  nbmerge-web\t\t\t      tabulate\n",
      "isort-identify-imports\t  nbshow\t\t\t      tqdm\n",
      "jlpm\t\t\t  normalizer\t\t\t      ttx\n",
      "jsonpointer\t\t  numpy-config\t\t\t      undill\n",
      "jsonschema\t\t  pidproxy\t\t\t      wsdump\n",
      "jupyter\t\t\t  pip\t\t\t\t      yapf\n",
      "jupyter-bundlerextension  pip3\t\t\t\t      yapf-diff\n",
      "jupyter-dejavu\t\t  pip3.9\n",
      "jupyter-events\t\t  pybabel\n"
     ]
    }
   ],
   "source": [
    "! ls /etc/dsw/runtime/python/bin/"
   ]
  },
  {
   "cell_type": "code",
   "execution_count": 11,
   "metadata": {
    "ExecutionIndicator": {
     "show": true
    },
    "execution": {
     "iopub.execute_input": "2025-07-30T23:01:24.059762Z",
     "iopub.status.busy": "2025-07-30T23:01:24.059481Z",
     "iopub.status.idle": "2025-07-30T23:01:29.220580Z",
     "shell.execute_reply": "2025-07-30T23:01:29.219860Z",
     "shell.execute_reply.started": "2025-07-30T23:01:24.059738Z"
    },
    "tags": []
   },
   "outputs": [
    {
     "name": "stdout",
     "output_type": "stream",
     "text": [
      "Hit:1 http://mirrors.cloud.aliyuncs.com/ubuntu jammy InRelease\n",
      "Get:2 http://mirrors.cloud.aliyuncs.com/ubuntu jammy-updates InRelease [128 kB]\n",
      "Get:3 http://mirrors.cloud.aliyuncs.com/ubuntu jammy-backports InRelease [127 kB]0m\u001B[33m\n",
      "Get:4 http://mirrors.cloud.aliyuncs.com/ubuntu jammy-security InRelease [129 kB][0m\u001B[33m\n",
      "Get:5 http://mirrors.cloud.aliyuncs.com/ubuntu jammy-updates/universe Sources [582 kB]3m\u001B[33m\u001B[33m\n",
      "Get:7 http://mirrors.cloud.aliyuncs.com/ubuntu jammy-updates/main Sources [697 kB]m\u001B[33m\n",
      "Get:6 https://developer.download.nvidia.cn/compute/cuda/repos/ubuntu2204/x86_64  InRelease [1,581 B]\n",
      "Get:8 https://developer.download.nvidia.cn/compute/cuda/repos/ubuntu2204/x86_64  Packages [1,853 kB]\n",
      "Get:9 http://mirrors.cloud.aliyuncs.com/ubuntu jammy-updates/multiverse Sources [36.6 kB]\n",
      "Get:10 http://mirrors.cloud.aliyuncs.com/ubuntu jammy-updates/restricted Sources [110 kB]\n",
      "Get:11 http://mirrors.cloud.aliyuncs.com/ubuntu jammy-updates/universe amd64 Packages [1,575 kB]\n",
      "Get:12 http://mirrors.cloud.aliyuncs.com/ubuntu jammy-updates/multiverse amd64 Packages [75.9 kB]\n",
      "Get:13 http://mirrors.cloud.aliyuncs.com/ubuntu jammy-updates/restricted amd64 Packages [5,282 kB]\n",
      "Get:14 http://mirrors.cloud.aliyuncs.com/ubuntu jammy-updates/main amd64 Packages [3,516 kB]\n",
      "Get:15 http://mirrors.cloud.aliyuncs.com/ubuntu jammy-security/restricted Sources [104 kB]\n",
      "Get:16 http://mirrors.cloud.aliyuncs.com/ubuntu jammy-security/universe Sources [385 kB]\n",
      "Get:17 http://mirrors.cloud.aliyuncs.com/ubuntu jammy-security/main Sources [404 kB][33m\n",
      "Get:18 http://mirrors.cloud.aliyuncs.com/ubuntu jammy-security/main amd64 Packages [3,202 kB]\n",
      "Get:19 http://mirrors.cloud.aliyuncs.com/ubuntu jammy-security/universe amd64 Packages [1,269 kB]\n",
      "Get:20 http://mirrors.cloud.aliyuncs.com/ubuntu jammy-security/restricted amd64 Packages [5,085 kB]\n",
      "Fetched 24.6 MB in 2s (14.8 MB/s)                           \u001B[0m\u001B[33m\u001B[33m\u001B[33m\u001B[33m\u001B[33m\n",
      "Reading package lists... Done\n",
      "Building dependency tree... Done\n",
      "Reading state information... Done\n",
      "59 packages can be upgraded. Run 'apt list --upgradable' to see them.\n",
      "Reading package lists... Done\n",
      "Building dependency tree... Done\n",
      "Reading state information... Done\n",
      "Suggested packages:\n",
      "  zip\n",
      "The following NEW packages will be installed:\n",
      "  unzip\n",
      "0 upgraded, 1 newly installed, 0 to remove and 59 not upgraded.\n",
      "Need to get 175 kB of archives.\n",
      "After this operation, 386 kB of additional disk space will be used.\n",
      "Get:1 http://mirrors.cloud.aliyuncs.com/ubuntu jammy-updates/main amd64 unzip amd64 6.0-26ubuntu3.2 [175 kB]\n",
      "Fetched 175 kB in 0s (2,698 kB/s)m\u001B[33m\n",
      "debconf: delaying package configuration, since apt-utils is not installed\n",
      "\n",
      "\u001B7\u001B[0;23r\u001B8\u001B[1ASelecting previously unselected package unzip.\n",
      "(Reading database ... 19688 files and directories currently installed.)\n",
      "Preparing to unpack .../unzip_6.0-26ubuntu3.2_amd64.deb ...\n",
      "\u001B7\u001B[24;0f\u001B[42m\u001B[30mProgress: [  0%]\u001B[49m\u001B[39m [..........................................................] \u001B8\u001B7\u001B[24;0f\u001B[42m\u001B[30mProgress: [ 20%]\u001B[49m\u001B[39m [###########...............................................] \u001B8Unpacking unzip (6.0-26ubuntu3.2) ...\n",
      "\u001B7\u001B[24;0f\u001B[42m\u001B[30mProgress: [ 40%]\u001B[49m\u001B[39m [#######################...................................] \u001B8Setting up unzip (6.0-26ubuntu3.2) ...\n",
      "\u001B7\u001B[24;0f\u001B[42m\u001B[30mProgress: [ 60%]\u001B[49m\u001B[39m [##################################........................] \u001B8\u001B7\u001B[24;0f\u001B[42m\u001B[30mProgress: [ 80%]\u001B[49m\u001B[39m [##############################################............] \u001B8\n",
      "\u001B7\u001B[0;24r\u001B8\u001B[1A\u001B[J"
     ]
    }
   ],
   "source": [
    "!apt update && apt install unzip -y"
   ]
  },
  {
   "cell_type": "code",
   "execution_count": 9,
   "metadata": {
    "execution": {
     "iopub.execute_input": "2025-07-30T22:58:54.189206Z",
     "iopub.status.busy": "2025-07-30T22:58:54.188934Z",
     "iopub.status.idle": "2025-07-30T22:58:54.398917Z",
     "shell.execute_reply": "2025-07-30T22:58:54.398283Z",
     "shell.execute_reply.started": "2025-07-30T22:58:54.189183Z"
    },
    "tags": []
   },
   "outputs": [
    {
     "name": "stdout",
     "output_type": "stream",
     "text": [
      "-rw-r--r-- 1 root root 716M  7月 30 22:56 /mnt/workspace/cifar-10.zip\n"
     ]
    }
   ],
   "source": [
    "!ls -lh /mnt/workspace/cifar-10.zip"
   ]
  },
  {
   "cell_type": "code",
   "execution_count": 13,
   "metadata": {
    "ExecutionIndicator": {
     "show": true
    },
    "execution": {
     "iopub.execute_input": "2025-07-30T23:05:02.376428Z",
     "iopub.status.busy": "2025-07-30T23:05:02.376140Z",
     "iopub.status.idle": "2025-07-30T23:05:06.296353Z",
     "shell.execute_reply": "2025-07-30T23:05:06.295527Z",
     "shell.execute_reply.started": "2025-07-30T23:05:02.376403Z"
    },
    "tags": []
   },
   "outputs": [],
   "source": [
    "!unzip -o -d /mnt/workspace/cifar-10 /mnt/workspace/cifar-10.zip >/dev/null"
   ]
  },
  {
   "cell_type": "code",
   "execution_count": 6,
   "metadata": {
    "ExecuteTime": {
     "end_time": "2024-07-23T03:22:13.804775100Z",
     "start_time": "2024-07-23T03:22:09.797723700Z"
    },
    "execution": {
     "iopub.execute_input": "2025-07-30T23:58:55.892511Z",
     "iopub.status.busy": "2025-07-30T23:58:55.892234Z",
     "iopub.status.idle": "2025-07-30T23:58:56.933427Z",
     "shell.execute_reply": "2025-07-30T23:58:56.932579Z",
     "shell.execute_reply.started": "2025-07-30T23:58:55.892488Z"
    },
    "tags": []
   },
   "outputs": [
    {
     "name": "stdout",
     "output_type": "stream",
     "text": [
      "sys.version_info(major=3, minor=10, micro=12, releaselevel='final', serial=0)\n",
      "matplotlib 3.7.5\n",
      "numpy 1.26.4\n",
      "pandas 2.2.3\n",
      "sklearn 1.6.0\n",
      "torch 2.7.1+cu126\n",
      "cuda:0\n"
     ]
    }
   ],
   "source": [
    "import matplotlib as mpl\n",
    "import matplotlib.pyplot as plt\n",
    "%matplotlib inline\n",
    "import numpy as np\n",
    "import sklearn\n",
    "import pandas as pd\n",
    "import os\n",
    "import sys\n",
    "import time\n",
    "from tqdm.auto import tqdm\n",
    "import torch\n",
    "import torch.nn as nn\n",
    "import torch.nn.functional as F\n",
    "\n",
    "print(sys.version_info)\n",
    "for module in mpl, np, pd, sklearn, torch:\n",
    "    print(module.__name__, module.__version__)\n",
    "    \n",
    "device = torch.device(\"cuda:0\") if torch.cuda.is_available() else torch.device(\"cpu\")\n",
    "print(device)\n",
    "\n",
    "seed = 42\n"
   ]
  },
  {
   "cell_type": "markdown",
   "metadata": {},
   "source": [
    "## 数据准备\n",
    "\n",
    "```shell\n",
    "$ tree -L 1 cifar-10                                    \n",
    "cifar-10\n",
    "├── sampleSubmission.csv\n",
    "├── test\n",
    "├── train\n",
    "└── trainLabels.csv\n",
    "```"
   ]
  },
  {
   "cell_type": "code",
   "execution_count": 7,
   "metadata": {
    "ExecuteTime": {
     "end_time": "2024-07-23T03:30:45.728209200Z",
     "start_time": "2024-07-23T03:30:44.069402100Z"
    },
    "execution": {
     "iopub.execute_input": "2025-07-30T23:58:59.437171Z",
     "iopub.status.busy": "2025-07-30T23:58:59.436749Z",
     "iopub.status.idle": "2025-07-30T23:59:01.801510Z",
     "shell.execute_reply": "2025-07-30T23:59:01.800782Z",
     "shell.execute_reply.started": "2025-07-30T23:58:59.437147Z"
    },
    "tags": []
   },
   "outputs": [
    {
     "name": "stdout",
     "output_type": "stream",
     "text": [
      "[(PosixPath('/mnt/workspace/cifar-10/train/1.png'), 'frog'),\n",
      " (PosixPath('/mnt/workspace/cifar-10/train/2.png'), 'truck'),\n",
      " (PosixPath('/mnt/workspace/cifar-10/train/3.png'), 'truck'),\n",
      " (PosixPath('/mnt/workspace/cifar-10/train/4.png'), 'deer'),\n",
      " (PosixPath('/mnt/workspace/cifar-10/train/5.png'), 'automobile')]\n",
      "[(PosixPath('/mnt/workspace/cifar-10/test/1.png'), 'cat'),\n",
      " (PosixPath('/mnt/workspace/cifar-10/test/2.png'), 'cat'),\n",
      " (PosixPath('/mnt/workspace/cifar-10/test/3.png'), 'cat'),\n",
      " (PosixPath('/mnt/workspace/cifar-10/test/4.png'), 'cat'),\n",
      " (PosixPath('/mnt/workspace/cifar-10/test/5.png'), 'cat')]\n",
      "50000 300000\n"
     ]
    }
   ],
   "source": [
    "from pathlib import Path\n",
    "\n",
    "DATA_DIR = Path(\"/mnt/workspace/cifar-10\")\n",
    "\n",
    "train_lables_file = DATA_DIR / \"trainLabels.csv\"\n",
    "test_csv_file = DATA_DIR / \"sampleSubmission.csv\" #测试集模板csv文件\n",
    "train_folder = DATA_DIR / \"train\"\n",
    "test_folder = DATA_DIR / \"test\"\n",
    "\n",
    "#所有的类别\n",
    "class_names = [\n",
    "    'airplane',\n",
    "    'automobile',\n",
    "    'bird',\n",
    "    'cat',\n",
    "    'deer',\n",
    "    'dog',\n",
    "    'frog',\n",
    "    'horse',\n",
    "    'ship',\n",
    "    'truck',\n",
    "]\n",
    "\n",
    "def parse_csv_file(filepath, folder): #filepath:csv文件路径，folder:图片所在文件夹\n",
    "    \"\"\"Parses csv files into (filename(path), label) format\"\"\"\n",
    "    results = []\n",
    "    #读取所有行\n",
    "    with open(filepath, 'r') as f:\n",
    "#         lines = f.readlines()  为什么加[1:]，可以试这个\n",
    "        #第一行不需要，因为第一行是标题\n",
    "        lines = f.readlines()[1:] \n",
    "    for line in lines:#依次去取每一行\n",
    "        image_id, label_str = line.strip('\\n').split(',') #图片id 和标签分离\n",
    "        image_full_path = folder / f\"{image_id}.png\"\n",
    "        results.append((image_full_path, label_str)) #得到对应图片的路径和分类\n",
    "    return results\n",
    "\n",
    "#解析对应的文件夹\n",
    "train_labels_info = parse_csv_file(train_lables_file, train_folder)\n",
    "test_csv_info = parse_csv_file(test_csv_file, test_folder)\n",
    "#打印\n",
    "import pprint\n",
    "pprint.pprint(train_labels_info[0:5])\n",
    "pprint.pprint(test_csv_info[0:5])\n",
    "print(len(train_labels_info), len(test_csv_info))"
   ]
  },
  {
   "cell_type": "code",
   "execution_count": 8,
   "metadata": {
    "ExecuteTime": {
     "end_time": "2024-07-23T03:31:14.676380800Z",
     "start_time": "2024-07-23T03:31:14.589008500Z"
    },
    "execution": {
     "iopub.execute_input": "2025-07-30T23:59:06.973293Z",
     "iopub.status.busy": "2025-07-30T23:59:06.972858Z",
     "iopub.status.idle": "2025-07-30T23:59:07.035351Z",
     "shell.execute_reply": "2025-07-30T23:59:07.034783Z",
     "shell.execute_reply.started": "2025-07-30T23:59:06.973267Z"
    },
    "tags": []
   },
   "outputs": [
    {
     "name": "stdout",
     "output_type": "stream",
     "text": [
      "                              filepath       class\n",
      "0  /mnt/workspace/cifar-10/train/1.png        frog\n",
      "1  /mnt/workspace/cifar-10/train/2.png       truck\n",
      "2  /mnt/workspace/cifar-10/train/3.png       truck\n",
      "3  /mnt/workspace/cifar-10/train/4.png        deer\n",
      "4  /mnt/workspace/cifar-10/train/5.png  automobile\n",
      "                                  filepath       class\n",
      "0  /mnt/workspace/cifar-10/train/45001.png       horse\n",
      "1  /mnt/workspace/cifar-10/train/45002.png  automobile\n",
      "2  /mnt/workspace/cifar-10/train/45003.png        deer\n",
      "3  /mnt/workspace/cifar-10/train/45004.png  automobile\n",
      "4  /mnt/workspace/cifar-10/train/45005.png    airplane\n",
      "                             filepath class\n",
      "0  /mnt/workspace/cifar-10/test/1.png   cat\n",
      "1  /mnt/workspace/cifar-10/test/2.png   cat\n",
      "2  /mnt/workspace/cifar-10/test/3.png   cat\n",
      "3  /mnt/workspace/cifar-10/test/4.png   cat\n",
      "4  /mnt/workspace/cifar-10/test/5.png   cat\n"
     ]
    }
   ],
   "source": [
    "# train_df = pd.DataFrame(train_labels_info)\n",
    "train_df = pd.DataFrame(train_labels_info[0:45000]) # 取前45000张图片作为训练集\n",
    "valid_df = pd.DataFrame(train_labels_info[45000:]) # 取后5000张图片作为验证集\n",
    "test_df = pd.DataFrame(test_csv_info)\n",
    "\n",
    "train_df.columns = ['filepath', 'class']\n",
    "valid_df.columns = ['filepath', 'class']\n",
    "test_df.columns = ['filepath', 'class']\n",
    "\n",
    "print(train_df.head())\n",
    "print(valid_df.head())\n",
    "print(test_df.head())"
   ]
  },
  {
   "cell_type": "code",
   "execution_count": null,
   "metadata": {
    "tags": []
   },
   "outputs": [],
   "source": [
    "!pip install torchvision"
   ]
  },
  {
   "cell_type": "code",
   "execution_count": 12,
   "metadata": {
    "ExecuteTime": {
     "end_time": "2024-07-23T06:35:17.689215700Z",
     "start_time": "2024-07-23T06:35:14.473219300Z"
    },
    "execution": {
     "iopub.execute_input": "2025-07-30T23:59:36.863751Z",
     "iopub.status.busy": "2025-07-30T23:59:36.863470Z",
     "iopub.status.idle": "2025-07-30T23:59:36.871718Z",
     "shell.execute_reply": "2025-07-30T23:59:36.871160Z",
     "shell.execute_reply.started": "2025-07-30T23:59:36.863728Z"
    },
    "tags": []
   },
   "outputs": [],
   "source": [
    "from PIL import Image\n",
    "from torch.utils.data import Dataset, DataLoader\n",
    "from torchvision import transforms\n",
    "\n",
    "class Cifar10Dataset(Dataset):\n",
    "    df_map = {\n",
    "        \"train\": train_df,\n",
    "        \"eval\": valid_df,\n",
    "        \"test\": test_df\n",
    "    }\n",
    "    label_to_idx = {label: idx for idx, label in enumerate(class_names)} # 类别映射为idx\n",
    "    idx_to_label = {idx: label for idx, label in enumerate(class_names)} # idx映射为类别,为了test使用\n",
    "    def __init__(self, mode, transform=None):\n",
    "        self.df = self.df_map.get(mode, None) # 获取对应模式的df，不同字符串对应不同模式\n",
    "        if self.df is None:\n",
    "            raise ValueError(\"mode should be one of train, val, test, but got {}\".format(mode))\n",
    "        # assert self.df, \"df is None\"\n",
    "        self.transform = transform\n",
    "        \n",
    "    def __getitem__(self, index):\n",
    "        img_path, label = self.df.iloc[index] # 获取图片路径和标签\n",
    "        img = Image.open(img_path).convert('RGB')\n",
    "        # # img 转换为 channel first\n",
    "        # img = img.transpose((2, 0, 1))\n",
    "        # transform\n",
    "        img = self.transform(img) # 数据增强\n",
    "        # label 转换为 idx\n",
    "        label = self.label_to_idx[label]\n",
    "        return img, label\n",
    "    \n",
    "    def __len__(self):\n",
    "        return self.df.shape[0] # 返回df的行数,样本数\n",
    "    \n",
    "IMAGE_SIZE = 32\n",
    "mean, std = [0.4914, 0.4822, 0.4465], [0.247, 0.243, 0.261]\n",
    "\n",
    "transforms_train = transforms.Compose([\n",
    "        # resize\n",
    "        transforms.Resize((IMAGE_SIZE, IMAGE_SIZE)), #缩放\n",
    "        # random rotation 40\n",
    "        transforms.RandomRotation(40), #随机旋转\n",
    "        # horizaontal flip\n",
    "        transforms.RandomHorizontalFlip(),  #随机水平翻转\n",
    "        transforms.ToTensor(), #转换为tensor\n",
    "        transforms.Normalize(mean, std) #标准化\n",
    "    ]) #数据增强\n",
    "\n",
    "transforms_eval = transforms.Compose([\n",
    "        # resize\n",
    "        transforms.Resize((IMAGE_SIZE, IMAGE_SIZE)),\n",
    "        transforms.ToTensor(),\n",
    "        transforms.Normalize(mean, std)\n",
    "    ])\n",
    "# ToTensor还将图像的维度从[height, width, channels]转换为[channels, height, width]。\n",
    "train_ds = Cifar10Dataset(\"train\", transforms_train)\n",
    "eval_ds = Cifar10Dataset(\"eval\", transforms_eval)"
   ]
  },
  {
   "cell_type": "code",
   "execution_count": 10,
   "metadata": {
    "ExecutionIndicator": {
     "show": true
    },
    "execution": {
     "iopub.execute_input": "2025-07-30T23:59:18.170406Z",
     "iopub.status.busy": "2025-07-30T23:59:18.170138Z",
     "iopub.status.idle": "2025-07-30T23:59:18.831656Z",
     "shell.execute_reply": "2025-07-30T23:59:18.830938Z",
     "shell.execute_reply.started": "2025-07-30T23:59:18.170383Z"
    },
    "tags": []
   },
   "outputs": [
    {
     "name": "stdout",
     "output_type": "stream",
     "text": [
      "04_10_monkeys_model_1_aliyun.ipynb  06_cifar10_model_1.ipynb  cifar-10.zip\n",
      "04_10_monkeys_model_1.ipynb\t    cifar-10\t\t      kaggle.json\n"
     ]
    }
   ],
   "source": [
    "!ls /mnt/workspace\n",
    "%pwd\n",
    "!find /mnt/workspace -type d -name \"__pycache__\" -exec rm -r {} +\n",
    "!find /mnt/workspace -type f -name \"*.pyc\" -delete"
   ]
  },
  {
   "cell_type": "code",
   "execution_count": 14,
   "metadata": {
    "execution": {
     "iopub.execute_input": "2025-07-31T00:04:42.200280Z",
     "iopub.status.busy": "2025-07-31T00:04:42.200006Z",
     "iopub.status.idle": "2025-07-31T00:04:46.590714Z",
     "shell.execute_reply": "2025-07-31T00:04:46.589992Z",
     "shell.execute_reply.started": "2025-07-31T00:04:42.200256Z"
    },
    "tags": []
   },
   "outputs": [
    {
     "name": "stdout",
     "output_type": "stream",
     "text": [
      "Hit:1 http://mirrors.cloud.aliyuncs.com/ubuntu jammy InRelease\n",
      "Get:2 http://mirrors.cloud.aliyuncs.com/ubuntu jammy-updates InRelease [128 kB]\n",
      "Hit:3 http://mirrors.cloud.aliyuncs.com/ubuntu jammy-backports InRelease       \u001B[0m\u001B[33m\n",
      "Get:4 http://mirrors.cloud.aliyuncs.com/ubuntu jammy-security InRelease [129 kB][0mm\n",
      "Get:5 http://mirrors.cloud.aliyuncs.com/ubuntu jammy-updates/main Sources [697 kB]3m\u001B[33m\n",
      "Get:7 http://mirrors.cloud.aliyuncs.com/ubuntu jammy-updates/universe amd64 Packages [1,575 kB]\n",
      "Hit:6 https://developer.download.nvidia.cn/compute/cuda/repos/ubuntu2204/x86_64  InRelease\n",
      "Get:8 http://mirrors.cloud.aliyuncs.com/ubuntu jammy-updates/main amd64 Packages [3,516 kB]\n",
      "Fetched 6,045 kB in 1s (8,399 kB/s) \u001B[0m                   \u001B[0m[33m\u001B[33m\u001B[33m\u001B[33m\n",
      "Reading package lists... Done\n",
      "Building dependency tree... Done\n",
      "Reading state information... Done\n",
      "59 packages can be upgraded. Run 'apt list --upgradable' to see them.\n",
      "Reading package lists... Done\n",
      "Building dependency tree... Done\n",
      "Reading state information... Done\n",
      "The following additional packages will be installed:\n",
      "  p7zip\n",
      "Suggested packages:\n",
      "  p7zip-rar\n",
      "The following NEW packages will be installed:\n",
      "  p7zip p7zip-full\n",
      "0 upgraded, 2 newly installed, 0 to remove and 59 not upgraded.\n",
      "Need to get 1,549 kB of archives.\n",
      "After this operation, 5,847 kB of additional disk space will be used.\n",
      "Get:1 http://mirrors.cloud.aliyuncs.com/ubuntu jammy/universe amd64 p7zip amd64 16.02+dfsg-8 [363 kB]\n",
      "Get:2 http://mirrors.cloud.aliyuncs.com/ubuntu jammy/universe amd64 p7zip-full amd64 16.02+dfsg-8 [1,186 kB]\n",
      "Fetched 1,549 kB in 0s (10.3 MB/s)    \u001B[0m\u001B[33m\n",
      "debconf: delaying package configuration, since apt-utils is not installed\n",
      "\n",
      "\u001B7\u001B[0;23r\u001B8\u001B[1ASelecting previously unselected package p7zip.\n",
      "(Reading database ... 19706 files and directories currently installed.)\n",
      "Preparing to unpack .../p7zip_16.02+dfsg-8_amd64.deb ...\n",
      "\u001B7\u001B[24;0f\u001B[42m\u001B[30mProgress: [  0%]\u001B[49m\u001B[39m [..........................................................] \u001B8\u001B7\u001B[24;0f\u001B[42m\u001B[30mProgress: [ 11%]\u001B[49m\u001B[39m [######....................................................] \u001B8Unpacking p7zip (16.02+dfsg-8) ...\n",
      "\u001B7\u001B[24;0f\u001B[42m\u001B[30mProgress: [ 22%]\u001B[49m\u001B[39m [############..............................................] \u001B8Selecting previously unselected package p7zip-full.\n",
      "Preparing to unpack .../p7zip-full_16.02+dfsg-8_amd64.deb ...\n",
      "\u001B7\u001B[24;0f\u001B[42m\u001B[30mProgress: [ 33%]\u001B[49m\u001B[39m [###################.......................................] \u001B8Unpacking p7zip-full (16.02+dfsg-8) ...\n",
      "\u001B7\u001B[24;0f\u001B[42m\u001B[30mProgress: [ 44%]\u001B[49m\u001B[39m [#########################.................................] \u001B8Setting up p7zip (16.02+dfsg-8) ...\n",
      "\u001B7\u001B[24;0f\u001B[42m\u001B[30mProgress: [ 56%]\u001B[49m\u001B[39m [################################..........................] \u001B8\u001B7\u001B[24;0f\u001B[42m\u001B[30mProgress: [ 67%]\u001B[49m\u001B[39m [######################################....................] \u001B8Setting up p7zip-full (16.02+dfsg-8) ...\n",
      "\u001B7\u001B[24;0f\u001B[42m\u001B[30mProgress: [ 78%]\u001B[49m\u001B[39m [#############################################.............] \u001B8\u001B7\u001B[24;0f\u001B[42m\u001B[30mProgress: [ 89%]\u001B[49m\u001B[39m [###################################################.......] \u001B8\n",
      "\u001B7\u001B[0;24r\u001B8\u001B[1A\u001B[J"
     ]
    }
   ],
   "source": [
    "!apt update && apt install -y p7zip-full"
   ]
  },
  {
   "cell_type": "code",
   "execution_count": 47,
   "metadata": {
    "ExecutionIndicator": {
     "show": true
    },
    "execution": {
     "iopub.status.idle": "2025-07-31T07:13:59.014058Z",
     "shell.execute_reply": "2025-07-31T07:13:59.013136Z",
     "shell.execute_reply.started": "2025-07-31T00:39:11.493899Z"
    },
    "scrolled": true,
    "tags": []
   },
   "outputs": [
    {
     "name": "stdout",
     "output_type": "stream",
     "text": [
      "^C\n",
      "(Y)es / (N)o / (A)lways / (S)kip all / A(u)to rename all / (Q)uit? ✅ 解压完成！\n"
     ]
    }
   ],
   "source": [
    "# 解压 test.7z 到 /mnt/workspace/cifar-10/\n",
    "!7z x /mnt/workspace/cifar-10/test.7z -o/mnt/workspace/cifar-10/\n",
    "# !7z x /mnt/workspace/cifar-10/train.7z -o/mnt/workspace/cifar-10/\n",
    "print(\"✅ 解压完成！\")"
   ]
  },
  {
   "cell_type": "code",
   "execution_count": 20,
   "metadata": {
    "ExecuteTime": {
     "end_time": "2024-07-23T06:35:19.637063900Z",
     "start_time": "2024-07-23T06:35:19.534070100Z"
    },
    "collapsed": false,
    "execution": {
     "iopub.execute_input": "2025-07-31T00:21:57.749431Z",
     "iopub.status.busy": "2025-07-31T00:21:57.749138Z",
     "iopub.status.idle": "2025-07-31T00:21:57.784559Z",
     "shell.execute_reply": "2025-07-31T00:21:57.783920Z",
     "shell.execute_reply.started": "2025-07-31T00:21:57.749407Z"
    },
    "jupyter": {
     "outputs_hidden": false
    },
    "tags": []
   },
   "outputs": [
    {
     "data": {
      "text/plain": [
       "torch.Size([3, 32, 32])"
      ]
     },
     "execution_count": 20,
     "metadata": {},
     "output_type": "execute_result"
    }
   ],
   "source": [
    "train_ds[0][0].shape # 图片的shape,输入"
   ]
  },
  {
   "cell_type": "code",
   "execution_count": 21,
   "metadata": {
    "ExecuteTime": {
     "end_time": "2024-07-23T06:38:39.422071400Z",
     "start_time": "2024-07-23T06:38:39.412682100Z"
    },
    "collapsed": false,
    "execution": {
     "iopub.execute_input": "2025-07-31T00:22:01.590021Z",
     "iopub.status.busy": "2025-07-31T00:22:01.589747Z",
     "iopub.status.idle": "2025-07-31T00:22:01.594471Z",
     "shell.execute_reply": "2025-07-31T00:22:01.593996Z",
     "shell.execute_reply.started": "2025-07-31T00:22:01.589999Z"
    },
    "jupyter": {
     "outputs_hidden": false
    },
    "tags": []
   },
   "outputs": [
    {
     "name": "stdout",
     "output_type": "stream",
     "text": [
      "{0: 'airplane', 1: 'automobile', 2: 'bird', 3: 'cat', 4: 'deer', 5: 'dog', 6: 'frog', 7: 'horse', 8: 'ship', 9: 'truck'}\n"
     ]
    },
    {
     "data": {
      "text/plain": [
       "{'airplane': 0,\n",
       " 'automobile': 1,\n",
       " 'bird': 2,\n",
       " 'cat': 3,\n",
       " 'deer': 4,\n",
       " 'dog': 5,\n",
       " 'frog': 6,\n",
       " 'horse': 7,\n",
       " 'ship': 8,\n",
       " 'truck': 9}"
      ]
     },
     "execution_count": 21,
     "metadata": {},
     "output_type": "execute_result"
    }
   ],
   "source": [
    "print(train_ds.idx_to_label)  # 类别映射为idx\n",
    "train_ds.label_to_idx # idx映射为类别"
   ]
  },
  {
   "cell_type": "code",
   "execution_count": 23,
   "metadata": {
    "ExecuteTime": {
     "end_time": "2024-07-23T06:38:59.883155600Z",
     "start_time": "2024-07-23T06:38:59.874558800Z"
    },
    "execution": {
     "iopub.execute_input": "2025-07-31T00:22:06.822978Z",
     "iopub.status.busy": "2025-07-31T00:22:06.822703Z",
     "iopub.status.idle": "2025-07-31T00:22:06.825969Z",
     "shell.execute_reply": "2025-07-31T00:22:06.825484Z",
     "shell.execute_reply.started": "2025-07-31T00:22:06.822955Z"
    },
    "tags": []
   },
   "outputs": [],
   "source": [
    "batch_size = 64\n",
    "train_dl = DataLoader(train_ds, batch_size=batch_size, shuffle=True)   \n",
    "eval_dl = DataLoader(eval_ds, batch_size=batch_size, shuffle=False)"
   ]
  },
  {
   "cell_type": "code",
   "execution_count": 25,
   "metadata": {
    "execution": {
     "iopub.execute_input": "2025-07-31T00:22:11.545607Z",
     "iopub.status.busy": "2025-07-31T00:22:11.545287Z",
     "iopub.status.idle": "2025-07-31T00:22:11.549645Z",
     "shell.execute_reply": "2025-07-31T00:22:11.548838Z",
     "shell.execute_reply.started": "2025-07-31T00:22:11.545582Z"
    },
    "tags": []
   },
   "outputs": [],
   "source": [
    "# 遍历train_ds得到每张图片，计算每个通道的均值和方差\n",
    "def cal_mean_std(ds):\n",
    "    mean = 0.\n",
    "    std = 0.\n",
    "    for img, _ in ds:\n",
    "        mean += img.mean(dim=(1, 2))\n",
    "        std += img.std(dim=(1, 2))\n",
    "    mean /= len(ds)\n",
    "    std /= len(ds)\n",
    "    return mean, std\n",
    "\n",
    "# 经过 normalize 后 均值为0，方差为1\n",
    "# print(cal_mean_std(train_ds))"
   ]
  },
  {
   "cell_type": "markdown",
   "metadata": {},
   "source": [
    "## 定义模型"
   ]
  },
  {
   "cell_type": "code",
   "execution_count": 26,
   "metadata": {
    "ExecuteTime": {
     "end_time": "2024-07-23T06:49:56.579457400Z",
     "start_time": "2024-07-23T06:49:56.499468400Z"
    },
    "execution": {
     "iopub.execute_input": "2025-07-31T00:22:14.010043Z",
     "iopub.status.busy": "2025-07-31T00:22:14.009760Z",
     "iopub.status.idle": "2025-07-31T00:22:14.071164Z",
     "shell.execute_reply": "2025-07-31T00:22:14.070653Z",
     "shell.execute_reply.started": "2025-07-31T00:22:14.010020Z"
    },
    "tags": []
   },
   "outputs": [
    {
     "name": "stdout",
     "output_type": "stream",
     "text": [
      "             model.0.weight             paramerters num: 3456\n",
      "              model.0.bias              paramerters num: 128\n",
      "             model.2.weight             paramerters num: 128\n",
      "              model.2.bias              paramerters num: 128\n",
      "             model.3.weight             paramerters num: 147456\n",
      "              model.3.bias              paramerters num: 128\n",
      "             model.5.weight             paramerters num: 128\n",
      "              model.5.bias              paramerters num: 128\n",
      "             model.7.weight             paramerters num: 294912\n",
      "              model.7.bias              paramerters num: 256\n",
      "             model.9.weight             paramerters num: 256\n",
      "              model.9.bias              paramerters num: 256\n",
      "            model.10.weight             paramerters num: 589824\n",
      "             model.10.bias              paramerters num: 256\n",
      "            model.12.weight             paramerters num: 256\n",
      "             model.12.bias              paramerters num: 256\n",
      "            model.14.weight             paramerters num: 1179648\n",
      "             model.14.bias              paramerters num: 512\n",
      "            model.16.weight             paramerters num: 512\n",
      "             model.16.bias              paramerters num: 512\n",
      "            model.17.weight             paramerters num: 2359296\n",
      "             model.17.bias              paramerters num: 512\n",
      "            model.19.weight             paramerters num: 512\n",
      "             model.19.bias              paramerters num: 512\n",
      "            model.22.weight             paramerters num: 4194304\n",
      "             model.22.bias              paramerters num: 512\n",
      "            model.24.weight             paramerters num: 5120\n",
      "             model.24.bias              paramerters num: 10\n"
     ]
    }
   ],
   "source": [
    "class CNN(nn.Module):\n",
    "    def __init__(self, num_classes):\n",
    "        super().__init__()\n",
    "        self.model = nn.Sequential(\n",
    "            nn.Conv2d(in_channels=3, out_channels=128, kernel_size=3, padding=\"same\"),\n",
    "            nn.ReLU(),\n",
    "            nn.BatchNorm2d(128),# 批标准化，在批次上做归一化\n",
    "            nn.Conv2d(in_channels=128, out_channels=128, kernel_size=3, padding=\"same\"), #输出尺寸（128，32，32）\n",
    "            nn.ReLU(),\n",
    "            nn.BatchNorm2d(128),\n",
    "            nn.MaxPool2d(kernel_size=2), #输出尺寸（128，16，16）\n",
    "            nn.Conv2d(in_channels=128, out_channels=256, kernel_size=3, padding=\"same\"),\n",
    "            nn.ReLU(),\n",
    "            nn.BatchNorm2d(256),\n",
    "            nn.Conv2d(in_channels=256, out_channels=256, kernel_size=3, padding=\"same\"), #输出尺寸（256，16，16）\n",
    "            nn.ReLU(),\n",
    "            nn.BatchNorm2d(256),\n",
    "            nn.MaxPool2d(kernel_size=2),#输出尺寸（256，8，8）\n",
    "            nn.Conv2d(in_channels=256, out_channels=512, kernel_size=3, padding=\"same\"),\n",
    "            nn.ReLU(),\n",
    "            nn.BatchNorm2d(512),\n",
    "            nn.Conv2d(in_channels=512, out_channels=512, kernel_size=3, padding=\"same\"), #输出尺寸（512，8，8）\n",
    "            nn.ReLU(),\n",
    "            nn.BatchNorm2d(512),\n",
    "            nn.MaxPool2d(kernel_size=2), #输出尺寸（512，4，4）\n",
    "            nn.Flatten(), #展平\n",
    "            nn.Linear(8192, 512),\n",
    "            nn.ReLU(),\n",
    "            nn.Linear(512, num_classes),\n",
    "        ) #Sequential自动连接各层，把各层的输出作为下一层的输入\n",
    "        \n",
    "    def forward(self, x):\n",
    "        return self.model(x)\n",
    "        \n",
    "for key, value in CNN(len(class_names)).named_parameters():\n",
    "    print(f\"{key:^40}paramerters num: {np.prod(value.shape)}\")\n",
    "    \n"
   ]
  },
  {
   "cell_type": "code",
   "execution_count": 27,
   "metadata": {
    "ExecuteTime": {
     "end_time": "2024-07-23T06:49:59.043655400Z",
     "start_time": "2024-07-23T06:49:58.976307900Z"
    },
    "collapsed": false,
    "execution": {
     "iopub.execute_input": "2025-07-31T00:22:19.271176Z",
     "iopub.status.busy": "2025-07-31T00:22:19.270896Z",
     "iopub.status.idle": "2025-07-31T00:22:19.324673Z",
     "shell.execute_reply": "2025-07-31T00:22:19.324032Z",
     "shell.execute_reply.started": "2025-07-31T00:22:19.271154Z"
    },
    "jupyter": {
     "outputs_hidden": false
    },
    "tags": []
   },
   "outputs": [
    {
     "name": "stdout",
     "output_type": "stream",
     "text": [
      "Total trainable parameters: 8779914\n"
     ]
    }
   ],
   "source": [
    "total_params = sum(p.numel() for p in CNN(len(class_names)).parameters() if p.requires_grad)\n",
    "print(f\"Total trainable parameters: {total_params}\")"
   ]
  },
  {
   "cell_type": "code",
   "execution_count": 28,
   "metadata": {
    "ExecuteTime": {
     "end_time": "2024-07-23T06:49:14.250276700Z",
     "start_time": "2024-07-23T06:49:14.242278700Z"
    },
    "collapsed": false,
    "execution": {
     "iopub.execute_input": "2025-07-31T00:22:21.557994Z",
     "iopub.status.busy": "2025-07-31T00:22:21.557666Z",
     "iopub.status.idle": "2025-07-31T00:22:21.561982Z",
     "shell.execute_reply": "2025-07-31T00:22:21.561289Z",
     "shell.execute_reply.started": "2025-07-31T00:22:21.557969Z"
    },
    "jupyter": {
     "outputs_hidden": false
    },
    "tags": []
   },
   "outputs": [
    {
     "data": {
      "text/plain": [
       "8192"
      ]
     },
     "execution_count": 28,
     "metadata": {},
     "output_type": "execute_result"
    }
   ],
   "source": [
    "512*4*4"
   ]
  },
  {
   "cell_type": "markdown",
   "metadata": {},
   "source": [
    "## 训练\n",
    "\n",
    "pytorch的训练需要自行实现，包括\n",
    "1. 定义损失函数\n",
    "2. 定义优化器\n",
    "3. 定义训练步\n",
    "4. 训练"
   ]
  },
  {
   "cell_type": "code",
   "execution_count": 29,
   "metadata": {
    "ExecuteTime": {
     "end_time": "2024-07-23T06:51:47.038660500Z",
     "start_time": "2024-07-23T06:51:46.193237300Z"
    },
    "execution": {
     "iopub.execute_input": "2025-07-31T00:22:25.188967Z",
     "iopub.status.busy": "2025-07-31T00:22:25.188673Z",
     "iopub.status.idle": "2025-07-31T00:22:25.339252Z",
     "shell.execute_reply": "2025-07-31T00:22:25.338668Z",
     "shell.execute_reply.started": "2025-07-31T00:22:25.188941Z"
    },
    "tags": []
   },
   "outputs": [],
   "source": [
    "from sklearn.metrics import accuracy_score\n",
    "\n",
    "@torch.no_grad()\n",
    "def evaluating(model, dataloader, loss_fct):\n",
    "    loss_list = []\n",
    "    pred_list = []\n",
    "    label_list = []\n",
    "    for datas, labels in dataloader:\n",
    "        datas = datas.to(device)\n",
    "        labels = labels.to(device)\n",
    "        # 前向计算\n",
    "        logits = model(datas)\n",
    "        loss = loss_fct(logits, labels)         # 验证集损失\n",
    "        loss_list.append(loss.item())\n",
    "        \n",
    "        preds = logits.argmax(axis=-1)    # 验证集预测\n",
    "        pred_list.extend(preds.cpu().numpy().tolist())\n",
    "        label_list.extend(labels.cpu().numpy().tolist())\n",
    "        \n",
    "    acc = accuracy_score(label_list, pred_list)\n",
    "    return np.mean(loss_list), acc\n"
   ]
  },
  {
   "cell_type": "markdown",
   "metadata": {},
   "source": [
    "### TensorBoard 可视化\n",
    "\n",
    "\n",
    "训练过程中可以使用如下命令启动tensorboard服务。\n",
    "\n",
    "```shell\n",
    "tensorboard \\\n",
    "    --logdir=runs \\     # log 存放路径\n",
    "    --host 0.0.0.0 \\    # ip\n",
    "    --port 8848         # 端口\n",
    "```"
   ]
  },
  {
   "cell_type": "code",
   "execution_count": 30,
   "metadata": {
    "ExecuteTime": {
     "end_time": "2024-07-23T06:51:50.921239100Z",
     "start_time": "2024-07-23T06:51:49.522951600Z"
    },
    "execution": {
     "iopub.execute_input": "2025-07-31T00:22:29.096923Z",
     "iopub.status.busy": "2025-07-31T00:22:29.096424Z",
     "iopub.status.idle": "2025-07-31T00:22:29.332114Z",
     "shell.execute_reply": "2025-07-31T00:22:29.331519Z",
     "shell.execute_reply.started": "2025-07-31T00:22:29.096894Z"
    },
    "tags": []
   },
   "outputs": [],
   "source": [
    "from torch.utils.tensorboard import SummaryWriter\n",
    "\n",
    "\n",
    "class TensorBoardCallback:\n",
    "    def __init__(self, log_dir, flush_secs=10):\n",
    "        \"\"\"\n",
    "        Args:\n",
    "            log_dir (str): dir to write log.\n",
    "            flush_secs (int, optional): write to dsk each flush_secs seconds. Defaults to 10.\n",
    "        \"\"\"\n",
    "        self.writer = SummaryWriter(log_dir=log_dir, flush_secs=flush_secs)\n",
    "\n",
    "    def draw_model(self, model, input_shape):\n",
    "        self.writer.add_graph(model, input_to_model=torch.randn(input_shape))\n",
    "        \n",
    "    def add_loss_scalars(self, step, loss, val_loss):\n",
    "        self.writer.add_scalars(\n",
    "            main_tag=\"training/loss\", \n",
    "            tag_scalar_dict={\"loss\": loss, \"val_loss\": val_loss},\n",
    "            global_step=step,\n",
    "            )\n",
    "        \n",
    "    def add_acc_scalars(self, step, acc, val_acc):\n",
    "        self.writer.add_scalars(\n",
    "            main_tag=\"training/accuracy\",\n",
    "            tag_scalar_dict={\"accuracy\": acc, \"val_accuracy\": val_acc},\n",
    "            global_step=step,\n",
    "        )\n",
    "        \n",
    "    def add_lr_scalars(self, step, learning_rate):\n",
    "        self.writer.add_scalars(\n",
    "            main_tag=\"training/learning_rate\",\n",
    "            tag_scalar_dict={\"learning_rate\": learning_rate},\n",
    "            global_step=step,\n",
    "            \n",
    "        )\n",
    "    \n",
    "    def __call__(self, step, **kwargs):\n",
    "        # add loss\n",
    "        loss = kwargs.pop(\"loss\", None)\n",
    "        val_loss = kwargs.pop(\"val_loss\", None)\n",
    "        if loss is not None and val_loss is not None:\n",
    "            self.add_loss_scalars(step, loss, val_loss)\n",
    "        # add acc\n",
    "        acc = kwargs.pop(\"acc\", None)\n",
    "        val_acc = kwargs.pop(\"val_acc\", None)\n",
    "        if acc is not None and val_acc is not None:\n",
    "            self.add_acc_scalars(step, acc, val_acc)\n",
    "        # add lr\n",
    "        learning_rate = kwargs.pop(\"lr\", None)\n",
    "        if learning_rate is not None:\n",
    "            self.add_lr_scalars(step, learning_rate)\n"
   ]
  },
  {
   "cell_type": "markdown",
   "metadata": {},
   "source": [
    "### Save Best\n"
   ]
  },
  {
   "cell_type": "code",
   "execution_count": 32,
   "metadata": {
    "ExecuteTime": {
     "end_time": "2024-07-23T06:51:52.029341200Z",
     "start_time": "2024-07-23T06:51:52.023343500Z"
    },
    "execution": {
     "iopub.execute_input": "2025-07-31T00:22:34.817315Z",
     "iopub.status.busy": "2025-07-31T00:22:34.817003Z",
     "iopub.status.idle": "2025-07-31T00:22:34.822605Z",
     "shell.execute_reply": "2025-07-31T00:22:34.821974Z",
     "shell.execute_reply.started": "2025-07-31T00:22:34.817292Z"
    },
    "tags": []
   },
   "outputs": [],
   "source": [
    "class SaveCheckpointsCallback:\n",
    "    def __init__(self, save_dir, save_step=5000, save_best_only=True):\n",
    "        \"\"\"\n",
    "        Save checkpoints each save_epoch epoch. \n",
    "        We save checkpoint by epoch in this implementation.\n",
    "        Usually, training scripts with pytorch evaluating model and save checkpoint by step.\n",
    "\n",
    "        Args:\n",
    "            save_dir (str): dir to save checkpoint\n",
    "            save_epoch (int, optional): the frequency to save checkpoint. Defaults to 1.\n",
    "            save_best_only (bool, optional): If True, only save the best model or save each model at every epoch.\n",
    "        \"\"\"\n",
    "        self.save_dir = save_dir\n",
    "        self.save_step = save_step\n",
    "        self.save_best_only = save_best_only\n",
    "        self.best_metrics = -1\n",
    "        \n",
    "        # mkdir\n",
    "        if not os.path.exists(self.save_dir):\n",
    "            os.mkdir(self.save_dir)\n",
    "        \n",
    "    def __call__(self, step, state_dict, metric=None):\n",
    "        if step % self.save_step > 0:\n",
    "            return\n",
    "        \n",
    "        if self.save_best_only:\n",
    "            assert metric is not None\n",
    "            if metric >= self.best_metrics:\n",
    "                # save checkpoints\n",
    "                torch.save(state_dict, os.path.join(self.save_dir, \"best.ckpt\"))\n",
    "                # update best metrics\n",
    "                self.best_metrics = metric\n",
    "        else:\n",
    "            torch.save(state_dict, os.path.join(self.save_dir, f\"{step}.ckpt\"))\n",
    "\n"
   ]
  },
  {
   "cell_type": "markdown",
   "metadata": {},
   "source": [
    "### Early Stop"
   ]
  },
  {
   "cell_type": "code",
   "execution_count": 33,
   "metadata": {
    "ExecuteTime": {
     "end_time": "2024-07-23T06:51:56.837899700Z",
     "start_time": "2024-07-23T06:51:56.828651400Z"
    },
    "execution": {
     "iopub.execute_input": "2025-07-31T00:22:37.440656Z",
     "iopub.status.busy": "2025-07-31T00:22:37.440346Z",
     "iopub.status.idle": "2025-07-31T00:22:37.445100Z",
     "shell.execute_reply": "2025-07-31T00:22:37.444564Z",
     "shell.execute_reply.started": "2025-07-31T00:22:37.440630Z"
    },
    "tags": []
   },
   "outputs": [],
   "source": [
    "class EarlyStopCallback:\n",
    "    def __init__(self, patience=5, min_delta=0.01):\n",
    "        \"\"\"\n",
    "\n",
    "        Args:\n",
    "            patience (int, optional): Number of epochs with no improvement after which training will be stopped.. Defaults to 5.\n",
    "            min_delta (float, optional): Minimum change in the monitored quantity to qualify as an improvement, i.e. an absolute \n",
    "                change of less than min_delta, will count as no improvement. Defaults to 0.01.\n",
    "        \"\"\"\n",
    "        self.patience = patience\n",
    "        self.min_delta = min_delta\n",
    "        self.best_metric = -1\n",
    "        self.counter = 0\n",
    "        \n",
    "    def __call__(self, metric):\n",
    "        if metric >= self.best_metric + self.min_delta:\n",
    "            # update best metric\n",
    "            self.best_metric = metric\n",
    "            # reset counter \n",
    "            self.counter = 0\n",
    "        else: \n",
    "            self.counter += 1\n",
    "            \n",
    "    @property\n",
    "    def early_stop(self):\n",
    "        return self.counter >= self.patience\n"
   ]
  },
  {
   "cell_type": "code",
   "execution_count": 62,
   "metadata": {
    "execution": {
     "iopub.execute_input": "2025-07-31T08:08:37.466065Z",
     "iopub.status.busy": "2025-07-31T08:08:37.465799Z",
     "iopub.status.idle": "2025-07-31T08:08:37.691579Z",
     "shell.execute_reply": "2025-07-31T08:08:37.691017Z",
     "shell.execute_reply.started": "2025-07-31T08:08:37.466043Z"
    },
    "tags": []
   },
   "outputs": [],
   "source": [
    "# 训练\n",
    "def training(\n",
    "    model, \n",
    "    train_loader, \n",
    "    val_loader, \n",
    "    epoch, \n",
    "    loss_fct, \n",
    "    optimizer, \n",
    "    tensorboard_callback=None,\n",
    "    save_ckpt_callback=None,\n",
    "    early_stop_callback=None,\n",
    "    eval_step=500,\n",
    "    ):\n",
    "    record_dict = {\n",
    "        \"train\": [],\n",
    "        \"val\": []\n",
    "    }\n",
    "    \n",
    "    global_step = 0\n",
    "    model.train()\n",
    "    with tqdm(total=epoch * len(train_loader)) as pbar:\n",
    "        for epoch_id in range(epoch):\n",
    "            # training\n",
    "            for datas, labels in train_loader:\n",
    "                datas = datas.to(device)\n",
    "                labels = labels.to(device)\n",
    "                # 梯度清空\n",
    "                optimizer.zero_grad()\n",
    "                # 模型前向计算\n",
    "                logits = model(datas)\n",
    "                # 计算损失\n",
    "                loss = loss_fct(logits, labels)\n",
    "                # 梯度回传\n",
    "                loss.backward()\n",
    "                # 调整优化器，包括学习率的变动等\n",
    "                optimizer.step()\n",
    "                preds = logits.argmax(axis=-1) #最大值的索引\n",
    "            \n",
    "                acc = accuracy_score(labels.cpu().numpy(), preds.cpu().numpy())     # 计算准确率\n",
    "                loss = loss.cpu().item() # 计算损失\n",
    "                # record\n",
    "                \n",
    "                record_dict[\"train\"].append({\n",
    "                    \"loss\": loss, \"acc\": acc, \"step\": global_step # 记录每一步的损失和准确率\n",
    "                })\n",
    "                \n",
    "                # evaluating\n",
    "                if global_step % eval_step == 0:\n",
    "                    model.eval()\n",
    "                    val_loss, val_acc = evaluating(model, val_loader, loss_fct)\n",
    "                    record_dict[\"val\"].append({\n",
    "                        \"loss\": val_loss, \"acc\": val_acc, \"step\": global_step\n",
    "                    })\n",
    "                    model.train()\n",
    "                    \n",
    "                    # 1. 使用 tensorboard 可视化\n",
    "                    if tensorboard_callback is not None:\n",
    "                        tensorboard_callback(\n",
    "                            global_step, \n",
    "                            loss=loss, val_loss=val_loss,\n",
    "                            acc=acc, val_acc=val_acc,\n",
    "                            lr=optimizer.param_groups[0][\"lr\"],\n",
    "                            )\n",
    "                \n",
    "                    # 2. 保存模型权重 save model checkpoint\n",
    "                    if save_ckpt_callback is not None:\n",
    "                        save_ckpt_callback(global_step, model.state_dict(), metric=val_acc)\n",
    "\n",
    "                    # 3. 早停 Early Stop\n",
    "                    if early_stop_callback is not None:\n",
    "                        early_stop_callback(val_acc)\n",
    "                        if early_stop_callback.early_stop:\n",
    "                            print(f\"Early stop at epoch {epoch_id} / global_step {global_step}\")\n",
    "                            return record_dict\n",
    "                    \n",
    "                # udate step\n",
    "                global_step += 1\n",
    "                pbar.update(1)\n",
    "                pbar.set_postfix({\"epoch\": epoch_id})\n",
    "        \n",
    "    return record_dict\n",
    "        \n",
    "\n",
    "epoch = 20\n",
    "\n",
    "model = CNN(num_classes=10)\n",
    "\n",
    "# 1. 定义损失函数 采用交叉熵损失\n",
    "loss_fct = nn.CrossEntropyLoss()\n",
    "# 2. 定义优化器 采用 adam\n",
    "# Optimizers specified in the torch.optim package\n",
    "optimizer = torch.optim.Adam(model.parameters(), lr=0.001)\n",
    "\n",
    "# 1. tensorboard 可视化\n",
    "if not os.path.exists(\"runs\"):\n",
    "    os.mkdir(\"runs\")\n",
    "tensorboard_callback = TensorBoardCallback(\"runs/cifar-10\")\n",
    "tensorboard_callback.draw_model(model, [1, 3, IMAGE_SIZE, IMAGE_SIZE])\n",
    "# 2. save best\n",
    "if not os.path.exists(\"checkpoints\"):\n",
    "    os.makedirs(\"checkpoints\")\n",
    "save_ckpt_callback = SaveCheckpointsCallback(\"checkpoints/cifar-10\", save_step=len(train_dl), save_best_only=True)\n",
    "# 3. early stop\n",
    "early_stop_callback = EarlyStopCallback(patience=5)\n",
    "\n",
    "model = model.to(device)\n"
   ]
  },
  {
   "cell_type": "code",
   "execution_count": null,
   "metadata": {
    "collapsed": false,
    "execution": {
     "iopub.execute_input": "2025-07-31T08:08:41.419932Z",
     "iopub.status.busy": "2025-07-31T08:08:41.419662Z"
    },
    "jupyter": {
     "outputs_hidden": false
    },
    "tags": []
   },
   "outputs": [
    {
     "data": {
      "application/vnd.jupyter.widget-view+json": {
       "model_id": "bd16bf541a724442a83a7750962f3fe1",
       "version_major": 2,
       "version_minor": 0
      },
      "text/plain": [
       "  0%|          | 0/14080 [00:00<?, ?it/s]"
      ]
     },
     "metadata": {},
     "output_type": "display_data"
    }
   ],
   "source": [
    "record = training(\n",
    "    model,\n",
    "    train_dl,\n",
    "    eval_dl,\n",
    "    epoch,\n",
    "    loss_fct,\n",
    "    optimizer,\n",
    "    tensorboard_callback=tensorboard_callback,\n",
    "    save_ckpt_callback=save_ckpt_callback,\n",
    "    early_stop_callback=early_stop_callback,\n",
    "    eval_step=len(train_dl)\n",
    "    )"
   ]
  },
  {
   "cell_type": "code",
   "execution_count": 36,
   "metadata": {
    "execution": {
     "iopub.execute_input": "2025-07-31T00:34:45.613350Z",
     "iopub.status.busy": "2025-07-31T00:34:45.613070Z",
     "iopub.status.idle": "2025-07-31T00:34:45.902111Z",
     "shell.execute_reply": "2025-07-31T00:34:45.901438Z",
     "shell.execute_reply.started": "2025-07-31T00:34:45.613317Z"
    },
    "tags": []
   },
   "outputs": [
    {
     "data": {
      "image/png": "[encoded data removed]",
      "text/plain": [
       "<Figure size 1000x500 with 2 Axes>"
      ]
     },
     "metadata": {},
     "output_type": "display_data"
    }
   ],
   "source": [
    "#画线要注意的是损失是不一定在零到1之间的\n",
    "def plot_learning_curves(record_dict, sample_step=500):\n",
    "    # build DataFrame\n",
    "    train_df = pd.DataFrame(record_dict[\"train\"]).set_index(\"step\").iloc[::sample_step]\n",
    "    val_df = pd.DataFrame(record_dict[\"val\"]).set_index(\"step\")\n",
    "\n",
    "    # plot\n",
    "    fig_num = len(train_df.columns)\n",
    "    fig, axs = plt.subplots(1, fig_num, figsize=(5 * fig_num, 5))\n",
    "    for idx, item in enumerate(train_df.columns):    \n",
    "        axs[idx].plot(train_df.index, train_df[item], label=f\"train_{item}\")\n",
    "        axs[idx].plot(val_df.index, val_df[item], label=f\"val_{item}\")\n",
    "        axs[idx].grid()\n",
    "        axs[idx].legend()\n",
    "        # axs[idx].set_xticks(range(0, train_df.index[-1], 5000))\n",
    "        # axs[idx].set_xticklabels(map(lambda x: f\"{int(x/1000)}k\", range(0, train_df.index[-1], 5000)))\n",
    "        axs[idx].set_xlabel(\"step\")\n",
    "    \n",
    "    plt.show()\n",
    "\n",
    "plot_learning_curves(record, sample_step=10)  #横坐标是 steps"
   ]
  },
  {
   "cell_type": "markdown",
   "metadata": {},
   "source": [
    "# 评估"
   ]
  },
  {
   "cell_type": "code",
   "execution_count": 37,
   "metadata": {
    "execution": {
     "iopub.execute_input": "2025-07-31T00:34:52.177784Z",
     "iopub.status.busy": "2025-07-31T00:34:52.177482Z",
     "iopub.status.idle": "2025-07-31T00:34:54.418210Z",
     "shell.execute_reply": "2025-07-31T00:34:54.417659Z",
     "shell.execute_reply.started": "2025-07-31T00:34:52.177761Z"
    },
    "tags": []
   },
   "outputs": [
    {
     "name": "stdout",
     "output_type": "stream",
     "text": [
      "loss:     0.4466\n",
      "accuracy: 0.8620\n"
     ]
    }
   ],
   "source": [
    "# dataload for evaluating\n",
    "\n",
    "# load checkpoints\n",
    "model.load_state_dict(torch.load(\"checkpoints/cifar-10/best.ckpt\", map_location=\"cpu\"))\n",
    "\n",
    "model.eval()\n",
    "loss, acc = evaluating(model, eval_dl, loss_fct)\n",
    "print(f\"loss:     {loss:.4f}\\naccuracy: {acc:.4f}\")"
   ]
  },
  {
   "cell_type": "markdown",
   "metadata": {},
   "source": [
    "# 推理"
   ]
  },
  {
   "cell_type": "code",
   "execution_count": 48,
   "metadata": {
    "execution": {
     "iopub.execute_input": "2025-07-31T07:14:10.804150Z",
     "iopub.status.busy": "2025-07-31T07:14:10.803841Z",
     "iopub.status.idle": "2025-07-31T07:16:25.409103Z",
     "shell.execute_reply": "2025-07-31T07:16:25.408333Z",
     "shell.execute_reply.started": "2025-07-31T07:14:10.804126Z"
    },
    "tags": []
   },
   "outputs": [
    {
     "data": {
      "application/vnd.jupyter.widget-view+json": {
       "model_id": "ed2e22328bd64bfd81dc7bee4ed4cb89",
       "version_major": 2,
       "version_minor": 0
      },
      "text/plain": [
       "  0%|          | 0/4688 [00:00<?, ?it/s]"
      ]
     },
     "metadata": {},
     "output_type": "display_data"
    },
    {
     "data": {
      "text/html": [
       "<div>\n",
       "<style scoped>\n",
       "    .dataframe tbody tr th:only-of-type {\n",
       "        vertical-align: middle;\n",
       "    }\n",
       "\n",
       "    .dataframe tbody tr th {\n",
       "        vertical-align: top;\n",
       "    }\n",
       "\n",
       "    .dataframe thead th {\n",
       "        text-align: right;\n",
       "    }\n",
       "</style>\n",
       "<table border=\"1\" class=\"dataframe\">\n",
       "  <thead>\n",
       "    <tr style=\"text-align: right;\">\n",
       "      <th></th>\n",
       "      <th>filepath</th>\n",
       "      <th>class</th>\n",
       "      <th>label</th>\n",
       "    </tr>\n",
       "  </thead>\n",
       "  <tbody>\n",
       "    <tr>\n",
       "      <th>0</th>\n",
       "      <td>/mnt/workspace/cifar-10/test/1.png</td>\n",
       "      <td>cat</td>\n",
       "      <td>truck</td>\n",
       "    </tr>\n",
       "    <tr>\n",
       "      <th>1</th>\n",
       "      <td>/mnt/workspace/cifar-10/test/2.png</td>\n",
       "      <td>cat</td>\n",
       "      <td>airplane</td>\n",
       "    </tr>\n",
       "    <tr>\n",
       "      <th>2</th>\n",
       "      <td>/mnt/workspace/cifar-10/test/3.png</td>\n",
       "      <td>cat</td>\n",
       "      <td>automobile</td>\n",
       "    </tr>\n",
       "    <tr>\n",
       "      <th>3</th>\n",
       "      <td>/mnt/workspace/cifar-10/test/4.png</td>\n",
       "      <td>cat</td>\n",
       "      <td>ship</td>\n",
       "    </tr>\n",
       "    <tr>\n",
       "      <th>4</th>\n",
       "      <td>/mnt/workspace/cifar-10/test/5.png</td>\n",
       "      <td>cat</td>\n",
       "      <td>airplane</td>\n",
       "    </tr>\n",
       "  </tbody>\n",
       "</table>\n",
       "</div>"
      ],
      "text/plain": [
       "                             filepath class       label\n",
       "0  /mnt/workspace/cifar-10/test/1.png   cat       truck\n",
       "1  /mnt/workspace/cifar-10/test/2.png   cat    airplane\n",
       "2  /mnt/workspace/cifar-10/test/3.png   cat  automobile\n",
       "3  /mnt/workspace/cifar-10/test/4.png   cat        ship\n",
       "4  /mnt/workspace/cifar-10/test/5.png   cat    airplane"
      ]
     },
     "execution_count": 48,
     "metadata": {},
     "output_type": "execute_result"
    }
   ],
   "source": [
    "# test_df\n",
    "test_ds = Cifar10Dataset(\"test\", transform=transforms_eval)\n",
    "test_dl = DataLoader(test_ds, batch_size=batch_size, shuffle=False, drop_last=False)\n",
    "\n",
    "preds_collect = [] # 预测结果收集器\n",
    "model.eval()\n",
    "for data, fake_label in tqdm(test_dl):\n",
    "    data = data.to(device=device)\n",
    "    logits = model(data) #得到预测结果\n",
    "    preds = [test_ds.idx_to_label[idx] for idx in logits.argmax(axis=-1).cpu().tolist()] # 得到预测类别，idx_to_label是id到字符串类别的映射\n",
    "    preds_collect.extend(preds)\n",
    "    \n",
    "test_df[\"label\"] = preds_collect # 增加预测类别列,比赛要求这一列是label\n",
    "test_df.head()"
   ]
  },
  {
   "cell_type": "code",
   "execution_count": 53,
   "metadata": {
    "execution": {
     "iopub.execute_input": "2025-07-31T07:20:52.706738Z",
     "iopub.status.busy": "2025-07-31T07:20:52.706454Z",
     "iopub.status.idle": "2025-07-31T07:20:52.713205Z",
     "shell.execute_reply": "2025-07-31T07:20:52.712579Z",
     "shell.execute_reply.started": "2025-07-31T07:20:52.706714Z"
    },
    "tags": []
   },
   "outputs": [
    {
     "data": {
      "text/html": [
       "<div>\n",
       "<style scoped>\n",
       "    .dataframe tbody tr th:only-of-type {\n",
       "        vertical-align: middle;\n",
       "    }\n",
       "\n",
       "    .dataframe tbody tr th {\n",
       "        vertical-align: top;\n",
       "    }\n",
       "\n",
       "    .dataframe thead th {\n",
       "        text-align: right;\n",
       "    }\n",
       "</style>\n",
       "<table border=\"1\" class=\"dataframe\">\n",
       "  <thead>\n",
       "    <tr style=\"text-align: right;\">\n",
       "      <th></th>\n",
       "      <th>filepath</th>\n",
       "      <th>class</th>\n",
       "      <th>label</th>\n",
       "    </tr>\n",
       "  </thead>\n",
       "  <tbody>\n",
       "    <tr>\n",
       "      <th>0</th>\n",
       "      <td>/mnt/workspace/cifar-10/test/1.png</td>\n",
       "      <td>cat</td>\n",
       "      <td>truck</td>\n",
       "    </tr>\n",
       "    <tr>\n",
       "      <th>1</th>\n",
       "      <td>/mnt/workspace/cifar-10/test/2.png</td>\n",
       "      <td>cat</td>\n",
       "      <td>airplane</td>\n",
       "    </tr>\n",
       "    <tr>\n",
       "      <th>2</th>\n",
       "      <td>/mnt/workspace/cifar-10/test/3.png</td>\n",
       "      <td>cat</td>\n",
       "      <td>automobile</td>\n",
       "    </tr>\n",
       "    <tr>\n",
       "      <th>3</th>\n",
       "      <td>/mnt/workspace/cifar-10/test/4.png</td>\n",
       "      <td>cat</td>\n",
       "      <td>ship</td>\n",
       "    </tr>\n",
       "    <tr>\n",
       "      <th>4</th>\n",
       "      <td>/mnt/workspace/cifar-10/test/5.png</td>\n",
       "      <td>cat</td>\n",
       "      <td>airplane</td>\n",
       "    </tr>\n",
       "  </tbody>\n",
       "</table>\n",
       "</div>"
      ],
      "text/plain": [
       "                             filepath class       label\n",
       "0  /mnt/workspace/cifar-10/test/1.png   cat       truck\n",
       "1  /mnt/workspace/cifar-10/test/2.png   cat    airplane\n",
       "2  /mnt/workspace/cifar-10/test/3.png   cat  automobile\n",
       "3  /mnt/workspace/cifar-10/test/4.png   cat        ship\n",
       "4  /mnt/workspace/cifar-10/test/5.png   cat    airplane"
      ]
     },
     "execution_count": 53,
     "metadata": {},
     "output_type": "execute_result"
    }
   ],
   "source": [
    "test_df.head()"
   ]
  },
  {
   "cell_type": "code",
   "execution_count": 54,
   "metadata": {
    "execution": {
     "iopub.execute_input": "2025-07-31T07:21:35.796292Z",
     "iopub.status.busy": "2025-07-31T07:21:35.796028Z",
     "iopub.status.idle": "2025-07-31T07:21:35.860189Z",
     "shell.execute_reply": "2025-07-31T07:21:35.859696Z",
     "shell.execute_reply.started": "2025-07-31T07:21:35.796269Z"
    },
    "tags": []
   },
   "outputs": [
    {
     "data": {
      "text/html": [
       "<div>\n",
       "<style scoped>\n",
       "    .dataframe tbody tr th:only-of-type {\n",
       "        vertical-align: middle;\n",
       "    }\n",
       "\n",
       "    .dataframe tbody tr th {\n",
       "        vertical-align: top;\n",
       "    }\n",
       "\n",
       "    .dataframe thead th {\n",
       "        text-align: right;\n",
       "    }\n",
       "</style>\n",
       "<table border=\"1\" class=\"dataframe\">\n",
       "  <thead>\n",
       "    <tr style=\"text-align: right;\">\n",
       "      <th></th>\n",
       "      <th>id</th>\n",
       "    </tr>\n",
       "  </thead>\n",
       "  <tbody>\n",
       "    <tr>\n",
       "      <th>0</th>\n",
       "      <td>1</td>\n",
       "    </tr>\n",
       "    <tr>\n",
       "      <th>1</th>\n",
       "      <td>2</td>\n",
       "    </tr>\n",
       "    <tr>\n",
       "      <th>2</th>\n",
       "      <td>3</td>\n",
       "    </tr>\n",
       "    <tr>\n",
       "      <th>3</th>\n",
       "      <td>4</td>\n",
       "    </tr>\n",
       "    <tr>\n",
       "      <th>4</th>\n",
       "      <td>5</td>\n",
       "    </tr>\n",
       "    <tr>\n",
       "      <th>...</th>\n",
       "      <td>...</td>\n",
       "    </tr>\n",
       "    <tr>\n",
       "      <th>299995</th>\n",
       "      <td>299996</td>\n",
       "    </tr>\n",
       "    <tr>\n",
       "      <th>299996</th>\n",
       "      <td>299997</td>\n",
       "    </tr>\n",
       "    <tr>\n",
       "      <th>299997</th>\n",
       "      <td>299998</td>\n",
       "    </tr>\n",
       "    <tr>\n",
       "      <th>299998</th>\n",
       "      <td>299999</td>\n",
       "    </tr>\n",
       "    <tr>\n",
       "      <th>299999</th>\n",
       "      <td>300000</td>\n",
       "    </tr>\n",
       "  </tbody>\n",
       "</table>\n",
       "<p>300000 rows × 1 columns</p>\n",
       "</div>"
      ],
      "text/plain": [
       "            id\n",
       "0            1\n",
       "1            2\n",
       "2            3\n",
       "3            4\n",
       "4            5\n",
       "...        ...\n",
       "299995  299996\n",
       "299996  299997\n",
       "299997  299998\n",
       "299998  299999\n",
       "299999  300000\n",
       "\n",
       "[300000 rows x 1 columns]"
      ]
     },
     "execution_count": 54,
     "metadata": {},
     "output_type": "execute_result"
    }
   ],
   "source": [
    "test_df1 = pd.DataFrame(list(range(1,3*10**5+1)), columns=[\"id\"])\n",
    "test_df1"
   ]
  },
  {
   "cell_type": "code",
   "execution_count": 56,
   "metadata": {
    "execution": {
     "iopub.execute_input": "2025-07-31T07:22:44.152279Z",
     "iopub.status.busy": "2025-07-31T07:22:44.152009Z",
     "iopub.status.idle": "2025-07-31T07:22:44.165870Z",
     "shell.execute_reply": "2025-07-31T07:22:44.165341Z",
     "shell.execute_reply.started": "2025-07-31T07:22:44.152254Z"
    },
    "tags": []
   },
   "outputs": [
    {
     "data": {
      "text/html": [
       "<div>\n",
       "<style scoped>\n",
       "    .dataframe tbody tr th:only-of-type {\n",
       "        vertical-align: middle;\n",
       "    }\n",
       "\n",
       "    .dataframe tbody tr th {\n",
       "        vertical-align: top;\n",
       "    }\n",
       "\n",
       "    .dataframe thead th {\n",
       "        text-align: right;\n",
       "    }\n",
       "</style>\n",
       "<table border=\"1\" class=\"dataframe\">\n",
       "  <thead>\n",
       "    <tr style=\"text-align: right;\">\n",
       "      <th></th>\n",
       "      <th>id</th>\n",
       "      <th>label</th>\n",
       "    </tr>\n",
       "  </thead>\n",
       "  <tbody>\n",
       "    <tr>\n",
       "      <th>0</th>\n",
       "      <td>1</td>\n",
       "      <td>truck</td>\n",
       "    </tr>\n",
       "    <tr>\n",
       "      <th>1</th>\n",
       "      <td>2</td>\n",
       "      <td>airplane</td>\n",
       "    </tr>\n",
       "    <tr>\n",
       "      <th>2</th>\n",
       "      <td>3</td>\n",
       "      <td>automobile</td>\n",
       "    </tr>\n",
       "    <tr>\n",
       "      <th>3</th>\n",
       "      <td>4</td>\n",
       "      <td>ship</td>\n",
       "    </tr>\n",
       "    <tr>\n",
       "      <th>4</th>\n",
       "      <td>5</td>\n",
       "      <td>airplane</td>\n",
       "    </tr>\n",
       "  </tbody>\n",
       "</table>\n",
       "</div>"
      ],
      "text/plain": [
       "   id       label\n",
       "0   1       truck\n",
       "1   2    airplane\n",
       "2   3  automobile\n",
       "3   4        ship\n",
       "4   5    airplane"
      ]
     },
     "execution_count": 56,
     "metadata": {},
     "output_type": "execute_result"
    }
   ],
   "source": [
    "test_df1[\"label\"] = preds_collect # 增加预测类别列,比赛要求这一列是label\n",
    "test_df1.head()"
   ]
  },
  {
   "cell_type": "code",
   "execution_count": 61,
   "metadata": {
    "ExecutionIndicator": {
     "show": true
    },
    "execution": {
     "iopub.execute_input": "2025-07-31T08:06:25.212512Z",
     "iopub.status.busy": "2025-07-31T08:06:25.212237Z",
     "iopub.status.idle": "2025-07-31T08:06:25.380632Z",
     "shell.execute_reply": "2025-07-31T08:06:25.380072Z",
     "shell.execute_reply.started": "2025-07-31T08:06:25.212490Z"
    },
    "tags": []
   },
   "outputs": [],
   "source": [
    "# 导出 submission.csv\n",
    "test_df1.to_csv(\"submission.csv\", index=False)"
   ]
  }
 ],
 "metadata": {
  "kernelspec": {
   "display_name": "Python 3 (ipykernel)",
   "language": "python",
   "name": "python3"
  },
  "language_info": {
   "codemirror_mode": {
    "name": "ipython",
    "version": 3
   },
   "file_extension": ".py",
   "mimetype": "text/x-python",
   "name": "python",
   "nbconvert_exporter": "python",
   "pygments_lexer": "ipython3",
   "version": "3.10.12"
  },
  "toc-autonumbering": false,
  "toc-showcode": false
 },
 "nbformat": 4,
 "nbformat_minor": 4
}
